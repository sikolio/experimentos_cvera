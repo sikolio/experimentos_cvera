{
 "cells": [
  {
   "cell_type": "code",
   "execution_count": 6,
   "metadata": {
    "collapsed": false
   },
   "outputs": [
    {
     "name": "stdout",
     "output_type": "stream",
     "text": [
      "Using matplotlib backend: Qt5Agg\n"
     ]
    }
   ],
   "source": [
    "import pandas as pd\n",
    "import os\n",
    "import csv\n",
    "import numpy as np\n",
    "from matplotlib import pyplot as plt\n",
    "%matplotlib"
   ]
  },
  {
   "cell_type": "code",
   "execution_count": 13,
   "metadata": {
    "collapsed": false
   },
   "outputs": [],
   "source": [
    "PropTerm = pd.read_excel('PropiedadesTermicas.xlsx')"
   ]
  },
  {
   "cell_type": "code",
   "execution_count": 15,
   "metadata": {
    "collapsed": false
   },
   "outputs": [
    {
     "data": {
      "text/html": [
       "<div>\n",
       "<table border=\"1\" class=\"dataframe\">\n",
       "  <thead>\n",
       "    <tr style=\"text-align: right;\">\n",
       "      <th></th>\n",
       "      <th>Temperatura</th>\n",
       "      <th>Error</th>\n",
       "      <th>día</th>\n",
       "      <th>Conductividad</th>\n",
       "      <th>Capacidad</th>\n",
       "      <th>Difusividad</th>\n",
       "      <th>Resistividad</th>\n",
       "    </tr>\n",
       "  </thead>\n",
       "  <tbody>\n",
       "    <tr>\n",
       "      <th>0</th>\n",
       "      <td>25.12</td>\n",
       "      <td>0.0021</td>\n",
       "      <td>2</td>\n",
       "      <td>0.274</td>\n",
       "      <td>2.899</td>\n",
       "      <td>0.094</td>\n",
       "      <td>365.6</td>\n",
       "    </tr>\n",
       "    <tr>\n",
       "      <th>1</th>\n",
       "      <td>25.16</td>\n",
       "      <td>0.0043</td>\n",
       "      <td>2</td>\n",
       "      <td>0.461</td>\n",
       "      <td>3.903</td>\n",
       "      <td>0.118</td>\n",
       "      <td>216.9</td>\n",
       "    </tr>\n",
       "    <tr>\n",
       "      <th>2</th>\n",
       "      <td>25.15</td>\n",
       "      <td>0.0022</td>\n",
       "      <td>2</td>\n",
       "      <td>0.373</td>\n",
       "      <td>3.372</td>\n",
       "      <td>0.111</td>\n",
       "      <td>268.0</td>\n",
       "    </tr>\n",
       "    <tr>\n",
       "      <th>3</th>\n",
       "      <td>24.63</td>\n",
       "      <td>0.0020</td>\n",
       "      <td>2</td>\n",
       "      <td>0.295</td>\n",
       "      <td>2.919</td>\n",
       "      <td>0.101</td>\n",
       "      <td>339.3</td>\n",
       "    </tr>\n",
       "    <tr>\n",
       "      <th>4</th>\n",
       "      <td>24.58</td>\n",
       "      <td>0.0019</td>\n",
       "      <td>2</td>\n",
       "      <td>0.361</td>\n",
       "      <td>3.387</td>\n",
       "      <td>0.107</td>\n",
       "      <td>276.7</td>\n",
       "    </tr>\n",
       "  </tbody>\n",
       "</table>\n",
       "</div>"
      ],
      "text/plain": [
       "   Temperatura   Error  día  Conductividad  Capacidad  Difusividad  \\\n",
       "0        25.12  0.0021    2          0.274      2.899        0.094   \n",
       "1        25.16  0.0043    2          0.461      3.903        0.118   \n",
       "2        25.15  0.0022    2          0.373      3.372        0.111   \n",
       "3        24.63  0.0020    2          0.295      2.919        0.101   \n",
       "4        24.58  0.0019    2          0.361      3.387        0.107   \n",
       "\n",
       "   Resistividad  \n",
       "0         365.6  \n",
       "1         216.9  \n",
       "2         268.0  \n",
       "3         339.3  \n",
       "4         276.7  "
      ]
     },
     "execution_count": 15,
     "metadata": {},
     "output_type": "execute_result"
    }
   ],
   "source": [
    "PropTerm.head()"
   ]
  },
  {
   "cell_type": "code",
   "execution_count": 30,
   "metadata": {
    "collapsed": false
   },
   "outputs": [],
   "source": [
    "\n"
   ]
  },
  {
   "cell_type": "code",
   "execution_count": 31,
   "metadata": {
    "collapsed": true
   },
   "outputs": [],
   "source": [
    "n = plt.hist(x, facecolor='blue', alpha=0.75)"
   ]
  }
 ],
 "metadata": {
  "anaconda-cloud": {},
  "kernelspec": {
   "display_name": "Python [bootcamp]",
   "language": "python",
   "name": "Python [bootcamp]"
  },
  "language_info": {
   "codemirror_mode": {
    "name": "ipython",
    "version": 3
   },
   "file_extension": ".py",
   "mimetype": "text/x-python",
   "name": "python",
   "nbconvert_exporter": "python",
   "pygments_lexer": "ipython3",
   "version": "3.5.2"
  }
 },
 "nbformat": 4,
 "nbformat_minor": 1
}
