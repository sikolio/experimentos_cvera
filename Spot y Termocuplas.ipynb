{
 "cells": [
  {
   "cell_type": "code",
   "execution_count": 1,
   "metadata": {
    "collapsed": false
   },
   "outputs": [
    {
     "name": "stdout",
     "output_type": "stream",
     "text": [
      "Using matplotlib backend: Qt5Agg\n"
     ]
    }
   ],
   "source": [
    "import pandas as pd\n",
    "import csv\n",
    "from matplotlib import pyplot as plt\n",
    "%matplotlib"
   ]
  },
  {
   "cell_type": "code",
   "execution_count": 2,
   "metadata": {
    "collapsed": false,
    "scrolled": true
   },
   "outputs": [
    {
     "name": "stdout",
     "output_type": "stream",
     "text": [
      "[Errno 2] No such file or directory: '.\\\\Data\\\\5cc50C - flir.csv'\n",
      "[Errno 2] No such file or directory: '.\\\\Data\\\\1cc54C - flir.csv'\n",
      "[Errno 2] No such file or directory: '.\\\\Data\\\\25cc54C - flir.csv'\n",
      "[Errno 2] No such file or directory: '.\\\\Data\\\\10cc60C - flir.csv'\n",
      "[Errno 2] No such file or directory: '.\\\\Data\\\\25cc60C - flir.csv'\n",
      "[Errno 2] No such file or directory: '.\\\\Data\\\\1cc59C - flir.csv'\n",
      "[Errno 2] No such file or directory: '.\\\\Data\\\\5cc63C - flir.csv'\n",
      "[Errno 2] No such file or directory: '.\\\\Data\\\\25cc62C - flir.csv'\n",
      "[Errno 2] No such file or directory: '.\\\\Data\\\\1cc62C - flir.csv'\n",
      "[Errno 2] No such file or directory: '.\\\\Data\\\\1cc24C - flir.csv'\n",
      "[Errno 2] No such file or directory: '.\\\\Data\\\\10cc24C - flir.csv'\n"
     ]
    }
   ],
   "source": [
    "from Experimentos import Experimentos, labelLines"
   ]
  },
  {
   "cell_type": "code",
   "execution_count": 10,
   "metadata": {
    "collapsed": false
   },
   "outputs": [],
   "source": [
    "Archivo = pd.read_excel('1cc54,7C - spot termocupla.xlsx')"
   ]
  },
  {
   "cell_type": "code",
   "execution_count": 11,
   "metadata": {
    "collapsed": false
   },
   "outputs": [
    {
     "data": {
      "text/html": [
       "<div>\n",
       "<table border=\"1\" class=\"dataframe\">\n",
       "  <thead>\n",
       "    <tr style=\"text-align: right;\">\n",
       "      <th></th>\n",
       "      <th>tiempo</th>\n",
       "      <th>spot 1</th>\n",
       "      <th>spot 2</th>\n",
       "      <th>spot 3</th>\n",
       "      <th>spot 4</th>\n",
       "      <th>term 1</th>\n",
       "      <th>term 2</th>\n",
       "      <th>term 3</th>\n",
       "      <th>term 4</th>\n",
       "    </tr>\n",
       "  </thead>\n",
       "  <tbody>\n",
       "    <tr>\n",
       "      <th>count</th>\n",
       "      <td>9854.000000</td>\n",
       "      <td>9854.000000</td>\n",
       "      <td>9854.000000</td>\n",
       "      <td>9854.000000</td>\n",
       "      <td>9854.000000</td>\n",
       "      <td>9854.000000</td>\n",
       "      <td>9854.000000</td>\n",
       "      <td>9854.000000</td>\n",
       "      <td>9854.000000</td>\n",
       "    </tr>\n",
       "    <tr>\n",
       "      <th>mean</th>\n",
       "      <td>4675.625191</td>\n",
       "      <td>23.445494</td>\n",
       "      <td>22.184828</td>\n",
       "      <td>15.549503</td>\n",
       "      <td>14.163264</td>\n",
       "      <td>34.096651</td>\n",
       "      <td>34.023118</td>\n",
       "      <td>25.594784</td>\n",
       "      <td>28.370885</td>\n",
       "    </tr>\n",
       "    <tr>\n",
       "      <th>std</th>\n",
       "      <td>2513.478564</td>\n",
       "      <td>18.612079</td>\n",
       "      <td>17.378107</td>\n",
       "      <td>11.946333</td>\n",
       "      <td>10.837066</td>\n",
       "      <td>5.435571</td>\n",
       "      <td>4.187841</td>\n",
       "      <td>1.780896</td>\n",
       "      <td>1.841589</td>\n",
       "    </tr>\n",
       "    <tr>\n",
       "      <th>min</th>\n",
       "      <td>0.000000</td>\n",
       "      <td>0.000000</td>\n",
       "      <td>0.000000</td>\n",
       "      <td>0.000000</td>\n",
       "      <td>0.000000</td>\n",
       "      <td>23.000000</td>\n",
       "      <td>22.700000</td>\n",
       "      <td>22.300000</td>\n",
       "      <td>23.000000</td>\n",
       "    </tr>\n",
       "    <tr>\n",
       "      <th>25%</th>\n",
       "      <td>2475.850000</td>\n",
       "      <td>0.000000</td>\n",
       "      <td>0.000000</td>\n",
       "      <td>0.000000</td>\n",
       "      <td>0.000000</td>\n",
       "      <td>29.100000</td>\n",
       "      <td>30.100000</td>\n",
       "      <td>24.800000</td>\n",
       "      <td>26.700000</td>\n",
       "    </tr>\n",
       "    <tr>\n",
       "      <th>50%</th>\n",
       "      <td>4946.700000</td>\n",
       "      <td>31.700000</td>\n",
       "      <td>32.200000</td>\n",
       "      <td>22.600000</td>\n",
       "      <td>22.300000</td>\n",
       "      <td>33.000000</td>\n",
       "      <td>33.600000</td>\n",
       "      <td>25.600000</td>\n",
       "      <td>28.300000</td>\n",
       "    </tr>\n",
       "    <tr>\n",
       "      <th>75%</th>\n",
       "      <td>6944.110000</td>\n",
       "      <td>36.600000</td>\n",
       "      <td>36.600000</td>\n",
       "      <td>25.300000</td>\n",
       "      <td>22.400000</td>\n",
       "      <td>39.600000</td>\n",
       "      <td>37.800000</td>\n",
       "      <td>27.200000</td>\n",
       "      <td>30.100000</td>\n",
       "    </tr>\n",
       "    <tr>\n",
       "      <th>max</th>\n",
       "      <td>8422.060000</td>\n",
       "      <td>59.000000</td>\n",
       "      <td>53.500000</td>\n",
       "      <td>51.500000</td>\n",
       "      <td>49.600000</td>\n",
       "      <td>45.200000</td>\n",
       "      <td>40.900000</td>\n",
       "      <td>28.200000</td>\n",
       "      <td>31.400000</td>\n",
       "    </tr>\n",
       "  </tbody>\n",
       "</table>\n",
       "</div>"
      ],
      "text/plain": [
       "            tiempo      spot 1        spot 2       spot 3       spot 4  \\\n",
       "count  9854.000000  9854.000000  9854.000000  9854.000000  9854.000000   \n",
       "mean   4675.625191    23.445494    22.184828    15.549503    14.163264   \n",
       "std    2513.478564    18.612079    17.378107    11.946333    10.837066   \n",
       "min       0.000000     0.000000     0.000000     0.000000     0.000000   \n",
       "25%    2475.850000     0.000000     0.000000     0.000000     0.000000   \n",
       "50%    4946.700000    31.700000    32.200000    22.600000    22.300000   \n",
       "75%    6944.110000    36.600000    36.600000    25.300000    22.400000   \n",
       "max    8422.060000    59.000000    53.500000    51.500000    49.600000   \n",
       "\n",
       "            term 1       term 2       term 3       term 4  \n",
       "count  9854.000000  9854.000000  9854.000000  9854.000000  \n",
       "mean     34.096651    34.023118    25.594784    28.370885  \n",
       "std       5.435571     4.187841     1.780896     1.841589  \n",
       "min      23.000000    22.700000    22.300000    23.000000  \n",
       "25%      29.100000    30.100000    24.800000    26.700000  \n",
       "50%      33.000000    33.600000    25.600000    28.300000  \n",
       "75%      39.600000    37.800000    27.200000    30.100000  \n",
       "max      45.200000    40.900000    28.200000    31.400000  "
      ]
     },
     "execution_count": 11,
     "metadata": {},
     "output_type": "execute_result"
    }
   ],
   "source": [
    "Archivo.describe()"
   ]
  },
  {
   "cell_type": "code",
   "execution_count": 20,
   "metadata": {
    "collapsed": false
   },
   "outputs": [
    {
     "data": {
      "text/plain": [
       "0       28.2\n",
       "1       28.1\n",
       "2       28.2\n",
       "3       28.2\n",
       "4       28.1\n",
       "5       28.1\n",
       "6       28.1\n",
       "7       27.7\n",
       "8       28.0\n",
       "9       28.7\n",
       "10      27.5\n",
       "11      28.8\n",
       "12      27.7\n",
       "13      28.7\n",
       "14      28.3\n",
       "15      28.3\n",
       "16      31.4\n",
       "17      53.0\n",
       "18      53.3\n",
       "19      53.7\n",
       "20      52.5\n",
       "21      52.0\n",
       "22      52.0\n",
       "23      51.9\n",
       "24      52.0\n",
       "25      52.1\n",
       "26      52.4\n",
       "27      53.0\n",
       "28      53.7\n",
       "29      54.1\n",
       "        ... \n",
       "9824     0.0\n",
       "9825     0.0\n",
       "9826     0.0\n",
       "9827     0.0\n",
       "9828     0.0\n",
       "9829     0.0\n",
       "9830     0.0\n",
       "9831     0.0\n",
       "9832     0.0\n",
       "9833     0.0\n",
       "9834     0.0\n",
       "9835     0.0\n",
       "9836     0.0\n",
       "9837     0.0\n",
       "9838     0.0\n",
       "9839     0.0\n",
       "9840     0.0\n",
       "9841     0.0\n",
       "9842     0.0\n",
       "9843     0.0\n",
       "9844     0.0\n",
       "9845     0.0\n",
       "9846     0.0\n",
       "9847     0.0\n",
       "9848     0.0\n",
       "9849     0.0\n",
       "9850     0.0\n",
       "9851     0.0\n",
       "9852     0.0\n",
       "9853     0.0\n",
       "Name: spot 1 , dtype: float64"
      ]
     },
     "execution_count": 20,
     "metadata": {},
     "output_type": "execute_result"
    }
   ],
   "source": [
    "Archivo['spot 1 ']"
   ]
  },
  {
   "cell_type": "code",
   "execution_count": 27,
   "metadata": {
    "collapsed": false
   },
   "outputs": [],
   "source": [
    "#T car = T / T min\n",
    "#t = t\n",
    "\n",
    "Archivo['Tcar'] = Archivo['spot 4']/Archivo['spot 4'].max()\n",
    "axes = []\n",
    "\n",
    "n = plt.scatter(Archivo['tiempo'], Archivo['Tcar'], marker = 'o')\n"
   ]
  },
  {
   "cell_type": "code",
   "execution_count": null,
   "metadata": {
    "collapsed": true
   },
   "outputs": [],
   "source": []
  }
 ],
 "metadata": {
  "anaconda-cloud": {},
  "kernelspec": {
   "display_name": "Python [default]",
   "language": "python",
   "name": "python3"
  },
  "language_info": {
   "codemirror_mode": {
    "name": "ipython",
    "version": 3
   },
   "file_extension": ".py",
   "mimetype": "text/x-python",
   "name": "python",
   "nbconvert_exporter": "python",
   "pygments_lexer": "ipython3",
   "version": "3.5.2"
  }
 },
 "nbformat": 4,
 "nbformat_minor": 1
}
