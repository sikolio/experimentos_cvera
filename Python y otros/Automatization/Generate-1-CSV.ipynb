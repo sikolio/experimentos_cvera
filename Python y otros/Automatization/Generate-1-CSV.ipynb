{
 "cells": [
  {
   "cell_type": "code",
   "execution_count": 5,
   "metadata": {
    "collapsed": true
   },
   "outputs": [],
   "source": [
    "import pandas as pd\n",
    "import re\n",
    "import os"
   ]
  },
  {
   "cell_type": "code",
   "execution_count": 28,
   "metadata": {
    "collapsed": true
   },
   "outputs": [],
   "source": [
    "regex = re.compile(r'[A-Z]*(\\d+)\\.csv')"
   ]
  },
  {
   "cell_type": "code",
   "execution_count": 90,
   "metadata": {
    "collapsed": true
   },
   "outputs": [],
   "source": [
    "def generate_column(file):\n",
    "    name = int(regex.search(file).group(1))\n",
    "    return name, pd.read_csv(file, header=None, delimiter=';', usecols=[1], skiprows=2)    "
   ]
  },
  {
   "cell_type": "code",
   "execution_count": 91,
   "metadata": {
    "collapsed": false
   },
   "outputs": [],
   "source": [
    "def apply_to_all(function, top):\n",
    "    res = {}\n",
    "    for root, paths, names in os.walk(top):\n",
    "        print(\"Root: {}\".format(root))\n",
    "        if len(names) > 0:\n",
    "            for name in names:\n",
    "                print(\"Filepath: {}\".format(os.path.join(root, name)))\n",
    "                name, df = function(os.path.join(root, name))\n",
    "                res[name] = df\n",
    "    return res"
   ]
  },
  {
   "cell_type": "code",
   "execution_count": 93,
   "metadata": {
    "collapsed": false
   },
   "outputs": [],
   "source": [
    "name, df10 = generate_column(r'C:\\Users\\Alfonso\\Documents\\Camila\\Autom\\csvfiles\\FRSD10.csv')"
   ]
  },
  {
   "cell_type": "code",
   "execution_count": 83,
   "metadata": {
    "collapsed": false
   },
   "outputs": [
    {
     "data": {
      "text/html": [
       "<div>\n",
       "<table border=\"1\" class=\"dataframe\">\n",
       "  <thead>\n",
       "    <tr style=\"text-align: right;\">\n",
       "      <th></th>\n",
       "      <th>10</th>\n",
       "    </tr>\n",
       "  </thead>\n",
       "  <tbody>\n",
       "    <tr>\n",
       "      <th>0</th>\n",
       "      <td>26,33</td>\n",
       "    </tr>\n",
       "    <tr>\n",
       "      <th>1</th>\n",
       "      <td>26,26</td>\n",
       "    </tr>\n",
       "    <tr>\n",
       "      <th>2</th>\n",
       "      <td>26,31</td>\n",
       "    </tr>\n",
       "    <tr>\n",
       "      <th>3</th>\n",
       "      <td>26,25</td>\n",
       "    </tr>\n",
       "    <tr>\n",
       "      <th>4</th>\n",
       "      <td>26,23</td>\n",
       "    </tr>\n",
       "  </tbody>\n",
       "</table>\n",
       "</div>"
      ],
      "text/plain": [
       "      10\n",
       "0  26,33\n",
       "1  26,26\n",
       "2  26,31\n",
       "3  26,25\n",
       "4  26,23"
      ]
     },
     "execution_count": 83,
     "metadata": {},
     "output_type": "execute_result"
    }
   ],
   "source": [
    "df10.head()"
   ]
  },
  {
   "cell_type": "code",
   "execution_count": 92,
   "metadata": {
    "collapsed": false
   },
   "outputs": [
    {
     "data": {
      "text/html": [
       "<div>\n",
       "<table border=\"1\" class=\"dataframe\">\n",
       "  <thead>\n",
       "    <tr style=\"text-align: right;\">\n",
       "      <th></th>\n",
       "      <th>1</th>\n",
       "    </tr>\n",
       "  </thead>\n",
       "  <tbody>\n",
       "    <tr>\n",
       "      <th>0</th>\n",
       "      <td>26,23</td>\n",
       "    </tr>\n",
       "    <tr>\n",
       "      <th>1</th>\n",
       "      <td>26,2</td>\n",
       "    </tr>\n",
       "    <tr>\n",
       "      <th>2</th>\n",
       "      <td>26,2</td>\n",
       "    </tr>\n",
       "    <tr>\n",
       "      <th>3</th>\n",
       "      <td>26,24</td>\n",
       "    </tr>\n",
       "    <tr>\n",
       "      <th>4</th>\n",
       "      <td>26,17</td>\n",
       "    </tr>\n",
       "  </tbody>\n",
       "</table>\n",
       "</div>"
      ],
      "text/plain": [
       "       1\n",
       "0  26,23\n",
       "1   26,2\n",
       "2   26,2\n",
       "3  26,24\n",
       "4  26,17"
      ]
     },
     "execution_count": 92,
     "metadata": {},
     "output_type": "execute_result"
    }
   ],
   "source": [
    "name, df1 = generate_column(r'C:\\Users\\Alfonso\\Documents\\Camila\\Autom\\csvfiles\\QWER1.csv')\n",
    "df1.head()"
   ]
  },
  {
   "cell_type": "code",
   "execution_count": 111,
   "metadata": {
    "collapsed": false
   },
   "outputs": [
    {
     "name": "stdout",
     "output_type": "stream",
     "text": [
      "Root: C:\\Users\\Alfonso\\Documents\\Camila\\Autom\\csvfiles\n",
      "Filepath: C:\\Users\\Alfonso\\Documents\\Camila\\Autom\\csvfiles\\FRSD10.csv\n",
      "Filepath: C:\\Users\\Alfonso\\Documents\\Camila\\Autom\\csvfiles\\FSAD8.csv\n",
      "Filepath: C:\\Users\\Alfonso\\Documents\\Camila\\Autom\\csvfiles\\HFYY5.csv\n",
      "Filepath: C:\\Users\\Alfonso\\Documents\\Camila\\Autom\\csvfiles\\JNDN7.csv\n",
      "Filepath: C:\\Users\\Alfonso\\Documents\\Camila\\Autom\\csvfiles\\KDDL6.csv\n",
      "Filepath: C:\\Users\\Alfonso\\Documents\\Camila\\Autom\\csvfiles\\LLOP3.csv\n",
      "Filepath: C:\\Users\\Alfonso\\Documents\\Camila\\Autom\\csvfiles\\QWER1.csv\n",
      "Filepath: C:\\Users\\Alfonso\\Documents\\Camila\\Autom\\csvfiles\\RGRD9.csv\n",
      "Filepath: C:\\Users\\Alfonso\\Documents\\Camila\\Autom\\csvfiles\\SDAQ2.csv\n",
      "Filepath: C:\\Users\\Alfonso\\Documents\\Camila\\Autom\\csvfiles\\TGFD4.csv\n"
     ]
    }
   ],
   "source": [
    "dfs = pd.concat(apply_to_all(generate_column, r'C:\\Users\\Alfonso\\Documents\\Camila\\Autom\\csvfiles'), axis=1, ignore_index=True)"
   ]
  },
  {
   "cell_type": "code",
   "execution_count": 112,
   "metadata": {
    "collapsed": false
   },
   "outputs": [
    {
     "data": {
      "text/html": [
       "<div>\n",
       "<table border=\"1\" class=\"dataframe\">\n",
       "  <thead>\n",
       "    <tr style=\"text-align: right;\">\n",
       "      <th></th>\n",
       "      <th>0</th>\n",
       "      <th>1</th>\n",
       "      <th>2</th>\n",
       "      <th>3</th>\n",
       "      <th>4</th>\n",
       "      <th>5</th>\n",
       "      <th>6</th>\n",
       "      <th>7</th>\n",
       "      <th>8</th>\n",
       "      <th>9</th>\n",
       "    </tr>\n",
       "  </thead>\n",
       "  <tbody>\n",
       "    <tr>\n",
       "      <th>0</th>\n",
       "      <td>26,23</td>\n",
       "      <td>26,26</td>\n",
       "      <td>26,32</td>\n",
       "      <td>26,25</td>\n",
       "      <td>26,22</td>\n",
       "      <td>26,22</td>\n",
       "      <td>26,21</td>\n",
       "      <td>26,23</td>\n",
       "      <td>26,21</td>\n",
       "      <td>26,33</td>\n",
       "    </tr>\n",
       "    <tr>\n",
       "      <th>1</th>\n",
       "      <td>26,2</td>\n",
       "      <td>26,3</td>\n",
       "      <td>26,27</td>\n",
       "      <td>26,24</td>\n",
       "      <td>26,19</td>\n",
       "      <td>26,22</td>\n",
       "      <td>26,2</td>\n",
       "      <td>26,2</td>\n",
       "      <td>26,29</td>\n",
       "      <td>26,26</td>\n",
       "    </tr>\n",
       "    <tr>\n",
       "      <th>2</th>\n",
       "      <td>26,2</td>\n",
       "      <td>26,25</td>\n",
       "      <td>26,26</td>\n",
       "      <td>26,24</td>\n",
       "      <td>26,22</td>\n",
       "      <td>26,23</td>\n",
       "      <td>26,19</td>\n",
       "      <td>26,23</td>\n",
       "      <td>26,2</td>\n",
       "      <td>26,31</td>\n",
       "    </tr>\n",
       "    <tr>\n",
       "      <th>3</th>\n",
       "      <td>26,24</td>\n",
       "      <td>26,24</td>\n",
       "      <td>26,28</td>\n",
       "      <td>26,22</td>\n",
       "      <td>26,17</td>\n",
       "      <td>26,2</td>\n",
       "      <td>26,18</td>\n",
       "      <td>26,18</td>\n",
       "      <td>26,2</td>\n",
       "      <td>26,25</td>\n",
       "    </tr>\n",
       "    <tr>\n",
       "      <th>4</th>\n",
       "      <td>26,17</td>\n",
       "      <td>26,19</td>\n",
       "      <td>26,24</td>\n",
       "      <td>26,17</td>\n",
       "      <td>26,15</td>\n",
       "      <td>26,17</td>\n",
       "      <td>26,18</td>\n",
       "      <td>26,19</td>\n",
       "      <td>26,23</td>\n",
       "      <td>26,23</td>\n",
       "    </tr>\n",
       "  </tbody>\n",
       "</table>\n",
       "</div>"
      ],
      "text/plain": [
       "       0      1      2      3      4      5      6      7      8      9\n",
       "0  26,23  26,26  26,32  26,25  26,22  26,22  26,21  26,23  26,21  26,33\n",
       "1   26,2   26,3  26,27  26,24  26,19  26,22   26,2   26,2  26,29  26,26\n",
       "2   26,2  26,25  26,26  26,24  26,22  26,23  26,19  26,23   26,2  26,31\n",
       "3  26,24  26,24  26,28  26,22  26,17   26,2  26,18  26,18   26,2  26,25\n",
       "4  26,17  26,19  26,24  26,17  26,15  26,17  26,18  26,19  26,23  26,23"
      ]
     },
     "execution_count": 112,
     "metadata": {},
     "output_type": "execute_result"
    }
   ],
   "source": [
    "dfs.head()"
   ]
  },
  {
   "cell_type": "code",
   "execution_count": 106,
   "metadata": {
    "collapsed": false
   },
   "outputs": [],
   "source": [
    "dfs.to_csv('result.csv', sep=';')"
   ]
  }
 ],
 "metadata": {
  "kernelspec": {
   "display_name": "Python [Root]",
   "language": "python",
   "name": "Python [Root]"
  },
  "language_info": {
   "codemirror_mode": {
    "name": "ipython",
    "version": 3
   },
   "file_extension": ".py",
   "mimetype": "text/x-python",
   "name": "python",
   "nbconvert_exporter": "python",
   "pygments_lexer": "ipython3",
   "version": "3.5.2"
  }
 },
 "nbformat": 4,
 "nbformat_minor": 0
}
