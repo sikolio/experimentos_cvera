{
 "cells": [
  {
   "cell_type": "code",
   "execution_count": null,
   "metadata": {
    "collapsed": false
   },
   "outputs": [],
   "source": [
    "%matplotlib inline\n",
    "import plotly\n",
    "import plotly.graph_objs as go\n",
    "plotly.offline.init_notebook_mode()\n",
    "import pandas as pd\n",
    "import time"
   ]
  },
  {
   "cell_type": "code",
   "execution_count": 1,
   "metadata": {
    "collapsed": false
   },
   "outputs": [
    {
     "ename": "NameError",
     "evalue": "name 'pd' is not defined",
     "output_type": "error",
     "traceback": [
      "\u001b[1;31m---------------------------------------------------------------------------\u001b[0m",
      "\u001b[1;31mNameError\u001b[0m                                 Traceback (most recent call last)",
      "\u001b[1;32m<ipython-input-1-0577d4c265d7>\u001b[0m in \u001b[0;36m<module>\u001b[1;34m()\u001b[0m\n\u001b[1;32m----> 1\u001b[1;33m \u001b[0mdf\u001b[0m \u001b[1;33m=\u001b[0m \u001b[0mpd\u001b[0m\u001b[1;33m.\u001b[0m\u001b[0mread_csv\u001b[0m\u001b[1;33m(\u001b[0m\u001b[1;34mr'C:\\Users\\CCVV\\OneDrive\\TESIS\\Automatization\\output5cc60c.csv'\u001b[0m\u001b[1;33m,\u001b[0m \u001b[0mdelimiter\u001b[0m\u001b[1;33m=\u001b[0m\u001b[1;34m';'\u001b[0m\u001b[1;33m,\u001b[0m \u001b[0mindex_col\u001b[0m\u001b[1;33m=\u001b[0m\u001b[1;36m0\u001b[0m\u001b[1;33m)\u001b[0m\u001b[1;33m\u001b[0m\u001b[0m\n\u001b[0m",
      "\u001b[1;31mNameError\u001b[0m: name 'pd' is not defined"
     ]
    }
   ],
   "source": [
    "df = pd.read_csv(r'C:\\Users\\CCVV\\OneDrive\\TESIS\\Automatization\\output5cc60c.csv', delimiter=';', index_col=0)"
   ]
  },
  {
   "cell_type": "code",
   "execution_count": 16,
   "metadata": {
    "collapsed": false
   },
   "outputs": [],
   "source": [
    "def to_float(cell_value):\n",
    "    return float(cell_value.replace(',','.'))"
   ]
  },
  {
   "cell_type": "code",
   "execution_count": 17,
   "metadata": {
    "collapsed": false
   },
   "outputs": [],
   "source": [
    "df = df.applymap(to_float)"
   ]
  },
  {
   "cell_type": "code",
   "execution_count": 18,
   "metadata": {
    "collapsed": false
   },
   "outputs": [
    {
     "data": {
      "text/html": [
       "<div>\n",
       "<table border=\"1\" class=\"dataframe\">\n",
       "  <thead>\n",
       "    <tr style=\"text-align: right;\">\n",
       "      <th></th>\n",
       "      <th>0</th>\n",
       "      <th>1</th>\n",
       "      <th>2</th>\n",
       "      <th>3</th>\n",
       "      <th>4</th>\n",
       "      <th>5</th>\n",
       "      <th>6</th>\n",
       "      <th>7</th>\n",
       "      <th>8</th>\n",
       "      <th>9</th>\n",
       "      <th>...</th>\n",
       "      <th>2973</th>\n",
       "      <th>2974</th>\n",
       "      <th>2975</th>\n",
       "      <th>2976</th>\n",
       "      <th>2977</th>\n",
       "      <th>2978</th>\n",
       "      <th>2979</th>\n",
       "      <th>2980</th>\n",
       "      <th>2981</th>\n",
       "      <th>2982</th>\n",
       "    </tr>\n",
       "  </thead>\n",
       "  <tbody>\n",
       "    <tr>\n",
       "      <th>count</th>\n",
       "      <td>514.000000</td>\n",
       "      <td>514.000000</td>\n",
       "      <td>514.000000</td>\n",
       "      <td>514.000000</td>\n",
       "      <td>514.000000</td>\n",
       "      <td>514.000000</td>\n",
       "      <td>514.000000</td>\n",
       "      <td>514.000000</td>\n",
       "      <td>514.000000</td>\n",
       "      <td>514.000000</td>\n",
       "      <td>...</td>\n",
       "      <td>514.000000</td>\n",
       "      <td>514.000000</td>\n",
       "      <td>514.000000</td>\n",
       "      <td>514.000000</td>\n",
       "      <td>514.000000</td>\n",
       "      <td>514.000000</td>\n",
       "      <td>514.000000</td>\n",
       "      <td>514.000000</td>\n",
       "      <td>514.000000</td>\n",
       "      <td>514.000000</td>\n",
       "    </tr>\n",
       "    <tr>\n",
       "      <th>mean</th>\n",
       "      <td>26.543152</td>\n",
       "      <td>26.568755</td>\n",
       "      <td>26.515272</td>\n",
       "      <td>26.526615</td>\n",
       "      <td>26.524553</td>\n",
       "      <td>26.513035</td>\n",
       "      <td>26.549922</td>\n",
       "      <td>26.503969</td>\n",
       "      <td>26.523521</td>\n",
       "      <td>26.502490</td>\n",
       "      <td>...</td>\n",
       "      <td>32.707490</td>\n",
       "      <td>32.707490</td>\n",
       "      <td>32.707490</td>\n",
       "      <td>32.707490</td>\n",
       "      <td>32.707490</td>\n",
       "      <td>32.707490</td>\n",
       "      <td>32.707490</td>\n",
       "      <td>32.707490</td>\n",
       "      <td>32.707490</td>\n",
       "      <td>32.707490</td>\n",
       "    </tr>\n",
       "    <tr>\n",
       "      <th>std</th>\n",
       "      <td>3.973478</td>\n",
       "      <td>3.942385</td>\n",
       "      <td>3.921970</td>\n",
       "      <td>3.902348</td>\n",
       "      <td>3.872625</td>\n",
       "      <td>3.847726</td>\n",
       "      <td>3.822473</td>\n",
       "      <td>3.795114</td>\n",
       "      <td>3.768135</td>\n",
       "      <td>3.746143</td>\n",
       "      <td>...</td>\n",
       "      <td>2.953013</td>\n",
       "      <td>2.953013</td>\n",
       "      <td>2.953013</td>\n",
       "      <td>2.953013</td>\n",
       "      <td>2.953013</td>\n",
       "      <td>2.953013</td>\n",
       "      <td>2.953013</td>\n",
       "      <td>2.953013</td>\n",
       "      <td>2.953013</td>\n",
       "      <td>2.953013</td>\n",
       "    </tr>\n",
       "    <tr>\n",
       "      <th>min</th>\n",
       "      <td>25.190000</td>\n",
       "      <td>25.230000</td>\n",
       "      <td>25.180000</td>\n",
       "      <td>25.220000</td>\n",
       "      <td>25.200000</td>\n",
       "      <td>25.180000</td>\n",
       "      <td>25.240000</td>\n",
       "      <td>25.210000</td>\n",
       "      <td>25.240000</td>\n",
       "      <td>25.210000</td>\n",
       "      <td>...</td>\n",
       "      <td>24.670000</td>\n",
       "      <td>24.670000</td>\n",
       "      <td>24.670000</td>\n",
       "      <td>24.670000</td>\n",
       "      <td>24.670000</td>\n",
       "      <td>24.670000</td>\n",
       "      <td>24.670000</td>\n",
       "      <td>24.670000</td>\n",
       "      <td>24.670000</td>\n",
       "      <td>24.670000</td>\n",
       "    </tr>\n",
       "    <tr>\n",
       "      <th>25%</th>\n",
       "      <td>25.432500</td>\n",
       "      <td>25.470000</td>\n",
       "      <td>25.420000</td>\n",
       "      <td>25.420000</td>\n",
       "      <td>25.430000</td>\n",
       "      <td>25.420000</td>\n",
       "      <td>25.460000</td>\n",
       "      <td>25.420000</td>\n",
       "      <td>25.440000</td>\n",
       "      <td>25.420000</td>\n",
       "      <td>...</td>\n",
       "      <td>31.832500</td>\n",
       "      <td>31.832500</td>\n",
       "      <td>31.832500</td>\n",
       "      <td>31.832500</td>\n",
       "      <td>31.832500</td>\n",
       "      <td>31.832500</td>\n",
       "      <td>31.832500</td>\n",
       "      <td>31.832500</td>\n",
       "      <td>31.832500</td>\n",
       "      <td>31.832500</td>\n",
       "    </tr>\n",
       "    <tr>\n",
       "      <th>50%</th>\n",
       "      <td>25.570000</td>\n",
       "      <td>25.620000</td>\n",
       "      <td>25.550000</td>\n",
       "      <td>25.565000</td>\n",
       "      <td>25.560000</td>\n",
       "      <td>25.550000</td>\n",
       "      <td>25.600000</td>\n",
       "      <td>25.550000</td>\n",
       "      <td>25.570000</td>\n",
       "      <td>25.555000</td>\n",
       "      <td>...</td>\n",
       "      <td>33.640000</td>\n",
       "      <td>33.640000</td>\n",
       "      <td>33.640000</td>\n",
       "      <td>33.640000</td>\n",
       "      <td>33.640000</td>\n",
       "      <td>33.640000</td>\n",
       "      <td>33.640000</td>\n",
       "      <td>33.640000</td>\n",
       "      <td>33.640000</td>\n",
       "      <td>33.640000</td>\n",
       "    </tr>\n",
       "    <tr>\n",
       "      <th>75%</th>\n",
       "      <td>25.890000</td>\n",
       "      <td>25.900000</td>\n",
       "      <td>25.860000</td>\n",
       "      <td>25.877500</td>\n",
       "      <td>25.890000</td>\n",
       "      <td>25.880000</td>\n",
       "      <td>25.920000</td>\n",
       "      <td>25.880000</td>\n",
       "      <td>25.920000</td>\n",
       "      <td>25.900000</td>\n",
       "      <td>...</td>\n",
       "      <td>34.897500</td>\n",
       "      <td>34.897500</td>\n",
       "      <td>34.897500</td>\n",
       "      <td>34.897500</td>\n",
       "      <td>34.897500</td>\n",
       "      <td>34.897500</td>\n",
       "      <td>34.897500</td>\n",
       "      <td>34.897500</td>\n",
       "      <td>34.897500</td>\n",
       "      <td>34.897500</td>\n",
       "    </tr>\n",
       "    <tr>\n",
       "      <th>max</th>\n",
       "      <td>47.280000</td>\n",
       "      <td>47.030000</td>\n",
       "      <td>46.910000</td>\n",
       "      <td>46.770000</td>\n",
       "      <td>46.610000</td>\n",
       "      <td>46.430000</td>\n",
       "      <td>46.300000</td>\n",
       "      <td>46.130000</td>\n",
       "      <td>45.980000</td>\n",
       "      <td>45.850000</td>\n",
       "      <td>...</td>\n",
       "      <td>35.660000</td>\n",
       "      <td>35.660000</td>\n",
       "      <td>35.660000</td>\n",
       "      <td>35.660000</td>\n",
       "      <td>35.660000</td>\n",
       "      <td>35.660000</td>\n",
       "      <td>35.660000</td>\n",
       "      <td>35.660000</td>\n",
       "      <td>35.660000</td>\n",
       "      <td>35.660000</td>\n",
       "    </tr>\n",
       "  </tbody>\n",
       "</table>\n",
       "<p>8 rows × 2983 columns</p>\n",
       "</div>"
      ],
      "text/plain": [
       "                0           1           2           3           4           5  \\\n",
       "count  514.000000  514.000000  514.000000  514.000000  514.000000  514.000000   \n",
       "mean    26.543152   26.568755   26.515272   26.526615   26.524553   26.513035   \n",
       "std      3.973478    3.942385    3.921970    3.902348    3.872625    3.847726   \n",
       "min     25.190000   25.230000   25.180000   25.220000   25.200000   25.180000   \n",
       "25%     25.432500   25.470000   25.420000   25.420000   25.430000   25.420000   \n",
       "50%     25.570000   25.620000   25.550000   25.565000   25.560000   25.550000   \n",
       "75%     25.890000   25.900000   25.860000   25.877500   25.890000   25.880000   \n",
       "max     47.280000   47.030000   46.910000   46.770000   46.610000   46.430000   \n",
       "\n",
       "                6           7           8           9     ...            2973  \\\n",
       "count  514.000000  514.000000  514.000000  514.000000     ...      514.000000   \n",
       "mean    26.549922   26.503969   26.523521   26.502490     ...       32.707490   \n",
       "std      3.822473    3.795114    3.768135    3.746143     ...        2.953013   \n",
       "min     25.240000   25.210000   25.240000   25.210000     ...       24.670000   \n",
       "25%     25.460000   25.420000   25.440000   25.420000     ...       31.832500   \n",
       "50%     25.600000   25.550000   25.570000   25.555000     ...       33.640000   \n",
       "75%     25.920000   25.880000   25.920000   25.900000     ...       34.897500   \n",
       "max     46.300000   46.130000   45.980000   45.850000     ...       35.660000   \n",
       "\n",
       "             2974        2975        2976        2977        2978        2979  \\\n",
       "count  514.000000  514.000000  514.000000  514.000000  514.000000  514.000000   \n",
       "mean    32.707490   32.707490   32.707490   32.707490   32.707490   32.707490   \n",
       "std      2.953013    2.953013    2.953013    2.953013    2.953013    2.953013   \n",
       "min     24.670000   24.670000   24.670000   24.670000   24.670000   24.670000   \n",
       "25%     31.832500   31.832500   31.832500   31.832500   31.832500   31.832500   \n",
       "50%     33.640000   33.640000   33.640000   33.640000   33.640000   33.640000   \n",
       "75%     34.897500   34.897500   34.897500   34.897500   34.897500   34.897500   \n",
       "max     35.660000   35.660000   35.660000   35.660000   35.660000   35.660000   \n",
       "\n",
       "             2980        2981        2982  \n",
       "count  514.000000  514.000000  514.000000  \n",
       "mean    32.707490   32.707490   32.707490  \n",
       "std      2.953013    2.953013    2.953013  \n",
       "min     24.670000   24.670000   24.670000  \n",
       "25%     31.832500   31.832500   31.832500  \n",
       "50%     33.640000   33.640000   33.640000  \n",
       "75%     34.897500   34.897500   34.897500  \n",
       "max     35.660000   35.660000   35.660000  \n",
       "\n",
       "[8 rows x 2983 columns]"
      ]
     },
     "execution_count": 18,
     "metadata": {},
     "output_type": "execute_result"
    }
   ],
   "source": [
    "df.describe()"
   ]
  },
  {
   "cell_type": "code",
   "execution_count": 19,
   "metadata": {
    "collapsed": false
   },
   "outputs": [],
   "source": [
    "df = df.transpose()"
   ]
  },
  {
   "cell_type": "code",
   "execution_count": 12,
   "metadata": {
    "collapsed": false
   },
   "outputs": [
    {
     "data": {
      "text/plain": [
       "(2983, 514)"
      ]
     },
     "execution_count": 12,
     "metadata": {},
     "output_type": "execute_result"
    }
   ],
   "source": [
    "df.shape"
   ]
  },
  {
   "cell_type": "code",
   "execution_count": 30,
   "metadata": {
    "collapsed": false
   },
   "outputs": [],
   "source": [
    "data = [go.Surface(z=df.values.tolist(), colorscale='Viridis')]"
   ]
  },
  {
   "cell_type": "code",
   "execution_count": 28,
   "metadata": {
    "collapsed": false
   },
   "outputs": [],
   "source": [
    "df = df[df.apply(lambda x: x.max() < 59, axis=1)]"
   ]
  },
  {
   "cell_type": "code",
   "execution_count": 31,
   "metadata": {
    "collapsed": true
   },
   "outputs": [],
   "source": [
    "layout = go.Layout(\n",
    "    width=800,\n",
    "    height=700,\n",
    "    autosize=False,\n",
    "    title='Volcano dataset',\n",
    "    scene=dict(\n",
    "        xaxis=dict(\n",
    "            gridcolor='rgb(255, 255, 255)',\n",
    "            zerolinecolor='rgb(255, 255, 255)',\n",
    "            showbackground=True,\n",
    "            backgroundcolor='rgb(230, 230,230)'\n",
    "        ),\n",
    "        yaxis=dict(\n",
    "            gridcolor='rgb(255, 255, 255)',\n",
    "            zerolinecolor='rgb(255, 255, 255)',\n",
    "            showbackground=True,\n",
    "            backgroundcolor='rgb(230, 230,230)'\n",
    "        ),\n",
    "        zaxis=dict(\n",
    "            gridcolor='rgb(255, 255, 255)',\n",
    "            zerolinecolor='rgb(255, 255, 255)',\n",
    "            showbackground=True,\n",
    "            backgroundcolor='rgb(230, 230,230)'\n",
    "        ),\n",
    "        aspectratio = dict( x=1, y=1, z=0.7 ),\n",
    "        aspectmode = 'manual'\n",
    "    )\n",
    ")\n",
    "\n",
    "fig = dict(data=data, layout=layout)"
   ]
  },
  {
   "cell_type": "code",
   "execution_count": 32,
   "metadata": {
    "collapsed": false
   },
   "outputs": [
    {
     "data": {
      "text/plain": [
       "'file://C:\\\\Users\\\\Alfonso\\\\Documents\\\\ML\\\\temp-plot.html'"
      ]
     },
     "execution_count": 32,
     "metadata": {},
     "output_type": "execute_result"
    }
   ],
   "source": [
    "plotly.offline.plot(fig)"
   ]
  }
 ],
 "metadata": {
  "anaconda-cloud": {},
  "kernelspec": {
   "display_name": "Python [Root]",
   "language": "python",
   "name": "Python [Root]"
  },
  "language_info": {
   "codemirror_mode": {
    "name": "ipython",
    "version": 3
   },
   "file_extension": ".py",
   "mimetype": "text/x-python",
   "name": "python",
   "nbconvert_exporter": "python",
   "pygments_lexer": "ipython3",
   "version": "3.5.2"
  }
 },
 "nbformat": 4,
 "nbformat_minor": 0
}
