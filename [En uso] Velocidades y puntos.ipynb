{
 "cells": [
  {
   "cell_type": "code",
   "execution_count": 1,
   "metadata": {
    "collapsed": false
   },
   "outputs": [
    {
     "name": "stdout",
     "output_type": "stream",
     "text": [
      "Using matplotlib backend: Qt5Agg\n"
     ]
    }
   ],
   "source": [
    "import pandas as pd\n",
    "import os\n",
    "import csv\n",
    "import numpy as np\n",
    "from matplotlib import pyplot as plt\n",
    "%matplotlib"
   ]
  },
  {
   "cell_type": "code",
   "execution_count": 2,
   "metadata": {
    "collapsed": false
   },
   "outputs": [
    {
     "name": "stdout",
     "output_type": "stream",
     "text": [
      "[Errno 2] No such file or directory: '.\\\\Data\\\\5cc50C - max av.csv'\n",
      "[Errno 2] No such file or directory: '.\\\\Data\\\\5cc50C - fspot.csv'\n",
      "[Errno 2] No such file or directory: '.\\\\Data\\\\5cc50C - max av cup.csv'\n",
      "[Errno 2] No such file or directory: '.\\\\Data\\\\5cc50C - frente.csv'\n",
      "[Errno 2] No such file or directory: '.\\\\Data\\\\1cc54C - max av.csv'\n",
      "[Errno 2] No such file or directory: '.\\\\Data\\\\1cc54C - fspot.csv'\n",
      "[Errno 2] No such file or directory: '.\\\\Data\\\\1cc54C - max av cup.csv'\n",
      "[Errno 2] No such file or directory: '.\\\\Data\\\\1cc54C - frente.csv'\n",
      "[Errno 2] No such file or directory: '.\\\\Data\\\\25cc54C - max av.csv'\n",
      "[Errno 2] No such file or directory: '.\\\\Data\\\\25cc54C - fspot.csv'\n",
      "[Errno 2] No such file or directory: '.\\\\Data\\\\25cc54C - max av cup.csv'\n",
      "[Errno 2] No such file or directory: '.\\\\Data\\\\25cc54C - frente.csv'\n",
      "[Errno 2] No such file or directory: '.\\\\Data\\\\10cc60C - max av.csv'\n",
      "[Errno 2] No such file or directory: '.\\\\Data\\\\10cc60C - fspot.csv'\n",
      "[Errno 2] No such file or directory: '.\\\\Data\\\\10cc60C - max av cup.csv'\n",
      "[Errno 2] No such file or directory: '.\\\\Data\\\\10cc60C - frente.csv'\n",
      "[Errno 2] No such file or directory: '.\\\\Data\\\\25cc60C - max av.csv'\n",
      "[Errno 2] No such file or directory: '.\\\\Data\\\\25cc60C - fspot.csv'\n",
      "[Errno 2] No such file or directory: '.\\\\Data\\\\25cc60C - max av cup.csv'\n",
      "[Errno 2] No such file or directory: '.\\\\Data\\\\25cc60C - frente.csv'\n",
      "[Errno 2] No such file or directory: '.\\\\Data\\\\1cc59C - fspot.csv'\n",
      "[Errno 2] No such file or directory: '.\\\\Data\\\\1cc59C - max av cup.csv'\n",
      "[Errno 2] No such file or directory: '.\\\\Data\\\\1cc59C - frente.csv'\n",
      "[Errno 2] No such file or directory: '.\\\\Data\\\\1cc47C - max av.csv'\n",
      "[Errno 2] No such file or directory: '.\\\\Data\\\\1cc47C - fspot.csv'\n",
      "[Errno 2] No such file or directory: '.\\\\Data\\\\1cc47C - frente.csv'\n",
      "[Errno 2] No such file or directory: '.\\\\Data\\\\1cc55C - max av.csv'\n",
      "[Errno 2] No such file or directory: '.\\\\Data\\\\1cc55C - fspot.csv'\n",
      "[Errno 2] No such file or directory: '.\\\\Data\\\\1cc55C - frente.csv'\n",
      "[Errno 2] No such file or directory: '.\\\\Data\\\\25cc58C - max av.csv'\n",
      "[Errno 2] No such file or directory: '.\\\\Data\\\\25cc58C - fspot.csv'\n",
      "'max'\n",
      "[Errno 2] No such file or directory: '.\\\\Data\\\\25cc58C - frente.csv'\n",
      "[Errno 2] No such file or directory: '.\\\\Data\\\\25cc70C - max av.csv'\n",
      "[Errno 2] No such file or directory: '.\\\\Data\\\\25cc70C - fspot.csv'\n",
      "[Errno 2] No such file or directory: '.\\\\Data\\\\25cc70C - frente.csv'\n",
      "[Errno 2] No such file or directory: '.\\\\Data\\\\10cc67C - max av.csv'\n",
      "[Errno 2] No such file or directory: '.\\\\Data\\\\10cc67C - fspot.csv'\n",
      "[Errno 2] No such file or directory: '.\\\\Data\\\\10cc67C - frente.csv'\n",
      "[Errno 2] No such file or directory: '.\\\\Data\\\\10cc59C - max av.csv'\n",
      "[Errno 2] No such file or directory: '.\\\\Data\\\\10cc59C - fspot.csv'\n",
      "[Errno 2] No such file or directory: '.\\\\Data\\\\10cc59C - frente.csv'\n",
      "[Errno 2] No such file or directory: '.\\\\Data\\\\5cc63C - max av.csv'\n",
      "[Errno 2] No such file or directory: '.\\\\Data\\\\5cc63C - fspot.csv'\n",
      "[Errno 2] No such file or directory: '.\\\\Data\\\\5cc63C - max av cup.csv'\n",
      "[Errno 2] No such file or directory: '.\\\\Data\\\\5cc63C - frente.csv'\n",
      "[Errno 2] No such file or directory: '.\\\\Data\\\\5cc59C - max av.csv'\n",
      "[Errno 2] No such file or directory: '.\\\\Data\\\\5cc59C - fspot.csv'\n",
      "[Errno 2] No such file or directory: '.\\\\Data\\\\5cc59C - frente.csv'\n",
      "[Errno 2] No such file or directory: '.\\\\Data\\\\10cc49C - max av.csv'\n",
      "[Errno 2] No such file or directory: '.\\\\Data\\\\10cc49C - fspot.csv'\n",
      "[Errno 2] No such file or directory: '.\\\\Data\\\\10cc49C - frente.csv'\n",
      "[Errno 2] No such file or directory: '.\\\\Data\\\\25cc62C - max av.csv'\n",
      "[Errno 2] No such file or directory: '.\\\\Data\\\\25cc62C - fspot.csv'\n",
      "[Errno 2] No such file or directory: '.\\\\Data\\\\25cc62C - max av cup.csv'\n",
      "[Errno 2] No such file or directory: '.\\\\Data\\\\25cc62C - frente.csv'\n",
      "[Errno 2] No such file or directory: '.\\\\Data\\\\1cc62C - max av.csv'\n",
      "[Errno 2] No such file or directory: '.\\\\Data\\\\1cc62C - fspot.csv'\n",
      "[Errno 2] No such file or directory: '.\\\\Data\\\\1cc62C - max av cup.csv'\n",
      "[Errno 2] No such file or directory: '.\\\\Data\\\\1cc62C - frente.csv'\n",
      "[Errno 2] No such file or directory: '.\\\\Data\\\\5cc53C - max av.csv'\n",
      "[Errno 2] No such file or directory: '.\\\\Data\\\\5cc53C - fspot.csv'\n",
      "[Errno 2] No such file or directory: '.\\\\Data\\\\5cc53C - frente.csv'\n",
      "[Errno 2] No such file or directory: '.\\\\Data\\\\5a25cc56C - max av.csv'\n",
      "[Errno 2] No such file or directory: '.\\\\Data\\\\5a25cc56C - fspot.csv'\n",
      "[Errno 2] No such file or directory: '.\\\\Data\\\\5a25cc56C - frente.csv'\n",
      "[Errno 2] No such file or directory: '.\\\\Data\\\\5cc57C - fspot.csv'\n",
      "[Errno 2] No such file or directory: '.\\\\Data\\\\5cc57C - max av cup.csv'\n",
      "[Errno 2] No such file or directory: '.\\\\Data\\\\5cc57C - frente.csv'\n",
      "[Errno 2] No such file or directory: '.\\\\Data\\\\25cc50C - max av.csv'\n",
      "[Errno 2] No such file or directory: '.\\\\Data\\\\25cc50C - fspot.csv'\n",
      "[Errno 2] No such file or directory: '.\\\\Data\\\\25cc50C - frente.csv'\n",
      "[Errno 2] No such file or directory: '.\\\\Data\\\\10cc55C - fspot.csv'\n",
      "[Errno 2] No such file or directory: '.\\\\Data\\\\10cc55C - max av cup.csv'\n",
      "[Errno 2] No such file or directory: '.\\\\Data\\\\10cc55C - frente.csv'\n",
      "[Errno 2] No such file or directory: '.\\\\Data\\\\1cc24C - max av.csv'\n",
      "[Errno 2] No such file or directory: '.\\\\Data\\\\1cc24C - fspot.csv'\n",
      "[Errno 2] No such file or directory: '.\\\\Data\\\\1cc24C - max av cup.csv'\n",
      "[Errno 2] No such file or directory: '.\\\\Data\\\\1cc24C - frente.csv'\n",
      "[Errno 2] No such file or directory: '.\\\\Data\\\\10cc57C - fspot.csv'\n",
      "[Errno 2] No such file or directory: '.\\\\Data\\\\10cc57C - max av cup.csv'\n",
      "[Errno 2] No such file or directory: '.\\\\Data\\\\10cc57C - frente.csv'\n",
      "[Errno 2] No such file or directory: '.\\\\Data\\\\10cc24C - max av.csv'\n",
      "[Errno 2] No such file or directory: '.\\\\Data\\\\10cc24C - fspot.csv'\n",
      "[Errno 2] No such file or directory: '.\\\\Data\\\\10cc24C - max av cup.csv'\n",
      "[Errno 2] No such file or directory: '.\\\\Data\\\\10cc24C - frente.csv'\n",
      "[Errno 2] No such file or directory: '.\\\\Data\\\\5cc55C - fspot.csv'\n",
      "[Errno 2] No such file or directory: '.\\\\Data\\\\5cc55C - max av cup.csv'\n",
      "[Errno 2] No such file or directory: '.\\\\Data\\\\5cc55C - frente.csv'\n",
      "[Errno 2] No such file or directory: '.\\\\Data\\\\5cc58C - fspot.csv'\n",
      "[Errno 2] No such file or directory: '.\\\\Data\\\\5cc58C - max av cup.csv'\n",
      "[Errno 2] No such file or directory: '.\\\\Data\\\\5cc58C - frente.csv'\n",
      "[Errno 2] No such file or directory: '.\\\\Data\\\\1cc48C - fspot.csv'\n",
      "[Errno 2] No such file or directory: '.\\\\Data\\\\1cc48C - max av cup.csv'\n",
      "[Errno 2] No such file or directory: '.\\\\Data\\\\1cc48C - frente.csv'\n",
      "[Errno 2] No such file or directory: '.\\\\Data\\\\1cc51C - fspot.csv'\n",
      "[Errno 2] No such file or directory: '.\\\\Data\\\\1cc51C - max av cup.csv'\n",
      "[Errno 2] No such file or directory: '.\\\\Data\\\\1cc51C - frente.csv'\n",
      "[Errno 2] No such file or directory: '.\\\\Data\\\\5cc48C - max av.csv'\n",
      "[Errno 2] No such file or directory: '.\\\\Data\\\\5cc48C - max av cup.csv'\n",
      "[Errno 2] No such file or directory: '.\\\\Data\\\\10cc50C - max av.csv'\n",
      "[Errno 2] No such file or directory: '.\\\\Data\\\\10cc50C - max av cup.csv'\n",
      "[Errno 2] No such file or directory: '.\\\\Data\\\\1cc54,7C - max av.csv'\n",
      "[Errno 2] No such file or directory: '.\\\\Data\\\\1cc54,7C - max av cup.csv'\n",
      "[Errno 2] No such file or directory: '.\\\\Data\\\\1cc52C - max av.csv'\n",
      "[Errno 2] No such file or directory: '.\\\\Data\\\\1cc52C - max av cup.csv'\n"
     ]
    }
   ],
   "source": [
    "from Experimentos2 import Experimentos, labelLines"
   ]
  },
  {
   "cell_type": "code",
   "execution_count": 45,
   "metadata": {
    "collapsed": false
   },
   "outputs": [
    {
     "data": {
      "text/html": [
       "<div>\n",
       "<table border=\"1\" class=\"dataframe\">\n",
       "  <thead>\n",
       "    <tr style=\"text-align: right;\">\n",
       "      <th></th>\n",
       "      <th>densidad manjar</th>\n",
       "      <th>modelo 3D</th>\n",
       "      <th>volumen total teorico</th>\n",
       "      <th>t amb</th>\n",
       "      <th>termocupla</th>\n",
       "      <th>caudal</th>\n",
       "      <th>angulo inclinacion</th>\n",
       "      <th>NOMBRE</th>\n",
       "      <th>Obs</th>\n",
       "      <th>Exp #</th>\n",
       "      <th>uso manjar</th>\n",
       "      <th>t max</th>\n",
       "      <th>fecha</th>\n",
       "      <th>result: largo final</th>\n",
       "      <th>result: largo total</th>\n",
       "      <th>result: ancho max final</th>\n",
       "      <th>result: espesor max final</th>\n",
       "      <th>result: distancia espesor final</th>\n",
       "    </tr>\n",
       "  </thead>\n",
       "  <tbody>\n",
       "    <tr>\n",
       "      <th>0</th>\n",
       "      <td>1240</td>\n",
       "      <td>NaN</td>\n",
       "      <td>0.00143</td>\n",
       "      <td>23</td>\n",
       "      <td>no</td>\n",
       "      <td>0.000005</td>\n",
       "      <td>15</td>\n",
       "      <td>5cc50C</td>\n",
       "      <td>sin datos flir</td>\n",
       "      <td>1</td>\n",
       "      <td>1</td>\n",
       "      <td>50</td>\n",
       "      <td>2016-06-02 00:00:00</td>\n",
       "      <td>0.568</td>\n",
       "      <td>0.518</td>\n",
       "      <td>0.245</td>\n",
       "      <td>0.017</td>\n",
       "      <td>0.4</td>\n",
       "    </tr>\n",
       "  </tbody>\n",
       "</table>\n",
       "</div>"
      ],
      "text/plain": [
       "   densidad manjar  modelo 3D  volumen total teorico  t amb termocupla  \\\n",
       "0             1240        NaN                0.00143     23         no   \n",
       "\n",
       "     caudal  angulo inclinacion  NOMBRE             Obs  Exp #  uso manjar  \\\n",
       "0  0.000005                  15  5cc50C  sin datos flir      1           1   \n",
       "\n",
       "   t max                fecha  result: largo final  result: largo total  \\\n",
       "0     50  2016-06-02 00:00:00                0.568                0.518   \n",
       "\n",
       "   result: ancho max final  result: espesor max final  \\\n",
       "0                    0.245                      0.017   \n",
       "\n",
       "   result: distancia espesor final  \n",
       "0                              0.4  "
      ]
     },
     "execution_count": 45,
     "metadata": {},
     "output_type": "execute_result"
    }
   ],
   "source": [
    "Experimentos[0].param.head()"
   ]
  },
  {
   "cell_type": "code",
   "execution_count": 3,
   "metadata": {
    "collapsed": true
   },
   "outputs": [],
   "source": [
    "velos = pd.read_excel('Velocidades y punto.xlsx')"
   ]
  },
  {
   "cell_type": "code",
   "execution_count": 4,
   "metadata": {
    "collapsed": false
   },
   "outputs": [
    {
     "name": "stdout",
     "output_type": "stream",
     "text": [
      "5cc50C\n",
      "1cc54C\n",
      "25cc54C\n",
      "10cc60C\n",
      "25cc60C\n",
      "1cc59C\n",
      "1cc47C\n",
      "1cc55C\n",
      "25cc58C\n",
      "25cc70C\n",
      "10cc67C\n",
      "10cc59C\n",
      "5cc63C\n",
      "5cc59C\n",
      "25cc62C\n",
      "10cc49C\n",
      "1cc62C\n",
      "5cc53C\n",
      "5a25cc56C\n",
      "5cc57C\n",
      "25cc50C\n",
      "10cc55C\n",
      "10cc57C\n",
      "10cc24C\n",
      "1cc24C\n",
      "5cc55C\n",
      "5cc58C\n",
      "1cc48C\n",
      "1cc51C\n",
      "5cc48C\n",
      "10cc50C\n",
      "1cc54,7C\n",
      "1cc52C\n"
     ]
    }
   ],
   "source": [
    "for i in range(33):\n",
    "    print(velos.iloc[i,:]['nombre'])"
   ]
  },
  {
   "cell_type": "code",
   "execution_count": 5,
   "metadata": {
    "collapsed": false
   },
   "outputs": [
    {
     "data": {
      "text/plain": [
       "nombre       1cc52C\n",
       "v1        0.0001637\n",
       "v2            2e-06\n",
       "t*          1744.47\n",
       "L*            0.275\n",
       "Name: 32, dtype: object"
      ]
     },
     "execution_count": 5,
     "metadata": {},
     "output_type": "execute_result"
    }
   ],
   "source": [
    "velos.iloc[i,:]"
   ]
  },
  {
   "cell_type": "code",
   "execution_count": 6,
   "metadata": {
    "collapsed": false
   },
   "outputs": [
    {
     "ename": "NameError",
     "evalue": "name 'indice' is not defined",
     "output_type": "error",
     "traceback": [
      "\u001b[0;31m---------------------------------------------------------------------------\u001b[0m",
      "\u001b[0;31mNameError\u001b[0m                                 Traceback (most recent call last)",
      "\u001b[0;32m<ipython-input-6-1322d426311d>\u001b[0m in \u001b[0;36m<module>\u001b[0;34m()\u001b[0m\n\u001b[0;32m----> 1\u001b[0;31m \u001b[1;32mfor\u001b[0m \u001b[0mi\u001b[0m \u001b[1;32min\u001b[0m \u001b[0mindice\u001b[0m\u001b[1;33m:\u001b[0m\u001b[1;33m\u001b[0m\u001b[0m\n\u001b[0m\u001b[1;32m      2\u001b[0m     \u001b[0mVelos\u001b[0m\u001b[1;33m[\u001b[0m\u001b[1;34m'nombre'\u001b[0m\u001b[1;33m]\u001b[0m\u001b[1;33m\u001b[0m\u001b[0m\n",
      "\u001b[0;31mNameError\u001b[0m: name 'indice' is not defined"
     ]
    }
   ],
   "source": [
    "for i in indice:\n",
    "    Velos['nombre']"
   ]
  },
  {
   "cell_type": "code",
   "execution_count": 7,
   "metadata": {
    "collapsed": false
   },
   "outputs": [],
   "source": [
    "def rango_temperatura(temp):\n",
    "    if temp < 40:\n",
    "        return 1\n",
    "    if temp < 45:\n",
    "        return 2\n",
    "    if temp < 50:\n",
    "        return 3\n",
    "    if temp < 55:\n",
    "        return 4\n",
    "    if temp < 60:\n",
    "        return 5\n",
    "    if temp < 65:\n",
    "        return 6\n",
    "    if temp < 70:\n",
    "        return 7"
   ]
  },
  {
   "cell_type": "code",
   "execution_count": 8,
   "metadata": {
    "collapsed": false
   },
   "outputs": [],
   "source": [
    "listavelocidades = []\n",
    "\n",
    "for exp in Experimentos:\n",
    "    holder = {} #es un diccionario \n",
    "    holder['nombre'] = exp.param['NOMBRE'][0]#solo el valor de la primera fila\n",
    "    for i in range(33):\n",
    "        if exp.param['NOMBRE'][0]==velos.iloc[i,:]['nombre']:\n",
    "            holder['v1'] = velos.iloc[i,:]['v1']\n",
    "            holder['v2'] = velos.iloc[i,:]['v2']\n",
    "            holder['L*'] = velos.iloc[i,:]['L*']\n",
    "            holder['t*'] = velos.iloc[i,:]['t*']\n",
    "    #holder['espesor'] = exp.perfil['perfil: espesor']#toda la columna\n",
    "    #holder['largo'] = exp.perfil['perfil: distancia']#toda la columna\n",
    "    holder['caudal'] = exp.param['caudal'][0]#solo el valor de la primera fila\n",
    "    holder['angulo'] = exp.param['angulo inclinacion'][0]\n",
    "    holder[\"rango temperatura\"] = rango_temperatura(exp.param[\"t max\"][0])\n",
    "    holder['temp'] = exp.param['t max'][0]\n",
    "\n",
    "    listavelocidades.append(holder)"
   ]
  },
  {
   "cell_type": "code",
   "execution_count": 56,
   "metadata": {
    "collapsed": false
   },
   "outputs": [
    {
     "name": "stdout",
     "output_type": "stream",
     "text": [
      "[{'nombre': '5cc50C', 'angulo': 15, 'v2': 8.0799999999999999e-05, 'v1': 0.0012926999999999999, 't*': 342.733, 'rango temperatura': 4, 'L*': 0.45000000000000001, 'caudal': 5.0000000000000004e-06, 'temp': 50}, {'nombre': '1cc54C', 'angulo': 15, 'v2': 0.0, 'v1': 0.00026049999999999999, 't*': 1708.9670000000001, 'rango temperatura': 4, 'L*': 0.41699999999999998, 'caudal': 9.9999999999999995e-07, 'temp': 54}, {'nombre': '25cc54C', 'angulo': 15, 'v2': 5.8199999999999998e-05, 'v1': 0.0044526000000000001, 't*': 78.966999999999999, 'rango temperatura': 4, 'L*': 0.34999999999999998, 'caudal': 2.5000000000000001e-05, 'temp': 54}, {'nombre': '10cc60C', 'angulo': 15, 'v2': 0.00021100000000000001, 'v1': 0.0028617, 't*': 152.86699999999999, 'rango temperatura': 6, 'L*': 0.432, 'caudal': 1.0000000000000001e-05, 'temp': 60}, {'nombre': '25cc60C', 'angulo': 15, 'v2': 3.8300000000000003e-05, 'v1': 0.0048983000000000004, 't*': 88.233000000000004, 'rango temperatura': 6, 'L*': 0.379, 'caudal': 2.5000000000000001e-05, 'temp': 60}, {'nombre': '1cc59C', 'angulo': 10, 'v2': 0.0, 'v1': 0.00017320000000000001, 't*': 1712.2329999999999, 'rango temperatura': 5, 'L*': 0.27800000000000002, 'caudal': 9.9999999999999995e-07, 'temp': 58.899999999999999}, {'nombre': '1cc47C', 'angulo': 10, 'v2': 0.0, 'v1': 0.00019900000000000001, 't*': 1609.5999999999999, 'rango temperatura': 3, 'L*': 0.33800000000000002, 'caudal': 9.9999999999999995e-07, 'temp': 46.700000000000003}, {'nombre': '1cc55C', 'angulo': 10, 'v2': 6.5900000000000003e-05, 'v1': 0.00025149999999999999, 't*': 1268.933, 'rango temperatura': 4, 'L*': 0.33800000000000002, 'caudal': 9.9999999999999995e-07, 'temp': 54.399999999999999}, {'nombre': '25cc58C', 'angulo': 10, 'v2': 5.27e-05, 'v1': 0.0046192000000000004, 't*': 77.266999999999996, 'rango temperatura': 5, 'L*': 0.34999999999999998, 'caudal': 2.5000000000000001e-05, 'temp': 58}, {'nombre': '25cc70C', 'angulo': 10, 'v2': 0.00010959999999999999, 'v1': 0.0045732000000000004, 't*': 74.167000000000002, 'rango temperatura': 7, 'L*': 0.35999999999999999, 'caudal': 2.5000000000000001e-05, 'temp': 69.700000000000003}, {'nombre': '10cc67C', 'angulo': 10, 'v2': 4.9400000000000001e-05, 'v1': 0.0019101000000000001, 't*': 173.5, 'rango temperatura': 7, 'L*': 0.314, 'caudal': 1.0000000000000001e-05, 'temp': 66.599999999999994}, {'nombre': '10cc59C', 'angulo': 10, 'v2': 5.9599999999999999e-05, 'v1': 0.0017967, 't*': 146.40000000000001, 'rango temperatura': 5, 'L*': 0.26600000000000001, 'caudal': 1.0000000000000001e-05, 'temp': 59.899999999999999}, {'nombre': '5cc63C', 'angulo': 10, 'v2': 5.3100000000000003e-05, 'v1': 0.00095299999999999996, 't*': 293.83300000000003, 'rango temperatura': 6, 'L*': 0.28999999999999998, 'caudal': 5.0000000000000004e-06, 'temp': 63.100000000000001}, {'nombre': '5cc59C', 'angulo': 10, 'v2': 3.29e-05, 'v1': 0.0010866999999999999, 't*': 375.33300000000003, 'rango temperatura': 5, 'L*': 0.33500000000000002, 'caudal': 5.0000000000000004e-06, 'temp': 58.600000000000001}, {'nombre': '10cc49C', 'angulo': 10, 'v2': 5.9700000000000001e-05, 'v1': 0.0019001000000000001, 't*': 179.333, 'rango temperatura': 3, 'L*': 0.318, 'caudal': 1.0000000000000001e-05, 'temp': 49.600000000000001}, {'nombre': '25cc62C', 'angulo': 10, 'v2': 0.00043300000000000001, 'v1': 0.0043245999999999996, 't*': 95.700000000000003, 'rango temperatura': 6, 'L*': 0.36699999999999999, 'caudal': 2.5000000000000001e-05, 'temp': 62.100000000000001}, {'nombre': '1cc62C', 'angulo': 10, 'v2': 0.0, 'v1': 0.00023169999999999999, 't*': 1597.2, 'rango temperatura': 6, 'L*': 0.036999999999999998, 'caudal': 9.9999999999999995e-07, 'temp': 61.600000000000001}, {'nombre': '5cc53C', 'angulo': 10.199999999999999, 'v2': 6.2700000000000006e-05, 'v1': 0.00088619999999999997, 't*': 293.10000000000002, 'rango temperatura': 4, 'L*': 0.27100000000000002, 'caudal': 5.0000000000000004e-06, 'temp': 53.100000000000001}, {'nombre': '5a25cc56C', 'angulo': 10, 'v2': 6.6400000000000001e-05, 'v1': 0.0012685999999999999, 't*': 207.56700000000001, 'rango temperatura': 5, 'L*': 0.28799999999999998, 'caudal': 1.7e-05, 'temp': 55.799999999999997}, {'nombre': '5cc57C', 'angulo': 10.1, 'v2': 6.5300000000000002e-05, 'v1': 0.00098079999999999999, 't*': 291.267, 'rango temperatura': 5, 'L*': 0.29399999999999998, 'caudal': 5.0000000000000004e-06, 'temp': 56.899999999999999}, {'nombre': '25cc50C', 'angulo': 10, 'v2': 5.3399999999999997e-05, 'v1': 0.0027493000000000001, 't*': 83.132999999999996, 'rango temperatura': 4, 'L*': 0.23999999999999999, 'caudal': 2.5000000000000001e-05, 'temp': 50.399999999999999}, {'nombre': '10cc55C', 'angulo': 10.6, 'v2': 1.7999999999999999e-06, 'v1': 0.0020715999999999998, 't*': 157.96700000000001, 'rango temperatura': 5, 'L*': 0.34999999999999998, 'caudal': 1.0000000000000001e-05, 'temp': 55}, {'nombre': '1cc24C', 'angulo': 10.5, 'v2': 1.9e-06, 'v1': 0.000184, 't*': 1316.2670000000001, 'rango temperatura': 1, 'L*': 0.27300000000000002, 'caudal': 9.9999999999999995e-07, 'temp': 24.100000000000001}, {'nombre': '10cc57C', 'angulo': 10.300000000000001, 'v2': 4.5000000000000001e-06, 'v1': 0.0022821999999999999, 't*': 133.417, 'rango temperatura': 5, 'L*': 0.32000000000000001, 'caudal': 1.0000000000000001e-05, 'temp': 57}, {'nombre': '10cc24C', 'angulo': 10.5, 'v2': 8.9999999999999996e-07, 'v1': 0.0015005999999999999, 't*': 1056.5, 'rango temperatura': 1, 'L*': 0.28899999999999998, 'caudal': 1.0000000000000001e-05, 'temp': 23.800000000000001}, {'nombre': '5cc55C', 'angulo': 10.199999999999999, 'v2': 2.7999999999999999e-06, 'v1': 0.0015941, 't*': 360.16699999999997, 'rango temperatura': 5, 'L*': 0.318, 'caudal': 5.0000000000000004e-06, 'temp': 55.100000000000001}, {'nombre': '5cc58C', 'angulo': 10.199999999999999, 'v2': 3.0000000000000001e-06, 'v1': 0.0011171, 't*': 369.36700000000002, 'rango temperatura': 5, 'L*': 0.38, 'caudal': 5.0000000000000004e-06, 'temp': 58}, {'nombre': '1cc48C', 'angulo': 10.5, 'v2': 0.0, 'v1': 0.0, 't*': 0.0, 'rango temperatura': 3, 'L*': 0.0, 'caudal': 9.9999999999999995e-07, 'temp': 47.5}, {'nombre': '1cc51C', 'angulo': 10.4, 'v2': 4.9999999999999998e-07, 'v1': 0.00034850000000000001, 't*': 2786.4000000000001, 'rango temperatura': 4, 'L*': 0.34799999999999998, 'caudal': 9.9999999999999995e-07, 'temp': 51}, {'nombre': '5cc48C', 'angulo': 10.5, 'v2': 1.3e-06, 'v1': 0.00082299999999999995, 't*': 291.5, 'rango temperatura': 3, 'L*': 0.318, 'caudal': 5.0000000000000004e-06, 'temp': 48}, {'nombre': '10cc50C', 'angulo': 10.5, 'v2': 9.9999999999999995e-08, 'v1': 0.0039865999999999999, 't*': 182.0, 'rango temperatura': 4, 'L*': 0.314, 'caudal': 1.0000000000000001e-05, 'temp': 50.200000000000003}, {'nombre': '1cc54,7C', 'angulo': 10.4, 'v2': 1.9999999999999999e-06, 'v1': 0.0002219, 't*': 1231.9670000000001, 'rango temperatura': 4, 'L*': 0.28000000000000003, 'caudal': 9.9999999999999995e-07, 'temp': 54.700000000000003}, {'nombre': '1cc52C', 'angulo': 10.199999999999999, 'temp': 52, 'caudal': 9.9999999999999995e-07, 'rango temperatura': 4}]\n"
     ]
    }
   ],
   "source": [
    "print(listavelocidades)"
   ]
  },
  {
   "cell_type": "code",
   "execution_count": null,
   "metadata": {
    "collapsed": true
   },
   "outputs": [],
   "source": []
  },
  {
   "cell_type": "code",
   "execution_count": 9,
   "metadata": {
    "collapsed": false
   },
   "outputs": [
    {
     "name": "stdout",
     "output_type": "stream",
     "text": [
      "['pat1', 'pat2', 'pat3', 'pat4', 'pat5', 'pat6', 'pat7']\n"
     ]
    }
   ],
   "source": [
    "#GENERA PATCHES DE COLORES SEGUN TEMPERATURA\n",
    "import matplotlib.patches as mpatches\n",
    "\n",
    "pat1 = mpatches.Patch(color='C1', label='temp < 40')\n",
    "pat2 = mpatches.Patch(color='C2', label='temp < 45')\n",
    "pat3 = mpatches.Patch(color='C3', label='temp < 50')\n",
    "pat4 = mpatches.Patch(color='C4', label='temp < 55')\n",
    "pat5 = mpatches.Patch(color='C5', label='temp < 60')\n",
    "pat6 = mpatches.Patch(color='C6', label='temp < 65')\n",
    "pat7 = mpatches.Patch(color='C7', label='temp < 70')\n",
    "\n",
    "numerocolores = 7\n",
    "colors = ['pat{}'.format(i+1) for i in range(numerocolores)]\n",
    "\n",
    "print(colors)"
   ]
  },
  {
   "cell_type": "code",
   "execution_count": 11,
   "metadata": {
    "collapsed": false
   },
   "outputs": [
    {
     "name": "stdout",
     "output_type": "stream",
     "text": [
      "1e-06\n",
      "5e-06\n",
      "1e-05\n",
      "1.7e-05\n",
      "2.5e-05\n"
     ]
    }
   ],
   "source": [
    "#se arman GRUPOS SEGUN CAUDAL\n",
    "from itertools import groupby\n",
    "count = 0\n",
    "\n",
    "#key es la lista donde estan los diccionarios de exp y DF\n",
    "#group es que se agrupa segun el valor de 'caudal' en este caso\n",
    "\n",
    "for key, group in groupby(sorted(listavelocidades, key=lambda x: x['caudal']), key=lambda x: x['caudal']):\n",
    "    print(key)\n",
    "    count += 1\n",
    "    #for exp in group:\n",
    "        #muestra el nombre del grupo y los elementos que tiene\n",
    "        #print(exp['nombre'])"
   ]
  },
  {
   "cell_type": "code",
   "execution_count": 17,
   "metadata": {
    "collapsed": false,
    "scrolled": false
   },
   "outputs": [
    {
     "name": "stdout",
     "output_type": "stream",
     "text": [
      "1e-06\n",
      "5e-06\n",
      "1e-05\n",
      "1.7e-05\n",
      "2.5e-05\n"
     ]
    }
   ],
   "source": [
    "#LISTO!!!\n",
    "#1 GRAFICO SCATTER DE ESPESOR VS ANCHO AGRUPADOS POR CAUDAL Y COLOREADOS X TEMPERATURA\n",
    "fig, ax = plt.subplots()\n",
    "counter = 0\n",
    "marqer = ['o', 'v', '^', '<', '>']\n",
    "plotmarqer = []\n",
    "\n",
    "from matplotlib import markers\n",
    "\n",
    "contadorkey = 0\n",
    "\n",
    "for key, group in groupby(sorted(listavelocidades, key=lambda x: x['caudal']), \n",
    "                          key=lambda x: x['caudal']):\n",
    "    print(key)\n",
    "    #ax.set_xlim(minimoejeancho-0.02, maximoejeancho+0.02)\n",
    "    #ax.set_ylim(maximoejeespesor-0.02, maximoejeespesor+0.001)\n",
    "    markadorkey = marqer[contadorkey]\n",
    "    contadorkey += 1\n",
    "    \n",
    "    for i, exp in enumerate(group):\n",
    "        if exp['t*'] == 0:\n",
    "            continue\n",
    "        if exp['angulo'] == 15:\n",
    "           l = ax.plot(exp['t*'], exp['L*'], color='black', \n",
    "                           marker=markadorkey)\n",
    "           #l.set_markeredgecolor('Black')\n",
    "        else: \n",
    "            l = ax.plot(exp['t*'], exp['L*'], color='C{}'.format(exp['rango temperatura']), \n",
    "                           marker=markadorkey)\n",
    "        #if i == 0:\n",
    "        \n",
    "        #plotmarqer.append(ax.scatter([], [], color='black', marker=markadorkey, label=exp['caudal']))\n",
    "\n",
    "\n",
    "legendcolors2 = [pat1, pat2, pat3, pat4, pat5, pat6, pat7]\n",
    "\n",
    "legend1 = plt.legend(handles=plotmarqer, loc= 0)\n",
    "plt.legend(handles=legendcolors2, bbox_to_anchor=(1, 0.35))\n",
    "plt.gca().add_artist(legend1)\n",
    "plt.show()"
   ]
  },
  {
   "cell_type": "code",
   "execution_count": null,
   "metadata": {
    "collapsed": true
   },
   "outputs": [],
   "source": []
  }
 ],
 "metadata": {
  "anaconda-cloud": {},
  "kernelspec": {
   "display_name": "Python [conda root]",
   "language": "python",
   "name": "conda-root-py"
  },
  "language_info": {
   "codemirror_mode": {
    "name": "ipython",
    "version": 3
   },
   "file_extension": ".py",
   "mimetype": "text/x-python",
   "name": "python",
   "nbconvert_exporter": "python",
   "pygments_lexer": "ipython3",
   "version": "3.5.2"
  }
 },
 "nbformat": 4,
 "nbformat_minor": 1
}
