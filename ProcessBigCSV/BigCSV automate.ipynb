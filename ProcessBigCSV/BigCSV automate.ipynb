{
 "cells": [
  {
   "cell_type": "code",
   "execution_count": 1,
   "metadata": {
    "collapsed": true
   },
   "outputs": [],
   "source": [
    "import csv\n",
    "\n",
    "import pandas as pd\n",
    "import numpy as np\n",
    "\n",
    "import argparse"
   ]
  },
  {
   "cell_type": "code",
   "execution_count": 2,
   "metadata": {
    "collapsed": false
   },
   "outputs": [],
   "source": [
    "file = pd.read_csv('FLIR.csv', sep=';')"
   ]
  },
  {
   "cell_type": "code",
   "execution_count": 3,
   "metadata": {
    "collapsed": false
   },
   "outputs": [
    {
     "data": {
      "text/html": [
       "<div>\n",
       "<table border=\"1\" class=\"dataframe\">\n",
       "  <thead>\n",
       "    <tr style=\"text-align: right;\">\n",
       "      <th></th>\n",
       "      <th>path</th>\n",
       "      <th>nombre</th>\n",
       "      <th>temp</th>\n",
       "      <th>csv listo</th>\n",
       "      <th>csv procesado</th>\n",
       "      <th>min</th>\n",
       "      <th>max</th>\n",
       "      <th>inicial</th>\n",
       "      <th>final</th>\n",
       "      <th>rangos +1</th>\n",
       "    </tr>\n",
       "  </thead>\n",
       "  <tbody>\n",
       "    <tr>\n",
       "      <th>0</th>\n",
       "      <td>C:\\Users\\CCVV\\Desktop\\10cc55C.csv</td>\n",
       "      <td>10cc55C - flir.csv</td>\n",
       "      <td>54,4</td>\n",
       "      <td>x</td>\n",
       "      <td>NaN</td>\n",
       "      <td>25</td>\n",
       "      <td>58</td>\n",
       "      <td>68</td>\n",
       "      <td>2800</td>\n",
       "      <td>10</td>\n",
       "    </tr>\n",
       "    <tr>\n",
       "      <th>1</th>\n",
       "      <td>C:\\Users\\CCVV\\Desktop\\1cc48C.csv</td>\n",
       "      <td>1cc48C - flir.csv</td>\n",
       "      <td>58</td>\n",
       "      <td>x</td>\n",
       "      <td>NaN</td>\n",
       "      <td>26</td>\n",
       "      <td>48</td>\n",
       "      <td>19</td>\n",
       "      <td>2100</td>\n",
       "      <td>10</td>\n",
       "    </tr>\n",
       "    <tr>\n",
       "      <th>2</th>\n",
       "      <td>C:\\Users\\CCVV\\Desktop\\1cc51C.csv</td>\n",
       "      <td>1cc51C - flir.csv</td>\n",
       "      <td>59,9</td>\n",
       "      <td>x</td>\n",
       "      <td>NaN</td>\n",
       "      <td>26,5</td>\n",
       "      <td>51</td>\n",
       "      <td>32</td>\n",
       "      <td>1800</td>\n",
       "      <td>10</td>\n",
       "    </tr>\n",
       "    <tr>\n",
       "      <th>3</th>\n",
       "      <td>C:\\Users\\CCVV\\Desktop\\1cc55C.csv</td>\n",
       "      <td>1cc55C - flir.csv</td>\n",
       "      <td>58,6</td>\n",
       "      <td>x</td>\n",
       "      <td>NaN</td>\n",
       "      <td>27,5</td>\n",
       "      <td>54</td>\n",
       "      <td>82</td>\n",
       "      <td>2200</td>\n",
       "      <td>10</td>\n",
       "    </tr>\n",
       "    <tr>\n",
       "      <th>4</th>\n",
       "      <td>C:\\Users\\CCVV\\Desktop\\5cc58C.csv</td>\n",
       "      <td>5cc58C - flir.csv</td>\n",
       "      <td>49,6</td>\n",
       "      <td>x</td>\n",
       "      <td>NaN</td>\n",
       "      <td>24</td>\n",
       "      <td>61</td>\n",
       "      <td>51</td>\n",
       "      <td>3200</td>\n",
       "      <td>10</td>\n",
       "    </tr>\n",
       "  </tbody>\n",
       "</table>\n",
       "</div>"
      ],
      "text/plain": [
       "                                path              nombre  temp csv listo  \\\n",
       "0  C:\\Users\\CCVV\\Desktop\\10cc55C.csv  10cc55C - flir.csv  54,4         x   \n",
       "1   C:\\Users\\CCVV\\Desktop\\1cc48C.csv   1cc48C - flir.csv    58         x   \n",
       "2   C:\\Users\\CCVV\\Desktop\\1cc51C.csv   1cc51C - flir.csv  59,9         x   \n",
       "3   C:\\Users\\CCVV\\Desktop\\1cc55C.csv   1cc55C - flir.csv  58,6         x   \n",
       "4   C:\\Users\\CCVV\\Desktop\\5cc58C.csv   5cc58C - flir.csv  49,6         x   \n",
       "\n",
       "   csv procesado   min  max  inicial  final  rangos +1  \n",
       "0            NaN    25   58       68   2800         10  \n",
       "1            NaN    26   48       19   2100         10  \n",
       "2            NaN  26,5   51       32   1800         10  \n",
       "3            NaN  27,5   54       82   2200         10  \n",
       "4            NaN    24   61       51   3200         10  "
      ]
     },
     "execution_count": 3,
     "metadata": {},
     "output_type": "execute_result"
    }
   ],
   "source": [
    "file.head()"
   ]
  },
  {
   "cell_type": "code",
   "execution_count": 4,
   "metadata": {
    "collapsed": false
   },
   "outputs": [
    {
     "data": {
      "text/plain": [
       "0    54,4\n",
       "1      58\n",
       "2    59,9\n",
       "3    58,6\n",
       "4    49,6\n",
       "5    53,1\n",
       "Name: temp, dtype: object"
      ]
     },
     "execution_count": 4,
     "metadata": {},
     "output_type": "execute_result"
    }
   ],
   "source": [
    "file['temp']"
   ]
  },
  {
   "cell_type": "code",
   "execution_count": 5,
   "metadata": {
    "collapsed": false
   },
   "outputs": [
    {
     "name": "stdout",
     "output_type": "stream",
     "text": [
      "(0, path             C:\\Users\\CCVV\\Desktop\\10cc55C.csv\n",
      "nombre                          10cc55C - flir.csv\n",
      "temp                                          54,4\n",
      "csv listo                                        x\n",
      "csv procesado                                  NaN\n",
      "min                                             25\n",
      "max                                             58\n",
      "inicial                                         68\n",
      "final                                         2800\n",
      "rangos +1                                       10\n",
      "Name: 0, dtype: object)\n",
      "(1, path             C:\\Users\\CCVV\\Desktop\\1cc48C.csv\n",
      "nombre                          1cc48C - flir.csv\n",
      "temp                                           58\n",
      "csv listo                                       x\n",
      "csv procesado                                 NaN\n",
      "min                                            26\n",
      "max                                            48\n",
      "inicial                                        19\n",
      "final                                        2100\n",
      "rangos +1                                      10\n",
      "Name: 1, dtype: object)\n",
      "(2, path             C:\\Users\\CCVV\\Desktop\\1cc51C.csv\n",
      "nombre                          1cc51C - flir.csv\n",
      "temp                                         59,9\n",
      "csv listo                                       x\n",
      "csv procesado                                 NaN\n",
      "min                                          26,5\n",
      "max                                            51\n",
      "inicial                                        32\n",
      "final                                        1800\n",
      "rangos +1                                      10\n",
      "Name: 2, dtype: object)\n",
      "(3, path             C:\\Users\\CCVV\\Desktop\\1cc55C.csv\n",
      "nombre                          1cc55C - flir.csv\n",
      "temp                                         58,6\n",
      "csv listo                                       x\n",
      "csv procesado                                 NaN\n",
      "min                                          27,5\n",
      "max                                            54\n",
      "inicial                                        82\n",
      "final                                        2200\n",
      "rangos +1                                      10\n",
      "Name: 3, dtype: object)\n",
      "(4, path             C:\\Users\\CCVV\\Desktop\\5cc58C.csv\n",
      "nombre                          5cc58C - flir.csv\n",
      "temp                                         49,6\n",
      "csv listo                                       x\n",
      "csv procesado                                 NaN\n",
      "min                                            24\n",
      "max                                            61\n",
      "inicial                                        51\n",
      "final                                        3200\n",
      "rangos +1                                      10\n",
      "Name: 4, dtype: object)\n",
      "(5, path             C:\\Users\\CCVV\\Desktop\\10cc49C.csv\n",
      "nombre                          10cc49C - flir.csv\n",
      "temp                                          53,1\n",
      "csv listo                                        x\n",
      "csv procesado                                  NaN\n",
      "min                                           28,6\n",
      "max                                             49\n",
      "inicial                                         21\n",
      "final                                         1600\n",
      "rangos +1                                       10\n",
      "Name: 5, dtype: object)\n"
     ]
    }
   ],
   "source": [
    "for i in file.iterrows():\n",
    "    print(i)"
   ]
  },
  {
   "cell_type": "code",
   "execution_count": 6,
   "metadata": {
    "collapsed": false
   },
   "outputs": [],
   "source": [
    "def processFrame(df, enddata, highLimit, lowLimit, rangosdetemp):\n",
    "    frameData = []\n",
    "    maxarea = 220000\n",
    "    if df.mean().mean() < lowLimit:\n",
    "        return\n",
    "    elif df.mean().mean() > highLimit:\n",
    "        return\n",
    "    else:\n",
    "        p100 = sum(df[df>=minimum].count())\n",
    "        if p100 < maxarea:\n",
    "            frameData.append(p100)\n",
    "            for a, b in zip(rangosdetemp, rangosdetemp[1:]):\n",
    "                frameData.append(sum(df[df>=a][df<b].count()) / p100)\n",
    "            print(frameData)\n",
    "            enddata.append(frameData)"
   ]
  },
  {
   "cell_type": "code",
   "execution_count": 7,
   "metadata": {
    "collapsed": false
   },
   "outputs": [],
   "source": [
    "def useFile(camino, salida, start, finish, highLimit, lowLimit, rangosdetemp):\n",
    "    data = []\n",
    "    with open(camino) as f:\n",
    "        reader = csv.reader(f, delimiter=';')\n",
    "\n",
    "        for x in range(finish):\n",
    "            print('Frame {}'.format(x))\n",
    "            frame = []\n",
    "            for _ in range(480):\n",
    "                frame.append(next(reader))\n",
    "            if x < start:\n",
    "                continue\n",
    "            df = pd.DataFrame(frame)\n",
    "            df = df.applymap(lambda x: int(float(x.replace(',','.'))))\n",
    "            processFrame(df, data, highLimit, lowLimit, rangosdetemp)\n",
    "            \n",
    "            \n",
    "    newDF = pd.DataFrame(data)\n",
    "    newDF.to_csv(salida)"
   ]
  },
  {
   "cell_type": "code",
   "execution_count": 40,
   "metadata": {
    "collapsed": false
   },
   "outputs": [
    {
     "name": "stdout",
     "output_type": "stream",
     "text": [
      "(0, path             C:\\Users\\CCVV\\Desktop\\10cc55C.csv\n",
      "nombre                          10cc55C - flir.csv\n",
      "temp                                          54,4\n",
      "csv listo                                        x\n",
      "csv procesado                                  NaN\n",
      "min                                             25\n",
      "max                                             58\n",
      "inicial                                         68\n",
      "final                                         2800\n",
      "rangos +1                                       10\n",
      "Name: 0, dtype: object)\n"
     ]
    },
    {
     "ename": "AttributeError",
     "evalue": "'int' object has no attribute 'replace'",
     "output_type": "error",
     "traceback": [
      "\u001b[0;31m---------------------------------------------------------------------------\u001b[0m",
      "\u001b[0;31mAttributeError\u001b[0m                            Traceback (most recent call last)",
      "\u001b[0;32m<ipython-input-40-7d8e4227d212>\u001b[0m in \u001b[0;36m<module>\u001b[0;34m()\u001b[0m\n\u001b[1;32m      2\u001b[0m     \u001b[0mprint\u001b[0m\u001b[1;33m(\u001b[0m\u001b[0mrow\u001b[0m\u001b[1;33m)\u001b[0m\u001b[1;33m\u001b[0m\u001b[0m\n\u001b[1;32m      3\u001b[0m     \u001b[0mminimum\u001b[0m \u001b[1;33m=\u001b[0m \u001b[0mfloat\u001b[0m\u001b[1;33m(\u001b[0m\u001b[0mrow\u001b[0m\u001b[1;33m[\u001b[0m\u001b[1;36m1\u001b[0m\u001b[1;33m]\u001b[0m\u001b[1;33m[\u001b[0m\u001b[1;34m'min'\u001b[0m\u001b[1;33m]\u001b[0m\u001b[1;33m.\u001b[0m\u001b[0mreplace\u001b[0m\u001b[1;33m(\u001b[0m\u001b[1;34m','\u001b[0m\u001b[1;33m,\u001b[0m\u001b[1;34m'.'\u001b[0m\u001b[1;33m)\u001b[0m\u001b[1;33m)\u001b[0m\u001b[1;33m\u001b[0m\u001b[0m\n\u001b[0;32m----> 4\u001b[0;31m     \u001b[0mmaximum\u001b[0m \u001b[1;33m=\u001b[0m \u001b[0mfloat\u001b[0m\u001b[1;33m(\u001b[0m\u001b[0mrow\u001b[0m\u001b[1;33m[\u001b[0m\u001b[1;36m1\u001b[0m\u001b[1;33m]\u001b[0m\u001b[1;33m[\u001b[0m\u001b[1;34m'max'\u001b[0m\u001b[1;33m]\u001b[0m\u001b[1;33m.\u001b[0m\u001b[0mreplace\u001b[0m\u001b[1;33m(\u001b[0m\u001b[1;34m','\u001b[0m\u001b[1;33m,\u001b[0m\u001b[1;34m'.'\u001b[0m\u001b[1;33m)\u001b[0m\u001b[1;33m)\u001b[0m\u001b[1;33m\u001b[0m\u001b[0m\n\u001b[0m\u001b[1;32m      5\u001b[0m     \u001b[0mlowLimit\u001b[0m \u001b[1;33m=\u001b[0m \u001b[1;36m20\u001b[0m\u001b[1;33m\u001b[0m\u001b[0m\n\u001b[1;32m      6\u001b[0m     \u001b[0mhighLimit\u001b[0m \u001b[1;33m=\u001b[0m \u001b[1;36m70\u001b[0m\u001b[1;33m\u001b[0m\u001b[0m\n",
      "\u001b[0;31mAttributeError\u001b[0m: 'int' object has no attribute 'replace'"
     ]
    }
   ],
   "source": [
    "for row in file.iterrows():\n",
    "    print(row)\n",
    "    minimum = float(row[1]['min'].replace(',','.'))\n",
    "    maximum = float(row[1]['max'].replace(',','.'))\n",
    "    lowLimit = 20\n",
    "    highLimit = 70\n",
    "    start = row[1]['inicial']\n",
    "    rangosdetemp = list(np.linspace(minimum, maximum, num=10))\n",
    "    finish = row[1]['final']\n",
    "    useFile(row[1]['path'], row[1]['nombre'], start, \n",
    "            finish, highLimit, lowLimit, rangosdetemp)\n",
    "    break"
   ]
  },
  {
   "cell_type": "code",
   "execution_count": 56,
   "metadata": {
    "collapsed": false,
    "scrolled": false
   },
   "outputs": [],
   "source": [
    "\n",
    "def returnValues(temperature):\n",
    "    n = 0.0046 * temperature + 0.1449\n",
    "    k = -3.8484 * temperature + 255.16\n",
    "    tau = -1.0362 * temperature + 84.246\n",
    "\n",
    "    return (n, k, tau)\n",
    "\n"
   ]
  }
 ],
 "metadata": {
  "anaconda-cloud": {},
  "kernelspec": {
   "display_name": "Python [conda root]",
   "language": "python",
   "name": "conda-root-py"
  },
  "language_info": {
   "codemirror_mode": {
    "name": "ipython",
    "version": 3
   },
   "file_extension": ".py",
   "mimetype": "text/x-python",
   "name": "python",
   "nbconvert_exporter": "python",
   "pygments_lexer": "ipython3",
   "version": "3.5.2"
  }
 },
 "nbformat": 4,
 "nbformat_minor": 1
}
