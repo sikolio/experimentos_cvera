{
 "cells": [
  {
   "cell_type": "code",
   "execution_count": 1,
   "metadata": {
    "collapsed": false
   },
   "outputs": [
    {
     "name": "stdout",
     "output_type": "stream",
     "text": [
      "Using matplotlib backend: Qt5Agg\n"
     ]
    }
   ],
   "source": [
    "import pandas as pd\n",
    "import os\n",
    "import csv\n",
    "import numpy as np\n",
    "from scipy import stats\n",
    "from matplotlib import pyplot as plt\n",
    "%matplotlib\n",
    "import matplotlib.lines as mlines\n",
    "from scipy.optimize import curve_fit\n",
    "import matplotlib.pyplot as plt"
   ]
  },
  {
   "cell_type": "code",
   "execution_count": 2,
   "metadata": {
    "collapsed": true
   },
   "outputs": [
    {
     "name": "stdout",
     "output_type": "stream",
     "text": [
      "[Errno 2] No such file or directory: '.\\\\Data\\\\5cc50C - flir.csv'\n",
      "[Errno 2] No such file or directory: '.\\\\Data\\\\5cc50C - flir.csv'\n",
      "[Errno 2] No such file or directory: '.\\\\Data\\\\5cc50C - max av.csv'\n",
      "[Errno 2] No such file or directory: '.\\\\Data\\\\5cc50C - fspot.csv'\n",
      "[Errno 2] No such file or directory: '.\\\\Data\\\\5cc50C - max av cup.csv'\n",
      "[Errno 2] No such file or directory: '.\\\\Data\\\\1cc54C - flir.csv'\n",
      "[Errno 2] No such file or directory: '.\\\\Data\\\\1cc54C - flir.csv'\n",
      "[Errno 2] No such file or directory: '.\\\\Data\\\\1cc54C - max av.csv'\n",
      "[Errno 2] No such file or directory: '.\\\\Data\\\\1cc54C - fspot.csv'\n",
      "[Errno 2] No such file or directory: '.\\\\Data\\\\1cc54C - max av cup.csv'\n",
      "[Errno 2] No such file or directory: '.\\\\Data\\\\25cc54C - flir.csv'\n",
      "[Errno 2] No such file or directory: '.\\\\Data\\\\25cc54C - flir.csv'\n",
      "[Errno 2] No such file or directory: '.\\\\Data\\\\25cc54C - max av.csv'\n",
      "[Errno 2] No such file or directory: '.\\\\Data\\\\25cc54C - fspot.csv'\n",
      "[Errno 2] No such file or directory: '.\\\\Data\\\\25cc54C - max av cup.csv'\n",
      "[Errno 2] No such file or directory: '.\\\\Data\\\\10cc60C - flir.csv'\n",
      "[Errno 2] No such file or directory: '.\\\\Data\\\\10cc60C - flir.csv'\n",
      "[Errno 2] No such file or directory: '.\\\\Data\\\\10cc60C - max av.csv'\n",
      "[Errno 2] No such file or directory: '.\\\\Data\\\\10cc60C - fspot.csv'\n",
      "[Errno 2] No such file or directory: '.\\\\Data\\\\10cc60C - max av cup.csv'\n",
      "[Errno 2] No such file or directory: '.\\\\Data\\\\25cc60C - flir.csv'\n",
      "[Errno 2] No such file or directory: '.\\\\Data\\\\25cc60C - flir.csv'\n",
      "[Errno 2] No such file or directory: '.\\\\Data\\\\25cc60C - max av.csv'\n",
      "[Errno 2] No such file or directory: '.\\\\Data\\\\25cc60C - fspot.csv'\n",
      "[Errno 2] No such file or directory: '.\\\\Data\\\\25cc60C - max av cup.csv'\n",
      "[Errno 2] No such file or directory: '.\\\\Data\\\\1cc59C - flir.csv'\n",
      "[Errno 2] No such file or directory: '.\\\\Data\\\\1cc59C - flir.csv'\n",
      "'sp1'\n",
      "[Errno 2] No such file or directory: '.\\\\Data\\\\1cc59C - fspot.csv'\n",
      "[Errno 2] No such file or directory: '.\\\\Data\\\\1cc59C - max av cup.csv'\n",
      "'max'\n",
      "[Errno 2] No such file or directory: '.\\\\Data\\\\1cc47C - max av.csv'\n",
      "[Errno 2] No such file or directory: '.\\\\Data\\\\1cc47C - fspot.csv'\n",
      "'frente'\n",
      "'max'\n",
      "[Errno 2] No such file or directory: '.\\\\Data\\\\1cc55C - max av.csv'\n",
      "[Errno 2] No such file or directory: '.\\\\Data\\\\1cc55C - fspot.csv'\n",
      "'frente'\n",
      "'max'\n",
      "[Errno 2] No such file or directory: '.\\\\Data\\\\25cc58C - max av.csv'\n",
      "[Errno 2] No such file or directory: '.\\\\Data\\\\25cc58C - fspot.csv'\n",
      "'frente'\n",
      "'max'\n",
      "[Errno 2] No such file or directory: '.\\\\Data\\\\25cc70C - max av.csv'\n",
      "[Errno 2] No such file or directory: '.\\\\Data\\\\25cc70C - fspot.csv'\n",
      "'frente'\n",
      "'max'\n",
      "[Errno 2] No such file or directory: '.\\\\Data\\\\10cc67C - max av.csv'\n",
      "[Errno 2] No such file or directory: '.\\\\Data\\\\10cc67C - fspot.csv'\n",
      "'frente'\n",
      "'max'\n",
      "[Errno 2] No such file or directory: '.\\\\Data\\\\10cc59C - max av.csv'\n",
      "[Errno 2] No such file or directory: '.\\\\Data\\\\10cc59C - fspot.csv'\n",
      "'frente'\n",
      "[Errno 2] No such file or directory: '.\\\\Data\\\\5cc63C - flir.csv'\n",
      "[Errno 2] No such file or directory: '.\\\\Data\\\\5cc63C - flir.csv'\n",
      "[Errno 2] No such file or directory: '.\\\\Data\\\\5cc63C - max av.csv'\n",
      "[Errno 2] No such file or directory: '.\\\\Data\\\\5cc63C - fspot.csv'\n",
      "[Errno 2] No such file or directory: '.\\\\Data\\\\5cc63C - max av cup.csv'\n",
      "'max'\n",
      "[Errno 2] No such file or directory: '.\\\\Data\\\\5cc59C - max av.csv'\n",
      "[Errno 2] No such file or directory: '.\\\\Data\\\\5cc59C - fspot.csv'\n",
      "'frente'\n",
      "'max'\n",
      "[Errno 2] No such file or directory: '.\\\\Data\\\\10cc49C - max av.csv'\n",
      "[Errno 2] No such file or directory: '.\\\\Data\\\\10cc49C - fspot.csv'\n",
      "'frente'\n",
      "[Errno 2] No such file or directory: '.\\\\Data\\\\25cc62C - flir.csv'\n",
      "[Errno 2] No such file or directory: '.\\\\Data\\\\25cc62C - flir.csv'\n",
      "[Errno 2] No such file or directory: '.\\\\Data\\\\25cc62C - max av.csv'\n",
      "[Errno 2] No such file or directory: '.\\\\Data\\\\25cc62C - fspot.csv'\n",
      "[Errno 2] No such file or directory: '.\\\\Data\\\\25cc62C - max av cup.csv'\n",
      "[Errno 2] No such file or directory: '.\\\\Data\\\\1cc62C - flir.csv'\n",
      "[Errno 2] No such file or directory: '.\\\\Data\\\\1cc62C - flir.csv'\n",
      "[Errno 2] No such file or directory: '.\\\\Data\\\\1cc62C - max av.csv'\n",
      "[Errno 2] No such file or directory: '.\\\\Data\\\\1cc62C - fspot.csv'\n",
      "[Errno 2] No such file or directory: '.\\\\Data\\\\1cc62C - max av cup.csv'\n",
      "'max'\n",
      "[Errno 2] No such file or directory: '.\\\\Data\\\\5cc53C - max av.csv'\n",
      "[Errno 2] No such file or directory: '.\\\\Data\\\\5cc53C - fspot.csv'\n",
      "'frente'\n",
      "'max'\n",
      "[Errno 2] No such file or directory: '.\\\\Data\\\\5a25cc56C - max av.csv'\n",
      "[Errno 2] No such file or directory: '.\\\\Data\\\\5a25cc56C - fspot.csv'\n",
      "'frente'\n",
      "'max'\n",
      "'sp1'\n",
      "[Errno 2] No such file or directory: '.\\\\Data\\\\5cc57C - fspot.csv'\n",
      "[Errno 2] No such file or directory: '.\\\\Data\\\\5cc57C - max av cup.csv'\n",
      "'max'\n",
      "[Errno 2] No such file or directory: '.\\\\Data\\\\25cc50C - max av.csv'\n",
      "[Errno 2] No such file or directory: '.\\\\Data\\\\25cc50C - fspot.csv'\n",
      "'frente'\n",
      "'max'\n",
      "'sp1'\n",
      "[Errno 2] No such file or directory: '.\\\\Data\\\\10cc55C - fspot.csv'\n",
      "[Errno 2] No such file or directory: '.\\\\Data\\\\10cc55C - max av cup.csv'\n",
      "[Errno 2] No such file or directory: '.\\\\Data\\\\1cc24C - flir.csv'\n",
      "[Errno 2] No such file or directory: '.\\\\Data\\\\1cc24C - flir.csv'\n",
      "[Errno 2] No such file or directory: '.\\\\Data\\\\1cc24C - max av.csv'\n",
      "[Errno 2] No such file or directory: '.\\\\Data\\\\1cc24C - fspot.csv'\n",
      "[Errno 2] No such file or directory: '.\\\\Data\\\\1cc24C - max av cup.csv'\n",
      "'max'\n",
      "'sp1'\n",
      "[Errno 2] No such file or directory: '.\\\\Data\\\\10cc57C - fspot.csv'\n",
      "[Errno 2] No such file or directory: '.\\\\Data\\\\10cc57C - max av cup.csv'\n",
      "[Errno 2] No such file or directory: '.\\\\Data\\\\10cc24C - flir.csv'\n",
      "[Errno 2] No such file or directory: '.\\\\Data\\\\10cc24C - flir.csv'\n",
      "[Errno 2] No such file or directory: '.\\\\Data\\\\10cc24C - max av.csv'\n",
      "[Errno 2] No such file or directory: '.\\\\Data\\\\10cc24C - fspot.csv'\n",
      "[Errno 2] No such file or directory: '.\\\\Data\\\\10cc24C - max av cup.csv'\n",
      "'max'\n",
      "'sp1'\n",
      "[Errno 2] No such file or directory: '.\\\\Data\\\\5cc55C - fspot.csv'\n",
      "[Errno 2] No such file or directory: '.\\\\Data\\\\5cc55C - max av cup.csv'\n",
      "'max'\n",
      "'sp1'\n",
      "[Errno 2] No such file or directory: '.\\\\Data\\\\5cc58C - fspot.csv'\n",
      "[Errno 2] No such file or directory: '.\\\\Data\\\\5cc58C - max av cup.csv'\n",
      "'max'\n",
      "'sp1'\n",
      "[Errno 2] No such file or directory: '.\\\\Data\\\\1cc48C - fspot.csv'\n",
      "[Errno 2] No such file or directory: '.\\\\Data\\\\1cc48C - max av cup.csv'\n",
      "'max'\n",
      "'sp1'\n",
      "[Errno 2] No such file or directory: '.\\\\Data\\\\1cc51C - fspot.csv'\n",
      "[Errno 2] No such file or directory: '.\\\\Data\\\\1cc51C - max av cup.csv'\n",
      "'max'\n",
      "[Errno 2] No such file or directory: '.\\\\Data\\\\5cc48C - max av.csv'\n",
      "'max'\n",
      "[Errno 2] No such file or directory: '.\\\\Data\\\\5cc48C - max av cup.csv'\n",
      "'max'\n",
      "[Errno 2] No such file or directory: '.\\\\Data\\\\10cc50C - max av.csv'\n",
      "'max'\n",
      "[Errno 2] No such file or directory: '.\\\\Data\\\\10cc50C - max av cup.csv'\n",
      "'max'\n",
      "[Errno 2] No such file or directory: '.\\\\Data\\\\1cc54,7C - max av.csv'\n",
      "'max'\n",
      "[Errno 2] No such file or directory: '.\\\\Data\\\\1cc54,7C - max av cup.csv'\n",
      "'max'\n",
      "[Errno 2] No such file or directory: '.\\\\Data\\\\1cc52C - max av.csv'\n",
      "'max'\n",
      "[Errno 2] No such file or directory: '.\\\\Data\\\\1cc52C - max av cup.csv'\n"
     ]
    }
   ],
   "source": [
    "from Experimentos2 import Experimentos, labelLines"
   ]
  },
  {
   "cell_type": "code",
   "execution_count": 3,
   "metadata": {
    "collapsed": true
   },
   "outputs": [],
   "source": [
    "velos = pd.read_excel('Velocidades y punto.xlsx')\n",
    "PropTerm = pd.read_excel('PropiedadesTermicas.xlsx')"
   ]
  },
  {
   "cell_type": "code",
   "execution_count": 4,
   "metadata": {
    "collapsed": true
   },
   "outputs": [],
   "source": [
    "numeropixeles = 1020100\n",
    "rho_manjar = 1340\n",
    "kilos_manjar = 2"
   ]
  },
  {
   "cell_type": "code",
   "execution_count": 5,
   "metadata": {
    "collapsed": false
   },
   "outputs": [
    {
     "name": "stderr",
     "output_type": "stream",
     "text": [
      "C:\\Users\\CCVV\\Anaconda3b\\lib\\site-packages\\ipykernel\\__main__.py:10: SettingWithCopyWarning: \n",
      "A value is trying to be set on a copy of a slice from a DataFrame\n",
      "\n",
      "See the caveats in the documentation: http://pandas.pydata.org/pandas-docs/stable/indexing.html#indexing-view-versus-copy\n",
      "C:\\Users\\CCVV\\Anaconda3b\\lib\\site-packages\\ipykernel\\__main__.py:14: SettingWithCopyWarning: \n",
      "A value is trying to be set on a copy of a slice from a DataFrame\n",
      "\n",
      "See the caveats in the documentation: http://pandas.pydata.org/pandas-docs/stable/indexing.html#indexing-view-versus-copy\n"
     ]
    }
   ],
   "source": [
    "#genero ESPESORES a partir de AREAS aproximando el flujo a un ELIPSOIDE REAL. \n",
    "for exp in Experimentos:\n",
    "    if exp.flir is not None:\n",
    "        try:\n",
    "            exp.flir['area_m2'] = exp.flir['FLIR: area']/numeropixeles\n",
    "            exp.flir['volumen_emitido'] = exp.param['caudal'][0]*exp.flir['FLIR: tiempo']\n",
    "        except:\n",
    "            continue\n",
    "        volumen_total = kilos_manjar/rho_manjar\n",
    "        exp.flir['volumen_emitido'][exp.flir['volumen_emitido'] > volumen_total] = volumen_total\n",
    "        exp.flir['espesor area'] = 3*exp.flir['volumen_emitido']/(2*exp.flir['area_m2'])\n",
    "        exp.dinamica['area a*b'] = 3.14*(exp.dinamica['avance: largo total flujo']/2)*(exp.dinamica['avance: ancho maximo']/2)\n",
    "        exp.dinamica['volumen a*b'] = exp.param['caudal'][0]*exp.dinamica['avance: tiempo']\n",
    "        exp.dinamica['volumen a*b'][exp.dinamica['volumen a*b'] > volumen_total] = volumen_total\n",
    "        exp.dinamica['espesor largoancho'] = 3*exp.dinamica['volumen a*b']/(2*exp.dinamica['area a*b'])"
   ]
  },
  {
   "cell_type": "code",
   "execution_count": 6,
   "metadata": {
    "collapsed": true
   },
   "outputs": [],
   "source": [
    "for exp in Experimentos:\n",
    "    exp.param['tiempo fin eyeccion'] = exp.param['volumen total teorico']/exp.param['caudal']"
   ]
  },
  {
   "cell_type": "code",
   "execution_count": 7,
   "metadata": {
    "collapsed": false
   },
   "outputs": [],
   "source": [
    "#propiedades medidas a temperatura ambiente\n",
    "Conduct = PropTerm['Conductividad'].mean()\n",
    "Cap = PropTerm['Capacidad'].mean()*10**6\n",
    "Difus = PropTerm['Difusividad'].mean()*10**(-7)\n",
    "Resist = PropTerm['Resistividad'].mean()\n",
    "Cp = Cap/1340"
   ]
  },
  {
   "cell_type": "code",
   "execution_count": 8,
   "metadata": {
    "collapsed": true
   },
   "outputs": [],
   "source": [
    "def YieldStg(temp):\n",
    "    return 6220*temp**(-1.36)\n",
    "def Konsist(temp):\n",
    "    return 1*10**6 * temp**(-2.61)\n",
    "def FlowInd(temp):\n",
    "    return 0.0046*temp + 0.145"
   ]
  },
  {
   "cell_type": "code",
   "execution_count": 9,
   "metadata": {
    "collapsed": false
   },
   "outputs": [],
   "source": [
    "for exp in Experimentos:\n",
    "    #updateo densidad\n",
    "    exp.param['densidad']=1340\n",
    "    #calculo cos angulo\n",
    "    exp.param['slope sen'] = np.sin(np.radians(exp.param['angulo inclinacion']))\n",
    "    exp.param['slope cos'] = np.cos(np.radians(exp.param['angulo inclinacion']))"
   ]
  },
  {
   "cell_type": "code",
   "execution_count": 10,
   "metadata": {
    "collapsed": false
   },
   "outputs": [],
   "source": [
    "#pd.set_option('display.max_columns', None)\n",
    "#Experimentos[7].param.head()"
   ]
  },
  {
   "cell_type": "code",
   "execution_count": 10,
   "metadata": {
    "collapsed": false
   },
   "outputs": [],
   "source": [
    "#Añado velos a params x facilidad\n",
    "for exp in Experimentos:\n",
    "    for i in range(33):\n",
    "        if exp.param['NOMBRE'][0]==velos.iloc[i,:]['nombre']:\n",
    "            exp.param['v1'] = velos.iloc[i,:]['v1']\n",
    "            exp.param['v2'] = velos.iloc[i,:]['v2']\n",
    "            exp.param['L*'] = velos.iloc[i,:]['L*']\n",
    "            exp.param['t*'] = velos.iloc[i,:]['t*']"
   ]
  },
  {
   "cell_type": "code",
   "execution_count": 11,
   "metadata": {
    "collapsed": false
   },
   "outputs": [],
   "source": [
    "#Estimo Jeffreys parte primera\n",
    "for exp in Experimentos:\n",
    "    if exp.param['NOMBRE'][0] == '1cc48C':\n",
    "        continue\n",
    "    exp.param['numerador'] = 9.8*exp.param['densidad'][0]*exp.param['slope sen'][0]*(exp.perfil['perfil: espesor'].max())**2\n",
    "    if exp.param['v1'][0] > 0:\n",
    "        exp.param['denominador1'] = 3*exp.param['v1'][0]\n",
    "    if exp.param['v2'][0] > 0:\n",
    "        exp.param['denominador2'] = 3*exp.param['v2'][0]"
   ]
  },
  {
   "cell_type": "code",
   "execution_count": 12,
   "metadata": {
    "collapsed": false
   },
   "outputs": [],
   "source": [
    "#Estimo Jeffreys parte segunda y final\n",
    "for exp in Experimentos:\n",
    "    if exp.param['NOMBRE'][0] == '1cc48C':\n",
    "        continue\n",
    "    if exp.param['v1'][0] > 0:\n",
    "        exp.param['visc1'] = exp.param['numerador'][0]/exp.param['denominador1'][0]\n",
    "    if exp.param['v2'][0] > 0:\n",
    "        exp.param['visc2'] = exp.param['numerador'][0]/exp.param['denominador2'][0]\n",
    "        #print(exp,exp.param['visc2'])"
   ]
  },
  {
   "cell_type": "code",
   "execution_count": 13,
   "metadata": {
    "collapsed": false
   },
   "outputs": [],
   "source": [
    "#Largo según Lister para flujos newtonianos\n",
    "for exp in Experimentos:\n",
    "    exp.dinamica['numerador'] = exp.param['caudal'][0]*exp.param['caudal'][0]*exp.param['densidad'][0]*9.8*exp.param['slope sen'][0]\n",
    "    if exp.param['v1'][0] > 0:\n",
    "        exp.dinamica['denominador'] = exp.param['visc1'][0]*exp.dinamica['avance: ancho maximo']*exp.dinamica['avance: ancho maximo']\n",
    "        exp.dinamica['division'] = np.cbrt(exp.dinamica['numerador'][0]/exp.dinamica['denominador'])\n",
    "        exp.dinamica['Lteonew'] = exp.dinamica['division']*exp.dinamica['avance: tiempo']"
   ]
  },
  {
   "cell_type": "code",
   "execution_count": 14,
   "metadata": {
    "collapsed": false
   },
   "outputs": [],
   "source": [
    "#Calculo y Guardo el Bingham para todos los exp\n",
    "for exp in Experimentos:\n",
    "    temp = exp.param['t max'][0]\n",
    "    exp.param['Ty'] = YieldStg(temp)\n",
    "    exp.param['K'] = Konsist(temp)\n",
    "    exp.param['FlowI'] = FlowInd(temp)\n",
    "    exp.param['H'] = exp.perfil['perfil: espesor'].max()\n",
    "    exp.param['Lmax'] = exp.dinamica['avance: distancia desde punto eyeccion'].max()\n",
    "    exp.param['e'] = exp.param['H'][0]/exp.param['Lmax'][0]\n",
    "    #Bingham B=tp/e*rho*g*H*cos(o) ec (2.6) shallow viscoplastic flow on an inclined plane de balmforth\n",
    "    exp.param['Bingham'] = exp.param['Ty'][0] / (exp.param['e'][0]*exp.param['densidad'][0]*9.8*exp.param['H'][0]*exp.param['slope cos'][0])\n",
    "    #B2 y B3 bingham 2 ec 3.12 cooling domes of viscoplastic fluids\n",
    "    if exp.param['v1'][0] > 0:\n",
    "        exp.param['B2'] = exp.param['Ty'][0]*exp.param['H'][0]/(exp.param['visc1'][0]*exp.param['v1'][0])\n",
    "    exp.param['B3'] = exp.param['Ty'][0]*exp.param['Lmax'][0]/(exp.param['densidad'][0]*9.8*exp.param['H'][0]**2)\n",
    "#seconda universita de napoles"
   ]
  },
  {
   "cell_type": "code",
   "execution_count": 15,
   "metadata": {
    "collapsed": false
   },
   "outputs": [],
   "source": []
  },
  {
   "cell_type": "code",
   "execution_count": null,
   "metadata": {
    "collapsed": true
   },
   "outputs": [],
   "source": []
  },
  {
   "cell_type": "code",
   "execution_count": 73,
   "metadata": {
    "collapsed": true
   },
   "outputs": [],
   "source": [
    "##cosas necesarias para el ploteo"
   ]
  },
  {
   "cell_type": "code",
   "execution_count": 16,
   "metadata": {
    "collapsed": true
   },
   "outputs": [],
   "source": [
    "#FUNCION Q DEVUELVE RANGO [1-7] SEGUN TEMP MAXIMA DEL EXP\n",
    "def rango_temperatura(temp):\n",
    "    if temp < 40:\n",
    "        return 1\n",
    "    if temp < 45:\n",
    "        return 2\n",
    "    if temp < 50:\n",
    "        return 3\n",
    "    if temp < 55:\n",
    "        return 4\n",
    "    if temp < 60:\n",
    "        return 5\n",
    "    if temp < 65:\n",
    "        return 6\n",
    "    if temp < 70:\n",
    "        return 7"
   ]
  },
  {
   "cell_type": "code",
   "execution_count": 17,
   "metadata": {
    "collapsed": false
   },
   "outputs": [],
   "source": [
    "listalargonewtoniano = []\n",
    "\n",
    "for exp in Experimentos:\n",
    "    holder = {}\n",
    "    holder['caudal'] = exp.param['caudal'][0]\n",
    "    holder['angulo'] = exp.param['angulo inclinacion'][0]#en grados\n",
    "    holder[\"rango temperatura\"] = rango_temperatura(exp.param[\"t max\"][0])\n",
    "    holder['temperatura'] = exp.param[\"t max\"][0]\n",
    "    holder['v1'] = exp.param['v1'][0]\n",
    "    holder['tiempo'] = exp.dinamica['avance: tiempo']\n",
    "    holder['distancia'] = exp.dinamica['avance: distancia desde punto eyeccion']\n",
    "    holder['nombre'] = exp.param['NOMBRE'][0]\n",
    "\n",
    "    if exp.param['v1'][0] > 0:\n",
    "        holder['newtoniano'] = exp.dinamica['Lteonew']\n",
    "        #holder['teyec'] = exp.param['tiempo fin eyeccion']\n",
    "\n",
    "    listalargonewtoniano.append(holder)"
   ]
  },
  {
   "cell_type": "code",
   "execution_count": 18,
   "metadata": {
    "collapsed": false
   },
   "outputs": [
    {
     "name": "stdout",
     "output_type": "stream",
     "text": [
      "1e-06\n",
      "5e-06\n",
      "1e-05\n",
      "1.7e-05\n",
      "2.5e-05\n"
     ]
    }
   ],
   "source": [
    "#se arman GRUPOS SEGUN CAUDAL\n",
    "from itertools import groupby\n",
    "count = 0\n",
    "\n",
    "for key, group in groupby(sorted(listalargonewtoniano, key=lambda x: x['caudal']), key=lambda x: x['caudal']):\n",
    "    print(key)\n",
    "    count += 1"
   ]
  },
  {
   "cell_type": "code",
   "execution_count": 19,
   "metadata": {
    "collapsed": false
   },
   "outputs": [
    {
     "name": "stdout",
     "output_type": "stream",
     "text": [
      "['pat1', 'pat2', 'pat3', 'pat4', 'pat5', 'pat6', 'pat7', <matplotlib.patches.Patch object at 0x000002CAAF178780>]\n"
     ]
    }
   ],
   "source": [
    "#GENERA PATCHES DE COLORES SEGUN TEMPERATURA\n",
    "import matplotlib.patches as mpatches\n",
    "\n",
    "pat1 = mpatches.Patch(color='C1', label='temp < 40')\n",
    "pat2 = mpatches.Patch(color='C2', label='temp < 45')\n",
    "pat3 = mpatches.Patch(color='C3', label='temp < 50')\n",
    "pat4 = mpatches.Patch(color='C4', label='temp < 55')\n",
    "pat5 = mpatches.Patch(color='C5', label='temp < 60')\n",
    "pat6 = mpatches.Patch(color='C6', label='temp < 65')\n",
    "pat7 = mpatches.Patch(color='C7', label='temp < 70')\n",
    "pat8 = mpatches.Patch(color='black', label='15° slope')\n",
    "\n",
    "numerocolores = 7\n",
    "colors = ['pat{}'.format(i+1) for i in range(numerocolores)] + [pat8]\n",
    "\n",
    "print(colors)"
   ]
  },
  {
   "cell_type": "code",
   "execution_count": null,
   "metadata": {
    "collapsed": true
   },
   "outputs": [],
   "source": [
    "#Empieza el ploteo"
   ]
  },
  {
   "cell_type": "code",
   "execution_count": 25,
   "metadata": {
    "collapsed": false
   },
   "outputs": [
    {
     "name": "stdout",
     "output_type": "stream",
     "text": [
      "0 1e-06\n",
      "1 5e-06\n",
      "2 1e-05\n",
      "3 1.7e-05\n",
      "4 2.5e-05\n"
     ]
    }
   ],
   "source": [
    "# [LISTO] plot listalargonewtoniano para los 33 experimentos\n",
    "fig = plt.figure()\n",
    "axes = []\n",
    "f = 0\n",
    "\n",
    "for x in range(32):\n",
    "    axes.append(fig.add_subplot(7, 5, x + 1))\n",
    "\n",
    "for i, (key, group) in enumerate(groupby(sorted(listalargonewtoniano, key=lambda x: x['caudal']), key=lambda x: x['caudal'])):\n",
    "    print(i, key)\n",
    "    \n",
    "    for exp in sorted(group, key=lambda x: x['temperatura']):\n",
    "    \n",
    "        #excepciones\n",
    "        if exp['nombre'] == '1cc48C':\n",
    "            continue\n",
    "            \n",
    "        axes[f].grid(True, which='both', color='gainsboro')\n",
    "    \n",
    "        axes[f].set_title(exp['nombre'])\n",
    "\n",
    "        if exp['angulo'] == 15:\n",
    "            axes[f].scatter(exp['tiempo'], exp['distancia'], color='m', s=2, marker='o')\n",
    "            axes[f].plot(exp['tiempo'], exp['newtoniano'], color='b', linestyle=':')\n",
    "        else:\n",
    "            axes[f].scatter(exp['tiempo'], exp['distancia'], color='r', marker= 'o', s=2)\n",
    "            if exp['v1'] > 0:\n",
    "                axes[f].plot(exp['tiempo'], exp['newtoniano'], color='b', linestyle='--')\n",
    "\n",
    "        f = f+1\n",
    "        #print(f)\n",
    "\n",
    "plt.suptitle('Aproximacion avance de flujo viscoso según Lister(1992)')        \n",
    "plt.legend(bbox_to_anchor=(1.8, 0.5), loc=6)\n",
    "#labelLines(plt.gca().get_lines(),align=False,color='k')\n",
    "fig.show()"
   ]
  },
  {
   "cell_type": "code",
   "execution_count": 21,
   "metadata": {
    "collapsed": false
   },
   "outputs": [],
   "source": [
    "#Creo la funcion del ajuste 1 con curve_fit y pruebo con un plot\n",
    "\n",
    "def func(x, k, c):\n",
    "    return c*x**k\n",
    "\n",
    "exp = Experimentos[7]\n",
    "\n",
    "xData = exp.dinamica['avance: tiempo']\n",
    "yData = exp.dinamica['avance: distancia desde punto eyeccion']\n",
    "\n",
    "popt, pcov = curve_fit(func, xData, yData)\n",
    "\n",
    "exp.dinamica['nueva wea'] = func(exp.dinamica['avance: tiempo'], *popt)\n",
    "exp.dinamica['k'] = popt[0]\n",
    "exp.dinamica['c'] = popt[1]\n",
    "\n",
    "## PLOTEO DE DATOS\n",
    "\n",
    "fig = plt.figure()\n",
    "k = exp.dinamica['k'][0]\n",
    "c = exp.dinamica['c'][0]\n",
    "textstr = '$k=%f$\\n$c=%f$'%(k,c)\n",
    "\n",
    "plt.scatter(exp.dinamica['avance: tiempo'], exp.dinamica['avance: distancia desde punto eyeccion'], \n",
    "            color='m', s=8, marker='o', label='Datos Experimentales')\n",
    "plt.plot(exp.dinamica['avance: tiempo'], exp.dinamica['nueva wea'], color='b', linestyle=':', label='Ajuste teórico')\n",
    "plt.ylabel('Distancia [m]')\n",
    "plt.xlabel('Tiempo [s]')\n",
    "plt.suptitle('Dinámica de flujo{}'.format(exp.param['NOMBRE'][0]))\n",
    "plt.figtext(0.7, 0.4, textstr, verticalalignment='top')\n",
    "\n",
    "datos = mlines.Line2D([], [], color='m', linestyle='', marker='o',markersize=4, label='Datos Experimentales')\n",
    "ajuste = mlines.Line2D([], [], color='b', linestyle=':', marker='',markersize=4, label='Ajuste Teorico')\n",
    "ecuacion = mlines.Line2D([], [], color='b', linestyle='', marker='',markersize=4, label=r'$\\c*t^k$')\n",
    "\n",
    "\n",
    "plt.legend(handles=[datos, ajuste, ecuacion], title='Leyenda', loc=1, bbox_to_anchor=(0.5, 0.3, 0.4, 0.4), \n",
    "           labels=['Datos Experimentales', 'Ajuste Teorico', r'$c*t^k$'], ncol=1)\n",
    "\n",
    "fig.show()"
   ]
  },
  {
   "cell_type": "code",
   "execution_count": 19,
   "metadata": {
    "collapsed": false
   },
   "outputs": [],
   "source": [
    "#guardo los valores de AMBOS ajustes (pot y log) para cada exp en dinamica pra TODOS los datos (1 linea)\n",
    "def func(x, k, c):\n",
    "    return c*x**k\n",
    "\n",
    "for exp in Experimentos:\n",
    "\n",
    "    xData = exp.dinamica['avance: tiempo']\n",
    "    yData = exp.dinamica['avance: distancia desde punto eyeccion']\n",
    "    xDatalog = np.log10(exp.dinamica['avance: tiempo'][1:]) #elimino los valores iguales a 0\n",
    "    yDatalog = np.log10(exp.dinamica['avance: distancia desde punto eyeccion'][1:]) #elimino los valores iguales a 0\n",
    "\n",
    "# Calculate linear reggresion for log\n",
    "# log10(yData) = a + b*log10(xData) // donde 10^intercept*xData^slope es equivalente a a*xData^b\n",
    "    slope, intercept, r_value, p_value, slope_std_error = stats.linregress(xDatalog, yDatalog)\n",
    "    exp.dinamica['eclog'] = intercept + slope * xDatalog #ecuacion lineal en caso de plotear en plt.loglog\n",
    "    exp.dinamica['fitlog'] = 10**intercept *xData**slope\n",
    "    exp.dinamica['a'] = 10**intercept\n",
    "    exp.dinamica['b'] = slope\n",
    "\n",
    "# Calculate curve_fit reggresion for data\n",
    "    popt, pcov =  curve_fit(func, exp.dinamica['avance: tiempo'], exp.dinamica['avance: distancia desde punto eyeccion'],\n",
    "                            diag=(1./exp.dinamica['avance: tiempo'].mean(),\n",
    "                                  1./exp.dinamica['avance: distancia desde punto eyeccion'].mean()))\n",
    "    exp.dinamica['fitpot'] = func(xData, *popt)\n",
    "    k = popt[0]\n",
    "    c = popt[1]\n",
    "    exp.dinamica['k'] = popt[0]\n",
    "    exp.dinamica['c'] = popt[1]\n",
    "    #print(pcov)\n",
    "    #exp.dinamica['r2'] = pcov[0]"
   ]
  },
  {
   "cell_type": "code",
   "execution_count": 20,
   "metadata": {
    "collapsed": false
   },
   "outputs": [],
   "source": [
    "#NUEVA LISTA para valores pot y log sin dividir los datos por punto.\n",
    "\n",
    "listafuncionespotlog = []\n",
    "\n",
    "for exp in Experimentos:\n",
    "    holder = {}\n",
    "    holder['caudal'] = exp.param['caudal'][0]\n",
    "    holder['angulo'] = exp.param['angulo inclinacion'][0]#en grados\n",
    "    holder[\"rango temperatura\"] = rango_temperatura(exp.param[\"t max\"][0])\n",
    "    holder['temperatura'] = exp.param[\"t max\"][0]\n",
    "    holder['v1'] = exp.param['v1'][0]\n",
    "    holder['tiempo'] = exp.dinamica['avance: tiempo']\n",
    "    holder['distancia'] = exp.dinamica['avance: distancia desde punto eyeccion']\n",
    "    holder['fitpot'] = exp.dinamica['fitpot']\n",
    "    holder['fitlog'] = exp.dinamica['fitlog']\n",
    "    holder['nombre'] = exp.param['NOMBRE'][0]\n",
    "    holder['k'] = exp.dinamica['k'][0]\n",
    "    holder['c'] = exp.dinamica['c'][0]\n",
    "    holder['a'] = exp.dinamica['a'][0]\n",
    "    holder['b'] = exp.dinamica['b'][0]\n",
    "\n",
    "    #if exp.param['v1'][0] > 0:\n",
    "         #holder['newtoniano'] = exp.dinamica['Lteonew']\n",
    "         #holder['teyec'] = exp.param['tiempo fin eyeccion']\n",
    "\n",
    "    listafuncionespotlog.append(holder)"
   ]
  },
  {
   "cell_type": "code",
   "execution_count": 22,
   "metadata": {
    "collapsed": false
   },
   "outputs": [
    {
     "name": "stdout",
     "output_type": "stream",
     "text": [
      "0 1e-06\n",
      "1 5e-06\n",
      "2 1e-05\n",
      "3 1.7e-05\n",
      "4 2.5e-05\n"
     ]
    }
   ],
   "source": [
    "# [LISTO] plot listafuncionespotlog los 33 experimentos con ajuste potencial sin escala log.\n",
    "\n",
    "fig = plt.figure()\n",
    "axes = []\n",
    "f = 0\n",
    "\n",
    "for x in range(33):\n",
    "    axes.append(fig.add_subplot(7, 6, x + 1))\n",
    "\n",
    "for i, (key, group) in enumerate(groupby(sorted(listafuncionespotlog, key=lambda x: x['caudal']), key=lambda x: x['caudal'])):\n",
    "    print(i, key)\n",
    "\n",
    "    for exp in sorted(group, key=lambda x: x['temperatura']):\n",
    "        k = exp['k']\n",
    "        c = exp['c']\n",
    "        fin = exp['tiempo'].iloc[-1]\n",
    "        dist = exp['distancia'].iloc[-1]\n",
    "        axes[f].set_title(exp['nombre'])\n",
    "        textstr = '$k=%.3f$\\n$c=%.3f$'%(k,c)\n",
    "        axes[f].set_ylabel('Distancia [m]')\n",
    "        #axes[f].set_xlabel('Tiempo [s]')\n",
    "        axes[f].text(fin/1.5, dist*0.1, textstr)\n",
    "            \n",
    "        if exp['angulo'] == 15:\n",
    "            axes[f].scatter(exp['tiempo'], exp['distancia'], color='m', s=2, marker='o')\n",
    "            axes[f].plot(exp['tiempo'], exp['fitpot'], color='b', linestyle=':')\n",
    "\n",
    "        else:\n",
    "            axes[f].scatter(exp['tiempo'], exp['distancia'], color='r', marker= 'o', s=2)\n",
    "            #if exp['v1'] > 0:\n",
    "            axes[f].plot(exp['tiempo'], exp['fitpot'], color='b', linestyle='--')\n",
    "\n",
    "        f = f+1\n",
    "        \n",
    "        #print(f)\n",
    "        #print(i, exp['nombre'])\n",
    "\n",
    "        \n",
    "datos = mlines.Line2D([], [], color='m', linestyle='', marker='o',markersize=4, label='Datos Experimentales')\n",
    "ajuste = mlines.Line2D([], [], color='b', linestyle=':', marker='',markersize=4, label='Ajuste Teorico')\n",
    "ecuacion = mlines.Line2D([], [], color='b', linestyle='', marker='',markersize=4, label=r'$\\c*t^k$')\n",
    "\n",
    "plt.legend(handles=[datos, ajuste, ecuacion], title='Leyenda', loc=0, bbox_to_anchor=(3, 1, 0.4, 0.4), \n",
    "           labels=['Datos Experimentales', 'Ajuste Teorico', r'$c*t^k$'], ncol=1)\n",
    "\n",
    "fig.show()\n"
   ]
  },
  {
   "cell_type": "code",
   "execution_count": 26,
   "metadata": {
    "collapsed": false
   },
   "outputs": [],
   "source": [
    "# Calculate curve_fit reggresion for data\n",
    "def func(x, k, c):\n",
    "    return c*x**k"
   ]
  },
  {
   "cell_type": "code",
   "execution_count": 24,
   "metadata": {
    "collapsed": true
   },
   "outputs": [
    {
     "name": "stdout",
     "output_type": "stream",
     "text": [
      "0 1e-06\n",
      "1\n",
      "0 1cc24C\n",
      "2\n",
      "0 1cc47C\n",
      "3\n",
      "0 1cc48C\n",
      "4\n",
      "0 1cc51C\n",
      "5\n",
      "0 1cc52C\n",
      "6\n",
      "0 1cc54C\n",
      "7\n",
      "0 1cc55C\n",
      "8\n",
      "0 1cc54,7C\n",
      "9\n",
      "0 1cc59C\n",
      "10\n",
      "0 1cc62C\n",
      "1 5e-06\n",
      "2 1e-05\n",
      "3 1.7e-05\n",
      "4 2.5e-05\n"
     ]
    }
   ],
   "source": [
    "#plot listafuncionespotlog todos los exp de 1 caudal a la vez\n",
    "# 1 cc 10 exp 5 cc 8 exp 10cc 1e-05 8 exp 25cc 2.5e-05 6 exp 5a25xx 1 exp\n",
    "\n",
    "fig = plt.figure()\n",
    "axes = []\n",
    "f = 0\n",
    "\n",
    "for x in range(10): #range segun el numero de exp por caudal\n",
    "    axes.append(fig.add_subplot(4, 3, x + 1)) #subplot segun numero de figuras en el plot (3x3, 4x3, 2x3 etc)\n",
    "\n",
    "for i, (key, group) in enumerate(groupby(sorted(listafuncionespotlog, key=lambda x: x['caudal']), key=lambda x: x['caudal'])):\n",
    "    print(i, key)\n",
    "    if key==1e-06:\n",
    "        for exp in sorted(group, key=lambda x: x['temperatura']):\n",
    "            k = exp['k']\n",
    "            c = exp['c']\n",
    "            a = exp['a']\n",
    "            b = exp['b']\n",
    "            fin = exp['tiempo'].iloc[-1]\n",
    "            dist = exp['distancia'].iloc[-1]\n",
    "\n",
    "            axes[f].set_title(exp['nombre'])\n",
    "            textstr = '$\\star k=%f$ \\n$c=%f$ \\n$\\star b=%f$ \\n$a=%f$'%(k,c,b,a)\n",
    "\n",
    "            axes[f].set_ylabel('Distancia [m]')\n",
    "            axes[f].set_xlabel('Tiempo [s]')\n",
    "            axes[f].set_title('{}'.format(exp['nombre']))\n",
    "            axes[f].text(fin/1.5, dist*0.05, textstr)\n",
    "\n",
    "            if exp['angulo'] == 15:\n",
    "                axes[f].scatter(exp['tiempo'], exp['distancia'], color='m', marker='o')\n",
    "                axes[f].plot(exp['tiempo'], exp['fitlog'], color='b', linestyle=':')\n",
    "                axes[f].plot(exp['tiempo'], exp['fitpot'], color='g', linestyle=':')\n",
    "\n",
    "            else:\n",
    "                axes[f].scatter(exp['tiempo'], exp['distancia'], color='m', marker= 'o')\n",
    "                axes[f].plot(exp['tiempo'], exp['fitlog'], color='b', linestyle='--')\n",
    "                axes[f].plot(exp['tiempo'], exp['fitpot'], color='g', linestyle=':')\n",
    "\n",
    "            f = f+1\n",
    "            #print(f)\n",
    "            #print(i, exp['nombre'])\n",
    "        \n",
    "datos = mlines.Line2D([], [], color='m', linestyle='', marker='o',markersize=4, label='Datos Experimentales')\n",
    "ajustelog = mlines.Line2D([], [], color='b', linestyle=':', marker='',markersize=4, label='Ajuste Teorico logaritmico')\n",
    "ecuacion1 = mlines.Line2D([], [], color='b', linestyle='', marker='',markersize=4, label=r'$\\a*t^b$')\n",
    "ajustepot = mlines.Line2D([], [], color='g', linestyle=':', marker='',markersize=4, label='Ajuste Teorico potencial')\n",
    "ecuacion2 = mlines.Line2D([], [], color='b', linestyle='', marker='',markersize=4, label=r'$\\c*t^k$')\n",
    "\n",
    "plt.legend(handles=[datos, ajustelog, ecuacion1, ajustepot, ecuacion2], title='Leyenda', loc=1, bbox_to_anchor=(1.4, 0.5, 0.4, 0.4), \n",
    "           labels=['Datos Experimentales', 'Ajuste Teorico logaritmico',r'$a*t^b$', 'Ajuste Teorico potencial', r'$c*t^k$'], ncol=1)\n",
    "\n",
    "fig.show()"
   ]
  },
  {
   "cell_type": "code",
   "execution_count": 29,
   "metadata": {
    "collapsed": false
   },
   "outputs": [],
   "source": [
    "#ERRORES SIN ARREGLAR AUN PARA GRAFICOS INDIVIDUALES, PLOTEO DE TODOS LOS EXP SI. \n",
    "#-> arreglados en lista para plotear x grupo caudal\n",
    "#pruebo la funcion que divide los datos en L*, t* con un plot de datos \n",
    "\n",
    "#exp30 tiene 3 regimenes\n",
    "#exp29 tiene 3 regimenes\n",
    "#exp25 tiene 3 regimenes\n",
    "#exp23 tiene 3 regimenes\n",
    "#exp22 tiene 3 regimenes, 3o con 2 datos. 1cc24C\n",
    "\n",
    "#exp24 ajuste linea azul mejor q verde\n",
    "#exp20 ajuste linea verde mejor q azul\n",
    "#exp15 linea azul mejor ajuste q verde\n",
    "#exp8 bien fea curva\n",
    "\n",
    "#exp27 error: inputs must not be empty\n",
    "#exp16 ---> 53 prDespues = curve_fit(func, xDataB, yDataB) TypeError: Improper input: N=2 must not exceed M=1\n",
    "\n",
    "#exp6 --> 36 lnrDespues = stats.linregress(xDataLogB, yDataLogB) inputs must not be empty\n",
    "#exp5 ---> 56 prDespues = curve_fit(func, xDataB, yDataB) Improper input: N=2 must not exceed M=1\n",
    "#exp1 ---> 38 lnrDespues = stats.linregress(xDataLogB, yDataLogB) inputa must not be empty\n",
    "\n",
    "exp = Experimentos[26]\n",
    "\n",
    "xData = exp.dinamica['avance: tiempo']\n",
    "yData = exp.dinamica['avance: distancia desde punto eyeccion']\n",
    "yDataymed = exp.dinamica['avance: ancho maximo']/2\n",
    "yDataymax = exp.dinamica['avance: ancho maximo']\n",
    "yDataxmin = exp.dinamica['avance: distancia hacia atrás']\n",
    "\n",
    "\n",
    "antes = exp.dinamica[exp.dinamica['avance: tiempo'] < exp.param['t*'][0]]\n",
    "despues = exp.dinamica[exp.dinamica['avance: tiempo'] > exp.param['t*'][0]]\n",
    "\n",
    "xDataLogA = np.log10(antes['avance: tiempo'][1:])\n",
    "xDataLogB = np.log10(despues['avance: tiempo'])\n",
    "yDataLogA = np.log10(antes['avance: distancia desde punto eyeccion'][1:])\n",
    "yDataLogB = np.log10(despues['avance: distancia desde punto eyeccion'])\n",
    "\n",
    "#ESTO en el plot para todos los datos para que no se caigan los exp que anote arriba con problemas\n",
    "#if yDataLogB.shape[0] < 2:\n",
    "#    continue\n",
    "#if yDataLogA.shape[0] < 2:\n",
    "#    continue\n",
    "        \n",
    "xDataA = antes['avance: tiempo']\n",
    "xDataB = despues['avance: tiempo']\n",
    "yDataA = antes['avance: distancia desde punto eyeccion']\n",
    "yDataB = despues['avance: distancia desde punto eyeccion']\n",
    "\n",
    "# Calculate linear reggresion for log\n",
    "# log10(yData) = a + b*log10(xData) // donde 10^intercept*xData^slope es equivalente a a*xData^b\n",
    "lnrAntes = stats.linregress(xDataLogA, yDataLogA)\n",
    "lnrDespues = stats.linregress(xDataLogB, yDataLogB)\n",
    "\n",
    "fitlogA = lnrAntes.intercept + lnrAntes.slope * xDataLogA #ecuacion lineal en caso de plotear en plt.loglog\n",
    "fitlogB = lnrDespues.intercept + lnrDespues.slope * xDataLogB #ecuacion lineal en caso de plotear en plt.loglog\n",
    "\n",
    "aA = 10**lnrAntes.intercept\n",
    "bA = lnrAntes.slope\n",
    "\n",
    "aB = 10**lnrDespues.intercept\n",
    "bB = lnrDespues.slope\n",
    "\n",
    "# Calculate curve_fit reggresion for data\n",
    "def func(x, k, c):\n",
    "    return c*x**k\n",
    "\n",
    "prAntes =  curve_fit(func, xDataA, yDataA)\n",
    "prDespues = curve_fit(func, xDataB, yDataB)\n",
    "#fitpotA = func(xDataA, prAntes[0], prAntes[1])\n",
    "#fitpotB = func(xDataB, prDespues[0], prDespues[1])\n",
    "\n",
    "kA = prAntes[0][0]\n",
    "cA = prAntes[0][1]\n",
    "\n",
    "kB = prDespues[0][0]\n",
    "cB = prDespues[0][1]\n",
    "\n",
    "#Ploteo de datos\n",
    "\n",
    "fig = plt.figure()\n",
    "\n",
    "plt.loglog(xData, yData, color='m', marker='o', markersize='3', label='Datos Experimentales')\n",
    "plt.loglog(xData, yDataymed, color='g', linestyle='-.', label='Datos Experimentales')\n",
    "#plt.loglog(xData, yDataymax, color='g', linestyle='--', label='Datos Experimentales')\n",
    "plt.loglog(xData, yDataxmin, color='g', linestyle='--', label='Datos Experimentales')\n",
    "\n",
    "plt.loglog(xDataA[1:], aA*xDataA[1:]**bA, color='b', linestyle=':', label='Ajuste teórico logaritmico')##\n",
    "#plt.loglog(xDataA[1:], cA*xDataA[1:]**kA, color='g', linestyle=':', label='Ajuste teórico potencial')\n",
    "plt.loglog(xDataB, aB*xDataB**bB, color='r', linestyle=':', label='Ajuste teórico logaritmico')##\n",
    "#plt.loglog(xDataB, cB*xDataB**kB, color='c', linestyle=':', label='Ajuste teórico potencial')\n",
    "\n",
    "plt.ylabel('log(Distancia [m])')\n",
    "plt.xlabel('log(Tiempo [s])')\n",
    "plt.suptitle('Ajustes potencial y logaritmico para {}'.format(exp.param['NOMBRE'][0]))\n",
    "\n",
    "textstr = '$\\star k_a=%f$ \\n $c_a=%f$ \\n $\\star k_d=%f$ \\n $c_d=%f$ \\n $\\star b_a=%f$\\n $a_a=%f$\\n $\\star b_d=%f$\\n $a_d=%f$'%(kA,cA, kB, cB, bA, aA, bB, aB)\n",
    "plt.figtext(0.6, 0.3, textstr, verticalalignment='top')\n",
    "\n",
    "datos = mlines.Line2D([], [], color='m', linestyle='', marker='o',markersize=4, label='Datos Experimentales')\n",
    "ajustelog = mlines.Line2D([], [], color='b', linestyle=':', marker='',markersize=4, label='Ajuste Teorico logaritmico')\n",
    "ecuacion1 = mlines.Line2D([], [], color='b', linestyle='', marker='',markersize=4, label=r'$\\a*t^b$')\n",
    "ajustepot = mlines.Line2D([], [], color='g', linestyle=':', marker='',markersize=4, label='Ajuste Teorico potencial')\n",
    "ecuacion2 = mlines.Line2D([], [], color='b', linestyle='', marker='',markersize=4, label=r'$\\c*t^k$')\n",
    "\n",
    "\n",
    "plt.legend(handles=[datos, ajustelog, ecuacion1, ajustepot, ecuacion2], title='Leyenda', loc=1, \n",
    "           bbox_to_anchor=(0.5, 0.2, 0.4, 0.4), labels=['Datos Experimentales', 'Ajuste Teorico logaritmico',r'$a*t^b$', \n",
    "                                                        'Ajuste Teorico potencial', r'$c*t^k$'], ncol=1)\n",
    "\n",
    "fig.show()"
   ]
  },
  {
   "cell_type": "code",
   "execution_count": 27,
   "metadata": {
    "collapsed": false
   },
   "outputs": [],
   "source": [
    "#Guardo valores en todos los experimentos para numeros pre L*, t* y post, con sus aproximaciones potenciales y logaritmicas.\n",
    "\n",
    "for exp in Experimentos:\n",
    "\n",
    "    xData = exp.dinamica['avance: tiempo']\n",
    "    yData = exp.dinamica['avance: distancia desde punto eyeccion']\n",
    "\n",
    "    antes = exp.dinamica[exp.dinamica['avance: tiempo'] < exp.param['t*'][0]]\n",
    "    despues = exp.dinamica[exp.dinamica['avance: tiempo'] > exp.param['t*'][0]]\n",
    "    \n",
    "    xDataA = antes['avance: tiempo']\n",
    "    xDataB = despues['avance: tiempo']\n",
    "    yDataA = antes['avance: distancia desde punto eyeccion']\n",
    "    yDataB = despues['avance: distancia desde punto eyeccion']\n",
    "\n",
    "    xDataLogAntes = np.log10(antes['avance: tiempo'][1:])\n",
    "    xDataLogDespues = np.log10(despues['avance: tiempo'])\n",
    "    yDataLogAntes = np.log10(antes['avance: distancia desde punto eyeccion'][1:])\n",
    "    yDataLogDespues = np.log10(despues['avance: distancia desde punto eyeccion'])\n",
    "    \n",
    "    exp.dinamica['yDataLogDespues'] = yDataLogDespues\n",
    "    exp.dinamica['yDataLogAntes'] = yDataLogAntes\n",
    "\n",
    "    if yDataLogAntes.shape[0] >= 2:\n",
    "        exp.dinamica['xDataAntes'] = antes['avance: tiempo'].dropna()\n",
    "        exp.dinamica['yDataAntes'] = antes['avance: distancia desde punto eyeccion'].dropna()\n",
    "\n",
    "        lnrAntes = stats.linregress(xDataLogAntes, yDataLogAntes)\n",
    "\n",
    "        fitlogA = lnrAntes.intercept + lnrAntes.slope * xDataLogAntes #ecuacion lineal en caso de plotear en plt.loglog\n",
    "\n",
    "        exp.dinamica['cteAntes'] = 10**lnrAntes.intercept\n",
    "        exp.dinamica['expAntes'] = lnrAntes.slope\n",
    "\n",
    "        prAntes =  curve_fit(func, xDataA, yDataA)\n",
    "        exp.dinamica['expotAntes'] = prAntes[0][0]\n",
    "        exp.dinamica['ctepotAntes'] = prAntes[0][1]\n",
    "    \n",
    "    #ESTO en el plot para todos los datos para que no se caigan los exp que anote arriba con problemas\n",
    "    if yDataLogDespues.shape[0] >= 2:\n",
    "        \n",
    "        exp.dinamica['xDataDespues'] = despues['avance: tiempo'].dropna()\n",
    "        exp.dinamica['yDataDespues'] = despues['avance: distancia desde punto eyeccion'].dropna()\n",
    "\n",
    "    # Calculate linear reggresion for log\n",
    "    # log10(yData) = a + b*log10(xData) // donde 10^intercept*xData^slope es equivalente a a*xData^b\n",
    "\n",
    "        lnrDespues = stats.linregress(xDataLogDespues, yDataLogDespues)\n",
    "\n",
    "        fitlogB = lnrDespues.intercept + lnrDespues.slope * xDataLogDespues #ecuacion lineal en caso de plotear en plt.loglog\n",
    "\n",
    "        exp.dinamica['cteDespues'] = 10**lnrDespues.intercept\n",
    "        exp.dinamica['expDespues'] = lnrDespues.slope\n",
    "\n",
    "    # Calculate curve_fit reggresion for data\n",
    "\n",
    "        prDespues = curve_fit(func, xDataB, yDataB)\n",
    "        #fitpotA = func(xDataA, prAntes[0], prAntes[1])\n",
    "        #fitpotB = func(xDataB, prDespues[0], prDespues[1])\n",
    "\n",
    "\n",
    "        exp.dinamica['expotDespues'] = prDespues[0][0]\n",
    "        exp.dinamica['ctepotDespues'] = prDespues[0][1]"
   ]
  },
  {
   "cell_type": "code",
   "execution_count": 30,
   "metadata": {
    "collapsed": false
   },
   "outputs": [],
   "source": [
    "#[LISTO] Lista para poder plotear con los valores de antes y dp L*,t*\n",
    "\n",
    "listaajustedoscurvas = []\n",
    "\n",
    "for exp in Experimentos:\n",
    "    try:\n",
    "        holder = {}\n",
    "        holder['caudal'] = exp.param['caudal'][0]\n",
    "        holder['angulo'] = exp.param['angulo inclinacion'][0]#en grados\n",
    "        holder[\"rango temperatura\"] = rango_temperatura(exp.param[\"t max\"][0])\n",
    "        holder['temperatura'] = exp.param[\"t max\"][0]\n",
    "        holder['v1'] = exp.param['v1'][0]    \n",
    "        holder['v2'] = exp.param['v2'][0]\n",
    "        holder['t*'] = exp.param['t*'][0]\n",
    "        holder['L*'] = exp.param['L*'][0]\n",
    "        holder['nombre'] = exp.param['NOMBRE'][0]\n",
    "        holder['xData'] = exp.dinamica['avance: tiempo']\n",
    "        holder['yData'] = exp.dinamica['avance: distancia desde punto eyeccion']\n",
    "        holder['yDataymed'] = exp.dinamica['avance: ancho maximo']/2\n",
    "        holder['yDataymax'] = exp.dinamica['avance: ancho maximo']\n",
    "        holder['yDataxmin'] = exp.dinamica['avance: distancia hacia atrás']\n",
    "        if 'yDataAntes' in exp.dinamica.columns:\n",
    "            if exp.dinamica['yDataAntes'].shape[0] >= 2:\n",
    "                holder['cteA'] = exp.dinamica['cteAntes'][0]\n",
    "                holder['expA'] = exp.dinamica['expAntes'][0]\n",
    "                holder['xDataA'] = exp.dinamica['xDataAntes']\n",
    "                holder['yDataA'] = exp.dinamica['yDataAntes']\n",
    "        if 'yDataDespues' in exp.dinamica.columns:\n",
    "            if exp.dinamica['yDataDespues'].shape[0] >= 2:\n",
    "                holder['cteD'] = exp.dinamica['cteDespues'][0]\n",
    "                holder['expD'] = exp.dinamica['expDespues'][0]\n",
    "                holder['xDataD'] = exp.dinamica['xDataDespues']\n",
    "                holder['yDataD'] = exp.dinamica['yDataDespues']\n",
    "\n",
    "        listaajustedoscurvas.append(holder)\n",
    "    except Exception as e:\n",
    "        print(exp, e)\n",
    "        print(exp.dinamica['yDataAntes'])        \n",
    "        print(exp.dinamica['yDataDespues'])\n",
    "        continue"
   ]
  },
  {
   "cell_type": "code",
   "execution_count": 42,
   "metadata": {
    "collapsed": false
   },
   "outputs": [
    {
     "name": "stdout",
     "output_type": "stream",
     "text": [
      "0 1e-06\n",
      "1\n",
      "2\n",
      "3\n",
      "4\n",
      "5\n",
      "6\n",
      "7\n",
      "8\n",
      "9\n",
      "1 5e-06\n",
      "2 1e-05\n",
      "3 1.7e-05\n",
      "4 2.5e-05\n"
     ]
    }
   ],
   "source": [
    "#Ploteo de datos por caudal para ajuste de dos curvas con datos ploteados.\n",
    "#plot listafuncionespotlog todos los exp de 1 caudal a la vez\n",
    "# 1 cc 10 exp (-1 1cc48C) 5 cc 8 exp 10cc 1e-05 8 exp 25cc 2.5e-05 6 exp 5a25xx 1 exp\n",
    "    \n",
    "fig = plt.figure()\n",
    "axes = []\n",
    "f = 0\n",
    "\n",
    "for x in range(9): #range segun el numero de exp por caudal\n",
    "    axes.append(fig.add_subplot(3, 3, x + 1)) #subplot segun numero de figuras en el plot (3x3, 4x3, 2x3 etc)\n",
    "\n",
    "for i, (key, group) in enumerate(groupby(sorted(listaajustedoscurvas, key=lambda x: x['caudal']), key=lambda x: x['caudal'])):\n",
    "    print(i, key)\n",
    "    if key==1e-06:\n",
    "        for exp in sorted(group, key=lambda x: x['temperatura']):\n",
    "            \n",
    "            #excepciones\n",
    "            if exp['nombre'] == '1cc48C':\n",
    "                continue\n",
    "                \n",
    "            #obtencion de datos\n",
    "            fin = exp['xData'].iloc[-1]\n",
    "            dist = exp['yData'].iloc[-1]\n",
    "            \n",
    "            if 'cteA' in exp:\n",
    "                cteA = exp['cteA']\n",
    "                expA = exp['expA']\n",
    "                \n",
    "            if 'cteD' in exp:\n",
    "                cteD = exp['cteD'] \n",
    "                expD = exp['expD'] \n",
    "\n",
    "            axes[f].set_title(exp['nombre'])\n",
    "            \n",
    "            textstr = '$\\star k_a=%.3f$ \\n$c_a=%.3f$ \\n$\\star k_d=%.3f$ \\n$c_d=%.3f$'%(expA,cteA,expD,cteD)\n",
    "\n",
    "            axes[f].set_ylabel('log(Distancia [m])')\n",
    "            axes[f].set_xlabel('log(Tiempo [s])')\n",
    "            #axes[f].set_title('{}'.format(exp['nombre']))\n",
    "            axes[f].text(fin/10, dist*0.065, textstr)\n",
    "            axes[f].grid(True, which='both', color='gainsboro')\n",
    "            \n",
    "\n",
    "            if exp['angulo'] == 15:\n",
    "                axes[f].loglog(exp['xData'], exp['yData'], color='m', marker='x', \n",
    "                               markersize='4', label=r'$X_(max)$')\n",
    "                axes[f].loglog(exp['xData'], exp['yDataymed'], color='g', linestyle='-.', label=r'$Y_(max)$')\n",
    "                axes[f].loglog(exp['xData'], exp['yDataxmin'], color='g', linestyle='--', label=r'$X_(min)$')\n",
    "                if 'cteA' in exp:\n",
    "                    axes[f].loglog(exp['xDataA'][1:], cteA*exp['xDataA'][1:]**expA, \n",
    "                                   color='b', linestyle=':', label='Ajuste teórico logaritmico')\n",
    "                #plt.loglog(xDataA[1:], cA*xDataA[1:]**kA, color='g', linestyle=':', label='Ajuste teórico potencial')\n",
    "                if 'cteD' in exp:    \n",
    "                    axes[f].loglog(exp['xDataD'], cteD*exp['xDataD']**expD, color='r', \n",
    "                                   linestyle=':', label='Ajuste teórico logaritmico')\n",
    "                #plt.loglog(xDataD, cB*xDataD**kB, color='c', linestyle=':', label='Ajuste teórico potencial')\n",
    "\n",
    "            else:\n",
    "                axes[f].loglog(exp['xData'], exp['yData'], color='m', marker='o', \n",
    "                               markersize='4', label='Datos Experimentales')\n",
    "                axes[f].loglog(exp['xData'], exp['yDataymed'], color='g', linestyle='-.', label=r'$Y_(max)$')\n",
    "                axes[f].loglog(exp['xData'], exp['yDataxmin'], color='g', linestyle='--', label=r'$X_(min)$')\n",
    "\n",
    "                if 'cteA' in exp:\n",
    "                    axes[f].loglog(exp['xDataA'][1:], cteA*exp['xDataA'][1:]**expA, \n",
    "                                   color='b', linestyle='-.', label='Ajuste teórico logaritmico')\n",
    "                #plt.loglog(xDataA[1:], cA*xDataA[1:]**kA, color='g', linestyle=':', label='Ajuste teórico potencial')\n",
    "                if 'cteD' in exp:\n",
    "                    axes[f].loglog(exp['xDataD'], cteD*exp['xDataD']**expD, \n",
    "                                   color='r', linestyle='-.', label='Ajuste teórico logaritmico')\n",
    "                #plt.loglog(xDataD, cB*xDataD**kB, color='c', linestyle=':', label='Ajuste teórico potencial')\n",
    "\n",
    "            f = f+1\n",
    "            print(f)\n",
    "            #print(i, exp['nombre'])        \n",
    "\n",
    "    plt.legend(handles=[datos, ajustelog, ecuacion1, ajustepot, ecuacion2], title='Leyenda', loc=1, \n",
    "               bbox_to_anchor=(1.55, 0.4, 0.4, 0.4), labels=['Datos Experimentales', 'Ajuste pre L*,t*',r'$c_a*t^k_a$', \n",
    "                                                            'Ajuste Teorico post L*,t*', r'$c_d*t^k_d$'], ncol=1)\n",
    "    plt.suptitle('Ajuste teórico caudales 1[cc/s]')\n",
    "    fig.show()"
   ]
  },
  {
   "cell_type": "code",
   "execution_count": 526,
   "metadata": {
    "collapsed": true
   },
   "outputs": [],
   "source": []
  }
 ],
 "metadata": {
  "anaconda-cloud": {},
  "kernelspec": {
   "display_name": "Python [conda root]",
   "language": "python",
   "name": "conda-root-py"
  },
  "language_info": {
   "codemirror_mode": {
    "name": "ipython",
    "version": 3
   },
   "file_extension": ".py",
   "mimetype": "text/x-python",
   "name": "python",
   "nbconvert_exporter": "python",
   "pygments_lexer": "ipython3",
   "version": "3.5.2"
  }
 },
 "nbformat": 4,
 "nbformat_minor": 1
}
