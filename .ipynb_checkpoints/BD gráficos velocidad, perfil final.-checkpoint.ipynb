{
 "cells": [
  {
   "cell_type": "code",
   "execution_count": 1,
   "metadata": {
    "collapsed": false
   },
   "outputs": [
    {
     "name": "stdout",
     "output_type": "stream",
     "text": [
      "Using matplotlib backend: Qt5Agg\n"
     ]
    }
   ],
   "source": [
    "import pandas as pd\n",
    "import os\n",
    "import csv\n",
    "import numpy as np\n",
    "from matplotlib import pyplot as plt\n",
    "%matplotlib"
   ]
  },
  {
   "cell_type": "code",
   "execution_count": 2,
   "metadata": {
    "collapsed": true
   },
   "outputs": [],
   "source": [
    "from scipy.interpolate import UnivariateSpline\n",
    "from scipy.optimize import curve_fit\n",
    "from scipy import interpolate, optimize"
   ]
  },
  {
   "cell_type": "code",
   "execution_count": 3,
   "metadata": {
    "collapsed": true
   },
   "outputs": [],
   "source": [
    "#lectura de archivos\n",
    "file_endings = ['.csv', ' - dinamica.csv', ' - perfil.csv', ' - flir.csv']\n",
    "\n",
    "#Experimento es una lista que guarda todos los experimentos y accede a los DF que son los definidos en file_endings\n",
    "class Experimento(object):\n",
    "    def __init__(self, filename):\n",
    "        self.files = ['{}{}'.format(filename, file_ending) for file_ending in file_endings]\n",
    "            \n",
    "        pandas_settings = {\n",
    "            'delimiter': ';',\n",
    "            'thousands': '.',\n",
    "            'decimal': ',',\n",
    "            'engine': 'python',\n",
    "        }\n",
    "        #se definen los 4 DF param, dinamica, perfil y flir.\n",
    "        self.param = pd.read_csv(self.files[0], engine= 'python', delimiter=';')\n",
    "        self.dinamica = pd.read_csv(self.files[1], **pandas_settings)\n",
    "        self.perfil = pd.read_csv(self.files[2], **pandas_settings)\n",
    "    #    self.flir = pd.read_csv(self.files[3], **pandas_settings)\n",
    "        \n",
    "        #paso los resultados de dinamica a param para poder usarlos facilmente\n",
    "        self.param['result: largo final'] = self.dinamica['avance: distancia desde punto eyeccion'].iloc[-1]\n",
    "        self.param['result: largo total'] = self.dinamica['avance: largo total flujo'].iloc[-1]\n",
    "        self.param['result: ancho max final'] = self.dinamica['avance: ancho maximo'].iloc[-1]\n",
    "        self.param['result: espesor max final'] = self.perfil['perfil: espesor'].max()\n",
    "        self.param['result: distancia espesor final'] = self.perfil['perfil: distancia'].iloc[self.perfil['perfil: espesor'].argmax()]\n",
    "        \n",
    "    #se guarda el nuevo archivo con los datos sacados de distintos DF  \n",
    "    def to_csvs(self, safe=False):\n",
    "        if safe:\n",
    "            try:\n",
    "                for file in self.files:\n",
    "                    os.rename(file, '{}.old'.format(file))\n",
    "            except Exception as e:\n",
    "                print('The files already exists', e)\n",
    "                return\n",
    "        else:\n",
    "            for file in self.files:\n",
    "                os.remove(file)\n",
    "        \n",
    "        self.param.to_csv(self.files[0], sep=';')\n",
    "        self.dinamica.to_csv(self.files[1], sep=';')\n",
    "        self.perfil.to_csv(self.files[2], sep=';')\n",
    " #      self.flir.to_csv(self.files[3], sep=';')\n",
    "    #a ver si ya se ha hecho este proceso con los archivos y generar una version .old    \n",
    "    def undone(self):\n",
    "        for file in self.files:\n",
    "            os.rename('{}.old'.format(file), file)\n",
    "    \n",
    "    #funcion para generar rectas segun x datos de DF dinamica\n",
    "    def fit_to_two_curves(self):\n",
    "        def two_lines(x, a, b, c, d):\n",
    "            one = a*x + b\n",
    "            two = c*x + d\n",
    "            return np.maximum(one, two)\n",
    "        \n",
    "        x = np.array(self.dinamica['avance: tiempo'])\n",
    "        y = np.array(self.dinamica['avance: largo total'])\n",
    "    \n",
    "    #no entiendo pa que wea sirve esta funcion...claramente es un plot de desglose, pero pa que? esos datos meh.\n",
    "    def plot_desglose(self, param1, param2):\n",
    "        fig = plt.figure()\n",
    "        ax = fig.add_subplot(1,1,1)\n",
    "\n",
    "        ax.plot(self.flir['FLIR: rango 3'], self.flir['FLIR: rango 4'])\n",
    "        fig.show()\n",
    "        \n",
    "    def __repr__(self):\n",
    "        return self.files[0]\n",
    "        \n",
    "    def __str__(self):\n",
    "        return self.files[0]"
   ]
  },
  {
   "cell_type": "code",
   "execution_count": 4,
   "metadata": {
    "collapsed": true
   },
   "outputs": [],
   "source": [
    "#lista con los nombres de los experimentos\n",
    "nameList = [\n",
    "        '5cc50C',\n",
    "        '1cc54C',\n",
    "        '25cc54C',\n",
    "        '10cc60C',\n",
    "        '25cc60C',\n",
    "        '1cc59C',\n",
    "        '1cc47C',\n",
    "        '1cc55C',\n",
    "        '25cc58C',\n",
    "        '25cc70C',\n",
    "        '10cc67C',\n",
    "        '10cc59C',\n",
    "        '5cc63C',\n",
    "        '5cc59C',\n",
    "        '10cc49C',\n",
    "        '25cc62C',\n",
    "        '1cc62C',\n",
    "        '5cc53C',\n",
    "        '5a25cc56C',\n",
    "        '5cc57C',\n",
    "        '25cc50C',\n",
    "        '10cc55C',\n",
    "        '1cc24C',\n",
    "        '10cc57C',\n",
    "        '10cc24C',\n",
    "        '5cc55C',\n",
    "        '5cc58C',\n",
    "        '1cc48C',\n",
    "        '1cc51C',\n",
    "        '5cc48C',\n",
    "        '10cc50C',\n",
    "        '1cc54,7C',\n",
    "        '1cc52C',\n",
    "\n",
    "]"
   ]
  },
  {
   "cell_type": "code",
   "execution_count": 5,
   "metadata": {
    "collapsed": false
   },
   "outputs": [],
   "source": [
    "Experimentos = [Experimento(filename) for filename in nameList]"
   ]
  },
  {
   "cell_type": "code",
   "execution_count": 33,
   "metadata": {
    "collapsed": false
   },
   "outputs": [
    {
     "ename": "SyntaxError",
     "evalue": "unexpected EOF while parsing (<ipython-input-33-ce5b2c872291>, line 2)",
     "output_type": "error",
     "traceback": [
      "\u001b[0;36m  File \u001b[0;32m\"<ipython-input-33-ce5b2c872291>\"\u001b[0;36m, line \u001b[0;32m2\u001b[0m\n\u001b[0;31m    #print(i,(exp.param['NOMBRE']))\u001b[0m\n\u001b[0m                                   ^\u001b[0m\n\u001b[0;31mSyntaxError\u001b[0m\u001b[0;31m:\u001b[0m unexpected EOF while parsing\n"
     ]
    }
   ],
   "source": [
    "for i, exp in enumerate(Experimentos):\n",
    "    #print(i,(exp.param['NOMBRE']))"
   ]
  },
  {
   "cell_type": "code",
   "execution_count": 18,
   "metadata": {
    "collapsed": false
   },
   "outputs": [
    {
     "data": {
      "text/html": [
       "<div>\n",
       "<table border=\"1\" class=\"dataframe\">\n",
       "  <thead>\n",
       "    <tr style=\"text-align: right;\">\n",
       "      <th></th>\n",
       "      <th>densidad manjar</th>\n",
       "      <th>modelo 3D</th>\n",
       "      <th>volumen total teorico</th>\n",
       "      <th>t amb</th>\n",
       "      <th>termocupla</th>\n",
       "      <th>caudal</th>\n",
       "      <th>angulo inclinacion</th>\n",
       "      <th>NOMBRE</th>\n",
       "      <th>Obs</th>\n",
       "      <th>Exp #</th>\n",
       "      <th>uso manjar</th>\n",
       "      <th>t max</th>\n",
       "      <th>fecha</th>\n",
       "      <th>result: largo final</th>\n",
       "      <th>result: largo total</th>\n",
       "      <th>result: ancho max final</th>\n",
       "      <th>result: espesor max final</th>\n",
       "      <th>result: distancia espesor final</th>\n",
       "    </tr>\n",
       "  </thead>\n",
       "  <tbody>\n",
       "    <tr>\n",
       "      <th>0</th>\n",
       "      <td>1240</td>\n",
       "      <td>NaN</td>\n",
       "      <td>0.00143</td>\n",
       "      <td>23.6</td>\n",
       "      <td>si, punto eyeccion</td>\n",
       "      <td>0.00001</td>\n",
       "      <td>10</td>\n",
       "      <td>10cc67C</td>\n",
       "      <td>NaN</td>\n",
       "      <td>11</td>\n",
       "      <td>?</td>\n",
       "      <td>66.6</td>\n",
       "      <td>2016-06-28 00:00:00</td>\n",
       "      <td>0.32</td>\n",
       "      <td>0.05</td>\n",
       "      <td>0.275</td>\n",
       "      <td>0.021</td>\n",
       "      <td>0.25</td>\n",
       "    </tr>\n",
       "  </tbody>\n",
       "</table>\n",
       "</div>"
      ],
      "text/plain": [
       "   densidad manjar  modelo 3D  volumen total teorico  t amb  \\\n",
       "0             1240        NaN                0.00143   23.6   \n",
       "\n",
       "           termocupla   caudal  angulo inclinacion   NOMBRE  Obs  Exp #  \\\n",
       "0  si, punto eyeccion  0.00001                  10  10cc67C  NaN     11   \n",
       "\n",
       "  uso manjar  t max                fecha  result: largo final  \\\n",
       "0          ?   66.6  2016-06-28 00:00:00                 0.32   \n",
       "\n",
       "   result: largo total  result: ancho max final  result: espesor max final  \\\n",
       "0                 0.05                    0.275                      0.021   \n",
       "\n",
       "   result: distancia espesor final  \n",
       "0                             0.25  "
      ]
     },
     "execution_count": 18,
     "metadata": {},
     "output_type": "execute_result"
    }
   ],
   "source": [
    "Experimentos[10].param.head()"
   ]
  },
  {
   "cell_type": "code",
   "execution_count": 19,
   "metadata": {
    "collapsed": true
   },
   "outputs": [],
   "source": [
    "#FUNCION Q DEVUELVE RANGO SEGUN TEMP MAXIMA DEL EXP\n",
    "def rango_temperatura(temp):\n",
    "    if temp < 40:\n",
    "        return 1\n",
    "    if temp < 45:\n",
    "        return 2\n",
    "    if temp < 50:\n",
    "        return 3\n",
    "    if temp < 55:\n",
    "        return 4\n",
    "    if temp < 60:\n",
    "        return 5\n",
    "    if temp < 65:\n",
    "        return 6\n",
    "    if temp < 70:\n",
    "        return 7"
   ]
  },
  {
   "cell_type": "code",
   "execution_count": 241,
   "metadata": {
    "collapsed": false
   },
   "outputs": [],
   "source": [
    "#lista para armar graficos de PERFIL agrupados por caudal\n",
    "#es una lista donde en cada value hay un diccionario por experimento\n",
    "listaporcaudal = []\n",
    "\n",
    "for exp in Experimentos:\n",
    "    holder = {} #es un diccionario \n",
    "    holder['nombre'] = exp.param['NOMBRE'][0]#solo el valor de la primera fila\n",
    "    holder['espesor'] = exp.perfil['perfil: espesor']#toda la columna\n",
    "    holder['largo'] = exp.perfil['perfil: distancia']#toda la columna\n",
    "    holder['caudal'] = exp.param['caudal'][0]#solo el valor de la primera fila\n",
    "    holder['angulo'] = exp.param['angulo inclinacion'][0]\n",
    "    holder[\"rango temperatura\"] = rango_temperatura(exp.param[\"t max\"][0])\n",
    "    holder['uso'] = exp.param['uso manjar'][0]\n",
    "\n",
    "    listaporcaudal.append(holder)"
   ]
  },
  {
   "cell_type": "code",
   "execution_count": 216,
   "metadata": {
    "collapsed": false
   },
   "outputs": [
    {
     "name": "stdout",
     "output_type": "stream",
     "text": [
      "0 15\n",
      "1 15\n",
      "2 15\n",
      "3 15\n",
      "4 15\n",
      "5 10\n",
      "6 10\n",
      "7 10\n",
      "8 10\n",
      "9 10\n",
      "10 10\n",
      "11 10\n",
      "12 10\n",
      "13 10\n",
      "14 10\n",
      "15 10\n",
      "16 10\n",
      "17 10.2\n",
      "18 10\n",
      "19 10.1\n",
      "20 10\n",
      "21 10.6\n",
      "22 10.5\n",
      "23 10.3\n",
      "24 10.5\n",
      "25 10.2\n",
      "26 10.2\n",
      "27 10.5\n",
      "28 10.4\n",
      "29 10.5\n",
      "30 10.5\n",
      "31 10.4\n",
      "32 10.2\n"
     ]
    }
   ],
   "source": [
    "for i, exp in enumerate(listaporcaudal):\n",
    "    print(i,(exp['angulo']))"
   ]
  },
  {
   "cell_type": "code",
   "execution_count": 88,
   "metadata": {
    "collapsed": true
   },
   "outputs": [],
   "source": [
    "#lista para armar graficos de ANCHO VS ESPESOR agrupados por caudal\n",
    "#es una lista donde en cada value hay un diccionario por experimento\n",
    "listaporanchoyesp = []\n",
    "\n",
    "for exp in Experimentos:\n",
    "    holder = {} #es un diccionario \n",
    "    holder['nombre'] = exp.param['NOMBRE'][0]#solo el valor de la primera fila\n",
    "    holder['espesor'] = exp.param['result: espesor max final']#toda la columna\n",
    "    holder['ancho'] = exp.param['result: ancho max final']#toda la columna\n",
    "    holder['caudal'] = exp.param['caudal'][0]#solo el valor de la primera fila\n",
    "    holder['angulo'] = exp.param['angulo inclinacion'][0]\n",
    "    holder[\"rango temperatura\"] = rango_temperatura(exp.param[\"t max\"][0])\n",
    "\n",
    "    listaporanchoyesp.append(holder)"
   ]
  },
  {
   "cell_type": "code",
   "execution_count": 171,
   "metadata": {
    "collapsed": false
   },
   "outputs": [
    {
     "name": "stdout",
     "output_type": "stream",
     "text": [
      "1e-06\n",
      "1cc54C\n",
      "1cc59C\n",
      "1cc47C\n",
      "1cc55C\n",
      "1cc62C\n",
      "1cc24C\n",
      "1cc48C\n",
      "1cc51C\n",
      "1cc54,7C\n",
      "1cc52C\n",
      "5e-06\n",
      "5cc50C\n",
      "5cc63C\n",
      "5cc59C\n",
      "5cc53C\n",
      "5cc57C\n",
      "5cc55C\n",
      "5cc58C\n",
      "5cc48C\n",
      "1e-05\n",
      "10cc60C\n",
      "10cc67C\n",
      "10cc59C\n",
      "10cc49C\n",
      "10cc55C\n",
      "10cc57C\n",
      "10cc24C\n",
      "10cc50C\n",
      "1.7e-05\n",
      "5a25cc56C\n",
      "2.5e-05\n",
      "25cc54C\n",
      "25cc60C\n",
      "25cc58C\n",
      "25cc70C\n",
      "25cc62C\n",
      "25cc50C\n"
     ]
    }
   ],
   "source": [
    "#se arman grupos segun el valor del caudal\n",
    "from itertools import groupby\n",
    "count = 0\n",
    "\n",
    "#key es la lista donde estan los diccionarios de exp y DF\n",
    "#group es que se agrupa segun el valor de 'caudal' en este caso\n",
    "\n",
    "for key, group in groupby(sorted(listaporcaudal, key=lambda x: x['caudal']), key=lambda x: x['caudal']):\n",
    "    print(key)\n",
    "    count += 1\n",
    "    for exp in group:\n",
    "        #muestra el nombre del grupo y los elementos que tiene\n",
    "        print(exp['nombre']) "
   ]
  },
  {
   "cell_type": "code",
   "execution_count": 173,
   "metadata": {
    "collapsed": false
   },
   "outputs": [
    {
     "data": {
      "text/plain": [
       "5"
      ]
     },
     "execution_count": 173,
     "metadata": {},
     "output_type": "execute_result"
    }
   ],
   "source": [
    "count"
   ]
  },
  {
   "cell_type": "code",
   "execution_count": 53,
   "metadata": {
    "collapsed": false
   },
   "outputs": [],
   "source": [
    "##NO USO ESTO\n",
    "fig = plt.figure()\n",
    "ax = fig.add_subplot(3,2,1)\n",
    "ax2 = fig.add_subplot(3,2,2)\n",
    "ax3 = fig.add_subplot(3,2,3)\n",
    "ax4 = fig.add_subplot(3,2,4)\n",
    "ax5 = fig.add_subplot(3,2,5)\n",
    "        \n",
    "for x in Experimentos:\n",
    "    ax.plot(x.perfil['perfil: distancia'], x.perfil['perfil: espesor'])\n",
    "    ax2.plot(x.perfil['perfil: distancia'], x.perfil['perfil: espesor'])\n",
    "    ax3.plot(x.perfil['perfil: distancia'], x.perfil['perfil: espesor'])\n",
    "    ax4.plot(x.perfil['perfil: distancia'], x.perfil['perfil: espesor'])\n",
    "    ax5.plot(x.perfil['perfil: distancia'], x.perfil['perfil: espesor'])\n",
    "\n",
    "\n",
    "fig.show()"
   ]
  },
  {
   "cell_type": "code",
   "execution_count": 67,
   "metadata": {
    "collapsed": false
   },
   "outputs": [],
   "source": [
    "#EJES GRAFICOS PERFILES SEGUN CAUDAL\n",
    "maximoejelargo = max([exp['largo'].max() for exp in listaporcaudal])\n",
    "minimoejelargo = min([exp['largo'].min() for exp in listaporcaudal])\n",
    "maximoejeespesor = max([exp['espesor'].max() for exp in listaporcaudal])\n",
    "minimoejeespesor = min([exp['espesor'].min() for exp in listaporcaudal])"
   ]
  },
  {
   "cell_type": "code",
   "execution_count": 89,
   "metadata": {
    "collapsed": false
   },
   "outputs": [],
   "source": [
    "#EJES GRAFICOS ANCHOS MAXIMOS SEGUN CAUDAL\n",
    "maximoejeancho = max([exp['ancho'].max() for exp in listaporanchoyesp])\n",
    "minimoejeancho = min([exp['ancho'].min() for exp in listaporanchoyesp])\n",
    "maximoejeespesor = max([exp['espesor'].max() for exp in listaporanchoyesp])\n",
    "minimoejeespesor = min([exp['espesor'].min() for exp in listaporanchoyesp])"
   ]
  },
  {
   "cell_type": "code",
   "execution_count": 258,
   "metadata": {
    "collapsed": false
   },
   "outputs": [
    {
     "name": "stdout",
     "output_type": "stream",
     "text": [
      "['pat1', 'pat2', 'pat3', 'pat4', 'pat5', 'pat6', 'pat7']\n"
     ]
    }
   ],
   "source": [
    "#GENERA COLORES SEGUN TEMPERATURA\n",
    "import matplotlib.patches as mpatches\n",
    "\n",
    "pat1 = mpatches.Patch(color='C1', label='temp < 40')\n",
    "pat2 = mpatches.Patch(color='C2', label='temp < 45')\n",
    "pat3 = mpatches.Patch(color='C3', label='temp < 50')\n",
    "pat4 = mpatches.Patch(color='C4', label='temp < 55')\n",
    "pat5 = mpatches.Patch(color='C5', label='temp < 60')\n",
    "pat6 = mpatches.Patch(color='C6', label='temp < 65')\n",
    "pat7 = mpatches.Patch(color='C7', label='temp < 70')\n",
    "\n",
    "numerocolores = 7\n",
    "colors = ['pat{}'.format(i+1) for i in range(numerocolores)]\n",
    "\n",
    "print(colors)"
   ]
  },
  {
   "cell_type": "code",
   "execution_count": 262,
   "metadata": {
    "collapsed": false,
    "scrolled": true
   },
   "outputs": [
    {
     "name": "stdout",
     "output_type": "stream",
     "text": [
      "1e-06\n",
      "5e-06\n",
      "1e-05\n",
      "1.7e-05\n",
      "2.5e-05\n"
     ]
    }
   ],
   "source": [
    "#CASI LISTO!!! FALTA LEYENDA LINEA PUNTEADA Y CONTINUA\n",
    "#5 GRAFICOS DE PERFIL AGRUPADOS POR CAUDAL Y COLOREADOS SEGUN TEMEPRATURA\n",
    "fig = plt.figure()\n",
    "axes = [fig.add_subplot(3,2,i+1) for i in range(count)]\n",
    "counter = 0\n",
    "\n",
    "for key, group in groupby(sorted(listaporcaudal, key=lambda x: x['caudal']), key=lambda x: x['caudal']):\n",
    "    print(key)\n",
    "    ax = axes[counter]\n",
    "    ax.set_xlim(minimoejelargo, maximoejelargo)\n",
    "    ax.set_ylim(0, maximoejeespesor)\n",
    "    ax.set_title('{}cc'.format(key*1000000))\n",
    "    counter += 1\n",
    "    \n",
    "    for exp in group:\n",
    "        #print(\"C{}\".format(exp[\"rango temperatura\"]))\n",
    "        if exp['angulo'] == 15:\n",
    "            ax.plot(exp['largo'], exp['espesor'], color='C{}'.format(exp['rango temperatura']), \n",
    "                    linestyle= '--')\n",
    "        else:\n",
    "            ax.plot(exp['largo'], exp['espesor'], color='C{}'.format(exp['rango temperatura']))\n",
    "            \n",
    "linea1= ax.plot([],[], label='15°', linestyle='--', color='black')\n",
    "linea2= ax.plot([],[], label='10°', color='black')      \n",
    "legend1 = plt.legend(handles=[pat1, pat2, pat3, pat4, pat5, pat6, pat7], bbox_to_anchor=(1.8, 0.5), loc=5)\n",
    "plt.legend(bbox_to_anchor=(1.8, 0.5), loc=6)\n",
    "plt.gca().add_artist(legend1)\n",
    "fig.show()"
   ]
  },
  {
   "cell_type": "code",
   "execution_count": 263,
   "metadata": {
    "collapsed": false
   },
   "outputs": [
    {
     "name": "stdout",
     "output_type": "stream",
     "text": [
      "1e-06\n",
      "5e-06\n",
      "1e-05\n",
      "1.7e-05\n",
      "2.5e-05\n"
     ]
    }
   ],
   "source": [
    "#LISTOOOO\n",
    "#5 GRAFICOS DE PERFIL AGRUPADOS POR CAUDAL Y COLOREADOS SEGUN TEMEPRATURA \n",
    "#SOLO PRIMER USO DEL MANJAR\n",
    "fig = plt.figure()\n",
    "axes = [fig.add_subplot(3,2,i+1) for i in range(count)]\n",
    "counter = 0\n",
    "\n",
    "\n",
    "\n",
    "for key, group in groupby(sorted(listaporcaudal, key=lambda x: x['caudal']), key=lambda x: x['caudal']):\n",
    "    print(key)\n",
    "    ax = axes[counter]\n",
    "    ax.set_xlim(minimoejelargo, maximoejelargo)\n",
    "    ax.set_ylim(0, maximoejeespesor)\n",
    "    ax.set_title('{}cc'.format(key*1000000))\n",
    "    counter += 1\n",
    "    linea1= ax.plot([],[], label='15°', linestyle='--', color='black')\n",
    "    linea2= ax.plot([],[], label='10°', color='black')\n",
    "    \n",
    "    for exp in group:\n",
    "        #print(\"C{}\".format(exp[\"rango temperatura\"]))\n",
    "        if exp['uso'] == 1: \n",
    "            if exp['angulo'] == 15:\n",
    "                ax.plot(exp['largo'], exp['espesor'], color='C{}'.format(exp['rango temperatura']), \n",
    "                        linestyle= '--')\n",
    "            else:\n",
    "                ax.plot(exp['largo'], exp['espesor'], color='C{}'.format(exp['rango temperatura']))\n",
    "        \n",
    "legend1 = plt.legend(handles=[pat1, pat2, pat3, pat4, pat5, pat6, pat7], bbox_to_anchor=(1.8, 0.5), loc=5)\n",
    "plt.legend(bbox_to_anchor=(1.8, 0.5), loc=6)\n",
    "plt.gca().add_artist(legend1)\n",
    "fig.show()"
   ]
  },
  {
   "cell_type": "code",
   "execution_count": 205,
   "metadata": {
    "collapsed": false
   },
   "outputs": [
    {
     "name": "stdout",
     "output_type": "stream",
     "text": [
      "1e-06\n",
      "5e-06\n",
      "1e-05\n",
      "1.7e-05\n",
      "2.5e-05\n"
     ]
    }
   ],
   "source": [
    "#LISTO!!!\n",
    "#1 GRAFICO DE ESPESOR VS ANCHO AGRUPADOS POR CAUDAL Y COLOREADOS X TEMPERATURA\n",
    "fig, ax = plt.subplots()\n",
    "counter = 0\n",
    "marqer = ['o', 'v', '^', '<', '>']\n",
    "plotmarqer = []\n",
    "\n",
    "from matplotlib import markers\n",
    "\n",
    "contadorkey = 0\n",
    "\n",
    "for key, group in groupby(sorted(listaporanchoyesp, key=lambda x: x['caudal']), \n",
    "                          key=lambda x: x['caudal']):\n",
    "    print(key)\n",
    "    ax.set_xlim(minimoejeancho-0.02, maximoejeancho+0.02)\n",
    "    ax.set_ylim(maximoejeespesor-0.02, maximoejeespesor+0.001)\n",
    "    markadorkey = marqer[contadorkey]\n",
    "    contadorkey += 1\n",
    "    \n",
    "    for i, exp in enumerate(group):\n",
    "        l = ax.scatter(exp['ancho'], exp['espesor'], color='C{}'.format(exp['rango temperatura']), marker= markadorkey)\n",
    "        if i == 0:\n",
    "            plotmarqer.append(ax.scatter([], [], color='black', marker=markadorkey, label=exp['caudal']))\n",
    "\n",
    "legendcolors2 = [pat1, pat2, pat3, pat4, pat5, pat6, pat7]\n",
    "\n",
    "legend1 = plt.legend(handles=plotmarqer, loc= 3)\n",
    "plt.legend(handles=legendcolors2, loc=2)\n",
    "plt.gca().add_artist(legend1)\n",
    "plt.show()"
   ]
  },
  {
   "cell_type": "code",
   "execution_count": 196,
   "metadata": {
    "collapsed": false
   },
   "outputs": [],
   "source": [
    "#lista para armar figures de velocidad segun Q\n",
    "listadinamica = []\n",
    "#es una lista donde en cada value hay un diccionario por experimento\n",
    "#ANOTAR EN UNA HOJA COMO SE VE Y USA ESTO PLS\n",
    "for exp in Experimentos:\n",
    "    holder = {} #es un diccionario \n",
    "    holder['nombre'] = exp.param['NOMBRE'][0]#solo el valor de la primera fila\n",
    "    holder['tiempo'] = exp.dinamica['avance: tiempo']#toda la columna\n",
    "    holder['distancia'] = exp.dinamica['avance: distancia desde punto eyeccion']#toda la columna\n",
    "    holder['caudal'] = exp.param['caudal'][0]#solo el valor de la primera fila\n",
    "    holder['angulo'] = exp.param['angulo inclinacion'][0]\n",
    "    holder[\"rango temperatura\"] = rango_temperatura(exp.param[\"t max\"][0])\n",
    "        \n",
    "    listadinamica.append(holder)"
   ]
  },
  {
   "cell_type": "code",
   "execution_count": 198,
   "metadata": {
    "collapsed": false
   },
   "outputs": [
    {
     "data": {
      "text/plain": [
       "33"
      ]
     },
     "execution_count": 198,
     "metadata": {},
     "output_type": "execute_result"
    }
   ],
   "source": [
    "len(listadinamica)\n",
    "#    if exp.param['t max'][0] < 40:\n",
    "#        holder['rango temperatura'] = 7\n",
    "#        continue\n",
    "#    if exp.param['t max'][0] < 45:\n",
    "#        holder['rango temperatura'] = 1\n",
    "#        continue\n",
    "#    if exp.param['t max'][0] < 50:\n",
    "#        holder['rango temperatura'] = 2\n",
    "#        continue\n",
    "#    if exp.param['t max'][0] < 55:\n",
    "#        holder['rango temperatura'] = 3\n",
    "#        continue\n",
    "#    if exp.param['t max'][0] < 60:\n",
    "#        holder['rango temperatura'] = 4\n",
    "#        continue\n",
    "#    if exp.param['t max'][0] < 65:\n",
    "#        holder['rango temperatura'] = 5\n",
    "#    if exp.param['t max'][0] < 70:\n",
    "#        holder['rango temperatura'] = 6  \n"
   ]
  },
  {
   "cell_type": "code",
   "execution_count": 170,
   "metadata": {
    "collapsed": false
   },
   "outputs": [
    {
     "data": {
      "text/html": [
       "<div>\n",
       "<table border=\"1\" class=\"dataframe\">\n",
       "  <thead>\n",
       "    <tr style=\"text-align: right;\">\n",
       "      <th></th>\n",
       "      <th>Unnamed: 0</th>\n",
       "      <th>avance: tiempo</th>\n",
       "      <th>avance: distancia desde punto eyeccion</th>\n",
       "      <th>avance: distancia hacia atrás</th>\n",
       "      <th>avance: largo total flujo</th>\n",
       "      <th>avance: ancho maximo</th>\n",
       "    </tr>\n",
       "  </thead>\n",
       "  <tbody>\n",
       "    <tr>\n",
       "      <th>0</th>\n",
       "      <td>0</td>\n",
       "      <td>0.000000</td>\n",
       "      <td>0.00</td>\n",
       "      <td>0.000</td>\n",
       "      <td>0.000</td>\n",
       "      <td>0.00</td>\n",
       "    </tr>\n",
       "    <tr>\n",
       "      <th>1</th>\n",
       "      <td>1</td>\n",
       "      <td>0.433333</td>\n",
       "      <td>0.01</td>\n",
       "      <td>0.012</td>\n",
       "      <td>0.002</td>\n",
       "      <td>0.02</td>\n",
       "    </tr>\n",
       "    <tr>\n",
       "      <th>2</th>\n",
       "      <td>2</td>\n",
       "      <td>3.433333</td>\n",
       "      <td>0.02</td>\n",
       "      <td>0.025</td>\n",
       "      <td>0.005</td>\n",
       "      <td>0.05</td>\n",
       "    </tr>\n",
       "    <tr>\n",
       "      <th>3</th>\n",
       "      <td>3</td>\n",
       "      <td>6.166667</td>\n",
       "      <td>0.03</td>\n",
       "      <td>0.038</td>\n",
       "      <td>0.008</td>\n",
       "      <td>0.07</td>\n",
       "    </tr>\n",
       "    <tr>\n",
       "      <th>4</th>\n",
       "      <td>4</td>\n",
       "      <td>8.833333</td>\n",
       "      <td>0.04</td>\n",
       "      <td>0.050</td>\n",
       "      <td>0.010</td>\n",
       "      <td>0.08</td>\n",
       "    </tr>\n",
       "  </tbody>\n",
       "</table>\n",
       "</div>"
      ],
      "text/plain": [
       "   Unnamed: 0  avance: tiempo  avance: distancia desde punto eyeccion  \\\n",
       "0           0        0.000000                                    0.00   \n",
       "1           1        0.433333                                    0.01   \n",
       "2           2        3.433333                                    0.02   \n",
       "3           3        6.166667                                    0.03   \n",
       "4           4        8.833333                                    0.04   \n",
       "\n",
       "   avance: distancia hacia atrás  avance: largo total flujo  \\\n",
       "0                          0.000                      0.000   \n",
       "1                          0.012                      0.002   \n",
       "2                          0.025                      0.005   \n",
       "3                          0.038                      0.008   \n",
       "4                          0.050                      0.010   \n",
       "\n",
       "   avance: ancho maximo  \n",
       "0                  0.00  \n",
       "1                  0.02  \n",
       "2                  0.05  \n",
       "3                  0.07  \n",
       "4                  0.08  "
      ]
     },
     "execution_count": 170,
     "metadata": {},
     "output_type": "execute_result"
    }
   ],
   "source": [
    "Experimentos[10].dinamica.head()"
   ]
  },
  {
   "cell_type": "code",
   "execution_count": 271,
   "metadata": {
    "collapsed": false
   },
   "outputs": [
    {
     "name": "stdout",
     "output_type": "stream",
     "text": [
      "0 1e-06\n",
      "1 5e-06\n",
      "2 1e-05\n",
      "3 1.7e-05\n",
      "4 2.5e-05\n"
     ]
    }
   ],
   "source": [
    "#FALTA: LEYENDA 25CC DENTRO DEL GRAFICO Y LEYENDA TIPO LINEA Y ANGULO\n",
    "#empezamo el ploteo de todas las dinamicas agrupados segun caudal\n",
    "fig = plt.figure()\n",
    "axes = []\n",
    "\n",
    "#este plot hace cuantos subplot necesite segun un contador que da el numero de\n",
    "#grupos generados en el groupby\n",
    "for x in range(count):\n",
    "    axes.append(fig.add_subplot(2, 3, x + 1))\n",
    "\n",
    "#UNA COLUMNA DE GRAFICOS CON VARIAS FILAS SEGUN GRUPO\n",
    "#se generan los ejes de cada plot\n",
    "#i es el indice de lista y luego cada value en lista (???)\n",
    "for i, (key, group) in enumerate(groupby(sorted(listadinamica, key=lambda x: x['caudal']), key=lambda x: x['caudal'])):\n",
    "    print(i, key)\n",
    "\n",
    "    for exp in group:\n",
    "        if exp['angulo'] == 15:\n",
    "            axes[i].loglog(exp['tiempo'], exp['distancia'], color='C{}'.format(exp['rango temperatura']),\n",
    "                           linestyle='--')\n",
    "        else:\n",
    "            axes[i].loglog(exp['tiempo'], exp['distancia'], color='C{}'.format(exp['rango temperatura']))\n",
    "        axes[i].legend([key])\n",
    "            \n",
    "linea1= ax.plot([],[], label='15°', linestyle='--', color='black')\n",
    "linea2= ax.plot([],[], label='10°', color='black')       \n",
    "\n",
    "legend1 = plt.legend(handles=[pat1, pat2, pat3, pat4, pat5, pat6, pat7], bbox_to_anchor=(1.8, 0.5), loc=5)\n",
    "plt.legend(bbox_to_anchor=(1.8, 0.5), loc=6)\n",
    "plt.gca().add_artist(legend1)\n",
    "fig.show()"
   ]
  }
 ],
 "metadata": {
  "kernelspec": {
   "display_name": "Python [conda root]",
   "language": "python",
   "name": "conda-root-py"
  },
  "language_info": {
   "codemirror_mode": {
    "name": "ipython",
    "version": 3
   },
   "file_extension": ".py",
   "mimetype": "text/x-python",
   "name": "python",
   "nbconvert_exporter": "python",
   "pygments_lexer": "ipython3",
   "version": "3.5.2"
  }
 },
 "nbformat": 4,
 "nbformat_minor": 1
}
