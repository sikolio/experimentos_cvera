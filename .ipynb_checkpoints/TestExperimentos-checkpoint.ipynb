{
 "cells": [
  {
   "cell_type": "code",
   "execution_count": 2,
   "metadata": {
    "collapsed": false
   },
   "outputs": [
    {
     "name": "stdout",
     "output_type": "stream",
     "text": [
      "3.5.2\n"
     ]
    }
   ],
   "source": [
    "import platform\n",
    "print(platform.python_version())"
   ]
  },
  {
   "cell_type": "code",
   "execution_count": 1,
   "metadata": {
    "collapsed": false
   },
   "outputs": [],
   "source": [
    "import pandas as pd\n",
    "import csv\n",
    "import numpy as np\n",
    "import os"
   ]
  },
  {
   "cell_type": "code",
   "execution_count": 2,
   "metadata": {
    "collapsed": true
   },
   "outputs": [],
   "source": [
    "from scipy.interpolate import UnivariateSpline\n",
    "from scipy.optimize import curve_fit\n",
    "from scipy import interpolate, optimize"
   ]
  },
  {
   "cell_type": "code",
   "execution_count": 3,
   "metadata": {
    "collapsed": false
   },
   "outputs": [
    {
     "name": "stdout",
     "output_type": "stream",
     "text": [
      "Using matplotlib backend: Qt5Agg\n"
     ]
    }
   ],
   "source": [
    "from matplotlib import pyplot as plt\n",
    "%matplotlib"
   ]
  },
  {
   "cell_type": "code",
   "execution_count": 8,
   "metadata": {
    "collapsed": false
   },
   "outputs": [],
   "source": [
    "file_endings = ['.csv', ' - dinamica.csv', ' - perfil.csv', ' - flir.csv']\n",
    "\n",
    "\n",
    "class Experimento(object):\n",
    "    def __init__(self, filename):\n",
    "        self.files = ['{}{}'.format(filename, file_ending) for file_ending in file_endings]\n",
    "            \n",
    "        pandas_settings = {\n",
    "            'delimiter': ';',\n",
    "            'thousands': '.',\n",
    "            'decimal': ',',\n",
    "            'engine': 'python',\n",
    "        }\n",
    "        \n",
    "        self.param = pd.read_csv(self.files[0], **pandas_settings)\n",
    "        self.dinamica = pd.read_csv(self.files[1], **pandas_settings)\n",
    "        self.perfil = pd.read_csv(self.files[2], **pandas_settings)\n",
    "        self.flir = pd.read_csv(self.files[3], **pandas_settings)\n",
    "        \n",
    "        self.param['result: largo final'] = self.dinamica['avance: distancia desde punto eyeccion'].iloc[-1]\n",
    "        self.param['result: largo total'] = self.dinamica['avance: largo total flujo'].iloc[-1]\n",
    "        self.param['result: ancho maximo final'] = self.dinamica['avance: ancho maximo'].iloc[-1]\n",
    "        \n",
    "        self.param['result: espesor maximo final'] = self.perfil['perfil: espesor'].max()\n",
    "        self.param['result: distancia espesor final'] = self.perfil['perfil: largo'].iloc[self.perfil['perfil: espesor'].argmax()]\n",
    "        \n",
    "    def to_csvs(self, safe=False):\n",
    "        if safe:\n",
    "            try:\n",
    "                for file in self.files:\n",
    "                    os.rename(file, '{}.old'.format(file))\n",
    "            except Exception as e:\n",
    "                print('The files already exists', e)\n",
    "                return\n",
    "        else:\n",
    "            for file in self.files:\n",
    "                os.remove(file)\n",
    "        \n",
    "        self.param.to_csv(self.files[0], sep=';')\n",
    "        self.dinamica.to_csv(self.files[1], sep=';')\n",
    "        self.perfil.to_csv(self.files[2], sep=';')\n",
    "        self.flir.to_csv(self.files[3], sep=';')\n",
    "        \n",
    "    def undone(self):\n",
    "        for file in self.files:\n",
    "            os.rename('{}.old'.format(file), file)\n",
    "            \n",
    "    def fit_to_two_curves(self):\n",
    "        def two_lines(x, a, b, c, d):\n",
    "            one = a*x + b\n",
    "            two = c*x + d\n",
    "            return np.maximum(one, two)\n",
    "        \n",
    "        x = np.array(self.dinamica['avance: tiempo'])\n",
    "        y = np.array(self.dinamica['avance: largo total'])\n",
    "        \n",
    "    def plot_desglose(self, param1, param2):\n",
    "        fig = plt.figure()\n",
    "        ax = fig.add_subplot(1,1,1)\n",
    "\n",
    "        ax.plot(self.flir['FLIR: rango 3'], self.flir['FLIR: rango 4'])\n",
    "        fig.show()\n",
    "        \n",
    "    def __repr__(self):\n",
    "        return self.files[0]\n",
    "        \n",
    "    def __str__(self):\n",
    "        return self.files[0]"
   ]
  },
  {
   "cell_type": "code",
   "execution_count": 5,
   "metadata": {
    "collapsed": true
   },
   "outputs": [],
   "source": [
    "nameList = [\n",
    "    '1cc51C',\n",
    "    '1cc55C',\n",
    "    '5cc58C',\n",
    "    '10cc50C',\n",
    "]"
   ]
  },
  {
   "cell_type": "code",
   "execution_count": 9,
   "metadata": {
    "collapsed": false
   },
   "outputs": [],
   "source": [
    "Experimentos = [Experimento(filename) for filename in nameList]"
   ]
  },
  {
   "cell_type": "code",
   "execution_count": 80,
   "metadata": {
    "collapsed": true
   },
   "outputs": [],
   "source": [
    "exp1 = Experimentos[0]"
   ]
  },
  {
   "cell_type": "code",
   "execution_count": 14,
   "metadata": {
    "collapsed": false
   },
   "outputs": [],
   "source": [
    "caudal1 = [exp for exp in Experimentos if exp.param['caudal '][0] == 0.000001]"
   ]
  },
  {
   "cell_type": "code",
   "execution_count": 15,
   "metadata": {
    "collapsed": false
   },
   "outputs": [
    {
     "data": {
      "text/plain": [
       "[1cc51C.csv, 1cc55C.csv]"
      ]
     },
     "execution_count": 15,
     "metadata": {},
     "output_type": "execute_result"
    }
   ],
   "source": [
    "caudal1"
   ]
  },
  {
   "cell_type": "code",
   "execution_count": 43,
   "metadata": {
    "collapsed": false
   },
   "outputs": [
    {
     "data": {
      "text/html": [
       "<div>\n",
       "<table border=\"1\" class=\"dataframe\">\n",
       "  <thead>\n",
       "    <tr style=\"text-align: right;\">\n",
       "      <th></th>\n",
       "      <th>Unnamed: 0</th>\n",
       "      <th>Nombre exp</th>\n",
       "      <th>fecha</th>\n",
       "      <th>exp #</th>\n",
       "      <th>uso manjar #</th>\n",
       "      <th>caudal</th>\n",
       "      <th>temperatura maxima</th>\n",
       "      <th>temperatura ambiente</th>\n",
       "      <th>angulo inclinacion</th>\n",
       "      <th>densidad manjar (t ambiente)</th>\n",
       "      <th>...</th>\n",
       "      <th>pixeles</th>\n",
       "      <th>result: largo final desde punto eyeccion</th>\n",
       "      <th>result: largo total</th>\n",
       "      <th>result: ancho maximo final</th>\n",
       "      <th>result: tiempo total medicion</th>\n",
       "      <th>result: espesor maximo</th>\n",
       "      <th>result: distancia a espesor maximo</th>\n",
       "      <th>result: largo final</th>\n",
       "      <th>result: espesor maximo final</th>\n",
       "      <th>result: distancia espesor final</th>\n",
       "    </tr>\n",
       "  </thead>\n",
       "  <tbody>\n",
       "    <tr>\n",
       "      <th>0</th>\n",
       "      <td>0</td>\n",
       "      <td>1cc51C</td>\n",
       "      <td>16-09-2029</td>\n",
       "      <td>29</td>\n",
       "      <td>2</td>\n",
       "      <td>0.000001</td>\n",
       "      <td>51</td>\n",
       "      <td>24.7</td>\n",
       "      <td>10.4</td>\n",
       "      <td>1240</td>\n",
       "      <td>...</td>\n",
       "      <td>1020100</td>\n",
       "      <td>NaN</td>\n",
       "      <td>0.398</td>\n",
       "      <td>0.285</td>\n",
       "      <td>54208.68333</td>\n",
       "      <td>0.019</td>\n",
       "      <td>0.2</td>\n",
       "      <td>0.33</td>\n",
       "      <td>0.019</td>\n",
       "      <td>0.2</td>\n",
       "    </tr>\n",
       "  </tbody>\n",
       "</table>\n",
       "<p>1 rows × 22 columns</p>\n",
       "</div>"
      ],
      "text/plain": [
       "   Unnamed: 0 Nombre exp       fecha  exp #  uso manjar #   caudal   \\\n",
       "0           0     1cc51C  16-09-2029     29             2  0.000001   \n",
       "\n",
       "   temperatura maxima  temperatura ambiente  angulo inclinacion  \\\n",
       "0                  51                  24.7                10.4   \n",
       "\n",
       "   densidad manjar (t ambiente)               ...                 pixeles  \\\n",
       "0                          1240               ...                 1020100   \n",
       "\n",
       "  result: largo final desde punto eyeccion  result: largo total  \\\n",
       "0                                      NaN                0.398   \n",
       "\n",
       "   result: ancho maximo final  result: tiempo total medicion  \\\n",
       "0                       0.285                    54208.68333   \n",
       "\n",
       "   result: espesor maximo  result: distancia a espesor maximo  \\\n",
       "0                   0.019                                 0.2   \n",
       "\n",
       "   result: largo final  result: espesor maximo final  \\\n",
       "0                 0.33                         0.019   \n",
       "\n",
       "   result: distancia espesor final  \n",
       "0                              0.2  \n",
       "\n",
       "[1 rows x 22 columns]"
      ]
     },
     "execution_count": 43,
     "metadata": {},
     "output_type": "execute_result"
    }
   ],
   "source": [
    "Experimentos[0].param.head()"
   ]
  },
  {
   "cell_type": "code",
   "execution_count": 49,
   "metadata": {
    "collapsed": false
   },
   "outputs": [],
   "source": [
    "lista = []\n",
    "\n",
    "for exp in Experimentos:\n",
    "    holder = {}\n",
    "    holder['nombre'] = exp.param['Nombre exp'][0]\n",
    "    holder['espesor'] = exp.perfil['perfil: espesor']\n",
    "    holder['largo'] = exp.perfil['perfil: largo']\n",
    "    holder['caudal'] = exp.param['caudal '][0]\n",
    "    lista.append(holder)"
   ]
  },
  {
   "cell_type": "code",
   "execution_count": 60,
   "metadata": {
    "collapsed": false
   },
   "outputs": [
    {
     "name": "stdout",
     "output_type": "stream",
     "text": [
      "1e-06\n",
      "1cc51C\n",
      "1cc55C\n",
      "5e-06\n",
      "5cc58C\n",
      "1e-05\n",
      "10cc50C\n"
     ]
    }
   ],
   "source": [
    "from itertools import groupby\n",
    "\n",
    "count = 0\n",
    "for key, group in groupby(lista, key=lambda x: x['caudal']):\n",
    "    print(key)\n",
    "    count += 1\n",
    "    for exp in group:\n",
    "        print(exp['nombre'])"
   ]
  },
  {
   "cell_type": "code",
   "execution_count": 66,
   "metadata": {
    "collapsed": false
   },
   "outputs": [],
   "source": [
    "fig = plt.figure()\n",
    "axes = []\n",
    "for x in range(count):\n",
    "    axes.append(fig.add_subplot(count, 1, x + 1))"
   ]
  },
  {
   "cell_type": "code",
   "execution_count": 73,
   "metadata": {
    "collapsed": false
   },
   "outputs": [
    {
     "name": "stdout",
     "output_type": "stream",
     "text": [
      "0 1e-06\n",
      "1 5e-06\n",
      "2 1e-05\n"
     ]
    }
   ],
   "source": [
    "for i, (key, group) in enumerate(groupby(lista, key=lambda x: x['caudal'])):\n",
    "    print(i, key)\n",
    "    for exp in group:\n",
    "        axes[i].plot(exp['largo'], exp['espesor'], 'o')\n",
    "        axes[i].legend([key])\n",
    "\n"
   ]
  },
  {
   "cell_type": "code",
   "execution_count": 74,
   "metadata": {
    "collapsed": false
   },
   "outputs": [],
   "source": [
    "fig = plt.figure()\n",
    "ax = fig.add_subplot(3,2,1)\n",
    "ax2 = fig.add_subplot(3,2,2)\n",
    "ax3 = fig.add_subplot(3,2,5)\n",
    "\n",
    "for x in listExps:\n",
    "    ax.plot(x.perfil['perfil: largo'], x.perfil['perfil: espesor'], 'o')\n",
    "    ax2.plot(x.perfil['perfil: espesor'], x.perfil['perfil: largo'], 'x')\n",
    "    ax3.plot(x.perfil['perfil: espesor'], x.perfil['perfil: largo'], 'x')\n",
    "\n",
    "fig.show()"
   ]
  },
  {
   "cell_type": "code",
   "execution_count": 75,
   "metadata": {
    "collapsed": false
   },
   "outputs": [],
   "source": [
    "xs = []\n",
    "ys = []\n",
    "labels = []\n",
    "\n",
    "for exp in listExps:\n",
    "    xs.append(exp.params['caudal '][0])\n",
    "    ys.append(exp.params['result: largo total'][0])\n",
    "    labels.append(exp.params['temperatura maxima'][0])"
   ]
  },
  {
   "cell_type": "code",
   "execution_count": 76,
   "metadata": {
    "collapsed": true
   },
   "outputs": [],
   "source": [
    "fig_1 = pd.DataFrame(dict(x=xs, y=ys, label=labels))\n",
    "\n",
    "fig_1['new labels'] = fig_1['label'] < 53\n",
    "\n",
    "groups = fig_1.groupby('new labels')"
   ]
  },
  {
   "cell_type": "code",
   "execution_count": 77,
   "metadata": {
    "collapsed": false
   },
   "outputs": [],
   "source": [
    "fig, ax = plt.subplots()\n",
    "\n",
    "\n",
    "for temp, group in groups:\n",
    "    ax.plot(group.x, group.y, marker='o', linestyle='', ms=12)\n",
    "ax.legend(['> 53', '< 53'])\n",
    "plt.show()"
   ]
  },
  {
   "cell_type": "code",
   "execution_count": 78,
   "metadata": {
    "collapsed": true
   },
   "outputs": [],
   "source": [
    "def two_lines(x, a, b, c, d):\n",
    "            one = a*x + b\n",
    "            two = c*x + d\n",
    "            return np.maximum(one, two)"
   ]
  },
  {
   "cell_type": "code",
   "execution_count": 81,
   "metadata": {
    "collapsed": false
   },
   "outputs": [],
   "source": [
    "x = np.log(np.array(exp1.dinamica['avance: tiempo'][1:] / 1000))\n",
    "y = np.log(np.array(exp1.dinamica['avance: largo total flujo'][1:]))"
   ]
  },
  {
   "cell_type": "code",
   "execution_count": 82,
   "metadata": {
    "collapsed": false
   },
   "outputs": [
    {
     "name": "stdout",
     "output_type": "stream",
     "text": [
      "[ 0.35875169 -1.09952516  0.56601244  0.06422238]\n"
     ]
    }
   ],
   "source": [
    "def piecewise_linear(x, x0, y0, k1, k2):\n",
    "    return np.piecewise(x, [x < x0, x >= x0], [lambda x:k1*x + y0-k1*x0, lambda x:k2*x + y0-k2*x0])\n",
    "\n",
    "p , e = optimize.curve_fit(piecewise_linear, x, y)\n",
    "xd = np.linspace(x[0], x[-1], 100)\n",
    "plt.plot(x, y, \"o\")\n",
    "print(p)\n",
    "plt.plot(xd, piecewise_linear(xd, *p))\n",
    "plt.show()"
   ]
  },
  {
   "cell_type": "code",
   "execution_count": 83,
   "metadata": {
    "collapsed": true
   },
   "outputs": [],
   "source": [
    "def generate_function(k, x0, y0):\n",
    "    return lambda x: k*x + y0-k*x0"
   ]
  },
  {
   "cell_type": "code",
   "execution_count": 85,
   "metadata": {
    "collapsed": false
   },
   "outputs": [
    {
     "name": "stdout",
     "output_type": "stream",
     "text": [
      "['0.42293646610986085', '0.9377849488876305', '-0.004122855052417884', '-1.0631957774754701', '0.5660124370261989', '0.2754999426474429', '0.03760622680334075']\n",
      "[[  6.71046565e+11   1.37865979e+12   1.00998396e+13   3.79820680e+11\n",
      "   -7.91730012e+03  -1.63751564e+04  -2.93663475e+01]\n",
      " [  1.37865979e+12   2.83244550e+12   2.07500396e+13   7.80338545e+11\n",
      "   -1.62660289e+04  -3.36426648e+04  -6.03328874e+01]\n",
      " [  1.00998396e+13   2.07500396e+13   1.52011448e+14   5.71663451e+12\n",
      "   -1.19162307e+05  -2.46460473e+05  -4.41975044e+02]\n",
      " [  3.79820680e+11   7.80338545e+11   5.71663451e+12   2.14983217e+11\n",
      "   -4.48128987e+03  -9.26854168e+03  -1.66217090e+01]\n",
      " [ -7.91730013e+03  -1.62660288e+04  -1.19162308e+05  -4.48128985e+03\n",
      "    2.39268104e-04   1.93201229e-04   3.46476531e-07]\n",
      " [ -1.63751580e+04  -3.36426681e+04  -2.46460497e+05  -9.26854258e+03\n",
      "    1.93201248e-04   3.41495180e-02   7.16609857e-07]\n",
      " [ -2.93661984e+01  -6.03326194e+01  -4.41973106e+02  -1.66216326e+01\n",
      "    3.46475203e-07   7.16606147e-07   3.21602490e-04]]\n"
     ]
    }
   ],
   "source": [
    "def piecewise_linear(x, x0, x1, x2, y0, k1, k2, k3):\n",
    "    return np.piecewise(x, [x < x0, (x < x1) & (x >= x0), x >= x1], \n",
    "                        [generate_function(k1, x0, y0), \n",
    "                         generate_function(k2, x1, y0),\n",
    "                         generate_function(k3, x2, y0)])\n",
    "\n",
    "\n",
    "\n",
    "p , e = optimize.curve_fit(piecewise_linear, x, y)\n",
    "xd = np.linspace(x[0], x[-1], 100)\n",
    "plt.plot(x, y, \"o\")\n",
    "print(['{}'.format(px) for px in p])\n",
    "print(e)\n",
    "#plt.plot(xd, piecewise_linear(xd, *p))\n",
    "plt.plot(xd, generate_function(p[4], p[0], p[3])(xd))\n",
    "plt.plot(xd, generate_function(p[5], p[1], p[3])(xd))\n",
    "plt.plot(xd, generate_function(p[6], p[2], p[3])(xd))\n",
    "plt.show()"
   ]
  },
  {
   "cell_type": "code",
   "execution_count": 88,
   "metadata": {
    "collapsed": false
   },
   "outputs": [],
   "source": [
    "Experimentos[0].flir['FLIR: area m2'] = exp1.flir['FLIR: area'] / exp1.param['pixeles'].iloc[0]"
   ]
  },
  {
   "cell_type": "code",
   "execution_count": 89,
   "metadata": {
    "collapsed": false
   },
   "outputs": [],
   "source": [
    "x = np.array(exp1.dinamica['avance: tiempo'])\n",
    "y = exp1.dinamica['avance: distancia desde punto eyeccion']"
   ]
  },
  {
   "cell_type": "code",
   "execution_count": 90,
   "metadata": {
    "collapsed": false
   },
   "outputs": [],
   "source": [
    "l_final = exp1.dinamica['avance: ancho maximo'].iloc[-1]"
   ]
  },
  {
   "cell_type": "code",
   "execution_count": 91,
   "metadata": {
    "collapsed": false
   },
   "outputs": [
    {
     "data": {
      "text/plain": [
       "0.28499999999999998"
      ]
     },
     "execution_count": 91,
     "metadata": {},
     "output_type": "execute_result"
    }
   ],
   "source": [
    "round(l_final, 3)"
   ]
  },
  {
   "cell_type": "code",
   "execution_count": 92,
   "metadata": {
    "collapsed": true
   },
   "outputs": [],
   "source": [
    "y_spl = UnivariateSpline(x, y, s=0, k=2)"
   ]
  },
  {
   "cell_type": "code",
   "execution_count": 93,
   "metadata": {
    "collapsed": false
   },
   "outputs": [],
   "source": [
    "plt.semilogy(x,y,'ro',label = 'data')\n",
    "x_range = np.linspace(x[1],x[-1],1000)\n",
    "plt.semilogy(x_range,y_spl(x_range))\n",
    "plt.show()"
   ]
  },
  {
   "cell_type": "code",
   "execution_count": 94,
   "metadata": {
    "collapsed": false
   },
   "outputs": [],
   "source": [
    "y_spl_d2 = y_spl.derivative(n=2)"
   ]
  },
  {
   "cell_type": "markdown",
   "metadata": {
    "collapsed": false
   },
   "source": [
    "plt.plot(x_range,y_spl_d2(x_range))\n",
    "plt.show()"
   ]
  },
  {
   "cell_type": "code",
   "execution_count": 95,
   "metadata": {
    "collapsed": false
   },
   "outputs": [],
   "source": [
    "def sumar(row):\n",
    "    return row['avance: tiempo'] + row['avance: distancia desde punto eyeccion']"
   ]
  },
  {
   "cell_type": "code",
   "execution_count": 97,
   "metadata": {
    "collapsed": false
   },
   "outputs": [],
   "source": [
    "exp1.param.columns = [col.strip() for col in exp1.param.columns]"
   ]
  },
  {
   "cell_type": "code",
   "execution_count": 99,
   "metadata": {
    "collapsed": false
   },
   "outputs": [
    {
     "data": {
      "text/plain": [
       "0    0.000001\n",
       "Name: caudal, dtype: float64"
      ]
     },
     "execution_count": 99,
     "metadata": {},
     "output_type": "execute_result"
    }
   ],
   "source": [
    "exp1.param['caudal']"
   ]
  },
  {
   "cell_type": "code",
   "execution_count": 100,
   "metadata": {
    "collapsed": false
   },
   "outputs": [
    {
     "data": {
      "text/plain": [
       "0    0.069673\n",
       "1    0.049309\n",
       "2    0.065559\n",
       "3    0.063821\n",
       "4    0.056244\n",
       "Name: FLIR: area m2, dtype: float64"
      ]
     },
     "execution_count": 100,
     "metadata": {},
     "output_type": "execute_result"
    }
   ],
   "source": [
    "exp1.flir['FLIR: area m2'].head()"
   ]
  }
 ],
 "metadata": {
  "anaconda-cloud": {},
  "kernelspec": {
   "display_name": "Python [conda root]",
   "language": "python",
   "name": "conda-root-py"
  },
  "language_info": {
   "codemirror_mode": {
    "name": "ipython",
    "version": 3
   },
   "file_extension": ".py",
   "mimetype": "text/x-python",
   "name": "python",
   "nbconvert_exporter": "python",
   "pygments_lexer": "ipython3",
   "version": "3.5.2"
  }
 },
 "nbformat": 4,
 "nbformat_minor": 0
}
