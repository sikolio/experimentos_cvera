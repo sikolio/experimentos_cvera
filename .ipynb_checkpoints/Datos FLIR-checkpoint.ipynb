{
 "cells": [
  {
   "cell_type": "code",
   "execution_count": 1,
   "metadata": {
    "collapsed": false
   },
   "outputs": [
    {
     "name": "stdout",
     "output_type": "stream",
     "text": [
      "Using matplotlib backend: Qt5Agg\n"
     ]
    }
   ],
   "source": [
    "import pandas as pd\n",
    "import csv\n",
    "import numpy as np\n",
    "from matplotlib import pyplot as plt\n",
    "%matplotlib"
   ]
  },
  {
   "cell_type": "code",
   "execution_count": 4,
   "metadata": {
    "collapsed": false
   },
   "outputs": [
    {
     "name": "stdout",
     "output_type": "stream",
     "text": [
      "[Errno 2] No such file or directory: '.\\\\Data\\\\5cc50C - flir.csv'\n",
      "[Errno 2] No such file or directory: '.\\\\Data\\\\1cc54C - flir.csv'\n",
      "[Errno 2] No such file or directory: '.\\\\Data\\\\25cc54C - flir.csv'\n",
      "[Errno 2] No such file or directory: '.\\\\Data\\\\10cc60C - flir.csv'\n",
      "[Errno 2] No such file or directory: '.\\\\Data\\\\25cc60C - flir.csv'\n",
      "[Errno 2] No such file or directory: '.\\\\Data\\\\1cc59C - flir.csv'\n",
      "[Errno 2] No such file or directory: '.\\\\Data\\\\1cc55C - flir.csv'\n",
      "[Errno 2] No such file or directory: '.\\\\Data\\\\5cc63C - flir.csv'\n",
      "[Errno 2] No such file or directory: '.\\\\Data\\\\10cc49C - flir.csv'\n",
      "[Errno 2] No such file or directory: '.\\\\Data\\\\25cc62C - flir.csv'\n",
      "[Errno 2] No such file or directory: '.\\\\Data\\\\1cc62C - flir.csv'\n",
      "[Errno 2] No such file or directory: '.\\\\Data\\\\1cc24C - flir.csv'\n",
      "[Errno 2] No such file or directory: '.\\\\Data\\\\10cc24C - flir.csv'\n",
      "[Errno 2] No such file or directory: '.\\\\Data\\\\5cc58C - flir.csv'\n",
      "[Errno 2] No such file or directory: '.\\\\Data\\\\1cc48C - flir.csv'\n",
      "[Errno 2] No such file or directory: '.\\\\Data\\\\1cc51C - flir.csv'\n"
     ]
    }
   ],
   "source": [
    "from Experimentos import Experimentos"
   ]
  },
  {
   "cell_type": "code",
   "execution_count": 5,
   "metadata": {
    "collapsed": false
   },
   "outputs": [
    {
     "name": "stdout",
     "output_type": "stream",
     "text": [
      "0 5cc50C.csv False\n",
      "1 1cc54C.csv False\n",
      "2 25cc54C.csv False\n",
      "3 10cc60C.csv False\n",
      "4 25cc60C.csv False\n",
      "5 1cc59C.csv False\n",
      "6 1cc47C.csv True\n",
      "7 1cc55C.csv False\n",
      "8 25cc58C.csv True\n",
      "9 25cc70C.csv True\n",
      "10 10cc67C.csv True\n",
      "11 10cc59C.csv True\n",
      "12 5cc63C.csv False\n",
      "13 5cc59C.csv True\n",
      "14 10cc49C.csv False\n",
      "15 25cc62C.csv False\n",
      "16 1cc62C.csv False\n",
      "17 5cc53C.csv True\n",
      "18 5a25cc56C.csv True\n",
      "19 5cc57C.csv True\n",
      "20 25cc50C.csv True\n",
      "21 10cc55C.csv True\n",
      "22 1cc24C.csv False\n",
      "23 10cc57C.csv True\n",
      "24 10cc24C.csv False\n",
      "25 5cc55C.csv True\n",
      "26 5cc58C.csv False\n",
      "27 1cc48C.csv False\n",
      "28 1cc51C.csv False\n",
      "29 5cc48C.csv True\n",
      "30 10cc50C.csv True\n",
      "31 1cc54,7C.csv True\n",
      "32 1cc52C.csv True\n"
     ]
    }
   ],
   "source": [
    "for i, exp in enumerate(Experimentos):\n",
    "    print(i, exp, (exp.flir is not None))"
   ]
  },
  {
   "cell_type": "code",
   "execution_count": 28,
   "metadata": {
    "collapsed": false
   },
   "outputs": [
    {
     "data": {
      "text/plain": [
       "<matplotlib.axes._subplots.AxesSubplot at 0x29b12f54b70>"
      ]
     },
     "execution_count": 28,
     "metadata": {},
     "output_type": "execute_result"
    }
   ],
   "source": [
    "flir.plot.scatter('FLIR: tiempo', 'FLIR: area', marker='x')"
   ]
  },
  {
   "cell_type": "code",
   "execution_count": 55,
   "metadata": {
    "collapsed": false
   },
   "outputs": [],
   "source": [
    "colors = ['r', 'b', 'g', 'y', 'c', 'k', 'black', 'brown', 'orange', 'purple', 'violet']"
   ]
  },
  {
   "cell_type": "code",
   "execution_count": 68,
   "metadata": {
    "collapsed": false
   },
   "outputs": [],
   "source": [
    "#flir['FLIR: rango 1']*flir['FLIR: area']"
   ]
  },
  {
   "cell_type": "code",
   "execution_count": 82,
   "metadata": {
    "collapsed": false,
    "scrolled": true
   },
   "outputs": [
    {
     "name": "stdout",
     "output_type": "stream",
     "text": [
      "0 0\n",
      "1 935\n",
      "2 0.4\n",
      "3 0.115508021\n",
      "4 0.053475936\n",
      "5 0.111229947\n",
      "6 0.155080214\n",
      "7 0.164705882\n",
      "8 0.0\n",
      "9 0.0\n",
      "10 0.0\n",
      "11 0.0\n"
     ]
    },
    {
     "ename": "IndexError",
     "evalue": "list index out of range",
     "output_type": "error",
     "traceback": [
      "\u001b[0;31m---------------------------------------------------------------------------\u001b[0m",
      "\u001b[0;31mIndexError\u001b[0m                                Traceback (most recent call last)",
      "\u001b[0;32m<ipython-input-82-4c3401235d47>\u001b[0m in \u001b[0;36m<module>\u001b[0;34m()\u001b[0m\n\u001b[1;32m      6\u001b[0m         \u001b[1;32mcontinue\u001b[0m\u001b[1;33m\u001b[0m\u001b[0m\n\u001b[1;32m      7\u001b[0m     \u001b[0mflir\u001b[0m\u001b[1;33m[\u001b[0m\u001b[1;34m'p'\u001b[0m\u001b[1;33m]\u001b[0m \u001b[1;33m=\u001b[0m \u001b[0mflir\u001b[0m\u001b[1;33m[\u001b[0m\u001b[1;34m'FLIR: area'\u001b[0m\u001b[1;33m]\u001b[0m\u001b[1;33m*\u001b[0m\u001b[0mflir\u001b[0m\u001b[1;33m[\u001b[0m\u001b[0mcol\u001b[0m\u001b[1;33m]\u001b[0m\u001b[1;33m\u001b[0m\u001b[0m\n\u001b[0;32m----> 8\u001b[0;31m     \u001b[0mflir\u001b[0m\u001b[1;33m.\u001b[0m\u001b[0mplot\u001b[0m\u001b[1;33m.\u001b[0m\u001b[0marea\u001b[0m\u001b[1;33m(\u001b[0m\u001b[1;34m'FLIR: tiempo'\u001b[0m\u001b[1;33m,\u001b[0m \u001b[1;34m'p'\u001b[0m\u001b[1;33m,\u001b[0m \u001b[0max\u001b[0m\u001b[1;33m=\u001b[0m \u001b[0maxp\u001b[0m\u001b[1;33m,\u001b[0m \u001b[0mcolor\u001b[0m\u001b[1;33m=\u001b[0m\u001b[0mcolors\u001b[0m\u001b[1;33m[\u001b[0m\u001b[0mi\u001b[0m\u001b[1;33m]\u001b[0m\u001b[1;33m)\u001b[0m\u001b[1;33m\u001b[0m\u001b[0m\n\u001b[0m\u001b[1;32m      9\u001b[0m \u001b[1;33m\u001b[0m\u001b[0m\n\u001b[1;32m     10\u001b[0m \u001b[1;31m#flir.plot.scatter('FLIR: tiempo', 'FLIR: area', 'FLIR: rango 1', 'FLIR: rango 2')\u001b[0m\u001b[1;33m\u001b[0m\u001b[1;33m\u001b[0m\u001b[0m\n",
      "\u001b[0;31mIndexError\u001b[0m: list index out of range"
     ]
    }
   ],
   "source": [
    "axp = flir.plot.scatter('FLIR: tiempo', 'FLIR: area', color=colors[0])\n",
    "\n",
    "for i, col in enumerate(flir):\n",
    "    print(i, flir[col][0])\n",
    "    if i == 0 or i ==1:\n",
    "        continue\n",
    "    flir['p'] = flir['FLIR: area']*flir[col]\n",
    "    flir.plot.area('FLIR: tiempo', 'p', ax= axp, color=colors[i])\n",
    "\n",
    "#flir.plot.scatter('FLIR: tiempo', 'FLIR: area', 'FLIR: rango 1', 'FLIR: rango 2')"
   ]
  },
  {
   "cell_type": "code",
   "execution_count": 77,
   "metadata": {
    "collapsed": false
   },
   "outputs": [
    {
     "data": {
      "text/plain": [
       "<matplotlib.axes._subplots.AxesSubplot at 0x29b13e85828>"
      ]
     },
     "execution_count": 77,
     "metadata": {},
     "output_type": "execute_result"
    }
   ],
   "source": [
    "flir[['FLIR: rango 1', 'FLIR: rango 2', 'FLIR: rango 3']].plot.area()"
   ]
  }
 ],
 "metadata": {
  "kernelspec": {
   "display_name": "Python [conda root]",
   "language": "python",
   "name": "conda-root-py"
  },
  "language_info": {
   "codemirror_mode": {
    "name": "ipython",
    "version": 3
   },
   "file_extension": ".py",
   "mimetype": "text/x-python",
   "name": "python",
   "nbconvert_exporter": "python",
   "pygments_lexer": "ipython3",
   "version": "3.5.2"
  }
 },
 "nbformat": 4,
 "nbformat_minor": 1
}
