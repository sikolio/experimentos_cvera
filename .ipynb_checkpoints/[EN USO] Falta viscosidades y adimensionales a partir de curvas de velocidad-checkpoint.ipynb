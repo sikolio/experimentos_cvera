{
 "cells": [
  {
   "cell_type": "code",
   "execution_count": 1,
   "metadata": {
    "collapsed": false
   },
   "outputs": [
    {
     "name": "stdout",
     "output_type": "stream",
     "text": [
      "Using matplotlib backend: Qt5Agg\n"
     ]
    }
   ],
   "source": [
    "import pandas as pd\n",
    "import os\n",
    "import csv\n",
    "import numpy as np\n",
    "from scipy import stats\n",
    "from matplotlib import pyplot as plt\n",
    "%matplotlib"
   ]
  },
  {
   "cell_type": "code",
   "execution_count": 2,
   "metadata": {
    "collapsed": true
   },
   "outputs": [],
   "source": [
    "from scipy import optimize\n",
    "import scipy.spatial.distance as distance"
   ]
  },
  {
   "cell_type": "code",
   "execution_count": 3,
   "metadata": {
    "collapsed": false
   },
   "outputs": [
    {
     "name": "stdout",
     "output_type": "stream",
     "text": [
      "[Errno 2] No such file or directory: '.\\\\Data\\\\5cc50C - flir.csv'\n",
      "[Errno 2] No such file or directory: '.\\\\Data\\\\1cc54C - flir.csv'\n",
      "[Errno 2] No such file or directory: '.\\\\Data\\\\25cc54C - flir.csv'\n",
      "[Errno 2] No such file or directory: '.\\\\Data\\\\10cc60C - flir.csv'\n",
      "[Errno 2] No such file or directory: '.\\\\Data\\\\25cc60C - flir.csv'\n",
      "[Errno 2] No such file or directory: '.\\\\Data\\\\1cc59C - flir.csv'\n",
      "[Errno 2] No such file or directory: '.\\\\Data\\\\5cc63C - flir.csv'\n",
      "[Errno 2] No such file or directory: '.\\\\Data\\\\25cc62C - flir.csv'\n",
      "[Errno 2] No such file or directory: '.\\\\Data\\\\1cc62C - flir.csv'\n",
      "[Errno 2] No such file or directory: '.\\\\Data\\\\1cc24C - flir.csv'\n",
      "[Errno 2] No such file or directory: '.\\\\Data\\\\10cc24C - flir.csv'\n"
     ]
    }
   ],
   "source": [
    "from Experimentos import Experimentos, generate_function, piecewise_linear_double, intersection, line, piecewise_linear_triple"
   ]
  },
  {
   "cell_type": "code",
   "execution_count": 3,
   "metadata": {
    "collapsed": false
   },
   "outputs": [],
   "source": [
    "#for i, exp in enumerate(Experimentos):\n",
    "    #print(i, exp, (exp.flir is not None))"
   ]
  },
  {
   "cell_type": "code",
   "execution_count": 11,
   "metadata": {
    "collapsed": false
   },
   "outputs": [],
   "source": [
    "#calcular velocidades, numero de puntos de quiebre, coordenadas punto quiebre, viscosidades asociadas a velocidades\n",
    "#guardar\n"
   ]
  },
  {
   "cell_type": "code",
   "execution_count": 70,
   "metadata": {
    "collapsed": false
   },
   "outputs": [
    {
     "name": "stdout",
     "output_type": "stream",
     "text": [
      "25cc62C.csv\n"
     ]
    }
   ],
   "source": [
    "exp = Experimentos[15]\n",
    "print(exp)"
   ]
  },
  {
   "cell_type": "code",
   "execution_count": 75,
   "metadata": {
    "collapsed": false
   },
   "outputs": [
    {
     "name": "stdout",
     "output_type": "stream",
     "text": [
      "['-1.909675311460583', '2.90997530241871', '1.0', '-0.5950093079137809', '0.7113735950214007', '0.06264440383991746', '1.0']\n",
      "[[ inf  inf  inf  inf  inf  inf  inf]\n",
      " [ inf  inf  inf  inf  inf  inf  inf]\n",
      " [ inf  inf  inf  inf  inf  inf  inf]\n",
      " [ inf  inf  inf  inf  inf  inf  inf]\n",
      " [ inf  inf  inf  inf  inf  inf  inf]\n",
      " [ inf  inf  inf  inf  inf  inf  inf]\n",
      " [ inf  inf  inf  inf  inf  inf  inf]]\n"
     ]
    },
    {
     "name": "stderr",
     "output_type": "stream",
     "text": [
      "C:\\Users\\CCVV\\Anaconda3b\\lib\\site-packages\\scipy\\optimize\\minpack.py:715: OptimizeWarning: Covariance of the parameters could not be estimated\n",
      "  category=OptimizeWarning)\n"
     ]
    },
    {
     "data": {
      "text/plain": [
       "(0.71137359502140074,\n",
       " 0.062644403839917456,\n",
       " 1.0,\n",
       " (-2.3465369805232283, -1.0023934309275664),\n",
       " (0.54009312144655897, -0.74023878809379584),\n",
       " 32,\n",
       " 43)"
      ]
     },
     "execution_count": 75,
     "metadata": {},
     "output_type": "execute_result"
    }
   ],
   "source": [
    "exp.get_intersections(3)"
   ]
  },
  {
   "cell_type": "code",
   "execution_count": 57,
   "metadata": {
    "collapsed": false
   },
   "outputs": [
    {
     "data": {
      "text/plain": [
       "0.0013890628613240313"
      ]
     },
     "execution_count": 57,
     "metadata": {},
     "output_type": "execute_result"
    }
   ],
   "source": [
    "10**p2/1000"
   ]
  },
  {
   "cell_type": "code",
   "execution_count": 86,
   "metadata": {
    "collapsed": true
   },
   "outputs": [],
   "source": [
    "fit = np.polyfit(xs[0:5] , ys[0:5] , 1)\n",
    "fit2 = np.polyfit(xs[5:30] , ys[5:30] , 1)"
   ]
  },
  {
   "cell_type": "code",
   "execution_count": 100,
   "metadata": {
    "collapsed": false
   },
   "outputs": [],
   "source": [
    "superfuncion(exp)"
   ]
  },
  {
   "cell_type": "code",
   "execution_count": 97,
   "metadata": {
    "collapsed": true
   },
   "outputs": [],
   "source": [
    "def superfuncion(exp, break1=None, break2=None, interactive=True):\n",
    "    xs = np.log(np.array(exp.dinamica['avance: tiempo'][1:]))\n",
    "    ys = np.log(np.array(exp.dinamica['avance: largo total flujo'][1:]))\n",
    "    \n",
    "    fit2, fit3 = None, None\n",
    "    if not break1:\n",
    "        fit = np.polyfit(xs, ys, 1)\n",
    "        pendiente1 = fit[0]\n",
    "    else:\n",
    "        fit = np.polyfit(xs[0:break1] , ys[0:break1] , 1)\n",
    "    if break2:\n",
    "        fit2 = np.polyfit(xs[break1:break2] , ys[break1:break2] , 1)\n",
    "        fit3 = np.polyfit(xs[break2:] , ys[break2:] , 1)\n",
    "    else:\n",
    "        fit2 = np.polyfit(xs[break1:] , ys[break1:] , 1)\n",
    "        \n",
    "    pendiente1 = fit[0]\n",
    "    pendiente2 = fit2[0] if fit2 is not None else None\n",
    "    pendiente3 = fit3[0] if fit3 is not None else None\n",
    "        \n",
    "    fit_fn = np.poly1d(fit) if fit is not None else None\n",
    "    fit_fn2 = np.poly1d(fit2) if fit2 is not None else None\n",
    "    fit_fn3 = np.poly1d(fit3) if fit3 is not None else None\n",
    "    \n",
    "    index_inter1 = None\n",
    "    index_inter2 = None\n",
    "    \n",
    "    if fit_fn2:\n",
    "        intersection1 = intersection(\n",
    "            line((xs[0], fit_fn(xs[10])), (xs[-1], fit_fn(xs[90]))),\n",
    "            line((xs[0], fit_fn2(xs[10])), (xs[-1], fit_fn2(xs[90])))\n",
    "        )\n",
    "        \n",
    "        index_inter1 = distance.cdist([intersection1], np.array(list(zip(xs, ys)))).argmin()\n",
    "\n",
    "        closest_int1 = list(zip(xs, ys))[index_inter1]\n",
    "        \n",
    "    if fit_fn3:\n",
    "        intersection2 = intersection(\n",
    "            line((xs[0], fit_fn2(xs[10])), (xs[-1], fit_fn2(xs[90]))),\n",
    "            line((xs[0], fit_fn3(xs[10])), (xs[-1], fit_fn3(xs[90])))\n",
    "        )\n",
    "        \n",
    "        index_inter2 = distance.cdist([intersection2], np.array(list(zip(xs, ys)))).argmin()\n",
    "\n",
    "        closest_int2 = list(zip(xs, ys))[index_inter2]\n",
    "    \n",
    "    if interactive:\n",
    "        plt.plot(xs,ys, 'yo', xs, fit_fn(xs), '--k')\n",
    "        if fit_fn2:\n",
    "            plt.plot(xs, fit_fn2(xs), '--r')\n",
    "        if fit_fn3:\n",
    "            plt.plot(xs, fit_fn3(xs), '--b')\n",
    "            \n",
    "    return pendiente1, pendiente2, pendiente3, index_inter1, index_inter2\n",
    "    "
   ]
  },
  {
   "cell_type": "code",
   "execution_count": 87,
   "metadata": {
    "collapsed": true
   },
   "outputs": [],
   "source": [
    "fit_fn = np.poly1d(fit)\n",
    "fit_fn2 = np.poly1d(fit2)"
   ]
  },
  {
   "cell_type": "code",
   "execution_count": 88,
   "metadata": {
    "collapsed": false
   },
   "outputs": [
    {
     "data": {
      "text/plain": [
       "[<matplotlib.lines.Line2D at 0x25b75ac4160>,\n",
       " <matplotlib.lines.Line2D at 0x25b75ac4d68>,\n",
       " <matplotlib.lines.Line2D at 0x25b72a50e10>]"
      ]
     },
     "execution_count": 88,
     "metadata": {},
     "output_type": "execute_result"
    }
   ],
   "source": [
    "plt.plot(xs,ys, 'yo', xs, fit_fn(xs), '--k', xs, fit_fn2(xs), '--r')"
   ]
  },
  {
   "cell_type": "code",
   "execution_count": 78,
   "metadata": {
    "collapsed": false
   },
   "outputs": [],
   "source": [
    "xs = np.log(np.array(exp.dinamica['avance: tiempo'][1:]/1000))\n",
    "ys = np.log(np.array(exp.dinamica['avance: largo total flujo'][1:]))"
   ]
  },
  {
   "cell_type": "code",
   "execution_count": 64,
   "metadata": {
    "collapsed": true
   },
   "outputs": [],
   "source": [
    "xs = np.log(np.array(exp.dinamica['avance: tiempo'][1:]))\n",
    "ys = np.log(np.array(exp.dinamica['avance: largo total flujo'][1:]))"
   ]
  },
  {
   "cell_type": "code",
   "execution_count": 88,
   "metadata": {
    "collapsed": true
   },
   "outputs": [],
   "source": [
    "xs = np.log(np.array(exp.dinamica['avance: tiempo'][1:]))\n",
    "ys = np.log(np.array(exp.dinamica['avance: largo total flujo'][1:]))"
   ]
  },
  {
   "cell_type": "code",
   "execution_count": 89,
   "metadata": {
    "collapsed": false
   },
   "outputs": [
    {
     "data": {
      "text/plain": [
       "[<matplotlib.lines.Line2D at 0x24205eaac18>]"
      ]
     },
     "execution_count": 89,
     "metadata": {},
     "output_type": "execute_result"
    }
   ],
   "source": [
    "plt.plot(xs, ys, marker='x')"
   ]
  },
  {
   "cell_type": "code",
   "execution_count": 65,
   "metadata": {
    "collapsed": false
   },
   "outputs": [
    {
     "name": "stdout",
     "output_type": "stream",
     "text": [
      "['-1.2752871967777457', '-5.673371597618253', '1.0', '0.6363492101809843']\n",
      "[[ inf  inf  inf  inf]\n",
      " [ inf  inf  inf  inf]\n",
      " [ inf  inf  inf  inf]\n",
      " [ inf  inf  inf  inf]]\n"
     ]
    },
    {
     "name": "stderr",
     "output_type": "stream",
     "text": [
      "C:\\Users\\CCVV\\Anaconda3b\\lib\\site-packages\\scipy\\optimize\\minpack.py:715: OptimizeWarning: Covariance of the parameters could not be estimated\n",
      "  category=OptimizeWarning)\n"
     ]
    },
    {
     "data": {
      "text/plain": [
       "(1.0, 0.63634921018098434, (1.4271163556401449, -4.4228486291941369), 0)"
      ]
     },
     "execution_count": 65,
     "metadata": {},
     "output_type": "execute_result"
    }
   ],
   "source": [
    "fit_to_two_rects(xs, ys)"
   ]
  },
  {
   "cell_type": "code",
   "execution_count": 79,
   "metadata": {
    "collapsed": false
   },
   "outputs": [
    {
     "name": "stdout",
     "output_type": "stream",
     "text": [
      "['-1.909675311460583', '2.90997530241871', '1.0', '-0.5950093079137809', '0.7113735950214007', '0.06264440383991746', '1.0']\n",
      "[[ inf  inf  inf  inf  inf  inf  inf]\n",
      " [ inf  inf  inf  inf  inf  inf  inf]\n",
      " [ inf  inf  inf  inf  inf  inf  inf]\n",
      " [ inf  inf  inf  inf  inf  inf  inf]\n",
      " [ inf  inf  inf  inf  inf  inf  inf]\n",
      " [ inf  inf  inf  inf  inf  inf  inf]\n",
      " [ inf  inf  inf  inf  inf  inf  inf]]\n"
     ]
    },
    {
     "name": "stderr",
     "output_type": "stream",
     "text": [
      "C:\\Users\\CCVV\\Anaconda3b\\lib\\site-packages\\scipy\\optimize\\minpack.py:715: OptimizeWarning: Covariance of the parameters could not be estimated\n",
      "  category=OptimizeWarning)\n"
     ]
    },
    {
     "data": {
      "text/plain": [
       "(0.71137359502140074,\n",
       " 0.062644403839917456,\n",
       " 1.0,\n",
       " (-2.3465369805232283, -1.0023934309275664),\n",
       " (0.54009312144655897, -0.74023878809379584),\n",
       " 32,\n",
       " 43)"
      ]
     },
     "execution_count": 79,
     "metadata": {},
     "output_type": "execute_result"
    }
   ],
   "source": [
    "fit_to_three_rects(xs, ys)"
   ]
  },
  {
   "cell_type": "code",
   "execution_count": 8,
   "metadata": {
    "collapsed": true
   },
   "outputs": [],
   "source": [
    "def fit_to_two_rects(xs, ys, interactive=True):\n",
    "        p , e = optimize.curve_fit(piecewise_linear_double, xs, ys)\n",
    "        xd = np.linspace(xs[0], xs[-1], 100)\n",
    "\n",
    "        rect1 = generate_function(p[2], p[0], p[1])\n",
    "        rect2 = generate_function(p[3], p[0], p[1])\n",
    "\n",
    "        intersection1 = intersection(\n",
    "            line((xd[10], rect1(xd[10])), (xd[90], rect1(xd[90]))),\n",
    "            line((xd[10], rect2(xd[10])), (xd[90], rect2(xd[90])))\n",
    "        )\n",
    "\n",
    "        pendiente1 = p[2]\n",
    "        pendiente2 = p[3]\n",
    "\n",
    "        index_inter1 = distance.cdist([intersection1], np.array(list(zip(xs, ys)))).argmin()\n",
    "\n",
    "        closest_int1 = list(zip(xs, ys))[index_inter1]\n",
    "\n",
    "        if interactive:\n",
    "            plt.plot(xs, ys, \"o\")\n",
    "            print(['{}'.format(px) for px in p])\n",
    "            print(e)\n",
    "\n",
    "\n",
    "            plt.plot(xd, generate_function(p[2], p[0], p[1])(xd), color='red')\n",
    "            plt.plot(xd, generate_function(p[3], p[0], p[1])(xd), color='blue')\n",
    "\n",
    "            plt.plot([intersection1[0]], [intersection1[1]], 'rx')\n",
    "\n",
    "            plt.plot([closest_int1[0]], closest_int1[1], 'r+')\n",
    "\n",
    "            plt.show()\n",
    "\n",
    "        return pendiente1, pendiente2, closest_int1, index_inter1"
   ]
  },
  {
   "cell_type": "code",
   "execution_count": 9,
   "metadata": {
    "collapsed": true
   },
   "outputs": [],
   "source": [
    "def fit_to_three_rects(xs, ys, interactive=True):\n",
    "        p , e = optimize.curve_fit(piecewise_linear_triple, xs, ys)\n",
    "        xd = np.linspace(xs[0], xs[-1], 100)\n",
    "\n",
    "        rect1 = generate_function(p[4], p[0], p[3])\n",
    "        rect2 = generate_function(p[5], p[1], p[3])\n",
    "        rect3 = generate_function(p[6], p[2], p[3])\n",
    "\n",
    "        intersection1 = intersection(\n",
    "            line((xd[10], rect1(xd[10])), (xd[90], rect1(xd[90]))),\n",
    "            line((xd[10], rect2(xd[10])), (xd[90], rect2(xd[90])))\n",
    "        )\n",
    "        intersection2 = intersection(\n",
    "            line((xd[10], rect2(xd[10])), (xd[90], rect2(xd[90]))),\n",
    "            line((xd[10], rect3(xd[10])), (xd[90], rect3(xd[90])))\n",
    "        )\n",
    "\n",
    "        pendiente1 = p[4]\n",
    "        pendiente2 = p[5]\n",
    "        pendiente3 = p[6]\n",
    "\n",
    "\n",
    "        index_inter1 = distance.cdist([intersection1], np.array(list(zip(xs, ys)))).argmin()\n",
    "        index_inter2 = distance.cdist([intersection2], np.array(list(zip(xs, ys)))).argmin()\n",
    "\n",
    "        closest_int1 = list(zip(xs, ys))[index_inter1]\n",
    "        closest_int2 = list(zip(xs, ys))[index_inter2]\n",
    "\n",
    "        if interactive:\n",
    "            plt.plot(xs, ys, \"o\")\n",
    "            print(['{}'.format(px) for px in p])\n",
    "            print(e)\n",
    "\n",
    "\n",
    "            plt.plot(xd, generate_function(p[4], p[0], p[3])(xd), color='red')\n",
    "            plt.plot(xd, generate_function(p[5], p[1], p[3])(xd), color='blue')\n",
    "            plt.plot(xd, generate_function(p[6], p[2], p[3])(xd), color='green')\n",
    "\n",
    "            plt.plot([intersection1[0]], [intersection1[1]], 'rx')\n",
    "            plt.plot([intersection2[0]], [intersection2[1]], 'bx')\n",
    "\n",
    "            plt.plot([closest_int1[0]], closest_int1[1], 'r+')\n",
    "            plt.plot([closest_int2[0]], closest_int2[1], 'b+')\n",
    "\n",
    "            plt.show()\n",
    "\n",
    "        return pendiente1, pendiente2, pendiente3, closest_int1, closest_int2, index_inter1, index_inter2"
   ]
  },
  {
   "cell_type": "code",
   "execution_count": 23,
   "metadata": {
    "collapsed": false
   },
   "outputs": [
    {
     "name": "stdout",
     "output_type": "stream",
     "text": [
      "['0.7439019806441745', '0.9047330391588445', '9.591715528204398', '-1.1677900085370165', '0.4721833181712902', '0.9842024421368548', '0.008284650553495608']\n",
      "[[  1.31079417e+11   2.66175470e+10   7.47086548e+12   6.18935151e+10\n",
      "    4.41016824e+01   4.01617966e+11   2.98497068e-04]\n",
      " [  2.34819176e+10  -2.47098943e+12   1.33835083e+12   1.10877699e+10\n",
      "    7.90067901e+00   2.74864616e+13   1.19890104e-02]\n",
      " [  7.47086548e+12   1.51706589e+12   4.25801641e+14   3.52761810e+12\n",
      "    2.51357779e+03   2.28901978e+13  -4.81203807e-01]\n",
      " [  6.18935151e+10   1.25683618e+10   3.52761810e+12   2.92250858e+10\n",
      "    2.08241111e+01   1.89637307e+11   1.40956949e-04]\n",
      " [  4.41016891e+01   8.95543550e+00   2.51357782e+03   2.08241157e+01\n",
      "    1.98297159e-05   1.35125265e+02   1.01546148e-13]\n",
      " [  4.36339358e+11   2.75031196e+13   2.48691420e+13   2.06032169e+11\n",
      "    1.46804822e+02  -3.02228980e+14  -1.30874381e-01]\n",
      " [ -2.40509439e-07  -1.51596682e-05  -4.98246812e-01  -1.13564547e-07\n",
      "   -8.09232842e-17   1.66588050e-04   5.17500065e-04]]\n",
      "0    1cc52C\n",
      "Name: NOMBRE, dtype: object\n"
     ]
    }
   ],
   "source": [
    "res = exp.get_closest_points_to_intersections()\n",
    "print(exp.param['NOMBRE'])"
   ]
  },
  {
   "cell_type": "code",
   "execution_count": 4,
   "metadata": {
    "collapsed": false
   },
   "outputs": [
    {
     "data": {
      "text/plain": [
       "(0.47218331817129022,\n",
       " 0.98420244213685482,\n",
       " 0.008284650553495608,\n",
       " (1.0234456366524527, -1.2378743560016174),\n",
       " (0.81585142053539683, -1.2552660987134867))"
      ]
     },
     "execution_count": 4,
     "metadata": {},
     "output_type": "execute_result"
    }
   ],
   "source": [
    "res"
   ]
  },
  {
   "cell_type": "code",
   "execution_count": 7,
   "metadata": {
    "collapsed": true
   },
   "outputs": [],
   "source": [
    "exp.pendiente1 = res[0]"
   ]
  },
  {
   "cell_type": "code",
   "execution_count": 18,
   "metadata": {
    "collapsed": false
   },
   "outputs": [
    {
     "data": {
      "text/plain": [
       "0.45422405537841576"
      ]
     },
     "execution_count": 18,
     "metadata": {},
     "output_type": "execute_result"
    }
   ],
   "source": [
    "exp.pendiente1"
   ]
  },
  {
   "cell_type": "code",
   "execution_count": 8,
   "metadata": {
    "collapsed": true
   },
   "outputs": [],
   "source": [
    "exp.param['pendiente1'] = res[0]"
   ]
  },
  {
   "cell_type": "code",
   "execution_count": 21,
   "metadata": {
    "collapsed": false
   },
   "outputs": [
    {
     "data": {
      "text/plain": [
       "0.45422405537841576"
      ]
     },
     "execution_count": 21,
     "metadata": {},
     "output_type": "execute_result"
    }
   ],
   "source": [
    "exp.param['pendiente1'][0]"
   ]
  },
  {
   "cell_type": "code",
   "execution_count": 10,
   "metadata": {
    "collapsed": false
   },
   "outputs": [
    {
     "name": "stderr",
     "output_type": "stream",
     "text": [
      "C:\\Users\\CCVV\\Anaconda3b\\lib\\site-packages\\scipy\\optimize\\minpack.py:715: OptimizeWarning: Covariance of the parameters could not be estimated\n",
      "  category=OptimizeWarning)\n"
     ]
    },
    {
     "name": "stdout",
     "output_type": "stream",
     "text": [
      "Infinity and beyond\n",
      "['5.951428773888163', '-0.853942251432393', '0.6263960578233168', '0.14272189995533452']\n",
      "[[  9.26508111e-03   5.07079520e-03  -2.64942744e-04  -3.79024570e-03]\n",
      " [  5.07079520e-03   3.07173734e-03  -3.78131265e-05  -2.37419494e-03]\n",
      " [ -2.64942744e-04  -3.78131265e-05   8.27607535e-05  -5.02959735e-12]\n",
      " [ -3.79024570e-03  -2.37419494e-03  -5.02959719e-12   2.62570463e-03]]\n",
      "Infinity and beyond\n",
      "['449.2563829974384', '250.95587814212442', '0.5697411089926006', '0.5697410920134713']\n",
      "[[ inf  inf  inf  inf]\n",
      " [ inf  inf  inf  inf]\n",
      " [ inf  inf  inf  inf]\n",
      " [ inf  inf  inf  inf]]\n",
      "Infinity and beyond\n",
      "['17.6825262702091', '4.180329508494596', '0.4133273480976783', '0.32124793469357593']\n",
      "[[ inf  inf  inf  inf]\n",
      " [ inf  inf  inf  inf]\n",
      " [ inf  inf  inf  inf]\n",
      " [ inf  inf  inf  inf]]\n",
      "Infinity and beyond\n",
      "['-43.65184773109522', '-29.94264106386896', '1.1377475398064016', '0.5965099827871637']\n",
      "[[ inf  inf  inf  inf]\n",
      " [ inf  inf  inf  inf]\n",
      " [ inf  inf  inf  inf]\n",
      " [ inf  inf  inf  inf]]\n",
      "Infinity and beyond\n",
      "['39.33742556862089', '14.833919296700072', '0.4587438195304889', '0.35279430758913966']\n",
      "[[ inf  inf  inf  inf]\n",
      " [ inf  inf  inf  inf]\n",
      " [ inf  inf  inf  inf]\n",
      " [ inf  inf  inf  inf]]\n",
      "Infinity and beyond\n",
      "['0.8193763346502668', '-4.277190607550004', '0.09630270781124609', '0.4610592674524469']\n",
      "[[  4.16768889e+12   1.92155139e+12   1.00506988e+12   2.69537095e+04]\n",
      " [  1.92155139e+12   8.85948989e+11   4.63396737e+11   1.24272557e+04]\n",
      " [  1.00506988e+12   4.63396737e+11   2.42380248e+11   6.50009168e+03]\n",
      " [  2.69537077e+04   1.24272549e+04   6.50009127e+03   2.89375311e-04]]\n",
      "Infinity and beyond\n",
      "['456.4588411098543', '285.6418275965262', '0.6384468963551297', '0.6384468958198132']\n",
      "[[ inf  inf  inf  inf]\n",
      " [ inf  inf  inf  inf]\n",
      " [ inf  inf  inf  inf]\n",
      " [ inf  inf  inf  inf]]\n",
      "Infinity and beyond\n",
      "['445.65066084141114', '284.2341422671847', '0.650579509113226', '0.6505795227658548']\n",
      "[[ inf  inf  inf  inf]\n",
      " [ inf  inf  inf  inf]\n",
      " [ inf  inf  inf  inf]\n",
      " [ inf  inf  inf  inf]]\n",
      "Infinity and beyond\n",
      "['17.198622858924338', '5.269833061381002', '0.513862702760907', '-2.6569698201676784']\n",
      "[[ inf  inf  inf  inf]\n",
      " [ inf  inf  inf  inf]\n",
      " [ inf  inf  inf  inf]\n",
      " [ inf  inf  inf  inf]]\n",
      "Infinity and beyond\n",
      "['34.92817123180805', '14.75645514479595', '0.5197928913990486', '0.4849488656452956']\n",
      "[[ inf  inf  inf  inf]\n",
      " [ inf  inf  inf  inf]\n",
      " [ inf  inf  inf  inf]\n",
      " [ inf  inf  inf  inf]]\n",
      "Infinity and beyond\n",
      "['5.399362560445393', '-3.032177492259418', '0.5164566689509179', '0.02782069742486143']\n",
      "[[  1.13541403e-02   5.47059804e-03  -1.41549625e-04  -4.33604581e-03]\n",
      " [  5.47059804e-03   2.81438434e-03  -3.93800311e-06  -2.23937980e-03]\n",
      " [ -1.41549625e-04  -3.93800311e-06   4.05958019e-05  -5.06055367e-12]\n",
      " [ -4.33604581e-03  -2.23937980e-03  -5.06055382e-12   2.24640632e-03]]\n",
      "Infinity and beyond\n",
      "['-6.736874675694445', '-7.248766406365148', '1.6555678639464773', '0.48777302005450707']\n",
      "[[ inf  inf  inf  inf]\n",
      " [ inf  inf  inf  inf]\n",
      " [ inf  inf  inf  inf]\n",
      " [ inf  inf  inf  inf]]\n",
      "Infinity and beyond\n",
      "['-1.2752871967777457', '-5.673371597618253', '1.0', '0.6363492101809843']\n",
      "[[ inf  inf  inf  inf]\n",
      " [ inf  inf  inf  inf]\n",
      " [ inf  inf  inf  inf]\n",
      " [ inf  inf  inf  inf]]\n",
      "Infinity and beyond\n",
      "['4.724608746469651', '-1.454550675712342', '0.770144435304451', '0.21572238512497416']\n",
      "[[  1.09850759e-02   5.06729049e-03  -1.68161136e-03  -1.38523350e-03]\n",
      " [  5.06729049e-03   3.17064168e-03  -3.62761209e-04  -1.06682987e-03]\n",
      " [ -1.68161136e-03  -3.62761209e-04   7.07602219e-04  -1.52376530e-12]\n",
      " [ -1.38523350e-03  -1.06682987e-03  -1.52376530e-12   6.09792260e-04]]\n",
      "Infinity and beyond\n",
      "['4.927098002169456', '-1.17774645164559', '0.6521585799923842', '0.12491546267136934']\n",
      "[[  2.77801154e-03   1.36693445e-03  -1.87559338e-04  -5.47095018e-04]\n",
      " [  1.36693445e-03   8.35899425e-04  -2.34290595e-05  -3.56792709e-04]\n",
      " [ -1.87559338e-04  -2.34290595e-05   7.11884996e-05  -1.08346830e-12]\n",
      " [ -5.47095018e-04  -3.56792709e-04  -1.08346823e-12   2.28399749e-04]]\n",
      "Infinity and beyond\n",
      "['0.5626152613935521', '-3.001605442005803', '1.0', '0.4270432236606931']\n",
      "[[ inf  inf  inf  inf]\n",
      " [ inf  inf  inf  inf]\n",
      " [ inf  inf  inf  inf]\n",
      " [ inf  inf  inf  inf]]\n",
      "Infinity and beyond\n",
      "['-163.4977204126741', '-96.14186288839255', '-0.1391774794535503', '0.5569233174458187']\n",
      "[[ inf  inf  inf  inf]\n",
      " [ inf  inf  inf  inf]\n",
      " [ inf  inf  inf  inf]\n",
      " [ inf  inf  inf  inf]]\n",
      "Infinity and beyond\n",
      "['419.01956844429947', '204.19976471478762', '0.4976325519643713', '0.49763254235379784']\n",
      "[[ inf  inf  inf  inf]\n",
      " [ inf  inf  inf  inf]\n",
      " [ inf  inf  inf  inf]\n",
      " [ inf  inf  inf  inf]]\n",
      "Infinity and beyond\n",
      "['45.53620665601902', '21.268051788716186', '0.566285111179735', '0.5493464971958895']\n",
      "[[ inf  inf  inf  inf]\n",
      " [ inf  inf  inf  inf]\n",
      " [ inf  inf  inf  inf]\n",
      " [ inf  inf  inf  inf]]\n",
      "Infinity and beyond\n",
      "['-0.9376460756399879', '-4.796175994072911', '1.0', '0.512710858480619']\n",
      "[[ inf  inf  inf  inf]\n",
      " [ inf  inf  inf  inf]\n",
      " [ inf  inf  inf  inf]\n",
      " [ inf  inf  inf  inf]]\n",
      "Infinity and beyond\n",
      "['0.7078781598187099', '-3.0280134095757307', '1.0788450708742532', '0.3368660249675602']\n",
      "[[  8.97502851e-01   3.33377975e-01  -6.24921738e-01  -7.08990893e-03]\n",
      " [  3.33377975e-01   1.45790809e-01  -2.10514893e-01  -7.64891522e-03]\n",
      " [ -6.24921738e-01  -2.10514893e-01   5.06400898e-01  -2.13079400e-09]\n",
      " [ -7.08990893e-03  -7.64891522e-03  -2.13079401e-09   1.40414308e-03]]\n",
      "['-1.4187507498027208', '-0.9286772068063961', '-6.087574844535413', '-0.9270485448308213', '0.45422405537841576', '0.04808666176124754', '0.0043624161555848775']\n",
      "[[  5.35679624e+12   7.19534657e+13   5.57760996e+14   2.43318574e+12\n",
      "    8.53150897e+03  -4.11160545e+12  -1.61428306e-03]\n",
      " [ -6.25735555e+14   9.99485164e+15  -6.51529144e+16  -2.84224145e+14\n",
      "   -9.96578809e+05  -3.06260631e+15   4.98931584e-01]\n",
      " [  5.57760996e+14   7.49194760e+15   5.80752590e+16   2.53348465e+14\n",
      "    8.88318878e+05  -4.28109088e+14   6.60202398e-01]\n",
      " [  2.43318574e+12   3.26829955e+13   2.53348465e+14   1.10521151e+12\n",
      "    3.87521681e+03  -1.86759013e+12  -7.48082393e-04]\n",
      " [  8.53150836e+03   1.14596790e+05   8.88318819e+05   3.87521663e+03\n",
      "    1.56241291e-04  -6.54835474e+03  -2.42013670e-12]\n",
      " [  1.30228373e+14  -1.79363792e+15   1.35596547e+16   5.91528608e+13\n",
      "    2.07408415e+05   5.82226404e+14  -9.82744028e-02]\n",
      " [ -1.33241941e-03   1.83514387e-02   6.88963752e-01  -6.05216956e-04\n",
      "   -2.12207961e-12  -5.95699499e-03   4.64570978e-04]]\n",
      "Infinity and beyond\n",
      "['-10.557767671300432', '-8.307334799766561', '1.0', '0.3845525645139707']\n",
      "[[ inf  inf  inf  inf]\n",
      " [ inf  inf  inf  inf]\n",
      " [ inf  inf  inf  inf]\n",
      " [ inf  inf  inf  inf]]\n",
      "['-1.7330194515654453', '0.0755805856577161', '7.49188736309519', '-0.8769053773012722', '0.6478012865059296', '0.09034793907473886', '0.0031316904835088756']\n",
      "[[  7.36738334e+10   5.28246208e+11   1.52397273e+13   4.77260045e+10\n",
      "    1.27294675e+02   4.50503347e+04  -5.75022563e-05]\n",
      " [  5.28246208e+11   3.78755988e+12   1.09269843e+14   3.42198576e+11\n",
      "    9.12715687e+02   3.23013755e+05  -4.08904934e-04]\n",
      " [  1.52397273e+13   1.09269843e+14   3.15239860e+15   9.87231507e+12\n",
      "    2.63315435e+04   9.31884207e+06  -1.39872748e+00]\n",
      " [  4.77260045e+10   3.42198576e+11   9.87231507e+12   3.09169674e+10\n",
      "    8.24620653e+01   2.91836651e+04  -3.72699810e-05]\n",
      " [  1.27294670e+02   9.12715622e+02   2.63315420e+04   8.24620589e+01\n",
      "    2.68422942e-04   7.78389768e-05  -1.01155949e-13]\n",
      " [  4.50503347e+04   3.23013755e+05   9.31884207e+06   2.91836651e+04\n",
      "    7.78389811e-05   3.43656055e-02  -3.45278972e-11]\n",
      " [  5.26652074e-05   3.77612984e-04  -1.37637131e+00   3.41165894e-05\n",
      "    9.09959382e-14   3.22039065e-11   7.15885235e-04]]\n",
      "Infinity and beyond\n",
      "['0.7239176218763036', '-2.5557399810910533', '1.0', '0.1812489680128185']\n",
      "[[ inf  inf  inf  inf]\n",
      " [ inf  inf  inf  inf]\n",
      " [ inf  inf  inf  inf]\n",
      " [ inf  inf  inf  inf]]\n",
      "['-1.403317034160283', '-1.1379440469264483', '-1.8475695699688495', '-1.1708063533485762', '0.6085515922349156', '0.42885529546289164', '0.07801494173148414']\n",
      "[[  1.49769805e+12   2.12525427e+12   1.16827171e+13   9.11426547e+11\n",
      "   -2.86502496e-04  -1.35259319e-03  -1.91618864e+04]\n",
      " [  2.12525427e+12   3.01576524e+12   1.65779373e+13   1.29332689e+12\n",
      "    1.43251248e-04  -7.48336639e-02  -2.71909822e+04]\n",
      " [  1.16827171e+13   1.65779373e+13   9.11304377e+13   7.10953619e+12\n",
      "    1.14600998e-03  -1.05508341e-02  -1.49471308e+05]\n",
      " [  9.11426547e+11   1.29332689e+12   7.10953619e+12   5.54650084e+11\n",
      "    2.14876872e-04  -8.23122752e-04  -1.16609967e+04]\n",
      " [ -1.94093628e-04   3.60282272e-04   1.98050460e-03   1.54508960e-04\n",
      "    1.85999395e-04  -1.10391935e-18  -3.24840569e-12]\n",
      " [ -6.92398262e-02  -1.71166587e-01  -5.40101725e-01  -4.21360070e-02\n",
      "   -1.53758317e-17   3.07049155e-01   8.85869962e-10]\n",
      " [ -1.91618865e+04  -2.71909822e+04  -1.49471308e+05  -1.16609967e+04\n",
      "   -1.06730497e-12   1.73053793e-11   4.80104437e-04]]\n",
      "Infinity and beyond\n",
      "['5.8540040494614525', '-0.923031296851204', '0.5755157675661622', '0.04450799869876719']\n",
      "[[  7.76032982e-04   3.36223930e-04  -4.49815641e-05  -1.55779328e-04]\n",
      " [  3.36223930e-04   1.88588698e-04  -2.00203904e-06  -8.96534585e-05]\n",
      " [ -4.49815641e-05  -2.00203904e-06   1.64054372e-05  -1.70871856e-13]\n",
      " [ -1.55779328e-04  -8.96534585e-05  -1.70871843e-13   5.01833017e-05]]\n",
      "Infinity and beyond\n",
      "['-1.1825475803960146', '-1.3366681552808533', '1.0', '0.04230802304749124']\n",
      "[[ inf  inf  inf  inf]\n",
      " [ inf  inf  inf  inf]\n",
      " [ inf  inf  inf  inf]\n",
      " [ inf  inf  inf  inf]]\n",
      "['0.43247432317127954', '0.9522267859196389', '0.19425651491651696', '-1.0568209022257395', '0.5664265463771726', '0.2816881532107034', '0.03801260357707289']\n",
      "[[  1.78377346e+09   3.58686174e+09   2.65800522e+10   1.01037668e+09\n",
      "    2.59255366e+01   5.17762122e+01   2.53512992e+01]\n",
      " [  3.58686174e+09   7.21256228e+09   5.34479151e+10   2.03169378e+09\n",
      "    5.21326649e+01   1.04075012e+02   5.09771043e+01]\n",
      " [  2.65800522e+10   5.34479151e+10   3.96070012e+11   1.50556477e+10\n",
      "    3.86323491e+02   7.71518609e+02   3.77772458e+02]\n",
      " [  1.01037668e+09   2.03169378e+09   1.50556477e+10   5.72304192e+08\n",
      "    1.46851573e+01   2.93274221e+01   1.43596494e+01]\n",
      " [  2.59255368e+01   5.21326651e+01   3.86323493e+02   1.46851573e+01\n",
      "    1.46250159e-04   7.52533020e-07   3.68464383e-07]\n",
      " [  5.17762149e+01   1.04075019e+02   7.71518653e+02   2.93274237e+01\n",
      "    7.52533062e-07   3.37553743e-02   7.35852593e-07]\n",
      " [  2.53512995e+01   5.09771046e+01   3.77772459e+02   1.43596495e+01\n",
      "    3.68464382e-07   7.35852551e-07   3.21999029e-04]]\n",
      "Infinity and beyond\n",
      "['543.207278090263', '160.04058701277899', '0.30053292141135796', '0.3005328945608634']\n",
      "[[ inf  inf  inf  inf]\n",
      " [ inf  inf  inf  inf]\n",
      " [ inf  inf  inf  inf]\n",
      " [ inf  inf  inf  inf]]\n",
      "['-1.1846364866424406', '1.6927226843715024', '23.062661795671367', '-0.8168111510361034', '0.5305473745501816', '0.09055132541041673', '0.00039718117139830275']\n",
      "[[  6.87853263e+11   4.03018680e+12   9.18848586e+14   3.64938739e+11\n",
      "    4.00962793e+02  -1.18986555e+04  -1.27857934e-04]\n",
      " [  4.03018680e+12   2.36131840e+13   5.38360671e+15   2.13820500e+12\n",
      "    2.34927509e+03  -6.97151708e+04  -7.38734727e-04]\n",
      " [  9.18848586e+14   5.38360671e+15   1.22741691e+18   4.87492700e+14\n",
      "    5.35614940e+05  -1.58944695e+07  -3.68667270e+01]\n",
      " [  3.64938739e+11   2.13820500e+12   4.87492700e+14   1.93617288e+11\n",
      "    2.12729973e+02  -6.31280036e+03  -6.92563807e-05]\n",
      " [  4.00962808e+02   2.34927515e+03   5.35614911e+05   2.12729968e+02\n",
      "    1.10267690e-04  -6.93596025e-06  -7.27692655e-14]\n",
      " [ -1.18986552e+04  -6.97151696e+04  -1.58944693e+07  -6.31280023e+03\n",
      "   -6.93596079e-06   5.92895578e-04   2.11692409e-12]\n",
      " [ -2.59837508e-13  -1.52241003e-12  -3.66985614e+01  -1.37856239e-13\n",
      "   -9.71274532e-20   4.49473767e-21   7.03316682e-04]]\n",
      "['1.0152929650998423', '1.1600206049277393', '9.532224554408161', '-0.9784747750987288', '0.43310254496118067', '0.07286228056292399', '0.015675129987069904']\n",
      "[[  1.16441085e+12   6.92140487e+12   3.21725753e+13   5.04309308e+11\n",
      "    7.25391861e+02   6.37067633e+00   2.66141875e+02]\n",
      " [  6.92140487e+12   4.11417028e+13   1.91237842e+14   2.99767808e+12\n",
      "    4.31182255e+03  -1.07751704e+03   1.58198079e+03]\n",
      " [  3.21725753e+13   1.91237842e+14   8.88925585e+14   1.39340243e+13\n",
      "    2.00425233e+04   1.76029187e+02   7.35152769e+03]\n",
      " [  5.04309308e+11   2.99767808e+12   1.39340243e+13   2.18417646e+11\n",
      "    3.14169209e+02   2.75961928e+00   1.15266728e+02]\n",
      " [  7.25391851e+02   4.31182234e+03   2.00425248e+04   3.14169187e+02\n",
      "    6.80428722e-05   3.96850643e-09   1.65798197e-07]\n",
      " [  1.03077090e+01  -1.05411685e+03   2.84801145e+02   4.46429504e+00\n",
      "    6.42138443e-09   8.15709251e+02   2.35548758e-09]\n",
      " [  2.66141207e+02   1.58197688e+03   7.35150934e+03   1.15266435e+02\n",
      "    1.65797794e-07   1.45630301e-09   3.85423169e-03]]\n",
      "['0.7439019806441745', '0.9047330391588445', '9.591715528204398', '-1.1677900085370165', '0.4721833181712902', '0.9842024421368548', '0.008284650553495608']\n",
      "[[  1.31079417e+11   2.66175470e+10   7.47086548e+12   6.18935151e+10\n",
      "    4.41016824e+01   4.01617966e+11   2.98497068e-04]\n",
      " [  2.34819176e+10  -2.47098943e+12   1.33835083e+12   1.10877699e+10\n",
      "    7.90067901e+00   2.74864616e+13   1.19890104e-02]\n",
      " [  7.47086548e+12   1.51706589e+12   4.25801641e+14   3.52761810e+12\n",
      "    2.51357779e+03   2.28901978e+13  -4.81203807e-01]\n",
      " [  6.18935151e+10   1.25683618e+10   3.52761810e+12   2.92250858e+10\n",
      "    2.08241111e+01   1.89637307e+11   1.40956949e-04]\n",
      " [  4.41016891e+01   8.95543550e+00   2.51357782e+03   2.08241157e+01\n",
      "    1.98297159e-05   1.35125265e+02   1.01546148e-13]\n",
      " [  4.36339358e+11   2.75031196e+13   2.48691420e+13   2.06032169e+11\n",
      "    1.46804822e+02  -3.02228980e+14  -1.30874381e-01]\n",
      " [ -2.40509439e-07  -1.51596682e-05  -4.98246812e-01  -1.13564547e-07\n",
      "   -8.09232842e-17   1.66588050e-04   5.17500065e-04]]\n"
     ]
    }
   ],
   "source": [
    "for exp in Experimentos:\n",
    "    res = exp.get_closest_points_to_intersections()\n"
   ]
  },
  {
   "cell_type": "code",
   "execution_count": null,
   "metadata": {
    "collapsed": true
   },
   "outputs": [],
   "source": []
  }
 ],
 "metadata": {
  "anaconda-cloud": {},
  "kernelspec": {
   "display_name": "Python [conda root]",
   "language": "python",
   "name": "conda-root-py"
  },
  "language_info": {
   "codemirror_mode": {
    "name": "ipython",
    "version": 3
   },
   "file_extension": ".py",
   "mimetype": "text/x-python",
   "name": "python",
   "nbconvert_exporter": "python",
   "pygments_lexer": "ipython3",
   "version": "3.5.2"
  }
 },
 "nbformat": 4,
 "nbformat_minor": 1
}
