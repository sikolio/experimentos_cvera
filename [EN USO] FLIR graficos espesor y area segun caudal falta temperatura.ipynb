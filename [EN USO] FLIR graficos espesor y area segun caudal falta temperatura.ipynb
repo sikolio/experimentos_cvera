{
 "cells": [
  {
   "cell_type": "code",
   "execution_count": 1,
   "metadata": {
    "collapsed": false
   },
   "outputs": [
    {
     "name": "stdout",
     "output_type": "stream",
     "text": [
      "Using matplotlib backend: Qt5Agg\n"
     ]
    }
   ],
   "source": [
    "import pandas as pd\n",
    "import os\n",
    "import csv\n",
    "import numpy as np\n",
    "from scipy import stats\n",
    "from matplotlib import pyplot as plt\n",
    "from scipy.ndimage.filters import median_filter\n",
    "%matplotlib"
   ]
  },
  {
   "cell_type": "code",
   "execution_count": 2,
   "metadata": {
    "collapsed": true
   },
   "outputs": [
    {
     "name": "stdout",
     "output_type": "stream",
     "text": [
      "[Errno 2] No such file or directory: '.\\\\Data\\\\5cc50C - flir.csv'\n",
      "[Errno 2] No such file or directory: '.\\\\Data\\\\5cc50C - flir.csv'\n",
      "[Errno 2] No such file or directory: '.\\\\Data\\\\5cc50C - max av.csv'\n",
      "[Errno 2] No such file or directory: '.\\\\Data\\\\5cc50C - fspot.csv'\n",
      "[Errno 2] No such file or directory: '.\\\\Data\\\\5cc50C - max av cup.csv'\n",
      "[Errno 2] No such file or directory: '.\\\\Data\\\\1cc54C - flir.csv'\n",
      "[Errno 2] No such file or directory: '.\\\\Data\\\\1cc54C - flir.csv'\n",
      "[Errno 2] No such file or directory: '.\\\\Data\\\\1cc54C - max av.csv'\n",
      "[Errno 2] No such file or directory: '.\\\\Data\\\\1cc54C - fspot.csv'\n",
      "[Errno 2] No such file or directory: '.\\\\Data\\\\1cc54C - max av cup.csv'\n",
      "[Errno 2] No such file or directory: '.\\\\Data\\\\25cc54C - flir.csv'\n",
      "[Errno 2] No such file or directory: '.\\\\Data\\\\25cc54C - flir.csv'\n",
      "[Errno 2] No such file or directory: '.\\\\Data\\\\25cc54C - max av.csv'\n",
      "[Errno 2] No such file or directory: '.\\\\Data\\\\25cc54C - fspot.csv'\n",
      "[Errno 2] No such file or directory: '.\\\\Data\\\\25cc54C - max av cup.csv'\n",
      "[Errno 2] No such file or directory: '.\\\\Data\\\\10cc60C - flir.csv'\n",
      "[Errno 2] No such file or directory: '.\\\\Data\\\\10cc60C - flir.csv'\n",
      "[Errno 2] No such file or directory: '.\\\\Data\\\\10cc60C - max av.csv'\n",
      "[Errno 2] No such file or directory: '.\\\\Data\\\\10cc60C - fspot.csv'\n",
      "[Errno 2] No such file or directory: '.\\\\Data\\\\10cc60C - max av cup.csv'\n",
      "[Errno 2] No such file or directory: '.\\\\Data\\\\25cc60C - flir.csv'\n",
      "[Errno 2] No such file or directory: '.\\\\Data\\\\25cc60C - flir.csv'\n",
      "[Errno 2] No such file or directory: '.\\\\Data\\\\25cc60C - max av.csv'\n",
      "[Errno 2] No such file or directory: '.\\\\Data\\\\25cc60C - fspot.csv'\n",
      "[Errno 2] No such file or directory: '.\\\\Data\\\\25cc60C - max av cup.csv'\n",
      "[Errno 2] No such file or directory: '.\\\\Data\\\\1cc59C - flir.csv'\n",
      "[Errno 2] No such file or directory: '.\\\\Data\\\\1cc59C - flir.csv'\n",
      "'sp1'\n",
      "[Errno 2] No such file or directory: '.\\\\Data\\\\1cc59C - fspot.csv'\n",
      "[Errno 2] No such file or directory: '.\\\\Data\\\\1cc59C - max av cup.csv'\n",
      "'max'\n",
      "[Errno 2] No such file or directory: '.\\\\Data\\\\1cc47C - max av.csv'\n",
      "[Errno 2] No such file or directory: '.\\\\Data\\\\1cc47C - fspot.csv'\n",
      "'frente'\n",
      "'max'\n",
      "[Errno 2] No such file or directory: '.\\\\Data\\\\1cc55C - max av.csv'\n",
      "[Errno 2] No such file or directory: '.\\\\Data\\\\1cc55C - fspot.csv'\n",
      "'frente'\n",
      "'max'\n",
      "[Errno 2] No such file or directory: '.\\\\Data\\\\25cc58C - max av.csv'\n",
      "[Errno 2] No such file or directory: '.\\\\Data\\\\25cc58C - fspot.csv'\n",
      "'frente'\n",
      "'max'\n",
      "[Errno 2] No such file or directory: '.\\\\Data\\\\25cc70C - max av.csv'\n",
      "[Errno 2] No such file or directory: '.\\\\Data\\\\25cc70C - fspot.csv'\n",
      "'frente'\n",
      "'max'\n",
      "[Errno 2] No such file or directory: '.\\\\Data\\\\10cc67C - max av.csv'\n",
      "[Errno 2] No such file or directory: '.\\\\Data\\\\10cc67C - fspot.csv'\n",
      "'frente'\n",
      "'max'\n",
      "[Errno 2] No such file or directory: '.\\\\Data\\\\10cc59C - max av.csv'\n",
      "[Errno 2] No such file or directory: '.\\\\Data\\\\10cc59C - fspot.csv'\n",
      "'frente'\n",
      "[Errno 2] No such file or directory: '.\\\\Data\\\\5cc63C - flir.csv'\n",
      "[Errno 2] No such file or directory: '.\\\\Data\\\\5cc63C - flir.csv'\n",
      "[Errno 2] No such file or directory: '.\\\\Data\\\\5cc63C - max av.csv'\n",
      "[Errno 2] No such file or directory: '.\\\\Data\\\\5cc63C - fspot.csv'\n",
      "[Errno 2] No such file or directory: '.\\\\Data\\\\5cc63C - max av cup.csv'\n",
      "'max'\n",
      "[Errno 2] No such file or directory: '.\\\\Data\\\\5cc59C - max av.csv'\n",
      "[Errno 2] No such file or directory: '.\\\\Data\\\\5cc59C - fspot.csv'\n",
      "'frente'\n",
      "'max'\n",
      "[Errno 2] No such file or directory: '.\\\\Data\\\\10cc49C - max av.csv'\n",
      "[Errno 2] No such file or directory: '.\\\\Data\\\\10cc49C - fspot.csv'\n",
      "'frente'\n",
      "[Errno 2] No such file or directory: '.\\\\Data\\\\25cc62C - flir.csv'\n",
      "[Errno 2] No such file or directory: '.\\\\Data\\\\25cc62C - flir.csv'\n",
      "[Errno 2] No such file or directory: '.\\\\Data\\\\25cc62C - max av.csv'\n",
      "[Errno 2] No such file or directory: '.\\\\Data\\\\25cc62C - fspot.csv'\n",
      "[Errno 2] No such file or directory: '.\\\\Data\\\\25cc62C - max av cup.csv'\n",
      "[Errno 2] No such file or directory: '.\\\\Data\\\\1cc62C - flir.csv'\n",
      "[Errno 2] No such file or directory: '.\\\\Data\\\\1cc62C - flir.csv'\n",
      "[Errno 2] No such file or directory: '.\\\\Data\\\\1cc62C - max av.csv'\n",
      "[Errno 2] No such file or directory: '.\\\\Data\\\\1cc62C - fspot.csv'\n",
      "[Errno 2] No such file or directory: '.\\\\Data\\\\1cc62C - max av cup.csv'\n",
      "'max'\n",
      "[Errno 2] No such file or directory: '.\\\\Data\\\\5cc53C - max av.csv'\n",
      "[Errno 2] No such file or directory: '.\\\\Data\\\\5cc53C - fspot.csv'\n",
      "'frente'\n",
      "'max'\n",
      "[Errno 2] No such file or directory: '.\\\\Data\\\\5a25cc56C - max av.csv'\n",
      "[Errno 2] No such file or directory: '.\\\\Data\\\\5a25cc56C - fspot.csv'\n",
      "'frente'\n",
      "'max'\n",
      "'sp1'\n",
      "[Errno 2] No such file or directory: '.\\\\Data\\\\5cc57C - fspot.csv'\n",
      "[Errno 2] No such file or directory: '.\\\\Data\\\\5cc57C - max av cup.csv'\n",
      "'max'\n",
      "[Errno 2] No such file or directory: '.\\\\Data\\\\25cc50C - max av.csv'\n",
      "[Errno 2] No such file or directory: '.\\\\Data\\\\25cc50C - fspot.csv'\n",
      "'frente'\n",
      "'max'\n",
      "'sp1'\n",
      "[Errno 2] No such file or directory: '.\\\\Data\\\\10cc55C - fspot.csv'\n",
      "[Errno 2] No such file or directory: '.\\\\Data\\\\10cc55C - max av cup.csv'\n",
      "[Errno 2] No such file or directory: '.\\\\Data\\\\1cc24C - flir.csv'\n",
      "[Errno 2] No such file or directory: '.\\\\Data\\\\1cc24C - flir.csv'\n",
      "[Errno 2] No such file or directory: '.\\\\Data\\\\1cc24C - max av.csv'\n",
      "[Errno 2] No such file or directory: '.\\\\Data\\\\1cc24C - fspot.csv'\n",
      "[Errno 2] No such file or directory: '.\\\\Data\\\\1cc24C - max av cup.csv'\n",
      "'max'\n",
      "'sp1'\n",
      "[Errno 2] No such file or directory: '.\\\\Data\\\\10cc57C - fspot.csv'\n",
      "[Errno 2] No such file or directory: '.\\\\Data\\\\10cc57C - max av cup.csv'\n",
      "[Errno 2] No such file or directory: '.\\\\Data\\\\10cc24C - flir.csv'\n",
      "[Errno 2] No such file or directory: '.\\\\Data\\\\10cc24C - flir.csv'\n",
      "[Errno 2] No such file or directory: '.\\\\Data\\\\10cc24C - max av.csv'\n",
      "[Errno 2] No such file or directory: '.\\\\Data\\\\10cc24C - fspot.csv'\n",
      "[Errno 2] No such file or directory: '.\\\\Data\\\\10cc24C - max av cup.csv'\n",
      "'max'\n",
      "'sp1'\n",
      "[Errno 2] No such file or directory: '.\\\\Data\\\\5cc55C - fspot.csv'\n",
      "[Errno 2] No such file or directory: '.\\\\Data\\\\5cc55C - max av cup.csv'\n",
      "'max'\n",
      "'sp1'\n",
      "[Errno 2] No such file or directory: '.\\\\Data\\\\5cc58C - fspot.csv'\n",
      "[Errno 2] No such file or directory: '.\\\\Data\\\\5cc58C - max av cup.csv'\n",
      "'max'\n",
      "'sp1'\n",
      "[Errno 2] No such file or directory: '.\\\\Data\\\\1cc48C - fspot.csv'\n",
      "[Errno 2] No such file or directory: '.\\\\Data\\\\1cc48C - max av cup.csv'\n",
      "'max'\n",
      "'sp1'\n",
      "[Errno 2] No such file or directory: '.\\\\Data\\\\1cc51C - fspot.csv'\n",
      "[Errno 2] No such file or directory: '.\\\\Data\\\\1cc51C - max av cup.csv'\n",
      "'max'\n",
      "[Errno 2] No such file or directory: '.\\\\Data\\\\5cc48C - max av.csv'\n",
      "'max'\n",
      "[Errno 2] No such file or directory: '.\\\\Data\\\\5cc48C - max av cup.csv'\n",
      "'max'\n",
      "[Errno 2] No such file or directory: '.\\\\Data\\\\10cc50C - max av.csv'\n",
      "'max'\n",
      "[Errno 2] No such file or directory: '.\\\\Data\\\\10cc50C - max av cup.csv'\n",
      "'max'\n",
      "[Errno 2] No such file or directory: '.\\\\Data\\\\1cc54,7C - max av.csv'\n",
      "'max'\n",
      "[Errno 2] No such file or directory: '.\\\\Data\\\\1cc54,7C - max av cup.csv'\n",
      "'max'\n",
      "[Errno 2] No such file or directory: '.\\\\Data\\\\1cc52C - max av.csv'\n",
      "'max'\n",
      "[Errno 2] No such file or directory: '.\\\\Data\\\\1cc52C - max av cup.csv'\n"
     ]
    }
   ],
   "source": [
    "#en Experimentos está FLIR y en Experimentos2 están temp y tempcup y temp4cup\n",
    "from Experimentos2 import Experimentos, labelLines"
   ]
  },
  {
   "cell_type": "code",
   "execution_count": 129,
   "metadata": {
    "collapsed": true
   },
   "outputs": [
    {
     "name": "stdout",
     "output_type": "stream",
     "text": [
      "0 5cc50C.csv False\n",
      "1 1cc54C.csv False\n",
      "2 25cc54C.csv False\n",
      "3 10cc60C.csv False\n",
      "4 25cc60C.csv False\n",
      "5 1cc59C.csv False\n",
      "6 1cc47C.csv True\n",
      "7 1cc55C.csv True\n",
      "8 25cc58C.csv True\n",
      "9 25cc70C.csv True\n",
      "10 10cc67C.csv True\n",
      "11 10cc59C.csv True\n",
      "12 5cc63C.csv False\n",
      "13 5cc59C.csv True\n",
      "14 10cc49C.csv True\n",
      "15 25cc62C.csv False\n",
      "16 1cc62C.csv False\n",
      "17 5cc53C.csv True\n",
      "18 5a25cc56C.csv True\n",
      "19 5cc57C.csv True\n",
      "20 25cc50C.csv True\n",
      "21 10cc55C.csv True\n",
      "22 1cc24C.csv False\n",
      "23 10cc57C.csv True\n",
      "24 10cc24C.csv False\n",
      "25 5cc55C.csv True\n",
      "26 5cc58C.csv True\n",
      "27 1cc48C.csv True\n",
      "28 1cc51C.csv True\n",
      "29 5cc48C.csv True\n",
      "30 10cc50C.csv True\n",
      "31 1cc54,7C.csv True\n",
      "32 1cc52C.csv True\n"
     ]
    }
   ],
   "source": [
    "#experimentos sin FLIR: 11\n",
    "#experimentos con FLIR: 22\n",
    "for i, exp in enumerate(Experimentos):\n",
    "   print(i, exp, (exp.flir is not None))"
   ]
  },
  {
   "cell_type": "code",
   "execution_count": 3,
   "metadata": {
    "collapsed": true
   },
   "outputs": [],
   "source": [
    "numeropixeles = 1020100\n",
    "rho_manjar = 1340\n",
    "kilos_manjar = 2"
   ]
  },
  {
   "cell_type": "code",
   "execution_count": 4,
   "metadata": {
    "collapsed": false
   },
   "outputs": [
    {
     "name": "stderr",
     "output_type": "stream",
     "text": [
      "C:\\Users\\CCVV\\Anaconda3b\\lib\\site-packages\\ipykernel\\__main__.py:10: SettingWithCopyWarning: \n",
      "A value is trying to be set on a copy of a slice from a DataFrame\n",
      "\n",
      "See the caveats in the documentation: http://pandas.pydata.org/pandas-docs/stable/indexing.html#indexing-view-versus-copy\n",
      "C:\\Users\\CCVV\\Anaconda3b\\lib\\site-packages\\ipykernel\\__main__.py:14: SettingWithCopyWarning: \n",
      "A value is trying to be set on a copy of a slice from a DataFrame\n",
      "\n",
      "See the caveats in the documentation: http://pandas.pydata.org/pandas-docs/stable/indexing.html#indexing-view-versus-copy\n"
     ]
    }
   ],
   "source": [
    "#genero ESPESORES a partir de AREAS aproximando el flujo a un ELIPSOIDE REAL. \n",
    "for exp in Experimentos:\n",
    "    if exp.flir is not None:\n",
    "        try:\n",
    "            exp.flir['area_m2'] = exp.flir['FLIR: area']/numeropixeles\n",
    "            exp.flir['volumen_emitido'] = exp.param['caudal'][0]*exp.flir['FLIR: tiempo']\n",
    "        except:\n",
    "            continue\n",
    "        volumen_total = kilos_manjar/rho_manjar\n",
    "        exp.flir['volumen_emitido'][exp.flir['volumen_emitido'] > volumen_total] = volumen_total\n",
    "        exp.flir['espesor area'] = 3*exp.flir['volumen_emitido']/(2*exp.flir['area_m2'])\n",
    "        exp.dinamica['area a*b'] = 3.14*(exp.dinamica['avance: largo total flujo']/2)*(exp.dinamica['avance: ancho maximo']/2)\n",
    "        exp.dinamica['volumen a*b'] = exp.param['caudal'][0]*exp.dinamica['avance: tiempo']\n",
    "        exp.dinamica['volumen a*b'][exp.dinamica['volumen a*b'] > volumen_total] = volumen_total\n",
    "        exp.dinamica['espesor largoancho'] = 3*exp.dinamica['volumen a*b']/(2*exp.dinamica['area a*b'])\n"
   ]
  },
  {
   "cell_type": "code",
   "execution_count": 41,
   "metadata": {
    "collapsed": false
   },
   "outputs": [],
   "source": [
    "#Añado velos a params x facilidad\n",
    "for exp in Experimentos:\n",
    "    for i in range(33):\n",
    "        if exp.param['NOMBRE'][0]==velos.iloc[i,:]['nombre']:\n",
    "            exp.param['v1'] = velos.iloc[i,:]['v1']\n",
    "            exp.param['v2'] = velos.iloc[i,:]['v2']\n",
    "            exp.param['L*'] = velos.iloc[i,:]['L*']\n",
    "            exp.param['t*'] = velos.iloc[i,:]['t*']"
   ]
  },
  {
   "cell_type": "code",
   "execution_count": 5,
   "metadata": {
    "collapsed": false
   },
   "outputs": [],
   "source": [
    "#achico los rangos\n",
    "for exp in Experimentos:\n",
    "    if exp.flir is not None:\n",
    "        try:\n",
    "            exp.flir['rango 1'] = exp.flir['FLIR: rango 1']+exp.flir['FLIR: rango 2']+exp.flir['FLIR: rango 3']\n",
    "            exp.flir['rango 2'] = exp.flir['FLIR: rango 4']+exp.flir['FLIR: rango 5']+exp.flir['FLIR: rango 6']\n",
    "            exp.flir['rango 3'] = exp.flir['FLIR: rango 7']+exp.flir['FLIR: rango 8']+exp.flir['FLIR: rango 9']\n",
    "\n",
    "        except:\n",
    "            continue"
   ]
  },
  {
   "cell_type": "code",
   "execution_count": 90,
   "metadata": {
    "collapsed": false
   },
   "outputs": [],
   "source": [
    "listarangos = []\n",
    "\n",
    "for exp in Experimentos:\n",
    "    if exp.flir is not None:\n",
    "        try:\n",
    "            holder = {} #es un diccionario \n",
    "            holder['nombre'] = exp.param['NOMBRE'][0]#solo el valor de la primera fila\n",
    "            holder['rango 1'] = exp.flir['rango 1']#toda la columna\n",
    "            holder['rango 2'] = exp.flir['rango 2']#toda la columna\n",
    "            holder['rango 3'] = exp.flir['rango 3']#toda la columna\n",
    "            holder['avance'] = exp.dinamica['avance: largo total flujo']#toda la columna\n",
    "            holder['tiempoavance'] = exp.dinamica['avance: tiempo']#toda la columna\n",
    "            holder['tiempoflir'] = exp.flir['FLIR: tiempo']#toda la columna\n",
    "            holder['caudal'] = exp.param['caudal'][0]#solo el valor de la primera fila\n",
    "            holder['angulo'] = exp.param['angulo inclinacion'][0]\n",
    "            holder['uso'] = exp.param['uso manjar'][0]\n",
    "\n",
    "            listarangos.append(holder)\n",
    "        except Exception as e:\n",
    "            print(e)"
   ]
  },
  {
   "cell_type": "code",
   "execution_count": 125,
   "metadata": {
    "collapsed": false,
    "scrolled": true
   },
   "outputs": [
    {
     "name": "stdout",
     "output_type": "stream",
     "text": [
      "1e-06 6\n"
     ]
    }
   ],
   "source": [
    "#grafico de rangos por caudal\n",
    "\n",
    "styles= ['red', 'sienna', 'darkgreen', 'purple', 'darkcyan', 'coral', 'navy', \n",
    "        'springgreen', 'magenta', 'y', 'palevioletred', 'blue']\n",
    "\n",
    "fig = plt.figure()\n",
    "axes = []\n",
    "\n",
    "\n",
    "for x in range(c):\n",
    "    axes.append(fig.add_subplot(2, 3, x + 1))\n",
    "\n",
    "for i, (key, group) in enumerate(groupby(sorted(listarangos, key=lambda x: x['caudal']), key=lambda x: x['caudal'])):\n",
    "    print(key, c)\n",
    "    if key == 1e-06:\n",
    "        c = 0     \n",
    "        for exp in group:\n",
    "            colors = styles[c]\n",
    "            ax.set_title(exp['nombre'])\n",
    "\n",
    "            axes[c].plot(exp['tiempo'], exp['rango 1'], color=colors)\n",
    "            axes[c].plot(exp['tiempo'], exp['rango 2'], color=colors)\n",
    "            axes[c].plot(exp['tiempo'], exp['rango 3'], color=colors)\n",
    "            #axes[c].plot(exp['otrotiempo'], exp['distancia'], color=colors)\n",
    "           \n",
    "            c = c + 1\n",
    "        break\n",
    "    \n",
    "fig.show()"
   ]
  },
  {
   "cell_type": "code",
   "execution_count": 25,
   "metadata": {
    "collapsed": true
   },
   "outputs": [
    {
     "name": "stdout",
     "output_type": "stream",
     "text": [
      "1.0\n",
      "0.747871812\n",
      "0.619908466\n",
      "0.565432179\n",
      "0.846303847\n",
      "0.699669967\n",
      "1.000000001\n",
      "0.93413261\n",
      "0.90354621\n",
      "1.000000001\n",
      "0.934428167\n",
      "0.906165947\n",
      "0.999959626\n",
      "0.934389829\n",
      "0.898852245\n",
      "0.999919647\n",
      "0.970162376\n",
      "0.859032918\n",
      "1.000000001\n",
      "0.951593036\n",
      "0.832425786\n",
      "0.999970252\n",
      "0.928591873\n",
      "0.848566546\n",
      "0.60106383\n",
      "0.939085894\n",
      "0.85113972\n",
      "1.000000001\n",
      "0.94198386\n",
      "0.752496543\n",
      "0.662088922\n",
      "0.901257787\n",
      "0.812531838\n",
      "0.689476333\n",
      "0.944947648\n",
      "0.855160069\n",
      "1.000000001\n",
      "0.93358557\n",
      "0.903052395\n",
      "1.000000001\n",
      "0.956743889\n",
      "0.887895111\n",
      "1.000000038\n",
      "0.795114777\n",
      "0.465571764\n",
      "1.000000001\n",
      "0.933673238\n",
      "0.796978281\n",
      "0.820458661\n",
      "0.770635781\n",
      "0.72947053\n",
      "1.000000044\n",
      "0.933196364\n",
      "0.771124557\n",
      "1.000000001\n",
      "0.907328555\n",
      "0.807389334\n",
      "1.000000001\n",
      "0.943459649\n",
      "0.835539401\n",
      "0.725556153\n",
      "0.870059399\n",
      "0.746544606\n",
      "0.901354672\n",
      "0.832376863\n",
      "0.699649738\n"
     ]
    }
   ],
   "source": [
    "for exp in Experimentos:\n",
    "    if exp.flir is not None:\n",
    "        try:\n",
    "            print(exp.flir['rango 1'].max())\n",
    "            print(exp.flir['rango 2'].max())\n",
    "            print(exp.flir['rango 3'].max())\n",
    "\n",
    "        except:\n",
    "            continue"
   ]
  },
  {
   "cell_type": "code",
   "execution_count": 23,
   "metadata": {
    "collapsed": false
   },
   "outputs": [
    {
     "name": "stdout",
     "output_type": "stream",
     "text": [
      "['pat1', 'pat2', 'pat3', 'pat4', 'pat5', 'pat6', 'pat7']\n"
     ]
    }
   ],
   "source": [
    "#GENERA PATCHES DE COLORES SEGUN TEMPERATURA\n",
    "import matplotlib.patches as mpatches\n",
    "\n",
    "pat1 = mpatches.Patch(color='C1', label='temp < 40')\n",
    "pat2 = mpatches.Patch(color='C2', label='temp < 45')\n",
    "pat3 = mpatches.Patch(color='C3', label='temp < 50')\n",
    "pat4 = mpatches.Patch(color='C4', label='temp < 55')\n",
    "pat5 = mpatches.Patch(color='C5', label='temp < 60')\n",
    "pat6 = mpatches.Patch(color='C6', label='temp < 65')\n",
    "pat7 = mpatches.Patch(color='C7', label='temp < 70')\n",
    "\n",
    "numerocolores = 7\n",
    "colors = ['pat{}'.format(i+1) for i in range(numerocolores)]\n",
    "\n",
    "print(colors)"
   ]
  },
  {
   "cell_type": "code",
   "execution_count": 5,
   "metadata": {
    "collapsed": true
   },
   "outputs": [],
   "source": [
    "velos = pd.read_excel('Velocidades y punto.xlsx')"
   ]
  },
  {
   "cell_type": "code",
   "execution_count": 6,
   "metadata": {
    "collapsed": true
   },
   "outputs": [],
   "source": [
    "for exp in Experimentos:\n",
    "    exp.param['tiempo fin eyeccion'] = exp.param['volumen total teorico']/exp.param['caudal']"
   ]
  },
  {
   "cell_type": "code",
   "execution_count": 7,
   "metadata": {
    "collapsed": false
   },
   "outputs": [],
   "source": [
    "#LISTA para ESPESOR vs TIEMPO\n",
    "listaporcaudal = []\n",
    "\n",
    "for exp in Experimentos:\n",
    "    if exp.flir is not None:\n",
    "        try:\n",
    "            holder = {} #es un diccionario \n",
    "            holder['nombre'] = exp.param['NOMBRE'][0]#solo el valor de la primera fila\n",
    "            holder['espesor a'] = exp.flir['espesor area']#toda la columna\n",
    "            holder['espesor b'] = exp.dinamica['espesor largoancho']\n",
    "            holder['tiempo a'] = exp.flir['FLIR: tiempo']#toda la columna\n",
    "            holder['tiempo b'] = exp.dinamica['avance: tiempo']\n",
    "            holder['caudal'] = exp.param['caudal'][0]#solo el valor de la primera fila\n",
    "            holder['angulo'] = exp.param['angulo inclinacion'][0]\n",
    "            holder['uso'] = exp.param['uso manjar'][0]\n",
    "            holder['teyec'] = exp.param['tiempo fin eyeccion'][0]\n",
    "            holder['espesorfinal'] = exp.perfil['perfil: espesor'].max()\n",
    "            holder['temperatura'] = exp.param['t max'][0]\n",
    "\n",
    "            listaporcaudal.append(holder)\n",
    "        except Exception as e:\n",
    "            print(e)"
   ]
  },
  {
   "cell_type": "code",
   "execution_count": 98,
   "metadata": {
    "collapsed": false,
    "scrolled": true
   },
   "outputs": [
    {
     "name": "stdout",
     "output_type": "stream",
     "text": [
      "30 30\n",
      "32 32\n",
      "40 40\n",
      "39 39\n",
      "33 33\n",
      "31 31\n",
      "39 39\n",
      "40 40\n",
      "36 36\n",
      "37 37\n",
      "38 38\n",
      "31 31\n",
      "50 50\n",
      "49 49\n",
      "68 68\n",
      "63 63\n",
      "18 18\n",
      "48 48\n",
      "57 57\n",
      "49 49\n",
      "42 42\n",
      "29 29\n"
     ]
    }
   ],
   "source": [
    "for exp in listaporcaudal:\n",
    "    print(len(exp['espesor b']), len(exp['tiempo b']))"
   ]
  },
  {
   "cell_type": "code",
   "execution_count": 38,
   "metadata": {
    "collapsed": false
   },
   "outputs": [],
   "source": [
    "#for exp in Experimentos:\n",
    "#    print(exp.flir['espesor'] if exp.flir is not None else None)"
   ]
  },
  {
   "cell_type": "code",
   "execution_count": 8,
   "metadata": {
    "collapsed": false,
    "scrolled": true
   },
   "outputs": [
    {
     "name": "stdout",
     "output_type": "stream",
     "text": [
      "1e-06\n",
      "5e-06\n",
      "1e-05\n",
      "1.7e-05\n",
      "2.5e-05\n"
     ]
    }
   ],
   "source": [
    "#crear GRUPOS segun CAUDAL\n",
    "from itertools import groupby\n",
    "count = 0\n",
    "\n",
    "#key es la lista donde estan los diccionarios de exp y DF\n",
    "#group es que se agrupa segun el valor de 'caudal' en este caso\n",
    "\n",
    "for key, group in groupby(sorted(listaporcaudal, key=lambda x: x['caudal']), key=lambda x: x['caudal']):\n",
    "    print(key)\n",
    "    count += 1\n",
    "    #for exp in group:\n",
    "        #muestra el nombre del grupo y los elementos que tiene\n",
    "        #print(exp['nombre']) "
   ]
  },
  {
   "cell_type": "code",
   "execution_count": 40,
   "metadata": {
    "collapsed": false,
    "scrolled": true
   },
   "outputs": [
    {
     "name": "stdout",
     "output_type": "stream",
     "text": [
      "0 1e-06\n",
      "1 5e-06\n",
      "2 1e-05\n",
      "3 1.7e-05\n",
      "4 2.5e-05\n"
     ]
    }
   ],
   "source": [
    "#ESPESOR vs TIEMPO para 1 caudal a la vez\n",
    "# 1 cc 6 exp 5 cc 6 exp 10cc 1e-05 6 exp 25cc 2.5e-05 3 exp 5a25xx 1 exp\n",
    "\n",
    "import matplotlib.lines as mlines\n",
    "import matplotlib.cm as cm\n",
    "import matplotlib.mlab as mlab\n",
    "\n",
    "fig = plt.figure()\n",
    "axes = []\n",
    "f = 0\n",
    "\n",
    "for x in range(6): #range segun el numero de exp por caudal\n",
    "    axes.append(fig.add_subplot(2, 3, x + 1)) #subplot segun numero de figuras en el plot (3x3, 4x3, 2x3 etc)\n",
    "\n",
    "for i, (key, group) in enumerate(groupby(sorted(listaporcaudal, key=lambda x: x['caudal']), key=lambda x: x['caudal'])):\n",
    "    print(i,key)\n",
    "    c = 0\n",
    "    if key==1e-06:\n",
    "        for exp in sorted(group, key=lambda x: x['temperatura']):\n",
    "            c = c+1\n",
    "            ax=axes[f]\n",
    "            min = -50\n",
    "            max = int(exp['tiempo a'].max()+500)\n",
    "            ax.set_xlim(min, max)\n",
    "            #ax.set_ylim(0, maximoejeespesor)\n",
    "            ax.set_title(exp['nombre'])\n",
    "            ax.grid(True, which='both', color='gainsboro')\n",
    "\n",
    "            ax.plot(exp['tiempo a'], exp['espesor a'], linestyle=':', color='royalblue')\n",
    "            ax.plot(exp['tiempo b'], exp['espesor b'], marker='o', markersize='3', linestyle='None', color='darkorange')\n",
    "            ax.set_xlabel('Tiempo [s]')\n",
    "            ax.set_ylabel('Espesor [m]')\n",
    "            ax.axhline(exp['espesorfinal'], label='Espesor final medido', color='silver')\n",
    "            ax.axvline(exp['teyec'], label='tiempo fin eyección', color='rosybrown')\n",
    "\n",
    "            f=f+1\n",
    "            \n",
    "plt.suptitle('Evolución de espesores en el tiempo según aproximaciones geométricas para caudales de 1[cc/s]')\n",
    "\n",
    "elipse = mlines.Line2D([], [], color='royalblue', linestyle=':', label='Aproximación medio elipsoide')\n",
    "largoxancho = mlines.Line2D([], [], color='darkorange', marker='o',markersize=3, label='Aproximación Largo*Ancho*1/2')\n",
    "vertical = mlines.Line2D([], [], color='rosybrown', label='Tiempo fin eyección')\n",
    "horizontal = mlines.Line2D([], [], color='silver', marker='o',markersize=3, label='Espesor final medido')\n",
    "\n",
    "legend2 = plt.legend(handles=[vertical, horizontal], bbox_to_anchor=(1.8, 0.4), loc=0)\n",
    "plt.gca().add_artist(legend2)\n",
    "plt.legend(handles=[elipse, largoxancho], title='Leyenda', loc=1, bbox_to_anchor=(1.8, 1), \n",
    "           labels=['Aproximacion medio elipsoide', r'Aproximacion $(X_max*Y_max)/2$'], ncol=1)\n",
    "fig.show()"
   ]
  },
  {
   "cell_type": "code",
   "execution_count": 14,
   "metadata": {
    "collapsed": true
   },
   "outputs": [],
   "source": [
    "#LISTA para AREA vs TIEMPO\n",
    "otralistaporcaudal = []\n",
    "\n",
    "for exp in Experimentos:\n",
    "    if exp.flir is not None:\n",
    "        try:\n",
    "            holder = {} #es un diccionario \n",
    "            holder['nombre'] = exp.param['NOMBRE'][0]#solo el valor de la primera fila\n",
    "            holder['area'] = exp.flir['area_m2']#toda la columna\n",
    "            holder['tiempo'] = exp.flir['FLIR: tiempo']#toda la columna\n",
    "            holder['caudal'] = exp.param['caudal'][0]#solo el valor de la primera fila\n",
    "            holder['angulo'] = exp.param['angulo inclinacion'][0]\n",
    "            holder['uso'] = exp.param['uso manjar'][0]\n",
    "\n",
    "            otralistaporcaudal.append(holder)\n",
    "        except:\n",
    "            continue"
   ]
  },
  {
   "cell_type": "code",
   "execution_count": 16,
   "metadata": {
    "collapsed": false
   },
   "outputs": [
    {
     "name": "stdout",
     "output_type": "stream",
     "text": [
      "1e-06\n",
      "5e-06\n",
      "1e-05\n",
      "1.7e-05\n",
      "2.5e-05\n"
     ]
    }
   ],
   "source": [
    "#AREA vs TIEMPO agrupados por caudales\n",
    "fig = plt.figure()\n",
    "axes = [fig.add_subplot(3,2,i+1) for i in range(count)]\n",
    "counter = 0\n",
    "\n",
    "for key, group in groupby(sorted(otralistaporcaudal, key=lambda x: x['caudal']), key=lambda x: x['caudal']):\n",
    "    print(key)\n",
    "    ax = axes[counter]\n",
    "    #ax.set_xlim(minimoejelargo, maximoejelargo)\n",
    "    #ax.set_ylim(0, maximoejeespesor)\n",
    "    ax.set_title('{}cc'.format(key*1000000))\n",
    "    counter += 1\n",
    "    \n",
    "    for exp in group:\n",
    "        ax.plot(exp['tiempo'], exp['area'])\n",
    "        \n",
    "#legend1 = plt.legend(handles=[pat1, pat2, pat3, pat4, pat5, pat6, pat7], bbox_to_anchor=(1.8, 0.5), loc=5)\n",
    "#plt.legend(bbox_to_anchor=(1.8, 0.5), loc=6)\n",
    "#plt.gca().add_artist(legend1)\n",
    "fig.show()"
   ]
  }
 ],
 "metadata": {
  "anaconda-cloud": {},
  "kernelspec": {
   "display_name": "Python [conda root]",
   "language": "python",
   "name": "conda-root-py"
  },
  "language_info": {
   "codemirror_mode": {
    "name": "ipython",
    "version": 3
   },
   "file_extension": ".py",
   "mimetype": "text/x-python",
   "name": "python",
   "nbconvert_exporter": "python",
   "pygments_lexer": "ipython3",
   "version": "3.5.2"
  }
 },
 "nbformat": 4,
 "nbformat_minor": 1
}
