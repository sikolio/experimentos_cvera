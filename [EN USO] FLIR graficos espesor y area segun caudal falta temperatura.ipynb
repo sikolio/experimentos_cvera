{
 "cells": [
  {
   "cell_type": "code",
   "execution_count": 1,
   "metadata": {
    "collapsed": false
   },
   "outputs": [
    {
     "name": "stdout",
     "output_type": "stream",
     "text": [
      "Using matplotlib backend: Qt5Agg\n"
     ]
    }
   ],
   "source": [
    "import pandas as pd\n",
    "import os\n",
    "import csv\n",
    "import numpy as np\n",
    "from scipy import stats\n",
    "from matplotlib import pyplot as plt\n",
    "%matplotlib"
   ]
  },
  {
   "cell_type": "code",
   "execution_count": null,
   "metadata": {
    "collapsed": true
   },
   "outputs": [],
   "source": [
    "from scipy.ndimage.filters import median_filter"
   ]
  },
  {
   "cell_type": "code",
   "execution_count": 5,
   "metadata": {
    "collapsed": false,
    "scrolled": true
   },
   "outputs": [
    {
     "name": "stdout",
     "output_type": "stream",
     "text": [
      "[Errno 2] No such file or directory: '.\\\\Data\\\\5cc50C - flir.csv'\n",
      "[Errno 2] No such file or directory: '.\\\\Data\\\\1cc54C - flir.csv'\n",
      "[Errno 2] No such file or directory: '.\\\\Data\\\\25cc54C - flir.csv'\n",
      "[Errno 2] No such file or directory: '.\\\\Data\\\\10cc60C - flir.csv'\n",
      "[Errno 2] No such file or directory: '.\\\\Data\\\\25cc60C - flir.csv'\n",
      "[Errno 2] No such file or directory: '.\\\\Data\\\\1cc59C - flir.csv'\n",
      "[Errno 2] No such file or directory: '.\\\\Data\\\\5cc63C - flir.csv'\n",
      "[Errno 2] No such file or directory: '.\\\\Data\\\\25cc62C - flir.csv'\n",
      "[Errno 2] No such file or directory: '.\\\\Data\\\\1cc62C - flir.csv'\n",
      "[Errno 2] No such file or directory: '.\\\\Data\\\\10cc55C - flir.csv'\n",
      "[Errno 2] No such file or directory: '.\\\\Data\\\\1cc24C - flir.csv'\n",
      "[Errno 2] No such file or directory: '.\\\\Data\\\\10cc24C - flir.csv'\n"
     ]
    }
   ],
   "source": [
    "#en Experimentos está FLIR y en Experimentos2 están temp y tempcup y temp4cup\n",
    "from Experimentos import Experimentos, labelLines"
   ]
  },
  {
   "cell_type": "code",
   "execution_count": 126,
   "metadata": {
    "collapsed": false
   },
   "outputs": [],
   "source": [
    "#Para revisar en que experimentos tengo archivo flir\n",
    "#for i, exp in enumerate(Experimentos):\n",
    " #   print(i, (exp.flir.dtypes if exp.flir is not None else 0))"
   ]
  },
  {
   "cell_type": "code",
   "execution_count": 4,
   "metadata": {
    "collapsed": false
   },
   "outputs": [
    {
     "data": {
      "text/html": [
       "<div>\n",
       "<table border=\"1\" class=\"dataframe\">\n",
       "  <thead>\n",
       "    <tr style=\"text-align: right;\">\n",
       "      <th></th>\n",
       "      <th>FLIR: tiempo</th>\n",
       "      <th>FLIR: area</th>\n",
       "      <th>FLIR: rango 1</th>\n",
       "      <th>FLIR: rango 2</th>\n",
       "      <th>FLIR: rango 3</th>\n",
       "      <th>FLIR: rango 4</th>\n",
       "      <th>FLIR: rango 5</th>\n",
       "      <th>FLIR: rango 6</th>\n",
       "      <th>FLIR: rango 7</th>\n",
       "      <th>FLIR: rango 8</th>\n",
       "      <th>FLIR: rango 9</th>\n",
       "      <th>moving average</th>\n",
       "      <th>moving std</th>\n",
       "    </tr>\n",
       "  </thead>\n",
       "  <tbody>\n",
       "    <tr>\n",
       "      <th>count</th>\n",
       "      <td>1557.000000</td>\n",
       "      <td>1557.000000</td>\n",
       "      <td>1557.000000</td>\n",
       "      <td>1557.000000</td>\n",
       "      <td>1557.000000</td>\n",
       "      <td>1557.000000</td>\n",
       "      <td>1557.000000</td>\n",
       "      <td>1557.000000</td>\n",
       "      <td>1557.000000</td>\n",
       "      <td>1557.000000</td>\n",
       "      <td>1557.000000</td>\n",
       "      <td>1557.000000</td>\n",
       "      <td>1557.000000</td>\n",
       "    </tr>\n",
       "    <tr>\n",
       "      <th>mean</th>\n",
       "      <td>785.181118</td>\n",
       "      <td>94162.901092</td>\n",
       "      <td>0.112485</td>\n",
       "      <td>0.120258</td>\n",
       "      <td>0.211461</td>\n",
       "      <td>0.182675</td>\n",
       "      <td>0.184660</td>\n",
       "      <td>0.087382</td>\n",
       "      <td>0.063736</td>\n",
       "      <td>0.033939</td>\n",
       "      <td>0.003378</td>\n",
       "      <td>94155.919717</td>\n",
       "      <td>469.647036</td>\n",
       "    </tr>\n",
       "    <tr>\n",
       "      <th>std</th>\n",
       "      <td>455.769516</td>\n",
       "      <td>20014.599567</td>\n",
       "      <td>0.085897</td>\n",
       "      <td>0.103205</td>\n",
       "      <td>0.164399</td>\n",
       "      <td>0.154823</td>\n",
       "      <td>0.228621</td>\n",
       "      <td>0.157622</td>\n",
       "      <td>0.146061</td>\n",
       "      <td>0.101394</td>\n",
       "      <td>0.016267</td>\n",
       "      <td>19989.444232</td>\n",
       "      <td>907.503220</td>\n",
       "    </tr>\n",
       "    <tr>\n",
       "      <th>min</th>\n",
       "      <td>0.000000</td>\n",
       "      <td>299.000000</td>\n",
       "      <td>0.015796</td>\n",
       "      <td>0.005306</td>\n",
       "      <td>0.005876</td>\n",
       "      <td>0.000030</td>\n",
       "      <td>0.000000</td>\n",
       "      <td>0.000000</td>\n",
       "      <td>0.000000</td>\n",
       "      <td>0.000000</td>\n",
       "      <td>0.000000</td>\n",
       "      <td>6333.500000</td>\n",
       "      <td>38.071816</td>\n",
       "    </tr>\n",
       "    <tr>\n",
       "      <th>25%</th>\n",
       "      <td>391.000000</td>\n",
       "      <td>95783.000000</td>\n",
       "      <td>0.032509</td>\n",
       "      <td>0.020066</td>\n",
       "      <td>0.038780</td>\n",
       "      <td>0.029736</td>\n",
       "      <td>0.000000</td>\n",
       "      <td>0.000000</td>\n",
       "      <td>0.000000</td>\n",
       "      <td>0.000000</td>\n",
       "      <td>0.000000</td>\n",
       "      <td>95764.000000</td>\n",
       "      <td>92.242586</td>\n",
       "    </tr>\n",
       "    <tr>\n",
       "      <th>50%</th>\n",
       "      <td>781.000000</td>\n",
       "      <td>101901.000000</td>\n",
       "      <td>0.085578</td>\n",
       "      <td>0.100824</td>\n",
       "      <td>0.189249</td>\n",
       "      <td>0.152571</td>\n",
       "      <td>0.043643</td>\n",
       "      <td>0.000000</td>\n",
       "      <td>0.000000</td>\n",
       "      <td>0.000000</td>\n",
       "      <td>0.000000</td>\n",
       "      <td>101891.500000</td>\n",
       "      <td>123.731405</td>\n",
       "    </tr>\n",
       "    <tr>\n",
       "      <th>75%</th>\n",
       "      <td>1180.000000</td>\n",
       "      <td>103825.000000</td>\n",
       "      <td>0.188446</td>\n",
       "      <td>0.195695</td>\n",
       "      <td>0.389261</td>\n",
       "      <td>0.331465</td>\n",
       "      <td>0.344386</td>\n",
       "      <td>0.103819</td>\n",
       "      <td>0.000000</td>\n",
       "      <td>0.000000</td>\n",
       "      <td>0.000000</td>\n",
       "      <td>103799.000000</td>\n",
       "      <td>220.558973</td>\n",
       "    </tr>\n",
       "    <tr>\n",
       "      <th>max</th>\n",
       "      <td>1578.000000</td>\n",
       "      <td>104805.000000</td>\n",
       "      <td>0.327759</td>\n",
       "      <td>0.354756</td>\n",
       "      <td>0.443221</td>\n",
       "      <td>0.450265</td>\n",
       "      <td>0.653564</td>\n",
       "      <td>0.575844</td>\n",
       "      <td>0.591025</td>\n",
       "      <td>0.527886</td>\n",
       "      <td>0.124881</td>\n",
       "      <td>104703.500000</td>\n",
       "      <td>5446.076358</td>\n",
       "    </tr>\n",
       "  </tbody>\n",
       "</table>\n",
       "</div>"
      ],
      "text/plain": [
       "       FLIR: tiempo     FLIR: area  FLIR: rango 1  FLIR: rango 2  \\\n",
       "count   1557.000000    1557.000000    1557.000000    1557.000000   \n",
       "mean     785.181118   94162.901092       0.112485       0.120258   \n",
       "std      455.769516   20014.599567       0.085897       0.103205   \n",
       "min        0.000000     299.000000       0.015796       0.005306   \n",
       "25%      391.000000   95783.000000       0.032509       0.020066   \n",
       "50%      781.000000  101901.000000       0.085578       0.100824   \n",
       "75%     1180.000000  103825.000000       0.188446       0.195695   \n",
       "max     1578.000000  104805.000000       0.327759       0.354756   \n",
       "\n",
       "       FLIR: rango 3  FLIR: rango 4  FLIR: rango 5  FLIR: rango 6  \\\n",
       "count    1557.000000    1557.000000    1557.000000    1557.000000   \n",
       "mean        0.211461       0.182675       0.184660       0.087382   \n",
       "std         0.164399       0.154823       0.228621       0.157622   \n",
       "min         0.005876       0.000030       0.000000       0.000000   \n",
       "25%         0.038780       0.029736       0.000000       0.000000   \n",
       "50%         0.189249       0.152571       0.043643       0.000000   \n",
       "75%         0.389261       0.331465       0.344386       0.103819   \n",
       "max         0.443221       0.450265       0.653564       0.575844   \n",
       "\n",
       "       FLIR: rango 7  FLIR: rango 8  FLIR: rango 9  moving average  \\\n",
       "count    1557.000000    1557.000000    1557.000000     1557.000000   \n",
       "mean        0.063736       0.033939       0.003378    94155.919717   \n",
       "std         0.146061       0.101394       0.016267    19989.444232   \n",
       "min         0.000000       0.000000       0.000000     6333.500000   \n",
       "25%         0.000000       0.000000       0.000000    95764.000000   \n",
       "50%         0.000000       0.000000       0.000000   101891.500000   \n",
       "75%         0.000000       0.000000       0.000000   103799.000000   \n",
       "max         0.591025       0.527886       0.124881   104703.500000   \n",
       "\n",
       "        moving std  \n",
       "count  1557.000000  \n",
       "mean    469.647036  \n",
       "std     907.503220  \n",
       "min      38.071816  \n",
       "25%      92.242586  \n",
       "50%     123.731405  \n",
       "75%     220.558973  \n",
       "max    5446.076358  "
      ]
     },
     "execution_count": 4,
     "metadata": {},
     "output_type": "execute_result"
    }
   ],
   "source": [
    "#Experimentos[14].flir.describe()"
   ]
  },
  {
   "cell_type": "code",
   "execution_count": 3,
   "metadata": {
    "collapsed": true
   },
   "outputs": [],
   "source": [
    "numeropixeles = 1020100\n",
    "rho_manjar = 1340\n",
    "kilos_manjar = 2"
   ]
  },
  {
   "cell_type": "code",
   "execution_count": 6,
   "metadata": {
    "collapsed": false
   },
   "outputs": [
    {
     "name": "stderr",
     "output_type": "stream",
     "text": [
      "C:\\Users\\CCVV\\Anaconda3b\\lib\\site-packages\\ipykernel\\__main__.py:10: SettingWithCopyWarning: \n",
      "A value is trying to be set on a copy of a slice from a DataFrame\n",
      "\n",
      "See the caveats in the documentation: http://pandas.pydata.org/pandas-docs/stable/indexing.html#indexing-view-versus-copy\n"
     ]
    }
   ],
   "source": [
    "#genero ESPESORES a partir de AREAS aproximando el flujo a un ELIPSOIDE REAL. \n",
    "for exp in Experimentos:\n",
    "    if exp.flir is not None:\n",
    "        try:\n",
    "            exp.flir['area_m2'] = exp.flir['FLIR: area']/numeropixeles\n",
    "            exp.flir['volumen_emitido'] = exp.param['caudal'][0]*exp.flir['FLIR: tiempo']\n",
    "        except:\n",
    "            continue\n",
    "        volumen_total = kilos_manjar/rho_manjar\n",
    "        exp.flir['volumen_emitido'][exp.flir['volumen_emitido'] > volumen_total] = volumen_total\n",
    "        exp.flir['espesor'] = 3*exp.flir['volumen_emitido']/(2*exp.flir['area_m2'])"
   ]
  },
  {
   "cell_type": "code",
   "execution_count": 33,
   "metadata": {
    "collapsed": false
   },
   "outputs": [],
   "source": [
    "#funcion que entrega los rangos de temperatura de cada uno de los exp\n",
    "#exp.get_ranges()"
   ]
  },
  {
   "cell_type": "code",
   "execution_count": null,
   "metadata": {
    "collapsed": true
   },
   "outputs": [],
   "source": [
    "#FALTA: graficar tiempo en que prevalece cada rango de temperatura? y como relacionarlo a la velocidad"
   ]
  },
  {
   "cell_type": "code",
   "execution_count": 5,
   "metadata": {
    "collapsed": false
   },
   "outputs": [],
   "source": [
    "#achico los rangos\n",
    "\n",
    "for exp in Experimentos:\n",
    "    if exp.flir is not None:\n",
    "        try:\n",
    "            exp.flir['rango 1'] = exp.flir['FLIR: rango 1']+exp.flir['FLIR: rango 2']+exp.flir['FLIR: rango 3']\n",
    "            exp.flir['rango 2'] = exp.flir['FLIR: rango 4']+exp.flir['FLIR: rango 5']+exp.flir['FLIR: rango 6']\n",
    "            exp.flir['rango 3'] = exp.flir['FLIR: rango 7']+exp.flir['FLIR: rango 8']+exp.flir['FLIR: rango 9']\n",
    "\n",
    "        except:\n",
    "            continue"
   ]
  },
  {
   "cell_type": "code",
   "execution_count": 11,
   "metadata": {
    "collapsed": false
   },
   "outputs": [
    {
     "data": {
      "text/html": [
       "<div>\n",
       "<table border=\"1\" class=\"dataframe\">\n",
       "  <thead>\n",
       "    <tr style=\"text-align: right;\">\n",
       "      <th></th>\n",
       "      <th>FLIR: tiempo</th>\n",
       "      <th>FLIR: area</th>\n",
       "      <th>FLIR: rango 1</th>\n",
       "      <th>FLIR: rango 2</th>\n",
       "      <th>FLIR: rango 3</th>\n",
       "      <th>FLIR: rango 4</th>\n",
       "      <th>FLIR: rango 5</th>\n",
       "      <th>FLIR: rango 6</th>\n",
       "      <th>FLIR: rango 7</th>\n",
       "      <th>FLIR: rango 8</th>\n",
       "      <th>FLIR: rango 9</th>\n",
       "      <th>moving average</th>\n",
       "      <th>moving std</th>\n",
       "      <th>area_m2</th>\n",
       "      <th>volumen_emitido</th>\n",
       "      <th>espesor</th>\n",
       "      <th>rango 1</th>\n",
       "      <th>rango 2</th>\n",
       "      <th>rango 3</th>\n",
       "    </tr>\n",
       "  </thead>\n",
       "  <tbody>\n",
       "    <tr>\n",
       "      <th>count</th>\n",
       "      <td>1941.000000</td>\n",
       "      <td>1941.000000</td>\n",
       "      <td>1941.000000</td>\n",
       "      <td>1941.000000</td>\n",
       "      <td>1941.000000</td>\n",
       "      <td>1941.000000</td>\n",
       "      <td>1941.000000</td>\n",
       "      <td>1941.000000</td>\n",
       "      <td>1941.000000</td>\n",
       "      <td>1941.000000</td>\n",
       "      <td>1941.000000</td>\n",
       "      <td>1941.000000</td>\n",
       "      <td>1941.000000</td>\n",
       "      <td>1941.000000</td>\n",
       "      <td>1941.000000</td>\n",
       "      <td>1941.000000</td>\n",
       "      <td>1941.000000</td>\n",
       "      <td>1941.000000</td>\n",
       "      <td>1941.000000</td>\n",
       "    </tr>\n",
       "    <tr>\n",
       "      <th>mean</th>\n",
       "      <td>980.691396</td>\n",
       "      <td>98438.467285</td>\n",
       "      <td>0.133829</td>\n",
       "      <td>0.094392</td>\n",
       "      <td>0.221894</td>\n",
       "      <td>0.237164</td>\n",
       "      <td>0.149863</td>\n",
       "      <td>0.090145</td>\n",
       "      <td>0.050646</td>\n",
       "      <td>0.019551</td>\n",
       "      <td>0.002513</td>\n",
       "      <td>98418.919887</td>\n",
       "      <td>549.607886</td>\n",
       "      <td>0.096499</td>\n",
       "      <td>0.001458</td>\n",
       "      <td>0.026405</td>\n",
       "      <td>0.450116</td>\n",
       "      <td>0.477171</td>\n",
       "      <td>0.072710</td>\n",
       "    </tr>\n",
       "    <tr>\n",
       "      <th>std</th>\n",
       "      <td>571.134230</td>\n",
       "      <td>25921.205777</td>\n",
       "      <td>0.069117</td>\n",
       "      <td>0.068557</td>\n",
       "      <td>0.199774</td>\n",
       "      <td>0.219706</td>\n",
       "      <td>0.224876</td>\n",
       "      <td>0.182448</td>\n",
       "      <td>0.135069</td>\n",
       "      <td>0.069909</td>\n",
       "      <td>0.017171</td>\n",
       "      <td>25932.404918</td>\n",
       "      <td>818.010787</td>\n",
       "      <td>0.025410</td>\n",
       "      <td>0.000182</td>\n",
       "      <td>0.015269</td>\n",
       "      <td>0.332145</td>\n",
       "      <td>0.306911</td>\n",
       "      <td>0.191288</td>\n",
       "    </tr>\n",
       "    <tr>\n",
       "      <th>min</th>\n",
       "      <td>0.000000</td>\n",
       "      <td>266.000000</td>\n",
       "      <td>0.031947</td>\n",
       "      <td>0.005960</td>\n",
       "      <td>0.005136</td>\n",
       "      <td>0.000000</td>\n",
       "      <td>0.000000</td>\n",
       "      <td>0.000000</td>\n",
       "      <td>0.000000</td>\n",
       "      <td>0.000000</td>\n",
       "      <td>0.000000</td>\n",
       "      <td>3864.000000</td>\n",
       "      <td>103.929581</td>\n",
       "      <td>0.000261</td>\n",
       "      <td>0.000000</td>\n",
       "      <td>0.000000</td>\n",
       "      <td>0.043740</td>\n",
       "      <td>0.000000</td>\n",
       "      <td>0.000000</td>\n",
       "    </tr>\n",
       "    <tr>\n",
       "      <th>25%</th>\n",
       "      <td>485.000000</td>\n",
       "      <td>95654.000000</td>\n",
       "      <td>0.069439</td>\n",
       "      <td>0.019864</td>\n",
       "      <td>0.045267</td>\n",
       "      <td>0.021062</td>\n",
       "      <td>0.000000</td>\n",
       "      <td>0.000000</td>\n",
       "      <td>0.000000</td>\n",
       "      <td>0.000000</td>\n",
       "      <td>0.000000</td>\n",
       "      <td>95592.000000</td>\n",
       "      <td>226.480649</td>\n",
       "      <td>0.093769</td>\n",
       "      <td>0.001493</td>\n",
       "      <td>0.019920</td>\n",
       "      <td>0.140505</td>\n",
       "      <td>0.211740</td>\n",
       "      <td>0.000000</td>\n",
       "    </tr>\n",
       "    <tr>\n",
       "      <th>50%</th>\n",
       "      <td>977.000000</td>\n",
       "      <td>108627.000000</td>\n",
       "      <td>0.131326</td>\n",
       "      <td>0.097245</td>\n",
       "      <td>0.153193</td>\n",
       "      <td>0.168842</td>\n",
       "      <td>0.000000</td>\n",
       "      <td>0.000000</td>\n",
       "      <td>0.000000</td>\n",
       "      <td>0.000000</td>\n",
       "      <td>0.000000</td>\n",
       "      <td>108637.500000</td>\n",
       "      <td>276.723004</td>\n",
       "      <td>0.106487</td>\n",
       "      <td>0.001493</td>\n",
       "      <td>0.021020</td>\n",
       "      <td>0.377826</td>\n",
       "      <td>0.509094</td>\n",
       "      <td>0.000000</td>\n",
       "    </tr>\n",
       "    <tr>\n",
       "      <th>75%</th>\n",
       "      <td>1475.000000</td>\n",
       "      <td>114647.000000</td>\n",
       "      <td>0.194750</td>\n",
       "      <td>0.157752</td>\n",
       "      <td>0.375867</td>\n",
       "      <td>0.445913</td>\n",
       "      <td>0.246267</td>\n",
       "      <td>0.054320</td>\n",
       "      <td>0.000000</td>\n",
       "      <td>0.000000</td>\n",
       "      <td>0.000000</td>\n",
       "      <td>114663.500000</td>\n",
       "      <td>400.504928</td>\n",
       "      <td>0.112388</td>\n",
       "      <td>0.001493</td>\n",
       "      <td>0.023856</td>\n",
       "      <td>0.728320</td>\n",
       "      <td>0.742178</td>\n",
       "      <td>0.000000</td>\n",
       "    </tr>\n",
       "    <tr>\n",
       "      <th>max</th>\n",
       "      <td>1974.000000</td>\n",
       "      <td>117211.000000</td>\n",
       "      <td>0.590226</td>\n",
       "      <td>0.209897</td>\n",
       "      <td>0.590474</td>\n",
       "      <td>0.642939</td>\n",
       "      <td>0.684389</td>\n",
       "      <td>0.740530</td>\n",
       "      <td>0.598064</td>\n",
       "      <td>0.413919</td>\n",
       "      <td>0.181936</td>\n",
       "      <td>116793.500000</td>\n",
       "      <td>5552.218874</td>\n",
       "      <td>0.114901</td>\n",
       "      <td>0.001493</td>\n",
       "      <td>0.090789</td>\n",
       "      <td>1.000000</td>\n",
       "      <td>0.941984</td>\n",
       "      <td>0.752497</td>\n",
       "    </tr>\n",
       "  </tbody>\n",
       "</table>\n",
       "</div>"
      ],
      "text/plain": [
       "       FLIR: tiempo     FLIR: area  FLIR: rango 1  FLIR: rango 2  \\\n",
       "count   1941.000000    1941.000000    1941.000000    1941.000000   \n",
       "mean     980.691396   98438.467285       0.133829       0.094392   \n",
       "std      571.134230   25921.205777       0.069117       0.068557   \n",
       "min        0.000000     266.000000       0.031947       0.005960   \n",
       "25%      485.000000   95654.000000       0.069439       0.019864   \n",
       "50%      977.000000  108627.000000       0.131326       0.097245   \n",
       "75%     1475.000000  114647.000000       0.194750       0.157752   \n",
       "max     1974.000000  117211.000000       0.590226       0.209897   \n",
       "\n",
       "       FLIR: rango 3  FLIR: rango 4  FLIR: rango 5  FLIR: rango 6  \\\n",
       "count    1941.000000    1941.000000    1941.000000    1941.000000   \n",
       "mean        0.221894       0.237164       0.149863       0.090145   \n",
       "std         0.199774       0.219706       0.224876       0.182448   \n",
       "min         0.005136       0.000000       0.000000       0.000000   \n",
       "25%         0.045267       0.021062       0.000000       0.000000   \n",
       "50%         0.153193       0.168842       0.000000       0.000000   \n",
       "75%         0.375867       0.445913       0.246267       0.054320   \n",
       "max         0.590474       0.642939       0.684389       0.740530   \n",
       "\n",
       "       FLIR: rango 7  FLIR: rango 8  FLIR: rango 9  moving average  \\\n",
       "count    1941.000000    1941.000000    1941.000000     1941.000000   \n",
       "mean        0.050646       0.019551       0.002513    98418.919887   \n",
       "std         0.135069       0.069909       0.017171    25932.404918   \n",
       "min         0.000000       0.000000       0.000000     3864.000000   \n",
       "25%         0.000000       0.000000       0.000000    95592.000000   \n",
       "50%         0.000000       0.000000       0.000000   108637.500000   \n",
       "75%         0.000000       0.000000       0.000000   114663.500000   \n",
       "max         0.598064       0.413919       0.181936   116793.500000   \n",
       "\n",
       "        moving std      area_m2  volumen_emitido      espesor      rango 1  \\\n",
       "count  1941.000000  1941.000000      1941.000000  1941.000000  1941.000000   \n",
       "mean    549.607886     0.096499         0.001458     0.026405     0.450116   \n",
       "std     818.010787     0.025410         0.000182     0.015269     0.332145   \n",
       "min     103.929581     0.000261         0.000000     0.000000     0.043740   \n",
       "25%     226.480649     0.093769         0.001493     0.019920     0.140505   \n",
       "50%     276.723004     0.106487         0.001493     0.021020     0.377826   \n",
       "75%     400.504928     0.112388         0.001493     0.023856     0.728320   \n",
       "max    5552.218874     0.114901         0.001493     0.090789     1.000000   \n",
       "\n",
       "           rango 2      rango 3  \n",
       "count  1941.000000  1941.000000  \n",
       "mean      0.477171     0.072710  \n",
       "std       0.306911     0.191288  \n",
       "min       0.000000     0.000000  \n",
       "25%       0.211740     0.000000  \n",
       "50%       0.509094     0.000000  \n",
       "75%       0.742178     0.000000  \n",
       "max       0.941984     0.752497  "
      ]
     },
     "execution_count": 11,
     "metadata": {},
     "output_type": "execute_result"
    }
   ],
   "source": [
    "Experimentos[18].flir.describe()"
   ]
  },
  {
   "cell_type": "code",
   "execution_count": 90,
   "metadata": {
    "collapsed": false
   },
   "outputs": [],
   "source": [
    "listarangos = []\n",
    "\n",
    "for exp in Experimentos:\n",
    "    if exp.flir is not None:\n",
    "        try:\n",
    "            holder = {} #es un diccionario \n",
    "            holder['nombre'] = exp.param['NOMBRE'][0]#solo el valor de la primera fila\n",
    "            holder['rango 1'] = exp.flir['rango 1']#toda la columna\n",
    "            holder['rango 2'] = exp.flir['rango 2']#toda la columna\n",
    "            holder['rango 3'] = exp.flir['rango 3']#toda la columna\n",
    "            holder['avance'] = exp.dinamica['avance: largo total flujo']#toda la columna\n",
    "            holder['tiempoavance'] = exp.dinamica['avance: tiempo']#toda la columna\n",
    "            holder['tiempoflir'] = exp.flir['FLIR: tiempo']#toda la columna\n",
    "            holder['caudal'] = exp.param['caudal'][0]#solo el valor de la primera fila\n",
    "            holder['angulo'] = exp.param['angulo inclinacion'][0]\n",
    "            holder['uso'] = exp.param['uso manjar'][0]\n",
    "\n",
    "            listarangos.append(holder)\n",
    "        except Exception as e:\n",
    "            print(e)"
   ]
  },
  {
   "cell_type": "code",
   "execution_count": 125,
   "metadata": {
    "collapsed": false,
    "scrolled": true
   },
   "outputs": [
    {
     "name": "stdout",
     "output_type": "stream",
     "text": [
      "1e-06 6\n"
     ]
    }
   ],
   "source": [
    "#grafico de rangos por caudal\n",
    "\n",
    "styles= ['red', 'sienna', 'darkgreen', 'purple', 'darkcyan', 'coral', 'navy', \n",
    "        'springgreen', 'magenta', 'y', 'palevioletred', 'blue']\n",
    "\n",
    "fig = plt.figure()\n",
    "axes = []\n",
    "\n",
    "\n",
    "for x in range(c):\n",
    "    axes.append(fig.add_subplot(2, 3, x + 1))\n",
    "\n",
    "for i, (key, group) in enumerate(groupby(sorted(listarangos, key=lambda x: x['caudal']), key=lambda x: x['caudal'])):\n",
    "    print(key, c)\n",
    "    if key == 1e-06:\n",
    "        c = 0     \n",
    "        for exp in group:\n",
    "            colors = styles[c]\n",
    "            ax.set_title(exp['nombre'])\n",
    "\n",
    "            axes[c].plot(exp['tiempo'], exp['rango 1'], color=colors)\n",
    "            axes[c].plot(exp['tiempo'], exp['rango 2'], color=colors)\n",
    "            axes[c].plot(exp['tiempo'], exp['rango 3'], color=colors)\n",
    "            #axes[c].plot(exp['otrotiempo'], exp['distancia'], color=colors)\n",
    "           \n",
    "            c = c + 1\n",
    "        break\n",
    "    \n",
    "fig.show()"
   ]
  },
  {
   "cell_type": "code",
   "execution_count": 25,
   "metadata": {
    "collapsed": true
   },
   "outputs": [
    {
     "name": "stdout",
     "output_type": "stream",
     "text": [
      "1.0\n",
      "0.747871812\n",
      "0.619908466\n",
      "0.565432179\n",
      "0.846303847\n",
      "0.699669967\n",
      "1.000000001\n",
      "0.93413261\n",
      "0.90354621\n",
      "1.000000001\n",
      "0.934428167\n",
      "0.906165947\n",
      "0.999959626\n",
      "0.934389829\n",
      "0.898852245\n",
      "0.999919647\n",
      "0.970162376\n",
      "0.859032918\n",
      "1.000000001\n",
      "0.951593036\n",
      "0.832425786\n",
      "0.999970252\n",
      "0.928591873\n",
      "0.848566546\n",
      "0.60106383\n",
      "0.939085894\n",
      "0.85113972\n",
      "1.000000001\n",
      "0.94198386\n",
      "0.752496543\n",
      "0.662088922\n",
      "0.901257787\n",
      "0.812531838\n",
      "0.689476333\n",
      "0.944947648\n",
      "0.855160069\n",
      "1.000000001\n",
      "0.93358557\n",
      "0.903052395\n",
      "1.000000001\n",
      "0.956743889\n",
      "0.887895111\n",
      "1.000000038\n",
      "0.795114777\n",
      "0.465571764\n",
      "1.000000001\n",
      "0.933673238\n",
      "0.796978281\n",
      "0.820458661\n",
      "0.770635781\n",
      "0.72947053\n",
      "1.000000044\n",
      "0.933196364\n",
      "0.771124557\n",
      "1.000000001\n",
      "0.907328555\n",
      "0.807389334\n",
      "1.000000001\n",
      "0.943459649\n",
      "0.835539401\n",
      "0.725556153\n",
      "0.870059399\n",
      "0.746544606\n",
      "0.901354672\n",
      "0.832376863\n",
      "0.699649738\n"
     ]
    }
   ],
   "source": [
    "for exp in Experimentos:\n",
    "    if exp.flir is not None:\n",
    "        try:\n",
    "            print(exp.flir['rango 1'].max())\n",
    "            print(exp.flir['rango 2'].max())\n",
    "            print(exp.flir['rango 3'].max())\n",
    "\n",
    "        except:\n",
    "            continue"
   ]
  },
  {
   "cell_type": "code",
   "execution_count": 7,
   "metadata": {
    "collapsed": false
   },
   "outputs": [
    {
     "name": "stdout",
     "output_type": "stream",
     "text": [
      "['pat1', 'pat2', 'pat3', 'pat4', 'pat5', 'pat6', 'pat7']\n"
     ]
    }
   ],
   "source": [
    "#GENERA PATCHES DE COLORES SEGUN TEMPERATURA\n",
    "import matplotlib.patches as mpatches\n",
    "\n",
    "pat1 = mpatches.Patch(color='C1', label='temp < 40')\n",
    "pat2 = mpatches.Patch(color='C2', label='temp < 45')\n",
    "pat3 = mpatches.Patch(color='C3', label='temp < 50')\n",
    "pat4 = mpatches.Patch(color='C4', label='temp < 55')\n",
    "pat5 = mpatches.Patch(color='C5', label='temp < 60')\n",
    "pat6 = mpatches.Patch(color='C6', label='temp < 65')\n",
    "pat7 = mpatches.Patch(color='C7', label='temp < 70')\n",
    "\n",
    "numerocolores = 7\n",
    "colors = ['pat{}'.format(i+1) for i in range(numerocolores)]\n",
    "\n",
    "print(colors)"
   ]
  },
  {
   "cell_type": "code",
   "execution_count": 18,
   "metadata": {
    "collapsed": true
   },
   "outputs": [],
   "source": [
    "velos = pd.read_excel('Velocidades y punto.xlsx')"
   ]
  },
  {
   "cell_type": "code",
   "execution_count": 19,
   "metadata": {
    "collapsed": true
   },
   "outputs": [],
   "source": [
    "for exp in Experimentos:\n",
    "    exp.param['tiempo fin eyeccion'] = exp.param['volumen total teorico']/exp.param['caudal']"
   ]
  },
  {
   "cell_type": "code",
   "execution_count": 35,
   "metadata": {
    "collapsed": false
   },
   "outputs": [],
   "source": [
    "#LISTA para ESPESOR vs TIEMPO\n",
    "listaporcaudal = []\n",
    "\n",
    "for exp in Experimentos:\n",
    "    if exp.flir is not None:\n",
    "        try:\n",
    "            holder = {} #es un diccionario \n",
    "            holder['nombre'] = exp.param['NOMBRE'][0]#solo el valor de la primera fila\n",
    "            holder['espesor'] = exp.flir['espesor']#toda la columna\n",
    "            holder['tiempo'] = exp.flir['FLIR: tiempo']#toda la columna\n",
    "            holder['caudal'] = exp.param['caudal'][0]#solo el valor de la primera fila\n",
    "            holder['angulo'] = exp.param['angulo inclinacion'][0]\n",
    "            holder['uso'] = exp.param['uso manjar'][0]\n",
    "            holder['teyec'] = exp.param['tiempo fin eyeccion']\n",
    "            holder['espesorfinal'] = exp.perfil['perfil: espesor'].max()\n",
    "\n",
    "\n",
    "\n",
    "            listaporcaudal.append(holder)\n",
    "        except Exception as e:\n",
    "            print(e)"
   ]
  },
  {
   "cell_type": "code",
   "execution_count": 38,
   "metadata": {
    "collapsed": false
   },
   "outputs": [],
   "source": [
    "#for exp in Experimentos:\n",
    "#    print(exp.flir['espesor'] if exp.flir is not None else None)"
   ]
  },
  {
   "cell_type": "code",
   "execution_count": 9,
   "metadata": {
    "collapsed": false,
    "scrolled": true
   },
   "outputs": [
    {
     "name": "stdout",
     "output_type": "stream",
     "text": [
      "1e-06\n",
      "5e-06\n",
      "1e-05\n",
      "1.7e-05\n",
      "2.5e-05\n"
     ]
    }
   ],
   "source": [
    "#crear GRUPOS segun CAUDAL\n",
    "from itertools import groupby\n",
    "count = 0\n",
    "\n",
    "#key es la lista donde estan los diccionarios de exp y DF\n",
    "#group es que se agrupa segun el valor de 'caudal' en este caso\n",
    "\n",
    "for key, group in groupby(sorted(listaporcaudal, key=lambda x: x['caudal']), key=lambda x: x['caudal']):\n",
    "    print(key)\n",
    "    count += 1\n",
    "    #for exp in group:\n",
    "        #muestra el nombre del grupo y los elementos que tiene\n",
    "        #print(exp['nombre']) "
   ]
  },
  {
   "cell_type": "code",
   "execution_count": 39,
   "metadata": {
    "collapsed": false,
    "scrolled": true
   },
   "outputs": [
    {
     "name": "stdout",
     "output_type": "stream",
     "text": [
      "1e-06\n",
      "5e-06\n",
      "1e-05\n",
      "1.7e-05\n",
      "2.5e-05\n"
     ]
    },
    {
     "name": "stderr",
     "output_type": "stream",
     "text": [
      "C:\\Users\\CCVV\\Anaconda3b\\lib\\site-packages\\matplotlib\\axes\\_axes.py:545: UserWarning: No labelled objects found. Use label='...' kwarg on individual plots.\n",
      "  warnings.warn(\"No labelled objects found. \"\n"
     ]
    }
   ],
   "source": [
    "#ESPESOR vs TIEMPO agrupados por caudales\n",
    "fig = plt.figure()\n",
    "axes = [fig.add_subplot(3,2,i+1) for i in range(count)]\n",
    "counter = 0\n",
    "\n",
    "for key, group in groupby(sorted(listaporcaudal, key=lambda x: x['caudal']), key=lambda x: x['caudal']):\n",
    "    print(key)\n",
    "    c = 0\n",
    "    ax = axes[counter]\n",
    "    #ax.set_xlim(minimoejelargo, maximoejelargo)\n",
    "    #ax.set_ylim(0, maximoejeespesor)\n",
    "    ax.set_title('{}cc'.format(key*1000000))\n",
    "    counter += 1\n",
    "    #linea1= ax.plot([],[], label='15°', linestyle='--', color='black')\n",
    "    #linea2= ax.plot([],[], label='10°', color='black')\n",
    "    \n",
    "    for exp in group:\n",
    "        #print(\"C{}\".format(exp[\"rango temperatura\"]))\n",
    "        #if exp['uso'] == 1:\n",
    "            c = c + 1\n",
    "            ax.plot(exp['tiempo'], exp['espesor'], label = '')\n",
    "            ax.set_xlabel('Tiempo [s]')\n",
    "            ax.set_ylabel('Espesor teórico [m]')\n",
    "            ax.axhline(exp['espesorfinal'])\n",
    "\n",
    "        \n",
    "legend1 = plt.legend(handles=[pat1, pat2, pat3, pat4, pat5, pat6, pat7], bbox_to_anchor=(1.8, 0.5), \n",
    "                     loc=5, title='Rango temperatura inicial del flujo')\n",
    "plt.legend(bbox_to_anchor=(1.8, 0.5), loc=6)\n",
    "plt.gca().add_artist(legend1)\n",
    "fig.show()"
   ]
  },
  {
   "cell_type": "code",
   "execution_count": 16,
   "metadata": {
    "collapsed": true
   },
   "outputs": [],
   "source": [
    "#LISTA para AREA vs TIEMPO\n",
    "otralistaporcaudal = []\n",
    "\n",
    "for exp in Experimentos:\n",
    "    if exp.flir is not None:\n",
    "        try:\n",
    "            holder = {} #es un diccionario \n",
    "            holder['nombre'] = exp.param['NOMBRE'][0]#solo el valor de la primera fila\n",
    "            holder['area'] = exp.flir['area_m2']#toda la columna\n",
    "            holder['tiempo'] = exp.flir['FLIR: tiempo']#toda la columna\n",
    "            holder['caudal'] = exp.param['caudal'][0]#solo el valor de la primera fila\n",
    "            holder['angulo'] = exp.param['angulo inclinacion'][0]\n",
    "            holder['uso'] = exp.param['uso manjar'][0]\n",
    "\n",
    "            otralistaporcaudal.append(holder)\n",
    "        except:\n",
    "            continue"
   ]
  },
  {
   "cell_type": "code",
   "execution_count": 23,
   "metadata": {
    "collapsed": false
   },
   "outputs": [
    {
     "name": "stdout",
     "output_type": "stream",
     "text": [
      "1e-06\n",
      "5e-06\n",
      "1e-05\n",
      "1.7e-05\n",
      "2.5e-05\n"
     ]
    }
   ],
   "source": [
    "#AREA vs TIEMPO agrupados por caudales\n",
    "fig = plt.figure()\n",
    "axes = [fig.add_subplot(3,2,i+1) for i in range(count)]\n",
    "counter = 0\n",
    "\n",
    "for key, group in groupby(sorted(otralistaporcaudal, key=lambda x: x['caudal']), key=lambda x: x['caudal']):\n",
    "    print(key)\n",
    "    ax = axes[counter]\n",
    "    #ax.set_xlim(minimoejelargo, maximoejelargo)\n",
    "    #ax.set_ylim(0, maximoejeespesor)\n",
    "    ax.set_title('{}cc'.format(key*1000000))\n",
    "    counter += 1\n",
    "    \n",
    "    for exp in group:\n",
    "        ax.plot(exp['tiempo'], exp['area'])\n",
    "        \n",
    "legend1 = plt.legend(handles=[pat1, pat2, pat3, pat4, pat5, pat6, pat7], bbox_to_anchor=(1.8, 0.5), loc=5)\n",
    "#plt.legend(bbox_to_anchor=(1.8, 0.5), loc=6)\n",
    "plt.gca().add_artist(legend1)\n",
    "fig.show()"
   ]
  },
  {
   "cell_type": "code",
   "execution_count": 17,
   "metadata": {
    "collapsed": false
   },
   "outputs": [
    {
     "name": "stdout",
     "output_type": "stream",
     "text": [
      "1e-06 <itertools._grouper object at 0x000001EC2E777080>\n",
      "5e-06 <itertools._grouper object at 0x000001EC2DEA6BA8>\n",
      "1e-05 <itertools._grouper object at 0x000001EC2E774FD0>\n",
      "1.7e-05 <itertools._grouper object at 0x000001EC2E774BA8>\n",
      "2.5e-05 <itertools._grouper object at 0x000001EC2E774D68>\n"
     ]
    }
   ],
   "source": [
    "for k, g in groupby(sorted(otralistaporcaudal, key=lambda x: x['caudal']), key=lambda x: x['caudal']):\n",
    "    print(k, g)"
   ]
  }
 ],
 "metadata": {
  "anaconda-cloud": {},
  "kernelspec": {
   "display_name": "Python [conda root]",
   "language": "python",
   "name": "conda-root-py"
  },
  "language_info": {
   "codemirror_mode": {
    "name": "ipython",
    "version": 3
   },
   "file_extension": ".py",
   "mimetype": "text/x-python",
   "name": "python",
   "nbconvert_exporter": "python",
   "pygments_lexer": "ipython3",
   "version": "3.5.2"
  }
 },
 "nbformat": 4,
 "nbformat_minor": 1
}
