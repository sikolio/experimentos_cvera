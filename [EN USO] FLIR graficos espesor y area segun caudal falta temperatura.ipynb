{
 "cells": [
  {
   "cell_type": "code",
   "execution_count": 1,
   "metadata": {
    "collapsed": false
   },
   "outputs": [
    {
     "name": "stdout",
     "output_type": "stream",
     "text": [
      "Using matplotlib backend: Qt5Agg\n"
     ]
    }
   ],
   "source": [
    "import pandas as pd\n",
    "import os\n",
    "import csv\n",
    "import numpy as np\n",
    "from scipy import stats\n",
    "from matplotlib import pyplot as plt\n",
    "%matplotlib"
   ]
  },
  {
   "cell_type": "code",
   "execution_count": 2,
   "metadata": {
    "collapsed": true
   },
   "outputs": [],
   "source": [
    "from scipy.ndimage.filters import median_filter"
   ]
  },
  {
   "cell_type": "code",
   "execution_count": 2,
   "metadata": {
    "collapsed": false
   },
   "outputs": [
    {
     "name": "stdout",
     "output_type": "stream",
     "text": [
      "[Errno 2] No such file or directory: '.\\\\Data\\\\5cc50C - flir.csv'\n",
      "[Errno 2] No such file or directory: '.\\\\Data\\\\1cc54C - flir.csv'\n",
      "[Errno 2] No such file or directory: '.\\\\Data\\\\25cc54C - flir.csv'\n",
      "[Errno 2] No such file or directory: '.\\\\Data\\\\10cc60C - flir.csv'\n",
      "[Errno 2] No such file or directory: '.\\\\Data\\\\25cc60C - flir.csv'\n",
      "[Errno 2] No such file or directory: '.\\\\Data\\\\1cc59C - flir.csv'\n",
      "[Errno 2] No such file or directory: '.\\\\Data\\\\5cc63C - flir.csv'\n",
      "[Errno 2] No such file or directory: '.\\\\Data\\\\25cc62C - flir.csv'\n",
      "[Errno 2] No such file or directory: '.\\\\Data\\\\1cc62C - flir.csv'\n",
      "[Errno 2] No such file or directory: '.\\\\Data\\\\1cc24C - flir.csv'\n",
      "[Errno 2] No such file or directory: '.\\\\Data\\\\10cc24C - flir.csv'\n"
     ]
    }
   ],
   "source": [
    "from Experimentos import Experimentos"
   ]
  },
  {
   "cell_type": "code",
   "execution_count": 3,
   "metadata": {
    "collapsed": false
   },
   "outputs": [
    {
     "name": "stdout",
     "output_type": "stream",
     "text": [
      "0 5cc50C.csv 0\n",
      "1 1cc54C.csv 0\n",
      "2 25cc54C.csv 0\n",
      "3 10cc60C.csv 0\n",
      "4 25cc60C.csv 0\n",
      "5 1cc59C.csv 0\n",
      "6 1cc47C.csv FLIR: tiempo       int64\n",
      "FLIR: area         int64\n",
      "FLIR: rango 1    float64\n",
      "FLIR: rango 2    float64\n",
      "FLIR: rango 3    float64\n",
      "FLIR: rango 4    float64\n",
      "FLIR: rango 5    float64\n",
      "FLIR: rango 6    float64\n",
      "FLIR: rango 7    float64\n",
      "FLIR: rango 8    float64\n",
      "FLIR: rango 9    float64\n",
      "dtype: object\n",
      "7 1cc55C.csv FLIR: tiempo       int64\n",
      "FLIR: area         int64\n",
      "FLIR: rango 1    float64\n",
      "FLIR: rango 2    float64\n",
      "FLIR: rango 3    float64\n",
      "FLIR: rango 4    float64\n",
      "FLIR: rango 5    float64\n",
      "FLIR: rango 6    float64\n",
      "FLIR: rango 7    float64\n",
      "FLIR: rango 8    float64\n",
      "FLIR: rango 9    float64\n",
      "dtype: object\n",
      "8 25cc58C.csv FLIR: tiempo       int64\n",
      "FLIR: area         int64\n",
      "FLIR: rango 1    float64\n",
      "FLIR: rango 2    float64\n",
      "FLIR: rango 3    float64\n",
      "FLIR: rango 4    float64\n",
      "FLIR: rango 5    float64\n",
      "FLIR: rango 6    float64\n",
      "FLIR: rango 7    float64\n",
      "FLIR: rango 8    float64\n",
      "FLIR: rango 9    float64\n",
      "dtype: object\n",
      "9 25cc70C.csv FLIR: tiempo       int64\n",
      "FLIR: area         int64\n",
      "FLIR: rango 1    float64\n",
      "FLIR: rango 2    float64\n",
      "FLIR: rango 3    float64\n",
      "FLIR: rango 4    float64\n",
      "FLIR: rango 5    float64\n",
      "FLIR: rango 6    float64\n",
      "FLIR: rango 7    float64\n",
      "FLIR: rango 8    float64\n",
      "FLIR: rango 9    float64\n",
      "dtype: object\n",
      "10 10cc67C.csv FLIR: tiempo       int64\n",
      "FLIR: area         int64\n",
      "FLIR: rango 1    float64\n",
      "FLIR: rango 2    float64\n",
      "FLIR: rango 3    float64\n",
      "FLIR: rango 4    float64\n",
      "FLIR: rango 5    float64\n",
      "FLIR: rango 6    float64\n",
      "FLIR: rango 7    float64\n",
      "FLIR: rango 8    float64\n",
      "FLIR: rango 9    float64\n",
      "dtype: object\n",
      "11 10cc59C.csv FLIR: tiempo       int64\n",
      "FLIR: area         int64\n",
      "FLIR: rango 1    float64\n",
      "FLIR: rango 2    float64\n",
      "FLIR: rango 3    float64\n",
      "FLIR: rango 4    float64\n",
      "FLIR: rango 5    float64\n",
      "FLIR: rango 6    float64\n",
      "FLIR: rango 7    float64\n",
      "FLIR: rango 8    float64\n",
      "FLIR: rango 9    float64\n",
      "dtype: object\n",
      "12 5cc63C.csv 0\n",
      "13 5cc59C.csv FLIR: tiempo       int64\n",
      "FLIR: area         int64\n",
      "FLIR: rango 1    float64\n",
      "FLIR: rango 2    float64\n",
      "FLIR: rango 3    float64\n",
      "FLIR: rango 4    float64\n",
      "FLIR: rango 5    float64\n",
      "FLIR: rango 6    float64\n",
      "FLIR: rango 7    float64\n",
      "FLIR: rango 8    float64\n",
      "FLIR: rango 9    float64\n",
      "dtype: object\n",
      "14 10cc49C.csv FLIR: tiempo       int64\n",
      "FLIR: area         int64\n",
      "FLIR: rango 1    float64\n",
      "FLIR: rango 2    float64\n",
      "FLIR: rango 3    float64\n",
      "FLIR: rango 4    float64\n",
      "FLIR: rango 5    float64\n",
      "FLIR: rango 6    float64\n",
      "FLIR: rango 7    float64\n",
      "FLIR: rango 8    float64\n",
      "FLIR: rango 9    float64\n",
      "dtype: object\n",
      "15 25cc62C.csv 0\n",
      "16 1cc62C.csv 0\n",
      "17 5cc53C.csv FLIR: tiempo       int64\n",
      "FLIR: area         int64\n",
      "FLIR: rango 1    float64\n",
      "FLIR: rango 2    float64\n",
      "FLIR: rango 3    float64\n",
      "FLIR: rango 4    float64\n",
      "FLIR: rango 5    float64\n",
      "FLIR: rango 6    float64\n",
      "FLIR: rango 7    float64\n",
      "FLIR: rango 8    float64\n",
      "FLIR: rango 9    float64\n",
      "dtype: object\n",
      "18 5a25cc56C.csv FLIR: tiempo       int64\n",
      "FLIR: area         int64\n",
      "FLIR: rango 1    float64\n",
      "FLIR: rango 2    float64\n",
      "FLIR: rango 3    float64\n",
      "FLIR: rango 4    float64\n",
      "FLIR: rango 5    float64\n",
      "FLIR: rango 6    float64\n",
      "FLIR: rango 7    float64\n",
      "FLIR: rango 8    float64\n",
      "FLIR: rango 9    float64\n",
      "dtype: object\n",
      "19 5cc57C.csv FLIR: tiempo       int64\n",
      "FLIR: area         int64\n",
      "FLIR: rango 1    float64\n",
      "FLIR: rango 2    float64\n",
      "FLIR: rango 3    float64\n",
      "FLIR: rango 4    float64\n",
      "FLIR: rango 5    float64\n",
      "FLIR: rango 6    float64\n",
      "FLIR: rango 7    float64\n",
      "FLIR: rango 8    float64\n",
      "FLIR: rango 9    float64\n",
      "dtype: object\n",
      "20 25cc50C.csv FLIR: tiempo       int64\n",
      "FLIR: area         int64\n",
      "FLIR: rango 1    float64\n",
      "FLIR: rango 2    float64\n",
      "FLIR: rango 3    float64\n",
      "FLIR: rango 4    float64\n",
      "FLIR: rango 5    float64\n",
      "FLIR: rango 6    float64\n",
      "FLIR: rango 7    float64\n",
      "FLIR: rango 8    float64\n",
      "FLIR: rango 9    float64\n",
      "dtype: object\n",
      "21 10cc55C.csv FLIR: tiempo       int64\n",
      "FLIR: area         int64\n",
      "FLIR: rango 1    float64\n",
      "FLIR: rango 2    float64\n",
      "FLIR: rango 3    float64\n",
      "FLIR: rango 4    float64\n",
      "FLIR: rango 5    float64\n",
      "FLIR: rango 6    float64\n",
      "FLIR: rango 7    float64\n",
      "FLIR: rango 8    float64\n",
      "FLIR: rango 9    float64\n",
      "dtype: object\n",
      "22 1cc24C.csv 0\n",
      "23 10cc57C.csv FLIR: tiempo       int64\n",
      "FLIR: area         int64\n",
      "FLIR: rango 1    float64\n",
      "FLIR: rango 2    float64\n",
      "FLIR: rango 3    float64\n",
      "FLIR: rango 4    float64\n",
      "FLIR: rango 5    float64\n",
      "FLIR: rango 6    float64\n",
      "FLIR: rango 7    float64\n",
      "FLIR: rango 8    float64\n",
      "FLIR: rango 9    float64\n",
      "dtype: object\n",
      "24 10cc24C.csv 0\n",
      "25 5cc55C.csv FLIR: tiempo       int64\n",
      "FLIR: area         int64\n",
      "FLIR: rango 1    float64\n",
      "FLIR: rango 2    float64\n",
      "FLIR: rango 3    float64\n",
      "FLIR: rango 4    float64\n",
      "FLIR: rango 5    float64\n",
      "FLIR: rango 6    float64\n",
      "FLIR: rango 7    float64\n",
      "FLIR: rango 8    float64\n",
      "FLIR: rango 9    float64\n",
      "dtype: object\n",
      "26 5cc58C.csv FLIR: tiempo       int64\n",
      "FLIR: area         int64\n",
      "FLIR: rango 1    float64\n",
      "FLIR: rango 2    float64\n",
      "FLIR: rango 3    float64\n",
      "FLIR: rango 4    float64\n",
      "FLIR: rango 5    float64\n",
      "FLIR: rango 6    float64\n",
      "FLIR: rango 7    float64\n",
      "FLIR: rango 8    float64\n",
      "FLIR: rango 9    float64\n",
      "dtype: object\n",
      "27 1cc48C.csv FLIR: tiempo       int64\n",
      "FLIR: area         int64\n",
      "FLIR: rango 1    float64\n",
      "FLIR: rango 2    float64\n",
      "FLIR: rango 3    float64\n",
      "FLIR: rango 4    float64\n",
      "FLIR: rango 5    float64\n",
      "FLIR: rango 6    float64\n",
      "FLIR: rango 7    float64\n",
      "FLIR: rango 8    float64\n",
      "FLIR: rango 9    float64\n",
      "dtype: object\n",
      "28 1cc51C.csv FLIR: tiempo       int64\n",
      "FLIR: area         int64\n",
      "FLIR: rango 1    float64\n",
      "FLIR: rango 2    float64\n",
      "FLIR: rango 3    float64\n",
      "FLIR: rango 4    float64\n",
      "FLIR: rango 5    float64\n",
      "FLIR: rango 6    float64\n",
      "FLIR: rango 7    float64\n",
      "FLIR: rango 8    float64\n",
      "FLIR: rango 9    float64\n",
      "dtype: object\n",
      "29 5cc48C.csv FLIR: tiempo       int64\n",
      "FLIR: area         int64\n",
      "FLIR: rango 1    float64\n",
      "FLIR: rango 2    float64\n",
      "FLIR: rango 3    float64\n",
      "FLIR: rango 4    float64\n",
      "FLIR: rango 5    float64\n",
      "FLIR: rango 6    float64\n",
      "FLIR: rango 7    float64\n",
      "FLIR: rango 8    float64\n",
      "FLIR: rango 9    float64\n",
      "dtype: object\n",
      "30 10cc50C.csv FLIR: tiempo       int64\n",
      "FLIR: area         int64\n",
      "FLIR: rango 1    float64\n",
      "FLIR: rango 2    float64\n",
      "FLIR: rango 3    float64\n",
      "FLIR: rango 4    float64\n",
      "FLIR: rango 5    float64\n",
      "FLIR: rango 6    float64\n",
      "FLIR: rango 7    float64\n",
      "FLIR: rango 8    float64\n",
      "FLIR: rango 9    float64\n",
      "dtype: object\n",
      "31 1cc54,7C.csv FLIR: tiempo       int64\n",
      "FLIR: area         int64\n",
      "FLIR: rango 1    float64\n",
      "FLIR: rango 2    float64\n",
      "FLIR: rango 3    float64\n",
      "FLIR: rango 4    float64\n",
      "FLIR: rango 5    float64\n",
      "FLIR: rango 6    float64\n",
      "FLIR: rango 7    float64\n",
      "FLIR: rango 8    float64\n",
      "FLIR: rango 9    float64\n",
      "dtype: object\n",
      "32 1cc52C.csv FLIR: tiempo       int64\n",
      "FLIR: area         int64\n",
      "FLIR: rango 1    float64\n",
      "FLIR: rango 2    float64\n",
      "FLIR: rango 3    float64\n",
      "FLIR: rango 4    float64\n",
      "FLIR: rango 5    float64\n",
      "FLIR: rango 6    float64\n",
      "FLIR: rango 7    float64\n",
      "FLIR: rango 8    float64\n",
      "FLIR: rango 9    float64\n",
      "dtype: object\n"
     ]
    }
   ],
   "source": [
    "for i, exp in enumerate(Experimentos):\n",
    "    print(i, exp, (exp.flir.dtypes if exp.flir is not None else 0))"
   ]
  },
  {
   "cell_type": "code",
   "execution_count": 21,
   "metadata": {
    "collapsed": false
   },
   "outputs": [
    {
     "data": {
      "text/html": [
       "<div>\n",
       "<table border=\"1\" class=\"dataframe\">\n",
       "  <thead>\n",
       "    <tr style=\"text-align: right;\">\n",
       "      <th></th>\n",
       "      <th>FLIR: tiempo</th>\n",
       "      <th>FLIR: area</th>\n",
       "      <th>FLIR: rango 1</th>\n",
       "      <th>FLIR: rango 2</th>\n",
       "      <th>FLIR: rango 3</th>\n",
       "    </tr>\n",
       "  </thead>\n",
       "  <tbody>\n",
       "    <tr>\n",
       "      <th>count</th>\n",
       "      <td>1579.000000</td>\n",
       "      <td>1579.000000</td>\n",
       "      <td>1579.000000</td>\n",
       "      <td>1579.000000</td>\n",
       "      <td>1579.000000</td>\n",
       "    </tr>\n",
       "    <tr>\n",
       "      <th>mean</th>\n",
       "      <td>789.000000</td>\n",
       "      <td>94264.607980</td>\n",
       "      <td>0.113217</td>\n",
       "      <td>0.121274</td>\n",
       "      <td>0.212874</td>\n",
       "    </tr>\n",
       "    <tr>\n",
       "      <th>std</th>\n",
       "      <td>455.962352</td>\n",
       "      <td>19905.099412</td>\n",
       "      <td>0.086001</td>\n",
       "      <td>0.103316</td>\n",
       "      <td>0.164292</td>\n",
       "    </tr>\n",
       "    <tr>\n",
       "      <th>min</th>\n",
       "      <td>0.000000</td>\n",
       "      <td>299.000000</td>\n",
       "      <td>0.015796</td>\n",
       "      <td>0.005306</td>\n",
       "      <td>0.005876</td>\n",
       "    </tr>\n",
       "    <tr>\n",
       "      <th>25%</th>\n",
       "      <td>394.500000</td>\n",
       "      <td>95856.000000</td>\n",
       "      <td>0.032797</td>\n",
       "      <td>0.020537</td>\n",
       "      <td>0.039449</td>\n",
       "    </tr>\n",
       "    <tr>\n",
       "      <th>50%</th>\n",
       "      <td>789.000000</td>\n",
       "      <td>101932.000000</td>\n",
       "      <td>0.086612</td>\n",
       "      <td>0.102057</td>\n",
       "      <td>0.192063</td>\n",
       "    </tr>\n",
       "    <tr>\n",
       "      <th>75%</th>\n",
       "      <td>1183.500000</td>\n",
       "      <td>103834.000000</td>\n",
       "      <td>0.188869</td>\n",
       "      <td>0.196173</td>\n",
       "      <td>0.391706</td>\n",
       "    </tr>\n",
       "    <tr>\n",
       "      <th>max</th>\n",
       "      <td>1578.000000</td>\n",
       "      <td>104908.000000</td>\n",
       "      <td>0.327759</td>\n",
       "      <td>0.354756</td>\n",
       "      <td>0.443221</td>\n",
       "    </tr>\n",
       "  </tbody>\n",
       "</table>\n",
       "</div>"
      ],
      "text/plain": [
       "       FLIR: tiempo     FLIR: area  FLIR: rango 1  FLIR: rango 2  \\\n",
       "count   1579.000000    1579.000000    1579.000000    1579.000000   \n",
       "mean     789.000000   94264.607980       0.113217       0.121274   \n",
       "std      455.962352   19905.099412       0.086001       0.103316   \n",
       "min        0.000000     299.000000       0.015796       0.005306   \n",
       "25%      394.500000   95856.000000       0.032797       0.020537   \n",
       "50%      789.000000  101932.000000       0.086612       0.102057   \n",
       "75%     1183.500000  103834.000000       0.188869       0.196173   \n",
       "max     1578.000000  104908.000000       0.327759       0.354756   \n",
       "\n",
       "       FLIR: rango 3  \n",
       "count    1579.000000  \n",
       "mean        0.212874  \n",
       "std         0.164292  \n",
       "min         0.005876  \n",
       "25%         0.039449  \n",
       "50%         0.192063  \n",
       "75%         0.391706  \n",
       "max         0.443221  "
      ]
     },
     "execution_count": 21,
     "metadata": {},
     "output_type": "execute_result"
    }
   ],
   "source": [
    "Experimentos[14].flir.describe()"
   ]
  },
  {
   "cell_type": "code",
   "execution_count": 5,
   "metadata": {
    "collapsed": false
   },
   "outputs": [],
   "source": [
    "for exp in Experimentos:\n",
    "    if exp.flir is not None:\n",
    "        try:\n",
    "            exp.flir['area_m2'] = exp.flir['FLIR: area']/numeropixeles\n",
    "            exp.flir['volumen_emitido'] = exp.param['caudal'][0]*exp.flir['FLIR: tiempo']\n",
    "        except:\n",
    "            continue\n",
    "        volumen_total = kilos_manjar/rho_manjar\n",
    "        exp.flir['volumen_emitido'][exp.flir['volumen_emitido'] > volumen_total] = volumen_total\n",
    "        exp.flir['espesor'] = 3*exp.flir['volumen_emitido']/(2*exp.flir['area_m2'])"
   ]
  },
  {
   "cell_type": "code",
   "execution_count": 13,
   "metadata": {
    "collapsed": false
   },
   "outputs": [
    {
     "data": {
      "text/plain": [
       "[24.0,\n",
       " 27.377777777777776,\n",
       " 30.755555555555556,\n",
       " 34.133333333333333,\n",
       " 37.511111111111113,\n",
       " 40.888888888888886,\n",
       " 44.266666666666666,\n",
       " 47.644444444444446,\n",
       " 51.022222222222226,\n",
       " 54.399999999999999]"
      ]
     },
     "execution_count": 13,
     "metadata": {},
     "output_type": "execute_result"
    }
   ],
   "source": [
    "exp.get_ranges()"
   ]
  },
  {
   "cell_type": "code",
   "execution_count": 46,
   "metadata": {
    "collapsed": true
   },
   "outputs": [],
   "source": [
    "#FALTA: agregar rango de temperaturas a partir de archivo \"resumen general experimentos\":\n",
    "#(max-min)/rangos = salto temp\n",
    "#rangos=min+salto etc"
   ]
  },
  {
   "cell_type": "code",
   "execution_count": null,
   "metadata": {
    "collapsed": true
   },
   "outputs": [],
   "source": [
    "#FALTA: graficar tiempo en que prevalece cada rango de temperatura? y como relacionarlo a la velocidad"
   ]
  },
  {
   "cell_type": "code",
   "execution_count": 4,
   "metadata": {
    "collapsed": true
   },
   "outputs": [],
   "source": [
    "exp = Experimentos[30]"
   ]
  },
  {
   "cell_type": "code",
   "execution_count": 15,
   "metadata": {
    "collapsed": false
   },
   "outputs": [
    {
     "name": "stdout",
     "output_type": "stream",
     "text": [
      "['0.9536492014866595', '0.059804062054914814', '1.0332272690781028', '-0.7738854591314837', '0.6353865292881408', '0.6837549563979712', '0.5408321558488145']\n",
      "[[ inf  inf  inf  inf  inf  inf  inf]\n",
      " [ inf  inf  inf  inf  inf  inf  inf]\n",
      " [ inf  inf  inf  inf  inf  inf  inf]\n",
      " [ inf  inf  inf  inf  inf  inf  inf]\n",
      " [ inf  inf  inf  inf  inf  inf  inf]\n",
      " [ inf  inf  inf  inf  inf  inf  inf]\n",
      " [ inf  inf  inf  inf  inf  inf  inf]]\n"
     ]
    },
    {
     "name": "stderr",
     "output_type": "stream",
     "text": [
      "C:\\Anaconda3\\envs\\bootcamp\\lib\\site-packages\\scipy\\optimize\\minpack.py:715: OptimizeWarning: Covariance of the parameters could not be estimated\n",
      "  category=OptimizeWarning)\n"
     ]
    },
    {
     "data": {
      "text/plain": [
       "(0.63538652928814077,\n",
       " 0.68375495639797124,\n",
       " 0.5408321558488145,\n",
       " (-4.8117844353510897, -4.4228486291941369),\n",
       " (-2.5523293261054341, -2.9957322735539909))"
      ]
     },
     "execution_count": 15,
     "metadata": {},
     "output_type": "execute_result"
    }
   ],
   "source": [
    "Experimentos[6].get_closest_points_to_intersections()"
   ]
  },
  {
   "cell_type": "code",
   "execution_count": 14,
   "metadata": {
    "collapsed": false
   },
   "outputs": [
    {
     "data": {
      "text/plain": [
       "1cc47C.csv"
      ]
     },
     "execution_count": 14,
     "metadata": {},
     "output_type": "execute_result"
    }
   ],
   "source": [
    "Experimentos[6]"
   ]
  },
  {
   "cell_type": "code",
   "execution_count": 7,
   "metadata": {
    "collapsed": false
   },
   "outputs": [
    {
     "data": {
      "text/html": [
       "<div>\n",
       "<table border=\"1\" class=\"dataframe\">\n",
       "  <thead>\n",
       "    <tr style=\"text-align: right;\">\n",
       "      <th></th>\n",
       "      <th>densidad manjar</th>\n",
       "      <th>modelo 3D</th>\n",
       "      <th>volumen total teorico</th>\n",
       "      <th>t amb</th>\n",
       "      <th>termocupla</th>\n",
       "      <th>caudal</th>\n",
       "      <th>angulo inclinacion</th>\n",
       "      <th>NOMBRE</th>\n",
       "      <th>Obs</th>\n",
       "      <th>Exp #</th>\n",
       "      <th>...</th>\n",
       "      <th>fecha</th>\n",
       "      <th>min</th>\n",
       "      <th>max</th>\n",
       "      <th>framei</th>\n",
       "      <th>framef</th>\n",
       "      <th>result: largo final</th>\n",
       "      <th>result: largo total</th>\n",
       "      <th>result: ancho max final</th>\n",
       "      <th>result: espesor max final</th>\n",
       "      <th>result: distancia espesor final</th>\n",
       "    </tr>\n",
       "  </thead>\n",
       "  <tbody>\n",
       "    <tr>\n",
       "      <th>0</th>\n",
       "      <td>1240</td>\n",
       "      <td>hay fotos</td>\n",
       "      <td>0.00143</td>\n",
       "      <td>24.1</td>\n",
       "      <td>si, 4 puntos</td>\n",
       "      <td>1,00E-05</td>\n",
       "      <td>10.5</td>\n",
       "      <td>10cc50C</td>\n",
       "      <td>NaN</td>\n",
       "      <td>31</td>\n",
       "      <td>...</td>\n",
       "      <td>30/09/2016 0:00</td>\n",
       "      <td>26</td>\n",
       "      <td>51</td>\n",
       "      <td>14</td>\n",
       "      <td>2020</td>\n",
       "      <td>0.368</td>\n",
       "      <td>0.442</td>\n",
       "      <td>0.305</td>\n",
       "      <td>0.015</td>\n",
       "      <td>0.25</td>\n",
       "    </tr>\n",
       "  </tbody>\n",
       "</table>\n",
       "<p>1 rows × 22 columns</p>\n",
       "</div>"
      ],
      "text/plain": [
       "   densidad manjar  modelo 3D  volumen total teorico  t amb    termocupla  \\\n",
       "0             1240  hay fotos                0.00143   24.1  si, 4 puntos   \n",
       "\n",
       "     caudal  angulo inclinacion   NOMBRE  Obs  Exp #  \\\n",
       "0  1,00E-05                10.5  10cc50C  NaN     31   \n",
       "\n",
       "                ...                           fecha  min max  framei  framef  \\\n",
       "0               ...                 30/09/2016 0:00   26  51      14    2020   \n",
       "\n",
       "   result: largo final  result: largo total  result: ancho max final  \\\n",
       "0                0.368                0.442                    0.305   \n",
       "\n",
       "   result: espesor max final  result: distancia espesor final  \n",
       "0                      0.015                             0.25  \n",
       "\n",
       "[1 rows x 22 columns]"
      ]
     },
     "execution_count": 7,
     "metadata": {},
     "output_type": "execute_result"
    }
   ],
   "source": [
    "exp.param.head()"
   ]
  },
  {
   "cell_type": "code",
   "execution_count": 6,
   "metadata": {
    "collapsed": false
   },
   "outputs": [
    {
     "data": {
      "text/html": [
       "<div>\n",
       "<table border=\"1\" class=\"dataframe\">\n",
       "  <thead>\n",
       "    <tr style=\"text-align: right;\">\n",
       "      <th></th>\n",
       "      <th>FLIR: tiempo</th>\n",
       "      <th>FLIR: area</th>\n",
       "      <th>FLIR: rango 1</th>\n",
       "      <th>FLIR: rango 2</th>\n",
       "      <th>FLIR: rango 3</th>\n",
       "      <th>FLIR: rango 4</th>\n",
       "      <th>FLIR: rango 5</th>\n",
       "      <th>FLIR: rango 6</th>\n",
       "      <th>FLIR: rango 7</th>\n",
       "      <th>FLIR: rango 8</th>\n",
       "      <th>FLIR: rango 9</th>\n",
       "    </tr>\n",
       "  </thead>\n",
       "  <tbody>\n",
       "    <tr>\n",
       "      <th>0</th>\n",
       "      <td>0</td>\n",
       "      <td>1666</td>\n",
       "      <td>0.587635</td>\n",
       "      <td>0.063625</td>\n",
       "      <td>0.055222</td>\n",
       "      <td>0.120648259</td>\n",
       "      <td>0.049819928</td>\n",
       "      <td>0.070828331</td>\n",
       "      <td>0.027611044</td>\n",
       "      <td>0.024610</td>\n",
       "      <td>0.000000</td>\n",
       "    </tr>\n",
       "    <tr>\n",
       "      <th>1</th>\n",
       "      <td>1</td>\n",
       "      <td>2254</td>\n",
       "      <td>0.478261</td>\n",
       "      <td>0.053239</td>\n",
       "      <td>0.035492</td>\n",
       "      <td>0.066104703</td>\n",
       "      <td>0.022626442</td>\n",
       "      <td>0.068322981</td>\n",
       "      <td>0.20851819</td>\n",
       "      <td>0.067436</td>\n",
       "      <td>0.000000</td>\n",
       "    </tr>\n",
       "    <tr>\n",
       "      <th>2</th>\n",
       "      <td>2</td>\n",
       "      <td>3051</td>\n",
       "      <td>0.443461</td>\n",
       "      <td>0.043592</td>\n",
       "      <td>0.025565</td>\n",
       "      <td>0.033431662</td>\n",
       "      <td>0.018354638</td>\n",
       "      <td>0.033759423</td>\n",
       "      <td>0.106850213</td>\n",
       "      <td>0.234677</td>\n",
       "      <td>0.060308</td>\n",
       "    </tr>\n",
       "    <tr>\n",
       "      <th>3</th>\n",
       "      <td>3</td>\n",
       "      <td>3677</td>\n",
       "      <td>0.403590</td>\n",
       "      <td>0.039162</td>\n",
       "      <td>0.019581</td>\n",
       "      <td>0.014413924</td>\n",
       "      <td>0.010606473</td>\n",
       "      <td>0.027740005</td>\n",
       "      <td>0.071797661</td>\n",
       "      <td>0.221648</td>\n",
       "      <td>0.191460</td>\n",
       "    </tr>\n",
       "    <tr>\n",
       "      <th>4</th>\n",
       "      <td>4</td>\n",
       "      <td>3923</td>\n",
       "      <td>0.305379</td>\n",
       "      <td>0.037216</td>\n",
       "      <td>0.013765</td>\n",
       "      <td>0.01172572</td>\n",
       "      <td>0.011470813</td>\n",
       "      <td>0.023196533</td>\n",
       "      <td>0.071119042</td>\n",
       "      <td>0.253887</td>\n",
       "      <td>0.272241</td>\n",
       "    </tr>\n",
       "  </tbody>\n",
       "</table>\n",
       "</div>"
      ],
      "text/plain": [
       "   FLIR: tiempo  FLIR: area  FLIR: rango 1  FLIR: rango 2  FLIR: rango 3  \\\n",
       "0             0        1666       0.587635       0.063625       0.055222   \n",
       "1             1        2254       0.478261       0.053239       0.035492   \n",
       "2             2        3051       0.443461       0.043592       0.025565   \n",
       "3             3        3677       0.403590       0.039162       0.019581   \n",
       "4             4        3923       0.305379       0.037216       0.013765   \n",
       "\n",
       "  FLIR: rango 4 FLIR: rango 5 FLIR: rango 6 FLIR: rango 7  FLIR: rango 8  \\\n",
       "0   0.120648259   0.049819928   0.070828331   0.027611044       0.024610   \n",
       "1   0.066104703   0.022626442   0.068322981    0.20851819       0.067436   \n",
       "2   0.033431662   0.018354638   0.033759423   0.106850213       0.234677   \n",
       "3   0.014413924   0.010606473   0.027740005   0.071797661       0.221648   \n",
       "4    0.01172572   0.011470813   0.023196533   0.071119042       0.253887   \n",
       "\n",
       "   FLIR: rango 9  \n",
       "0       0.000000  \n",
       "1       0.000000  \n",
       "2       0.060308  \n",
       "3       0.191460  \n",
       "4       0.272241  "
      ]
     },
     "execution_count": 6,
     "metadata": {},
     "output_type": "execute_result"
    }
   ],
   "source": [
    "Experimentos[30].flir.head()"
   ]
  },
  {
   "cell_type": "code",
   "execution_count": 8,
   "metadata": {
    "collapsed": true
   },
   "outputs": [],
   "source": [
    "def rango_temperatura(temp, exp):\n",
    "    bins = exp.get_ranges()\n",
    "    return np.digitize([temp], bins)[0] + 1"
   ]
  },
  {
   "cell_type": "code",
   "execution_count": 4,
   "metadata": {
    "collapsed": false
   },
   "outputs": [
    {
     "data": {
      "text/plain": [
       "4"
      ]
     },
     "execution_count": 4,
     "metadata": {},
     "output_type": "execute_result"
    }
   ],
   "source": [
    "exp.rango_temperatura(34)"
   ]
  },
  {
   "cell_type": "code",
   "execution_count": 10,
   "metadata": {
    "collapsed": false
   },
   "outputs": [
    {
     "name": "stdout",
     "output_type": "stream",
     "text": [
      "['pat1', 'pat2', 'pat3', 'pat4', 'pat5', 'pat6', 'pat7']\n"
     ]
    }
   ],
   "source": [
    "#GENERA PATCHES DE COLORES SEGUN TEMPERATURA\n",
    "import matplotlib.patches as mpatches\n",
    "\n",
    "pat1 = mpatches.Patch(color='C1', label='temp < 40')\n",
    "pat2 = mpatches.Patch(color='C2', label='temp < 45')\n",
    "pat3 = mpatches.Patch(color='C3', label='temp < 50')\n",
    "pat4 = mpatches.Patch(color='C4', label='temp < 55')\n",
    "pat5 = mpatches.Patch(color='C5', label='temp < 60')\n",
    "pat6 = mpatches.Patch(color='C6', label='temp < 65')\n",
    "pat7 = mpatches.Patch(color='C7', label='temp < 70')\n",
    "\n",
    "numerocolores = 7\n",
    "colors = ['pat{}'.format(i+1) for i in range(numerocolores)]\n",
    "\n",
    "print(colors)"
   ]
  },
  {
   "cell_type": "code",
   "execution_count": 37,
   "metadata": {
    "collapsed": true
   },
   "outputs": [],
   "source": [
    "#LISTA para ESPESOR vs TIEMPO\n",
    "listaporcaudal = []\n",
    "\n",
    "for exp in Experimentos:\n",
    "    if exp.flir is not None:\n",
    "        try:\n",
    "            holder = {} #es un diccionario \n",
    "            holder['nombre'] = exp.param['NOMBRE'][0]#solo el valor de la primera fila\n",
    "            holder['espesor'] = exp.flir['espesor']#toda la columna\n",
    "            holder['tiempo'] = exp.flir['FLIR: tiempo']#toda la columna\n",
    "            holder['caudal'] = exp.param['caudal'][0]#solo el valor de la primera fila\n",
    "            holder['angulo'] = exp.param['angulo inclinacion'][0]\n",
    "            holder['uso'] = exp.param['uso manjar'][0]\n",
    "\n",
    "            listaporcaudal.append(holder)\n",
    "        except:\n",
    "            continue"
   ]
  },
  {
   "cell_type": "code",
   "execution_count": 27,
   "metadata": {
    "collapsed": false,
    "scrolled": true
   },
   "outputs": [
    {
     "name": "stdout",
     "output_type": "stream",
     "text": [
      "1e-06\n",
      "5e-06\n",
      "1e-05\n",
      "1.7e-05\n",
      "2.5e-05\n"
     ]
    }
   ],
   "source": [
    "#crear GRUPOS segun CAUDAL\n",
    "from itertools import groupby\n",
    "count = 0\n",
    "\n",
    "#key es la lista donde estan los diccionarios de exp y DF\n",
    "#group es que se agrupa segun el valor de 'caudal' en este caso\n",
    "\n",
    "for key, group in groupby(sorted(listaporcaudal, key=lambda x: x['caudal']), key=lambda x: x['caudal']):\n",
    "    print(key)\n",
    "    count += 1\n",
    "    #for exp in group:\n",
    "        #muestra el nombre del grupo y los elementos que tiene\n",
    "        #print(exp['nombre']) "
   ]
  },
  {
   "cell_type": "code",
   "execution_count": 38,
   "metadata": {
    "collapsed": false,
    "scrolled": true
   },
   "outputs": [
    {
     "name": "stdout",
     "output_type": "stream",
     "text": [
      "1e-06\n",
      "5e-06\n",
      "1e-05\n",
      "1.7e-05\n",
      "2.5e-05\n"
     ]
    }
   ],
   "source": [
    "#ESPESOR vs TIEMPO agrupados por caudales\n",
    "fig = plt.figure()\n",
    "axes = [fig.add_subplot(3,2,i+1) for i in range(count)]\n",
    "counter = 0\n",
    "\n",
    "for key, group in groupby(sorted(listaporcaudal, key=lambda x: x['caudal']), key=lambda x: x['caudal']):\n",
    "    print(key)\n",
    "    ax = axes[counter]\n",
    "    #ax.set_xlim(minimoejelargo, maximoejelargo)\n",
    "    #ax.set_ylim(0, maximoejeespesor)\n",
    "    ax.set_title('{}cc'.format(key*1000000))\n",
    "    counter += 1\n",
    "    linea1= ax.plot([],[], label='15°', linestyle='--', color='black')\n",
    "    linea2= ax.plot([],[], label='10°', color='black')\n",
    "    \n",
    "    for exp in group:\n",
    "        #print(\"C{}\".format(exp[\"rango temperatura\"]))\n",
    "        #if exp['uso'] == 1: \n",
    "            if exp['angulo'] == 15:\n",
    "                ax.plot(exp['tiempo'], exp['espesor'], linestyle= '--')\n",
    "            else:\n",
    "                ax.plot(exp['tiempo'], exp['espesor'])\n",
    "        \n",
    "legend1 = plt.legend(handles=[pat1, pat2, pat3, pat4, pat5, pat6, pat7], bbox_to_anchor=(1.8, 0.5), loc=5)\n",
    "plt.legend(bbox_to_anchor=(1.8, 0.5), loc=6)\n",
    "plt.gca().add_artist(legend1)\n",
    "fig.show()"
   ]
  },
  {
   "cell_type": "code",
   "execution_count": 39,
   "metadata": {
    "collapsed": true
   },
   "outputs": [],
   "source": [
    "#LISTA para AREA vs TIEMPO\n",
    "otralistaporcaudal = []\n",
    "\n",
    "for exp in Experimentos:\n",
    "    if exp.flir is not None:\n",
    "        try:\n",
    "            holder = {} #es un diccionario \n",
    "            holder['nombre'] = exp.param['NOMBRE'][0]#solo el valor de la primera fila\n",
    "            holder['area'] = exp.flir['area_m2']#toda la columna\n",
    "            holder['tiempo'] = exp.flir['FLIR: tiempo']#toda la columna\n",
    "            holder['caudal'] = exp.param['caudal'][0]#solo el valor de la primera fila\n",
    "            holder['angulo'] = exp.param['angulo inclinacion'][0]\n",
    "            holder['uso'] = exp.param['uso manjar'][0]\n",
    "\n",
    "            otralistaporcaudal.append(holder)\n",
    "        except:\n",
    "            continue"
   ]
  },
  {
   "cell_type": "code",
   "execution_count": 40,
   "metadata": {
    "collapsed": false
   },
   "outputs": [
    {
     "name": "stdout",
     "output_type": "stream",
     "text": [
      "1e-06\n",
      "5e-06\n",
      "1e-05\n",
      "1.7e-05\n",
      "2.5e-05\n"
     ]
    }
   ],
   "source": [
    "#AREA vs TIEMPO agrupados por caudales\n",
    "fig = plt.figure()\n",
    "axes = [fig.add_subplot(3,2,i+1) for i in range(count)]\n",
    "counter = 0\n",
    "\n",
    "for key, group in groupby(sorted(otralistaporcaudal, key=lambda x: x['caudal']), key=lambda x: x['caudal']):\n",
    "    print(key)\n",
    "    ax = axes[counter]\n",
    "    #ax.set_xlim(minimoejelargo, maximoejelargo)\n",
    "    #ax.set_ylim(0, maximoejeespesor)\n",
    "    ax.set_title('{}cc'.format(key*1000000))\n",
    "    counter += 1\n",
    "    \n",
    "    for exp in group:\n",
    "        ax.plot(exp['tiempo'], exp['area'])\n",
    "        \n",
    "legend1 = plt.legend(handles=[pat1, pat2, pat3, pat4, pat5, pat6, pat7], bbox_to_anchor=(1.8, 0.5), loc=5)\n",
    "plt.legend(bbox_to_anchor=(1.8, 0.5), loc=6)\n",
    "plt.gca().add_artist(legend1)\n",
    "fig.show()"
   ]
  }
 ],
 "metadata": {
  "anaconda-cloud": {},
  "kernelspec": {
   "display_name": "Python [bootcamp]",
   "language": "python",
   "name": "Python [bootcamp]"
  },
  "language_info": {
   "codemirror_mode": {
    "name": "ipython",
    "version": 3
   },
   "file_extension": ".py",
   "mimetype": "text/x-python",
   "name": "python",
   "nbconvert_exporter": "python",
   "pygments_lexer": "ipython3",
   "version": "3.5.2"
  }
 },
 "nbformat": 4,
 "nbformat_minor": 1
}
