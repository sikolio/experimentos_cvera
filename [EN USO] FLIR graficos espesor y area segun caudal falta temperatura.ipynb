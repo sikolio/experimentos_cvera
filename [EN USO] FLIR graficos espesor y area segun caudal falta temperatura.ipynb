{
 "cells": [
  {
   "cell_type": "code",
   "execution_count": 1,
   "metadata": {
    "collapsed": false
   },
   "outputs": [
    {
     "name": "stdout",
     "output_type": "stream",
     "text": [
      "Using matplotlib backend: Qt5Agg\n"
     ]
    }
   ],
   "source": [
    "import pandas as pd\n",
    "import os\n",
    "import csv\n",
    "import numpy as np\n",
    "from scipy import stats\n",
    "from matplotlib import pyplot as plt\n",
    "%matplotlib"
   ]
  },
  {
   "cell_type": "code",
   "execution_count": 9,
   "metadata": {
    "collapsed": true
   },
   "outputs": [],
   "source": [
    "from scipy.ndimage.filters import median_filter"
   ]
  },
  {
   "cell_type": "code",
   "execution_count": 2,
   "metadata": {
    "collapsed": false
   },
   "outputs": [
    {
     "name": "stdout",
     "output_type": "stream",
     "text": [
      "[Errno 2] No such file or directory: '.\\\\Data\\\\5cc50C - flir.csv'\n",
      "[Errno 2] No such file or directory: '.\\\\Data\\\\1cc54C - flir.csv'\n",
      "[Errno 2] No such file or directory: '.\\\\Data\\\\25cc54C - flir.csv'\n",
      "[Errno 2] No such file or directory: '.\\\\Data\\\\10cc60C - flir.csv'\n",
      "[Errno 2] No such file or directory: '.\\\\Data\\\\25cc60C - flir.csv'\n",
      "[Errno 2] No such file or directory: '.\\\\Data\\\\1cc59C - flir.csv'\n",
      "[Errno 2] No such file or directory: '.\\\\Data\\\\5cc63C - flir.csv'\n",
      "[Errno 2] No such file or directory: '.\\\\Data\\\\25cc62C - flir.csv'\n",
      "[Errno 2] No such file or directory: '.\\\\Data\\\\1cc62C - flir.csv'\n",
      "[Errno 2] No such file or directory: '.\\\\Data\\\\1cc24C - flir.csv'\n",
      "[Errno 2] No such file or directory: '.\\\\Data\\\\10cc24C - flir.csv'\n"
     ]
    }
   ],
   "source": [
    "from Experimentos import Experimentos"
   ]
  },
  {
   "cell_type": "code",
   "execution_count": 3,
   "metadata": {
    "collapsed": false
   },
   "outputs": [
    {
     "name": "stdout",
     "output_type": "stream",
     "text": [
      "0 5cc50C.csv False\n",
      "1 1cc54C.csv False\n",
      "2 25cc54C.csv False\n",
      "3 10cc60C.csv False\n",
      "4 25cc60C.csv False\n",
      "5 1cc59C.csv False\n",
      "6 1cc47C.csv True\n",
      "7 1cc55C.csv True\n",
      "8 25cc58C.csv True\n",
      "9 25cc70C.csv True\n",
      "10 10cc67C.csv True\n",
      "11 10cc59C.csv True\n",
      "12 5cc63C.csv False\n",
      "13 5cc59C.csv True\n",
      "14 10cc49C.csv True\n",
      "15 25cc62C.csv False\n",
      "16 1cc62C.csv False\n",
      "17 5cc53C.csv True\n",
      "18 5a25cc56C.csv True\n",
      "19 5cc57C.csv True\n",
      "20 25cc50C.csv True\n",
      "21 10cc55C.csv True\n",
      "22 1cc24C.csv False\n",
      "23 10cc57C.csv True\n",
      "24 10cc24C.csv False\n",
      "25 5cc55C.csv True\n",
      "26 5cc58C.csv True\n",
      "27 1cc48C.csv True\n",
      "28 1cc51C.csv True\n",
      "29 5cc48C.csv True\n",
      "30 10cc50C.csv True\n",
      "31 1cc54,7C.csv True\n",
      "32 1cc52C.csv True\n"
     ]
    }
   ],
   "source": [
    "for i, exp in enumerate(Experimentos):\n",
    "    print(i, exp, (exp.flir is not None))"
   ]
  },
  {
   "cell_type": "code",
   "execution_count": 4,
   "metadata": {
    "collapsed": false
   },
   "outputs": [
    {
     "name": "stdout",
     "output_type": "stream",
     "text": [
      "0 5cc50C.csv []\n",
      "1 1cc54C.csv []\n",
      "2 25cc54C.csv []\n",
      "3 10cc60C.csv []\n",
      "4 25cc60C.csv []\n",
      "5 1cc59C.csv []\n",
      "6 1cc47C.csv [28.0, 30.666666666666668, 33.333333333333336, 36.0, 38.666666666666664, 41.333333333333329, 44.0, 46.666666666666664, 49.333333333333329, 52.0]\n",
      "7 1cc55C.csv [27.5, 30.444444444444443, 33.388888888888886, 36.333333333333336, 39.277777777777779, 42.222222222222221, 45.166666666666671, 48.111111111111114, 51.055555555555557, 54.0]\n",
      "8 25cc58C.csv [27.0, 31.222222222222221, 35.444444444444443, 39.666666666666671, 43.888888888888886, 48.111111111111114, 52.333333333333336, 56.555555555555557, 60.777777777777779, 65.0]\n",
      "9 25cc70C.csv [29.0, 33.222222222222221, 37.444444444444443, 41.666666666666671, 45.888888888888886, 50.111111111111114, 54.333333333333336, 58.555555555555557, 62.777777777777779, 67.0]\n",
      "10 10cc67C.csv [28.0, 32.0, 36.0, 40.0, 44.0, 48.0, 52.0, 56.0, 60.0, 64.0]\n",
      "11 10cc59C.csv [27.5, 31.0, 34.5, 38.0, 41.5, 45.0, 48.5, 52.0, 55.5, 59.0]\n",
      "12 5cc63C.csv []\n",
      "13 5cc59C.csv [26.5, 30.0, 33.5, 37.0, 40.5, 44.0, 47.5, 51.0, 54.5, 58.0]\n",
      "14 10cc49C.csv [28.600000000000001, 30.866666666666667, 33.133333333333333, 35.399999999999999, 37.666666666666671, 39.933333333333337, 42.200000000000003, 44.466666666666669, 46.733333333333334, 49.0]\n",
      "15 25cc62C.csv []\n",
      "16 1cc62C.csv []\n",
      "17 5cc53C.csv [27.300000000000001, 30.044444444444444, 32.788888888888891, 35.533333333333331, 38.277777777777779, 41.022222222222226, 43.766666666666666, 46.511111111111113, 49.25555555555556, 52.0]\n",
      "18 5a25cc56C.csv [27.0, 29.888888888888889, 32.777777777777779, 35.666666666666664, 38.555555555555557, 41.444444444444443, 44.333333333333329, 47.222222222222221, 50.111111111111114, 53.0]\n",
      "19 5cc57C.csv [29.0, 31.222222222222221, 33.444444444444443, 35.666666666666664, 37.888888888888886, 40.111111111111114, 42.333333333333336, 44.555555555555557, 46.777777777777779, 49.0]\n",
      "20 25cc50C.csv [28.0, 31.222222222222221, 34.444444444444443, 37.666666666666671, 40.888888888888886, 44.111111111111114, 47.333333333333336, 50.555555555555557, 53.777777777777779, 57.0]\n",
      "21 10cc55C.csv [25.0, 28.666666666666668, 32.333333333333336, 36.0, 39.666666666666664, 43.333333333333329, 47.0, 50.666666666666664, 54.333333333333329, 58.0]\n",
      "22 1cc24C.csv []\n",
      "23 10cc57C.csv [25.0, 29.0, 33.0, 37.0, 41.0, 45.0, 49.0, 53.0, 57.0, 61.0]\n",
      "24 10cc24C.csv []\n",
      "25 5cc55C.csv [24.399999999999999, 27.911111111111111, 31.422222222222221, 34.93333333333333, 38.444444444444443, 41.955555555555556, 45.466666666666669, 48.977777777777774, 52.488888888888887, 56.0]\n",
      "26 5cc58C.csv [24.0, 28.111111111111111, 32.222222222222221, 36.333333333333329, 40.444444444444443, 44.555555555555557, 48.666666666666664, 52.777777777777771, 56.888888888888886, 61.0]\n",
      "27 1cc48C.csv [26.0, 28.444444444444443, 30.888888888888889, 33.333333333333336, 35.777777777777779, 38.222222222222221, 40.666666666666671, 43.111111111111114, 45.555555555555557, 48.0]\n",
      "28 1cc51C.csv [26.5, 29.222222222222221, 31.944444444444443, 34.666666666666671, 37.388888888888886, 40.111111111111114, 42.833333333333336, 45.555555555555557, 48.277777777777779, 51.0]\n",
      "29 5cc48C.csv [25.0, 27.777777777777779, 30.555555555555557, 33.333333333333329, 36.111111111111114, 38.888888888888886, 41.666666666666664, 44.444444444444443, 47.222222222222221, 50.0]\n",
      "30 10cc50C.csv [26.0, 28.777777777777779, 31.555555555555557, 34.333333333333329, 37.111111111111114, 39.888888888888886, 42.666666666666664, 45.444444444444443, 48.222222222222221, 51.0]\n",
      "31 1cc54,7C.csv [25.0, 28.555555555555557, 32.111111111111114, 35.666666666666664, 39.222222222222221, 42.777777777777779, 46.333333333333329, 49.888888888888886, 53.444444444444443, 57.0]\n",
      "32 1cc52C.csv [24.0, 27.377777777777776, 30.755555555555556, 34.133333333333333, 37.511111111111113, 40.888888888888886, 44.266666666666666, 47.644444444444446, 51.022222222222226, 54.399999999999999]\n"
     ]
    }
   ],
   "source": [
    "for i, exp in enumerate(Experimentos):\n",
    "    print(i, exp, exp.get_ranges())"
   ]
  },
  {
   "cell_type": "code",
   "execution_count": 17,
   "metadata": {
    "collapsed": false
   },
   "outputs": [],
   "source": [
    "for exp in Experimentos:\n",
    "    if exp.flir is not None:\n",
    "        try:\n",
    "            exp.flir['area_m2'] = exp.flir['FLIR: area']/numeropixeles\n",
    "            exp.flir['volumen_emitido'] = exp.param['caudal'][0]*exp.flir['FLIR: tiempo']\n",
    "        except:\n",
    "            continue\n",
    "        volumen_total = kilos_manjar/rho_manjar\n",
    "        exp.flir['volumen_emitido'][exp.flir['volumen_emitido'] > volumen_total] = volumen_total\n",
    "        exp.flir['espesor'] = 3*exp.flir['volumen_emitido']/(2*exp.flir['area_m2'])"
   ]
  },
  {
   "cell_type": "code",
   "execution_count": 13,
   "metadata": {
    "collapsed": false
   },
   "outputs": [
    {
     "data": {
      "text/plain": [
       "[24.0,\n",
       " 27.377777777777776,\n",
       " 30.755555555555556,\n",
       " 34.133333333333333,\n",
       " 37.511111111111113,\n",
       " 40.888888888888886,\n",
       " 44.266666666666666,\n",
       " 47.644444444444446,\n",
       " 51.022222222222226,\n",
       " 54.399999999999999]"
      ]
     },
     "execution_count": 13,
     "metadata": {},
     "output_type": "execute_result"
    }
   ],
   "source": [
    "exp.get_ranges()"
   ]
  },
  {
   "cell_type": "code",
   "execution_count": 46,
   "metadata": {
    "collapsed": true
   },
   "outputs": [],
   "source": [
    "#FALTA: agregar rango de temperaturas a partir de archivo \"resumen general experimentos\":\n",
    "#(max-min)/rangos = salto temp\n",
    "#rangos=min+salto etc"
   ]
  },
  {
   "cell_type": "code",
   "execution_count": null,
   "metadata": {
    "collapsed": true
   },
   "outputs": [],
   "source": [
    "#FALTA: graficar tiempo en que prevalece cada rango de temperatura? y como relacionarlo a la velocidad"
   ]
  },
  {
   "cell_type": "code",
   "execution_count": 3,
   "metadata": {
    "collapsed": true
   },
   "outputs": [],
   "source": [
    "exp = Experimentos[30]"
   ]
  },
  {
   "cell_type": "code",
   "execution_count": 15,
   "metadata": {
    "collapsed": false
   },
   "outputs": [
    {
     "data": {
      "text/html": [
       "<div>\n",
       "<table border=\"1\" class=\"dataframe\">\n",
       "  <thead>\n",
       "    <tr style=\"text-align: right;\">\n",
       "      <th></th>\n",
       "      <th>densidad manjar</th>\n",
       "      <th>modelo 3D</th>\n",
       "      <th>volumen total teorico</th>\n",
       "      <th>t amb</th>\n",
       "      <th>termocupla</th>\n",
       "      <th>caudal</th>\n",
       "      <th>angulo inclinacion</th>\n",
       "      <th>NOMBRE</th>\n",
       "      <th>Obs</th>\n",
       "      <th>Exp #</th>\n",
       "      <th>uso manjar</th>\n",
       "      <th>t max</th>\n",
       "      <th>fecha</th>\n",
       "      <th>result: largo final</th>\n",
       "      <th>result: largo total</th>\n",
       "      <th>result: ancho max final</th>\n",
       "      <th>result: espesor max final</th>\n",
       "      <th>result: distancia espesor final</th>\n",
       "    </tr>\n",
       "  </thead>\n",
       "  <tbody>\n",
       "    <tr>\n",
       "      <th>0</th>\n",
       "      <td>1240</td>\n",
       "      <td>hay fotos</td>\n",
       "      <td>0.00143</td>\n",
       "      <td>22</td>\n",
       "      <td>si, 4 puntos</td>\n",
       "      <td>0.000001</td>\n",
       "      <td>10.2</td>\n",
       "      <td>1cc52C</td>\n",
       "      <td>manjar muy viscoso paquete guardado</td>\n",
       "      <td>33</td>\n",
       "      <td>1</td>\n",
       "      <td>52</td>\n",
       "      <td>2016-10-04 00:00:00</td>\n",
       "      <td>0.218</td>\n",
       "      <td>0.293</td>\n",
       "      <td>0.245</td>\n",
       "      <td>0.028</td>\n",
       "      <td>0.1</td>\n",
       "    </tr>\n",
       "  </tbody>\n",
       "</table>\n",
       "</div>"
      ],
      "text/plain": [
       "   densidad manjar  modelo 3D  volumen total teorico  t amb    termocupla  \\\n",
       "0             1240  hay fotos                0.00143     22  si, 4 puntos   \n",
       "\n",
       "     caudal  angulo inclinacion  NOMBRE                                  Obs  \\\n",
       "0  0.000001                10.2  1cc52C  manjar muy viscoso paquete guardado   \n",
       "\n",
       "   Exp #  uso manjar  t max                fecha  result: largo final  \\\n",
       "0     33           1     52  2016-10-04 00:00:00                0.218   \n",
       "\n",
       "   result: largo total  result: ancho max final  result: espesor max final  \\\n",
       "0                0.293                    0.245                      0.028   \n",
       "\n",
       "   result: distancia espesor final  \n",
       "0                              0.1  "
      ]
     },
     "execution_count": 15,
     "metadata": {},
     "output_type": "execute_result"
    }
   ],
   "source": [
    "exp.param.head()"
   ]
  },
  {
   "cell_type": "code",
   "execution_count": 6,
   "metadata": {
    "collapsed": false
   },
   "outputs": [
    {
     "data": {
      "text/html": [
       "<div>\n",
       "<table border=\"1\" class=\"dataframe\">\n",
       "  <thead>\n",
       "    <tr style=\"text-align: right;\">\n",
       "      <th></th>\n",
       "      <th>FLIR: tiempo</th>\n",
       "      <th>FLIR: area</th>\n",
       "      <th>FLIR: rango 1</th>\n",
       "      <th>FLIR: rango 2</th>\n",
       "      <th>FLIR: rango 3</th>\n",
       "      <th>FLIR: rango 4</th>\n",
       "      <th>FLIR: rango 5</th>\n",
       "      <th>FLIR: rango 6</th>\n",
       "      <th>FLIR: rango 7</th>\n",
       "      <th>FLIR: rango 8</th>\n",
       "      <th>FLIR: rango 9</th>\n",
       "    </tr>\n",
       "  </thead>\n",
       "  <tbody>\n",
       "    <tr>\n",
       "      <th>0</th>\n",
       "      <td>0</td>\n",
       "      <td>1666</td>\n",
       "      <td>0.587635</td>\n",
       "      <td>0.063625</td>\n",
       "      <td>0.055222</td>\n",
       "      <td>0.120648259</td>\n",
       "      <td>0.049819928</td>\n",
       "      <td>0.070828331</td>\n",
       "      <td>0.027611044</td>\n",
       "      <td>0.024610</td>\n",
       "      <td>0.000000</td>\n",
       "    </tr>\n",
       "    <tr>\n",
       "      <th>1</th>\n",
       "      <td>1</td>\n",
       "      <td>2254</td>\n",
       "      <td>0.478261</td>\n",
       "      <td>0.053239</td>\n",
       "      <td>0.035492</td>\n",
       "      <td>0.066104703</td>\n",
       "      <td>0.022626442</td>\n",
       "      <td>0.068322981</td>\n",
       "      <td>0.20851819</td>\n",
       "      <td>0.067436</td>\n",
       "      <td>0.000000</td>\n",
       "    </tr>\n",
       "    <tr>\n",
       "      <th>2</th>\n",
       "      <td>2</td>\n",
       "      <td>3051</td>\n",
       "      <td>0.443461</td>\n",
       "      <td>0.043592</td>\n",
       "      <td>0.025565</td>\n",
       "      <td>0.033431662</td>\n",
       "      <td>0.018354638</td>\n",
       "      <td>0.033759423</td>\n",
       "      <td>0.106850213</td>\n",
       "      <td>0.234677</td>\n",
       "      <td>0.060308</td>\n",
       "    </tr>\n",
       "    <tr>\n",
       "      <th>3</th>\n",
       "      <td>3</td>\n",
       "      <td>3677</td>\n",
       "      <td>0.403590</td>\n",
       "      <td>0.039162</td>\n",
       "      <td>0.019581</td>\n",
       "      <td>0.014413924</td>\n",
       "      <td>0.010606473</td>\n",
       "      <td>0.027740005</td>\n",
       "      <td>0.071797661</td>\n",
       "      <td>0.221648</td>\n",
       "      <td>0.191460</td>\n",
       "    </tr>\n",
       "    <tr>\n",
       "      <th>4</th>\n",
       "      <td>4</td>\n",
       "      <td>3923</td>\n",
       "      <td>0.305379</td>\n",
       "      <td>0.037216</td>\n",
       "      <td>0.013765</td>\n",
       "      <td>0.01172572</td>\n",
       "      <td>0.011470813</td>\n",
       "      <td>0.023196533</td>\n",
       "      <td>0.071119042</td>\n",
       "      <td>0.253887</td>\n",
       "      <td>0.272241</td>\n",
       "    </tr>\n",
       "  </tbody>\n",
       "</table>\n",
       "</div>"
      ],
      "text/plain": [
       "   FLIR: tiempo  FLIR: area  FLIR: rango 1  FLIR: rango 2  FLIR: rango 3  \\\n",
       "0             0        1666       0.587635       0.063625       0.055222   \n",
       "1             1        2254       0.478261       0.053239       0.035492   \n",
       "2             2        3051       0.443461       0.043592       0.025565   \n",
       "3             3        3677       0.403590       0.039162       0.019581   \n",
       "4             4        3923       0.305379       0.037216       0.013765   \n",
       "\n",
       "  FLIR: rango 4 FLIR: rango 5 FLIR: rango 6 FLIR: rango 7  FLIR: rango 8  \\\n",
       "0   0.120648259   0.049819928   0.070828331   0.027611044       0.024610   \n",
       "1   0.066104703   0.022626442   0.068322981    0.20851819       0.067436   \n",
       "2   0.033431662   0.018354638   0.033759423   0.106850213       0.234677   \n",
       "3   0.014413924   0.010606473   0.027740005   0.071797661       0.221648   \n",
       "4    0.01172572   0.011470813   0.023196533   0.071119042       0.253887   \n",
       "\n",
       "   FLIR: rango 9  \n",
       "0       0.000000  \n",
       "1       0.000000  \n",
       "2       0.060308  \n",
       "3       0.191460  \n",
       "4       0.272241  "
      ]
     },
     "execution_count": 6,
     "metadata": {},
     "output_type": "execute_result"
    }
   ],
   "source": [
    "Experimentos[30].flir.head()"
   ]
  },
  {
   "cell_type": "code",
   "execution_count": 8,
   "metadata": {
    "collapsed": true
   },
   "outputs": [],
   "source": [
    "def rango_temperatura(temp, exp):\n",
    "    bins = exp.get_ranges()\n",
    "    return np.digitize([temp], bins)[0] + 1"
   ]
  },
  {
   "cell_type": "code",
   "execution_count": 4,
   "metadata": {
    "collapsed": false
   },
   "outputs": [
    {
     "data": {
      "text/plain": [
       "4"
      ]
     },
     "execution_count": 4,
     "metadata": {},
     "output_type": "execute_result"
    }
   ],
   "source": [
    "exp.rango_temperatura(34)"
   ]
  },
  {
   "cell_type": "code",
   "execution_count": 10,
   "metadata": {
    "collapsed": false
   },
   "outputs": [
    {
     "name": "stdout",
     "output_type": "stream",
     "text": [
      "['pat1', 'pat2', 'pat3', 'pat4', 'pat5', 'pat6', 'pat7']\n"
     ]
    }
   ],
   "source": [
    "#GENERA PATCHES DE COLORES SEGUN TEMPERATURA\n",
    "import matplotlib.patches as mpatches\n",
    "\n",
    "pat1 = mpatches.Patch(color='C1', label='temp < 40')\n",
    "pat2 = mpatches.Patch(color='C2', label='temp < 45')\n",
    "pat3 = mpatches.Patch(color='C3', label='temp < 50')\n",
    "pat4 = mpatches.Patch(color='C4', label='temp < 55')\n",
    "pat5 = mpatches.Patch(color='C5', label='temp < 60')\n",
    "pat6 = mpatches.Patch(color='C6', label='temp < 65')\n",
    "pat7 = mpatches.Patch(color='C7', label='temp < 70')\n",
    "\n",
    "numerocolores = 7\n",
    "colors = ['pat{}'.format(i+1) for i in range(numerocolores)]\n",
    "\n",
    "print(colors)"
   ]
  },
  {
   "cell_type": "code",
   "execution_count": 37,
   "metadata": {
    "collapsed": true
   },
   "outputs": [],
   "source": [
    "#LISTA para ESPESOR vs TIEMPO\n",
    "listaporcaudal = []\n",
    "\n",
    "for exp in Experimentos:\n",
    "    if exp.flir is not None:\n",
    "        try:\n",
    "            holder = {} #es un diccionario \n",
    "            holder['nombre'] = exp.param['NOMBRE'][0]#solo el valor de la primera fila\n",
    "            holder['espesor'] = exp.flir['espesor']#toda la columna\n",
    "            holder['tiempo'] = exp.flir['FLIR: tiempo']#toda la columna\n",
    "            holder['caudal'] = exp.param['caudal'][0]#solo el valor de la primera fila\n",
    "            holder['angulo'] = exp.param['angulo inclinacion'][0]\n",
    "            holder['uso'] = exp.param['uso manjar'][0]\n",
    "\n",
    "            listaporcaudal.append(holder)\n",
    "        except:\n",
    "            continue"
   ]
  },
  {
   "cell_type": "code",
   "execution_count": 27,
   "metadata": {
    "collapsed": false,
    "scrolled": true
   },
   "outputs": [
    {
     "name": "stdout",
     "output_type": "stream",
     "text": [
      "1e-06\n",
      "5e-06\n",
      "1e-05\n",
      "1.7e-05\n",
      "2.5e-05\n"
     ]
    }
   ],
   "source": [
    "#crear GRUPOS segun CAUDAL\n",
    "from itertools import groupby\n",
    "count = 0\n",
    "\n",
    "#key es la lista donde estan los diccionarios de exp y DF\n",
    "#group es que se agrupa segun el valor de 'caudal' en este caso\n",
    "\n",
    "for key, group in groupby(sorted(listaporcaudal, key=lambda x: x['caudal']), key=lambda x: x['caudal']):\n",
    "    print(key)\n",
    "    count += 1\n",
    "    #for exp in group:\n",
    "        #muestra el nombre del grupo y los elementos que tiene\n",
    "        #print(exp['nombre']) "
   ]
  },
  {
   "cell_type": "code",
   "execution_count": 38,
   "metadata": {
    "collapsed": false,
    "scrolled": true
   },
   "outputs": [
    {
     "name": "stdout",
     "output_type": "stream",
     "text": [
      "1e-06\n",
      "5e-06\n",
      "1e-05\n",
      "1.7e-05\n",
      "2.5e-05\n"
     ]
    }
   ],
   "source": [
    "#ESPESOR vs TIEMPO agrupados por caudales\n",
    "fig = plt.figure()\n",
    "axes = [fig.add_subplot(3,2,i+1) for i in range(count)]\n",
    "counter = 0\n",
    "\n",
    "for key, group in groupby(sorted(listaporcaudal, key=lambda x: x['caudal']), key=lambda x: x['caudal']):\n",
    "    print(key)\n",
    "    ax = axes[counter]\n",
    "    #ax.set_xlim(minimoejelargo, maximoejelargo)\n",
    "    #ax.set_ylim(0, maximoejeespesor)\n",
    "    ax.set_title('{}cc'.format(key*1000000))\n",
    "    counter += 1\n",
    "    linea1= ax.plot([],[], label='15°', linestyle='--', color='black')\n",
    "    linea2= ax.plot([],[], label='10°', color='black')\n",
    "    \n",
    "    for exp in group:\n",
    "        #print(\"C{}\".format(exp[\"rango temperatura\"]))\n",
    "        #if exp['uso'] == 1: \n",
    "            if exp['angulo'] == 15:\n",
    "                ax.plot(exp['tiempo'], exp['espesor'], linestyle= '--')\n",
    "            else:\n",
    "                ax.plot(exp['tiempo'], exp['espesor'])\n",
    "        \n",
    "legend1 = plt.legend(handles=[pat1, pat2, pat3, pat4, pat5, pat6, pat7], bbox_to_anchor=(1.8, 0.5), loc=5)\n",
    "plt.legend(bbox_to_anchor=(1.8, 0.5), loc=6)\n",
    "plt.gca().add_artist(legend1)\n",
    "fig.show()"
   ]
  },
  {
   "cell_type": "code",
   "execution_count": 39,
   "metadata": {
    "collapsed": true
   },
   "outputs": [],
   "source": [
    "#LISTA para AREA vs TIEMPO\n",
    "otralistaporcaudal = []\n",
    "\n",
    "for exp in Experimentos:\n",
    "    if exp.flir is not None:\n",
    "        try:\n",
    "            holder = {} #es un diccionario \n",
    "            holder['nombre'] = exp.param['NOMBRE'][0]#solo el valor de la primera fila\n",
    "            holder['area'] = exp.flir['area_m2']#toda la columna\n",
    "            holder['tiempo'] = exp.flir['FLIR: tiempo']#toda la columna\n",
    "            holder['caudal'] = exp.param['caudal'][0]#solo el valor de la primera fila\n",
    "            holder['angulo'] = exp.param['angulo inclinacion'][0]\n",
    "            holder['uso'] = exp.param['uso manjar'][0]\n",
    "\n",
    "            otralistaporcaudal.append(holder)\n",
    "        except:\n",
    "            continue"
   ]
  },
  {
   "cell_type": "code",
   "execution_count": 40,
   "metadata": {
    "collapsed": false
   },
   "outputs": [
    {
     "name": "stdout",
     "output_type": "stream",
     "text": [
      "1e-06\n",
      "5e-06\n",
      "1e-05\n",
      "1.7e-05\n",
      "2.5e-05\n"
     ]
    }
   ],
   "source": [
    "#AREA vs TIEMPO agrupados por caudales\n",
    "fig = plt.figure()\n",
    "axes = [fig.add_subplot(3,2,i+1) for i in range(count)]\n",
    "counter = 0\n",
    "\n",
    "for key, group in groupby(sorted(otralistaporcaudal, key=lambda x: x['caudal']), key=lambda x: x['caudal']):\n",
    "    print(key)\n",
    "    ax = axes[counter]\n",
    "    #ax.set_xlim(minimoejelargo, maximoejelargo)\n",
    "    #ax.set_ylim(0, maximoejeespesor)\n",
    "    ax.set_title('{}cc'.format(key*1000000))\n",
    "    counter += 1\n",
    "    \n",
    "    for exp in group:\n",
    "        ax.plot(exp['tiempo'], exp['area'])\n",
    "        \n",
    "legend1 = plt.legend(handles=[pat1, pat2, pat3, pat4, pat5, pat6, pat7], bbox_to_anchor=(1.8, 0.5), loc=5)\n",
    "plt.legend(bbox_to_anchor=(1.8, 0.5), loc=6)\n",
    "plt.gca().add_artist(legend1)\n",
    "fig.show()"
   ]
  }
 ],
 "metadata": {
  "anaconda-cloud": {},
  "kernelspec": {
   "display_name": "Python [conda root]",
   "language": "python",
   "name": "conda-root-py"
  },
  "language_info": {
   "codemirror_mode": {
    "name": "ipython",
    "version": 3
   },
   "file_extension": ".py",
   "mimetype": "text/x-python",
   "name": "python",
   "nbconvert_exporter": "python",
   "pygments_lexer": "ipython3",
   "version": "3.5.2"
  }
 },
 "nbformat": 4,
 "nbformat_minor": 1
}
