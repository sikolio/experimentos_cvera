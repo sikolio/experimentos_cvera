{
 "cells": [
  {
   "cell_type": "code",
   "execution_count": 1,
   "metadata": {
    "collapsed": false
   },
   "outputs": [
    {
     "name": "stdout",
     "output_type": "stream",
     "text": [
      "Using matplotlib backend: Qt5Agg\n"
     ]
    }
   ],
   "source": [
    "import pandas as pd\n",
    "import os\n",
    "import csv\n",
    "import numpy as np\n",
    "from scipy import stats\n",
    "from matplotlib import pyplot as plt\n",
    "%matplotlib"
   ]
  },
  {
   "cell_type": "code",
   "execution_count": 2,
   "metadata": {
    "collapsed": true
   },
   "outputs": [],
   "source": [
    "from scipy.ndimage.filters import median_filter"
   ]
  },
  {
   "cell_type": "code",
   "execution_count": 12,
   "metadata": {
    "collapsed": false
   },
   "outputs": [],
   "source": [
    "from Experimentos import Experimentos, labelLines"
   ]
  },
  {
   "cell_type": "code",
   "execution_count": 25,
   "metadata": {
    "collapsed": false
   },
   "outputs": [],
   "source": [
    "#for i, exp in enumerate(Experimentos):\n",
    "#    print(i, exp, (exp.flir.dtypes if exp.flir is not None else 0))"
   ]
  },
  {
   "cell_type": "code",
   "execution_count": 4,
   "metadata": {
    "collapsed": false
   },
   "outputs": [
    {
     "data": {
      "text/html": [
       "<div>\n",
       "<table border=\"1\" class=\"dataframe\">\n",
       "  <thead>\n",
       "    <tr style=\"text-align: right;\">\n",
       "      <th></th>\n",
       "      <th>FLIR: tiempo</th>\n",
       "      <th>FLIR: area</th>\n",
       "      <th>FLIR: rango 1</th>\n",
       "      <th>FLIR: rango 2</th>\n",
       "      <th>FLIR: rango 3</th>\n",
       "      <th>FLIR: rango 4</th>\n",
       "      <th>FLIR: rango 5</th>\n",
       "      <th>FLIR: rango 6</th>\n",
       "      <th>FLIR: rango 7</th>\n",
       "      <th>FLIR: rango 8</th>\n",
       "      <th>FLIR: rango 9</th>\n",
       "      <th>moving average</th>\n",
       "      <th>moving std</th>\n",
       "    </tr>\n",
       "  </thead>\n",
       "  <tbody>\n",
       "    <tr>\n",
       "      <th>count</th>\n",
       "      <td>1557.000000</td>\n",
       "      <td>1557.000000</td>\n",
       "      <td>1557.000000</td>\n",
       "      <td>1557.000000</td>\n",
       "      <td>1557.000000</td>\n",
       "      <td>1557.000000</td>\n",
       "      <td>1557.000000</td>\n",
       "      <td>1557.000000</td>\n",
       "      <td>1557.000000</td>\n",
       "      <td>1557.000000</td>\n",
       "      <td>1557.000000</td>\n",
       "      <td>1557.000000</td>\n",
       "      <td>1557.000000</td>\n",
       "    </tr>\n",
       "    <tr>\n",
       "      <th>mean</th>\n",
       "      <td>785.181118</td>\n",
       "      <td>94162.901092</td>\n",
       "      <td>0.112485</td>\n",
       "      <td>0.120258</td>\n",
       "      <td>0.211461</td>\n",
       "      <td>0.182675</td>\n",
       "      <td>0.184660</td>\n",
       "      <td>0.087382</td>\n",
       "      <td>0.063736</td>\n",
       "      <td>0.033939</td>\n",
       "      <td>0.003378</td>\n",
       "      <td>94155.919717</td>\n",
       "      <td>469.647036</td>\n",
       "    </tr>\n",
       "    <tr>\n",
       "      <th>std</th>\n",
       "      <td>455.769516</td>\n",
       "      <td>20014.599567</td>\n",
       "      <td>0.085897</td>\n",
       "      <td>0.103205</td>\n",
       "      <td>0.164399</td>\n",
       "      <td>0.154823</td>\n",
       "      <td>0.228621</td>\n",
       "      <td>0.157622</td>\n",
       "      <td>0.146061</td>\n",
       "      <td>0.101394</td>\n",
       "      <td>0.016267</td>\n",
       "      <td>19989.444232</td>\n",
       "      <td>907.503220</td>\n",
       "    </tr>\n",
       "    <tr>\n",
       "      <th>min</th>\n",
       "      <td>0.000000</td>\n",
       "      <td>299.000000</td>\n",
       "      <td>0.015796</td>\n",
       "      <td>0.005306</td>\n",
       "      <td>0.005876</td>\n",
       "      <td>0.000030</td>\n",
       "      <td>0.000000</td>\n",
       "      <td>0.000000</td>\n",
       "      <td>0.000000</td>\n",
       "      <td>0.000000</td>\n",
       "      <td>0.000000</td>\n",
       "      <td>6333.500000</td>\n",
       "      <td>38.071816</td>\n",
       "    </tr>\n",
       "    <tr>\n",
       "      <th>25%</th>\n",
       "      <td>391.000000</td>\n",
       "      <td>95783.000000</td>\n",
       "      <td>0.032509</td>\n",
       "      <td>0.020066</td>\n",
       "      <td>0.038780</td>\n",
       "      <td>0.029736</td>\n",
       "      <td>0.000000</td>\n",
       "      <td>0.000000</td>\n",
       "      <td>0.000000</td>\n",
       "      <td>0.000000</td>\n",
       "      <td>0.000000</td>\n",
       "      <td>95764.000000</td>\n",
       "      <td>92.242586</td>\n",
       "    </tr>\n",
       "    <tr>\n",
       "      <th>50%</th>\n",
       "      <td>781.000000</td>\n",
       "      <td>101901.000000</td>\n",
       "      <td>0.085578</td>\n",
       "      <td>0.100824</td>\n",
       "      <td>0.189249</td>\n",
       "      <td>0.152571</td>\n",
       "      <td>0.043643</td>\n",
       "      <td>0.000000</td>\n",
       "      <td>0.000000</td>\n",
       "      <td>0.000000</td>\n",
       "      <td>0.000000</td>\n",
       "      <td>101891.500000</td>\n",
       "      <td>123.731405</td>\n",
       "    </tr>\n",
       "    <tr>\n",
       "      <th>75%</th>\n",
       "      <td>1180.000000</td>\n",
       "      <td>103825.000000</td>\n",
       "      <td>0.188446</td>\n",
       "      <td>0.195695</td>\n",
       "      <td>0.389261</td>\n",
       "      <td>0.331465</td>\n",
       "      <td>0.344386</td>\n",
       "      <td>0.103819</td>\n",
       "      <td>0.000000</td>\n",
       "      <td>0.000000</td>\n",
       "      <td>0.000000</td>\n",
       "      <td>103799.000000</td>\n",
       "      <td>220.558973</td>\n",
       "    </tr>\n",
       "    <tr>\n",
       "      <th>max</th>\n",
       "      <td>1578.000000</td>\n",
       "      <td>104805.000000</td>\n",
       "      <td>0.327759</td>\n",
       "      <td>0.354756</td>\n",
       "      <td>0.443221</td>\n",
       "      <td>0.450265</td>\n",
       "      <td>0.653564</td>\n",
       "      <td>0.575844</td>\n",
       "      <td>0.591025</td>\n",
       "      <td>0.527886</td>\n",
       "      <td>0.124881</td>\n",
       "      <td>104703.500000</td>\n",
       "      <td>5446.076358</td>\n",
       "    </tr>\n",
       "  </tbody>\n",
       "</table>\n",
       "</div>"
      ],
      "text/plain": [
       "       FLIR: tiempo     FLIR: area  FLIR: rango 1  FLIR: rango 2  \\\n",
       "count   1557.000000    1557.000000    1557.000000    1557.000000   \n",
       "mean     785.181118   94162.901092       0.112485       0.120258   \n",
       "std      455.769516   20014.599567       0.085897       0.103205   \n",
       "min        0.000000     299.000000       0.015796       0.005306   \n",
       "25%      391.000000   95783.000000       0.032509       0.020066   \n",
       "50%      781.000000  101901.000000       0.085578       0.100824   \n",
       "75%     1180.000000  103825.000000       0.188446       0.195695   \n",
       "max     1578.000000  104805.000000       0.327759       0.354756   \n",
       "\n",
       "       FLIR: rango 3  FLIR: rango 4  FLIR: rango 5  FLIR: rango 6  \\\n",
       "count    1557.000000    1557.000000    1557.000000    1557.000000   \n",
       "mean        0.211461       0.182675       0.184660       0.087382   \n",
       "std         0.164399       0.154823       0.228621       0.157622   \n",
       "min         0.005876       0.000030       0.000000       0.000000   \n",
       "25%         0.038780       0.029736       0.000000       0.000000   \n",
       "50%         0.189249       0.152571       0.043643       0.000000   \n",
       "75%         0.389261       0.331465       0.344386       0.103819   \n",
       "max         0.443221       0.450265       0.653564       0.575844   \n",
       "\n",
       "       FLIR: rango 7  FLIR: rango 8  FLIR: rango 9  moving average  \\\n",
       "count    1557.000000    1557.000000    1557.000000     1557.000000   \n",
       "mean        0.063736       0.033939       0.003378    94155.919717   \n",
       "std         0.146061       0.101394       0.016267    19989.444232   \n",
       "min         0.000000       0.000000       0.000000     6333.500000   \n",
       "25%         0.000000       0.000000       0.000000    95764.000000   \n",
       "50%         0.000000       0.000000       0.000000   101891.500000   \n",
       "75%         0.000000       0.000000       0.000000   103799.000000   \n",
       "max         0.591025       0.527886       0.124881   104703.500000   \n",
       "\n",
       "        moving std  \n",
       "count  1557.000000  \n",
       "mean    469.647036  \n",
       "std     907.503220  \n",
       "min      38.071816  \n",
       "25%      92.242586  \n",
       "50%     123.731405  \n",
       "75%     220.558973  \n",
       "max    5446.076358  "
      ]
     },
     "execution_count": 4,
     "metadata": {},
     "output_type": "execute_result"
    }
   ],
   "source": [
    "Experimentos[14].flir.describe()"
   ]
  },
  {
   "cell_type": "code",
   "execution_count": 5,
   "metadata": {
    "collapsed": true
   },
   "outputs": [],
   "source": [
    "numeropixeles = 1020100\n",
    "rho_manjar = 1340\n",
    "kilos_manjar = 2"
   ]
  },
  {
   "cell_type": "code",
   "execution_count": 6,
   "metadata": {
    "collapsed": false
   },
   "outputs": [
    {
     "name": "stderr",
     "output_type": "stream",
     "text": [
      "C:\\Users\\CCVV\\Anaconda3b\\lib\\site-packages\\ipykernel\\__main__.py:9: SettingWithCopyWarning: \n",
      "A value is trying to be set on a copy of a slice from a DataFrame\n",
      "\n",
      "See the caveats in the documentation: http://pandas.pydata.org/pandas-docs/stable/indexing.html#indexing-view-versus-copy\n"
     ]
    }
   ],
   "source": [
    "for exp in Experimentos:\n",
    "    if exp.flir is not None:\n",
    "        try:\n",
    "            exp.flir['area_m2'] = exp.flir['FLIR: area']/numeropixeles\n",
    "            exp.flir['volumen_emitido'] = exp.param['caudal'][0]*exp.flir['FLIR: tiempo']\n",
    "        except:\n",
    "            continue\n",
    "        volumen_total = kilos_manjar/rho_manjar\n",
    "        exp.flir['volumen_emitido'][exp.flir['volumen_emitido'] > volumen_total] = volumen_total\n",
    "        exp.flir['espesor'] = 3*exp.flir['volumen_emitido']/(2*exp.flir['area_m2'])"
   ]
  },
  {
   "cell_type": "code",
   "execution_count": 29,
   "metadata": {
    "collapsed": false
   },
   "outputs": [
    {
     "data": {
      "text/plain": [
       "[24.0,\n",
       " 27.377777777777776,\n",
       " 30.755555555555556,\n",
       " 34.133333333333333,\n",
       " 37.511111111111113,\n",
       " 40.888888888888886,\n",
       " 44.266666666666666,\n",
       " 47.644444444444446,\n",
       " 51.022222222222226,\n",
       " 54.399999999999999]"
      ]
     },
     "execution_count": 29,
     "metadata": {},
     "output_type": "execute_result"
    }
   ],
   "source": [
    "exp.get_ranges()"
   ]
  },
  {
   "cell_type": "code",
   "execution_count": 46,
   "metadata": {
    "collapsed": true
   },
   "outputs": [],
   "source": [
    "#FALTA: agregar rango de temperaturas a partir de archivo \"resumen general experimentos\":\n",
    "#(max-min)/rangos = salto temp\n",
    "#rangos=min+salto etc"
   ]
  },
  {
   "cell_type": "code",
   "execution_count": null,
   "metadata": {
    "collapsed": true
   },
   "outputs": [],
   "source": [
    "#FALTA: graficar tiempo en que prevalece cada rango de temperatura? y como relacionarlo a la velocidad"
   ]
  },
  {
   "cell_type": "code",
   "execution_count": 30,
   "metadata": {
    "collapsed": true
   },
   "outputs": [],
   "source": [
    "exp = Experimentos[30]"
   ]
  },
  {
   "cell_type": "code",
   "execution_count": 31,
   "metadata": {
    "collapsed": false
   },
   "outputs": [
    {
     "name": "stdout",
     "output_type": "stream",
     "text": [
      "['0.9536492014866595', '0.059804062054914814', '1.0332272690781028', '-0.7738854591314837', '0.6353865292881408', '0.6837549563979712', '0.5408321558488145']\n",
      "[[ inf  inf  inf  inf  inf  inf  inf]\n",
      " [ inf  inf  inf  inf  inf  inf  inf]\n",
      " [ inf  inf  inf  inf  inf  inf  inf]\n",
      " [ inf  inf  inf  inf  inf  inf  inf]\n",
      " [ inf  inf  inf  inf  inf  inf  inf]\n",
      " [ inf  inf  inf  inf  inf  inf  inf]\n",
      " [ inf  inf  inf  inf  inf  inf  inf]]\n"
     ]
    },
    {
     "name": "stderr",
     "output_type": "stream",
     "text": [
      "C:\\Users\\CCVV\\Anaconda3b\\lib\\site-packages\\scipy\\optimize\\minpack.py:715: OptimizeWarning: Covariance of the parameters could not be estimated\n",
      "  category=OptimizeWarning)\n"
     ]
    },
    {
     "data": {
      "text/plain": [
       "(0.63538652928814077,\n",
       " 0.68375495639797124,\n",
       " 0.5408321558488145,\n",
       " (-4.8117844353510897, -4.4228486291941369),\n",
       " (-2.5523293261054341, -2.9957322735539909))"
      ]
     },
     "execution_count": 31,
     "metadata": {},
     "output_type": "execute_result"
    }
   ],
   "source": [
    "Experimentos[6].get_closest_points_to_intersections()"
   ]
  },
  {
   "cell_type": "code",
   "execution_count": 32,
   "metadata": {
    "collapsed": false
   },
   "outputs": [],
   "source": [
    "for exp in Experimentos:\n",
    "    if exp.flir is not None:\n",
    "        try:\n",
    "            exp.flir['rango 1'] = exp.flir['FLIR: rango 1']+exp.flir['FLIR: rango 2']+exp.flir['FLIR: rango 3']\n",
    "            exp.flir['rango 2'] = exp.flir['FLIR: rango 4']+exp.flir['FLIR: rango 5']+exp.flir['FLIR: rango 6']\n",
    "            exp.flir['rango 3'] = exp.flir['FLIR: rango 7']+exp.flir['FLIR: rango 8']+exp.flir['FLIR: rango 9']\n",
    "\n",
    "        except:\n",
    "            continue\n",
    "#Experimentos[30].flir['rango 1'] = Experimentos[30].flir['FLIR: rango 1']+Experimentos[30].flir['FLIR: rango 2']+Experimentos[30].flir['FLIR: rango 3']\n",
    "#Experimentos[30].flir['rango 2'] = Experimentos[30].flir['FLIR: rango 4']+Experimentos[30].flir['FLIR: rango 5']+Experimentos[30].flir['FLIR: rango 6']\n",
    "#Experimentos[30].flir['rango 3'] = Experimentos[30].flir['FLIR: rango 7']+Experimentos[30].flir['FLIR: rango 8']+Experimentos[30].flir['FLIR: rango 9']\n"
   ]
  },
  {
   "cell_type": "code",
   "execution_count": 27,
   "metadata": {
    "collapsed": false
   },
   "outputs": [
    {
     "data": {
      "text/html": [
       "<div>\n",
       "<table border=\"1\" class=\"dataframe\">\n",
       "  <thead>\n",
       "    <tr style=\"text-align: right;\">\n",
       "      <th></th>\n",
       "      <th>FLIR: tiempo</th>\n",
       "      <th>FLIR: area</th>\n",
       "      <th>FLIR: rango 1</th>\n",
       "      <th>FLIR: rango 2</th>\n",
       "      <th>FLIR: rango 3</th>\n",
       "      <th>FLIR: rango 4</th>\n",
       "      <th>FLIR: rango 5</th>\n",
       "      <th>FLIR: rango 6</th>\n",
       "      <th>FLIR: rango 7</th>\n",
       "      <th>FLIR: rango 8</th>\n",
       "      <th>FLIR: rango 9</th>\n",
       "      <th>moving average</th>\n",
       "      <th>moving std</th>\n",
       "      <th>area_m2</th>\n",
       "      <th>volumen_emitido</th>\n",
       "      <th>espesor</th>\n",
       "      <th>rango 1</th>\n",
       "      <th>rango 2</th>\n",
       "      <th>rango 3</th>\n",
       "    </tr>\n",
       "  </thead>\n",
       "  <tbody>\n",
       "    <tr>\n",
       "      <th>count</th>\n",
       "      <td>1948.000000</td>\n",
       "      <td>1948.000000</td>\n",
       "      <td>1948.000000</td>\n",
       "      <td>1948.000000</td>\n",
       "      <td>1948.000000</td>\n",
       "      <td>1948.000000</td>\n",
       "      <td>1948.000000</td>\n",
       "      <td>1948.000000</td>\n",
       "      <td>1948.000000</td>\n",
       "      <td>1948.000000</td>\n",
       "      <td>1948.000000</td>\n",
       "      <td>1948.000000</td>\n",
       "      <td>1948.000000</td>\n",
       "      <td>1948.000000</td>\n",
       "      <td>1948.000000</td>\n",
       "      <td>1948.000000</td>\n",
       "      <td>1948.000000</td>\n",
       "      <td>1948.000000</td>\n",
       "      <td>1948.000000</td>\n",
       "    </tr>\n",
       "    <tr>\n",
       "      <th>mean</th>\n",
       "      <td>992.003080</td>\n",
       "      <td>87628.585216</td>\n",
       "      <td>0.157066</td>\n",
       "      <td>0.244931</td>\n",
       "      <td>0.322767</td>\n",
       "      <td>0.169875</td>\n",
       "      <td>0.061603</td>\n",
       "      <td>0.027425</td>\n",
       "      <td>0.007986</td>\n",
       "      <td>0.006875</td>\n",
       "      <td>0.001472</td>\n",
       "      <td>87629.097279</td>\n",
       "      <td>623.995370</td>\n",
       "      <td>0.085902</td>\n",
       "      <td>0.001435</td>\n",
       "      <td>0.025218</td>\n",
       "      <td>0.724764</td>\n",
       "      <td>0.258903</td>\n",
       "      <td>0.016333</td>\n",
       "    </tr>\n",
       "    <tr>\n",
       "      <th>std</th>\n",
       "      <td>578.671287</td>\n",
       "      <td>16461.360387</td>\n",
       "      <td>0.093808</td>\n",
       "      <td>0.178898</td>\n",
       "      <td>0.188563</td>\n",
       "      <td>0.230611</td>\n",
       "      <td>0.152577</td>\n",
       "      <td>0.100385</td>\n",
       "      <td>0.054138</td>\n",
       "      <td>0.059602</td>\n",
       "      <td>0.019609</td>\n",
       "      <td>16407.960061</td>\n",
       "      <td>2359.663421</td>\n",
       "      <td>0.016137</td>\n",
       "      <td>0.000233</td>\n",
       "      <td>0.002532</td>\n",
       "      <td>0.354230</td>\n",
       "      <td>0.342575</td>\n",
       "      <td>0.101643</td>\n",
       "    </tr>\n",
       "    <tr>\n",
       "      <th>min</th>\n",
       "      <td>0.000000</td>\n",
       "      <td>1666.000000</td>\n",
       "      <td>0.032709</td>\n",
       "      <td>0.009080</td>\n",
       "      <td>0.007050</td>\n",
       "      <td>0.000000</td>\n",
       "      <td>0.000000</td>\n",
       "      <td>0.000000</td>\n",
       "      <td>0.000000</td>\n",
       "      <td>0.000000</td>\n",
       "      <td>0.000000</td>\n",
       "      <td>8818.500000</td>\n",
       "      <td>75.340263</td>\n",
       "      <td>0.001633</td>\n",
       "      <td>0.000000</td>\n",
       "      <td>0.000000</td>\n",
       "      <td>0.054479</td>\n",
       "      <td>0.000000</td>\n",
       "      <td>0.000000</td>\n",
       "    </tr>\n",
       "    <tr>\n",
       "      <th>25%</th>\n",
       "      <td>488.750000</td>\n",
       "      <td>86830.500000</td>\n",
       "      <td>0.062744</td>\n",
       "      <td>0.069849</td>\n",
       "      <td>0.169897</td>\n",
       "      <td>0.000000</td>\n",
       "      <td>0.000000</td>\n",
       "      <td>0.000000</td>\n",
       "      <td>0.000000</td>\n",
       "      <td>0.000000</td>\n",
       "      <td>0.000000</td>\n",
       "      <td>86810.500000</td>\n",
       "      <td>126.767576</td>\n",
       "      <td>0.085120</td>\n",
       "      <td>0.001493</td>\n",
       "      <td>0.023728</td>\n",
       "      <td>0.436610</td>\n",
       "      <td>0.000000</td>\n",
       "      <td>0.000000</td>\n",
       "    </tr>\n",
       "    <tr>\n",
       "      <th>50%</th>\n",
       "      <td>987.500000</td>\n",
       "      <td>94123.000000</td>\n",
       "      <td>0.149057</td>\n",
       "      <td>0.232019</td>\n",
       "      <td>0.340263</td>\n",
       "      <td>0.005753</td>\n",
       "      <td>0.000000</td>\n",
       "      <td>0.000000</td>\n",
       "      <td>0.000000</td>\n",
       "      <td>0.000000</td>\n",
       "      <td>0.000000</td>\n",
       "      <td>94106.250000</td>\n",
       "      <td>166.148993</td>\n",
       "      <td>0.092268</td>\n",
       "      <td>0.001493</td>\n",
       "      <td>0.024203</td>\n",
       "      <td>0.994247</td>\n",
       "      <td>0.005753</td>\n",
       "      <td>0.000000</td>\n",
       "    </tr>\n",
       "    <tr>\n",
       "      <th>75%</th>\n",
       "      <td>1493.250000</td>\n",
       "      <td>96188.750000</td>\n",
       "      <td>0.242202</td>\n",
       "      <td>0.401451</td>\n",
       "      <td>0.476966</td>\n",
       "      <td>0.366491</td>\n",
       "      <td>0.000060</td>\n",
       "      <td>0.000000</td>\n",
       "      <td>0.000000</td>\n",
       "      <td>0.000000</td>\n",
       "      <td>0.000000</td>\n",
       "      <td>96165.000000</td>\n",
       "      <td>255.760055</td>\n",
       "      <td>0.094293</td>\n",
       "      <td>0.001493</td>\n",
       "      <td>0.026042</td>\n",
       "      <td>1.000000</td>\n",
       "      <td>0.506228</td>\n",
       "      <td>0.000000</td>\n",
       "    </tr>\n",
       "    <tr>\n",
       "      <th>max</th>\n",
       "      <td>1998.000000</td>\n",
       "      <td>97414.000000</td>\n",
       "      <td>0.587635</td>\n",
       "      <td>0.584223</td>\n",
       "      <td>0.624769</td>\n",
       "      <td>0.647803</td>\n",
       "      <td>0.817099</td>\n",
       "      <td>0.787302</td>\n",
       "      <td>0.610024</td>\n",
       "      <td>0.736516</td>\n",
       "      <td>0.315819</td>\n",
       "      <td>97111.000000</td>\n",
       "      <td>23362.983847</td>\n",
       "      <td>0.095495</td>\n",
       "      <td>0.001493</td>\n",
       "      <td>0.033482</td>\n",
       "      <td>1.000000</td>\n",
       "      <td>0.943460</td>\n",
       "      <td>0.835539</td>\n",
       "    </tr>\n",
       "  </tbody>\n",
       "</table>\n",
       "</div>"
      ],
      "text/plain": [
       "       FLIR: tiempo    FLIR: area  FLIR: rango 1  FLIR: rango 2  \\\n",
       "count   1948.000000   1948.000000    1948.000000    1948.000000   \n",
       "mean     992.003080  87628.585216       0.157066       0.244931   \n",
       "std      578.671287  16461.360387       0.093808       0.178898   \n",
       "min        0.000000   1666.000000       0.032709       0.009080   \n",
       "25%      488.750000  86830.500000       0.062744       0.069849   \n",
       "50%      987.500000  94123.000000       0.149057       0.232019   \n",
       "75%     1493.250000  96188.750000       0.242202       0.401451   \n",
       "max     1998.000000  97414.000000       0.587635       0.584223   \n",
       "\n",
       "       FLIR: rango 3  FLIR: rango 4  FLIR: rango 5  FLIR: rango 6  \\\n",
       "count    1948.000000    1948.000000    1948.000000    1948.000000   \n",
       "mean        0.322767       0.169875       0.061603       0.027425   \n",
       "std         0.188563       0.230611       0.152577       0.100385   \n",
       "min         0.007050       0.000000       0.000000       0.000000   \n",
       "25%         0.169897       0.000000       0.000000       0.000000   \n",
       "50%         0.340263       0.005753       0.000000       0.000000   \n",
       "75%         0.476966       0.366491       0.000060       0.000000   \n",
       "max         0.624769       0.647803       0.817099       0.787302   \n",
       "\n",
       "       FLIR: rango 7  FLIR: rango 8  FLIR: rango 9  moving average  \\\n",
       "count    1948.000000    1948.000000    1948.000000     1948.000000   \n",
       "mean        0.007986       0.006875       0.001472    87629.097279   \n",
       "std         0.054138       0.059602       0.019609    16407.960061   \n",
       "min         0.000000       0.000000       0.000000     8818.500000   \n",
       "25%         0.000000       0.000000       0.000000    86810.500000   \n",
       "50%         0.000000       0.000000       0.000000    94106.250000   \n",
       "75%         0.000000       0.000000       0.000000    96165.000000   \n",
       "max         0.610024       0.736516       0.315819    97111.000000   \n",
       "\n",
       "         moving std      area_m2  volumen_emitido      espesor      rango 1  \\\n",
       "count   1948.000000  1948.000000      1948.000000  1948.000000  1948.000000   \n",
       "mean     623.995370     0.085902         0.001435     0.025218     0.724764   \n",
       "std     2359.663421     0.016137         0.000233     0.002532     0.354230   \n",
       "min       75.340263     0.001633         0.000000     0.000000     0.054479   \n",
       "25%      126.767576     0.085120         0.001493     0.023728     0.436610   \n",
       "50%      166.148993     0.092268         0.001493     0.024203     0.994247   \n",
       "75%      255.760055     0.094293         0.001493     0.026042     1.000000   \n",
       "max    23362.983847     0.095495         0.001493     0.033482     1.000000   \n",
       "\n",
       "           rango 2      rango 3  \n",
       "count  1948.000000  1948.000000  \n",
       "mean      0.258903     0.016333  \n",
       "std       0.342575     0.101643  \n",
       "min       0.000000     0.000000  \n",
       "25%       0.000000     0.000000  \n",
       "50%       0.005753     0.000000  \n",
       "75%       0.506228     0.000000  \n",
       "max       0.943460     0.835539  "
      ]
     },
     "execution_count": 27,
     "metadata": {},
     "output_type": "execute_result"
    }
   ],
   "source": [
    "Experimentos[30].flir.describe()"
   ]
  },
  {
   "cell_type": "code",
   "execution_count": 7,
   "metadata": {
    "collapsed": false
   },
   "outputs": [
    {
     "name": "stdout",
     "output_type": "stream",
     "text": [
      "['pat1', 'pat2', 'pat3', 'pat4', 'pat5', 'pat6', 'pat7']\n"
     ]
    }
   ],
   "source": [
    "#GENERA PATCHES DE COLORES SEGUN TEMPERATURA\n",
    "import matplotlib.patches as mpatches\n",
    "\n",
    "pat1 = mpatches.Patch(color='C1', label='temp < 40')\n",
    "pat2 = mpatches.Patch(color='C2', label='temp < 45')\n",
    "pat3 = mpatches.Patch(color='C3', label='temp < 50')\n",
    "pat4 = mpatches.Patch(color='C4', label='temp < 55')\n",
    "pat5 = mpatches.Patch(color='C5', label='temp < 60')\n",
    "pat6 = mpatches.Patch(color='C6', label='temp < 65')\n",
    "pat7 = mpatches.Patch(color='C7', label='temp < 70')\n",
    "\n",
    "numerocolores = 7\n",
    "colors = ['pat{}'.format(i+1) for i in range(numerocolores)]\n",
    "\n",
    "print(colors)"
   ]
  },
  {
   "cell_type": "code",
   "execution_count": 8,
   "metadata": {
    "collapsed": false
   },
   "outputs": [],
   "source": [
    "#LISTA para ESPESOR vs TIEMPO\n",
    "listaporcaudal = []\n",
    "\n",
    "for exp in Experimentos:\n",
    "    if exp.flir is not None:\n",
    "        try:\n",
    "            holder = {} #es un diccionario \n",
    "            holder['nombre'] = exp.param['NOMBRE'][0]#solo el valor de la primera fila\n",
    "            holder['espesor'] = exp.flir['espesor']#toda la columna\n",
    "            holder['tiempo'] = exp.flir['FLIR: tiempo']#toda la columna\n",
    "            holder['caudal'] = exp.param['caudal'][0]#solo el valor de la primera fila\n",
    "            holder['angulo'] = exp.param['angulo inclinacion'][0]\n",
    "            holder['uso'] = exp.param['uso manjar'][0]\n",
    "\n",
    "            listaporcaudal.append(holder)\n",
    "        except Exception as e:\n",
    "            print(e)"
   ]
  },
  {
   "cell_type": "code",
   "execution_count": 38,
   "metadata": {
    "collapsed": false
   },
   "outputs": [],
   "source": [
    "#for exp in Experimentos:\n",
    "#    print(exp.flir['espesor'] if exp.flir is not None else None)"
   ]
  },
  {
   "cell_type": "code",
   "execution_count": 9,
   "metadata": {
    "collapsed": false,
    "scrolled": true
   },
   "outputs": [
    {
     "name": "stdout",
     "output_type": "stream",
     "text": [
      "1e-06\n",
      "5e-06\n",
      "1e-05\n",
      "1.7e-05\n",
      "2.5e-05\n"
     ]
    }
   ],
   "source": [
    "#crear GRUPOS segun CAUDAL\n",
    "from itertools import groupby\n",
    "count = 0\n",
    "\n",
    "#key es la lista donde estan los diccionarios de exp y DF\n",
    "#group es que se agrupa segun el valor de 'caudal' en este caso\n",
    "\n",
    "for key, group in groupby(sorted(listaporcaudal, key=lambda x: x['caudal']), key=lambda x: x['caudal']):\n",
    "    print(key)\n",
    "    count += 1\n",
    "    #for exp in group:\n",
    "        #muestra el nombre del grupo y los elementos que tiene\n",
    "        #print(exp['nombre']) "
   ]
  },
  {
   "cell_type": "code",
   "execution_count": 19,
   "metadata": {
    "collapsed": false,
    "scrolled": true
   },
   "outputs": [
    {
     "name": "stdout",
     "output_type": "stream",
     "text": [
      "1e-06\n",
      "5e-06\n",
      "1e-05\n",
      "1.7e-05\n",
      "2.5e-05\n"
     ]
    }
   ],
   "source": [
    "#ESPESOR vs TIEMPO agrupados por caudales\n",
    "fig = plt.figure()\n",
    "axes = [fig.add_subplot(3,2,i+1) for i in range(count)]\n",
    "counter = 0\n",
    "\n",
    "for key, group in groupby(sorted(listaporcaudal, key=lambda x: x['caudal']), key=lambda x: x['caudal']):\n",
    "    print(key)\n",
    "    c = 0\n",
    "    ax = axes[counter]\n",
    "    #ax.set_xlim(minimoejelargo, maximoejelargo)\n",
    "    #ax.set_ylim(0, maximoejeespesor)\n",
    "    ax.set_title('{}cc'.format(key*1000000))\n",
    "    counter += 1\n",
    "    linea1= ax.plot([],[], label='15°', linestyle='--', color='black')\n",
    "    linea2= ax.plot([],[], label='10°', color='black')\n",
    "    \n",
    "    for exp in group:\n",
    "        #print(\"C{}\".format(exp[\"rango temperatura\"]))\n",
    "        #if exp['uso'] == 1:\n",
    "            c = c + 1\n",
    "            if exp['angulo'] == 15:\n",
    "                ax.plot(exp['tiempo'], exp['espesor'], linestyle= '--')\n",
    "            else:\n",
    "                ax.plot(exp['tiempo'], exp['espesor'], label = '')\n",
    "        \n",
    "legend1 = plt.legend(handles=[pat1, pat2, pat3, pat4, pat5, pat6, pat7], bbox_to_anchor=(1.8, 0.5), loc=5)\n",
    "plt.legend(bbox_to_anchor=(1.8, 0.5), loc=6)\n",
    "plt.gca().add_artist(legend1)\n",
    "fig.show()"
   ]
  },
  {
   "cell_type": "code",
   "execution_count": 20,
   "metadata": {
    "collapsed": true
   },
   "outputs": [],
   "source": [
    "#LISTA para AREA vs TIEMPO\n",
    "otralistaporcaudal = []\n",
    "\n",
    "for exp in Experimentos:\n",
    "    if exp.flir is not None:\n",
    "        try:\n",
    "            holder = {} #es un diccionario \n",
    "            holder['nombre'] = exp.param['NOMBRE'][0]#solo el valor de la primera fila\n",
    "            holder['area'] = exp.flir['area_m2']#toda la columna\n",
    "            holder['tiempo'] = exp.flir['FLIR: tiempo']#toda la columna\n",
    "            holder['caudal'] = exp.param['caudal'][0]#solo el valor de la primera fila\n",
    "            holder['angulo'] = exp.param['angulo inclinacion'][0]\n",
    "            holder['uso'] = exp.param['uso manjar'][0]\n",
    "\n",
    "            otralistaporcaudal.append(holder)\n",
    "        except:\n",
    "            continue"
   ]
  },
  {
   "cell_type": "code",
   "execution_count": 23,
   "metadata": {
    "collapsed": false
   },
   "outputs": [
    {
     "name": "stdout",
     "output_type": "stream",
     "text": [
      "1e-06\n",
      "5e-06\n",
      "1e-05\n",
      "1.7e-05\n",
      "2.5e-05\n"
     ]
    }
   ],
   "source": [
    "#AREA vs TIEMPO agrupados por caudales\n",
    "fig = plt.figure()\n",
    "axes = [fig.add_subplot(3,2,i+1) for i in range(count)]\n",
    "counter = 0\n",
    "\n",
    "for key, group in groupby(sorted(otralistaporcaudal, key=lambda x: x['caudal']), key=lambda x: x['caudal']):\n",
    "    print(key)\n",
    "    ax = axes[counter]\n",
    "    #ax.set_xlim(minimoejelargo, maximoejelargo)\n",
    "    #ax.set_ylim(0, maximoejeespesor)\n",
    "    ax.set_title('{}cc'.format(key*1000000))\n",
    "    counter += 1\n",
    "    \n",
    "    for exp in group:\n",
    "        ax.plot(exp['tiempo'], exp['area'])\n",
    "        \n",
    "legend1 = plt.legend(handles=[pat1, pat2, pat3, pat4, pat5, pat6, pat7], bbox_to_anchor=(1.8, 0.5), loc=5)\n",
    "#plt.legend(bbox_to_anchor=(1.8, 0.5), loc=6)\n",
    "plt.gca().add_artist(legend1)\n",
    "fig.show()"
   ]
  },
  {
   "cell_type": "code",
   "execution_count": 13,
   "metadata": {
    "collapsed": true
   },
   "outputs": [],
   "source": [
    "for k, g in groupby(sorted(otralistaporcaudal, key=lambda x: x['caudal']), key=lambda x: x['caudal']):\n",
    "    print(k, g)"
   ]
  }
 ],
 "metadata": {
  "anaconda-cloud": {},
  "kernelspec": {
   "display_name": "Python [conda root]",
   "language": "python",
   "name": "conda-root-py"
  },
  "language_info": {
   "codemirror_mode": {
    "name": "ipython",
    "version": 3
   },
   "file_extension": ".py",
   "mimetype": "text/x-python",
   "name": "python",
   "nbconvert_exporter": "python",
   "pygments_lexer": "ipython3",
   "version": "3.5.2"
  }
 },
 "nbformat": 4,
 "nbformat_minor": 1
}
