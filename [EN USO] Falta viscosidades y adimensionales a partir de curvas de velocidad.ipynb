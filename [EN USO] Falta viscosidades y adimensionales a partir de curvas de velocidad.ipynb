{
 "cells": [
  {
   "cell_type": "code",
   "execution_count": 1,
   "metadata": {
    "collapsed": false
   },
   "outputs": [
    {
     "name": "stdout",
     "output_type": "stream",
     "text": [
      "Using matplotlib backend: Qt5Agg\n"
     ]
    }
   ],
   "source": [
    "import pandas as pd\n",
    "import os\n",
    "import csv\n",
    "import numpy as np\n",
    "from scipy import stats\n",
    "from matplotlib import pyplot as plt\n",
    "%matplotlib"
   ]
  },
  {
   "cell_type": "code",
   "execution_count": 2,
   "metadata": {
    "collapsed": false
   },
   "outputs": [
    {
     "name": "stdout",
     "output_type": "stream",
     "text": [
      "[Errno 2] No such file or directory: '.\\\\Data\\\\5cc50C - flir.csv'\n",
      "[Errno 2] No such file or directory: '.\\\\Data\\\\1cc54C - flir.csv'\n",
      "[Errno 2] No such file or directory: '.\\\\Data\\\\25cc54C - flir.csv'\n",
      "[Errno 2] No such file or directory: '.\\\\Data\\\\10cc60C - flir.csv'\n",
      "[Errno 2] No such file or directory: '.\\\\Data\\\\25cc60C - flir.csv'\n",
      "[Errno 2] No such file or directory: '.\\\\Data\\\\1cc59C - flir.csv'\n",
      "[Errno 2] No such file or directory: '.\\\\Data\\\\5cc63C - flir.csv'\n",
      "[Errno 2] No such file or directory: '.\\\\Data\\\\25cc62C - flir.csv'\n",
      "[Errno 2] No such file or directory: '.\\\\Data\\\\1cc62C - flir.csv'\n",
      "[Errno 2] No such file or directory: '.\\\\Data\\\\1cc24C - flir.csv'\n",
      "[Errno 2] No such file or directory: '.\\\\Data\\\\10cc24C - flir.csv'\n"
     ]
    }
   ],
   "source": [
    "from Experimentos import Experimentos"
   ]
  },
  {
   "cell_type": "code",
   "execution_count": 3,
   "metadata": {
    "collapsed": false
   },
   "outputs": [
    {
     "name": "stdout",
     "output_type": "stream",
     "text": [
      "0 5cc50C.csv False\n",
      "1 1cc54C.csv False\n",
      "2 25cc54C.csv False\n",
      "3 10cc60C.csv False\n",
      "4 25cc60C.csv False\n",
      "5 1cc59C.csv False\n",
      "6 1cc47C.csv True\n",
      "7 1cc55C.csv True\n",
      "8 25cc58C.csv True\n",
      "9 25cc70C.csv True\n",
      "10 10cc67C.csv True\n",
      "11 10cc59C.csv True\n",
      "12 5cc63C.csv False\n",
      "13 5cc59C.csv True\n",
      "14 10cc49C.csv True\n",
      "15 25cc62C.csv False\n",
      "16 1cc62C.csv False\n",
      "17 5cc53C.csv True\n",
      "18 5a25cc56C.csv True\n",
      "19 5cc57C.csv True\n",
      "20 25cc50C.csv True\n",
      "21 10cc55C.csv True\n",
      "22 1cc24C.csv False\n",
      "23 10cc57C.csv True\n",
      "24 10cc24C.csv False\n",
      "25 5cc55C.csv True\n",
      "26 5cc58C.csv True\n",
      "27 1cc48C.csv True\n",
      "28 1cc51C.csv True\n",
      "29 5cc48C.csv True\n",
      "30 10cc50C.csv True\n",
      "31 1cc54,7C.csv True\n",
      "32 1cc52C.csv True\n"
     ]
    }
   ],
   "source": [
    "for i, exp in enumerate(Experimentos):\n",
    "    print(i, exp, (exp.flir is not None))"
   ]
  },
  {
   "cell_type": "code",
   "execution_count": 4,
   "metadata": {
    "collapsed": true
   },
   "outputs": [],
   "source": [
    "#calcular velocidades, numero de puntos de quiebre, coordenadas punto quiebre, viscosidades asociadas a velocidades\n",
    "#guardar\n",
    "exp = Experimentos[30]"
   ]
  },
  {
   "cell_type": "code",
   "execution_count": 5,
   "metadata": {
    "collapsed": false
   },
   "outputs": [
    {
     "data": {
      "text/plain": [
       "[26.0,\n",
       " 28.777777777777779,\n",
       " 31.555555555555557,\n",
       " 34.333333333333329,\n",
       " 37.111111111111114,\n",
       " 39.888888888888886,\n",
       " 42.666666666666664,\n",
       " 45.444444444444443,\n",
       " 48.222222222222221,\n",
       " 51.0]"
      ]
     },
     "execution_count": 5,
     "metadata": {},
     "output_type": "execute_result"
    }
   ],
   "source": []
  }
 ],
 "metadata": {
  "anaconda-cloud": {},
  "kernelspec": {
   "display_name": "Python [conda root]",
   "language": "python",
   "name": "conda-root-py"
  },
  "language_info": {
   "codemirror_mode": {
    "name": "ipython",
    "version": 3
   },
   "file_extension": ".py",
   "mimetype": "text/x-python",
   "name": "python",
   "nbconvert_exporter": "python",
   "pygments_lexer": "ipython3",
   "version": "3.5.2"
  }
 },
 "nbformat": 4,
 "nbformat_minor": 1
}
