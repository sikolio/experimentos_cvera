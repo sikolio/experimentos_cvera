{
 "cells": [
  {
   "cell_type": "code",
   "execution_count": 1,
   "metadata": {
    "collapsed": false
   },
   "outputs": [
    {
     "name": "stdout",
     "output_type": "stream",
     "text": [
      "Using matplotlib backend: Qt5Agg\n"
     ]
    }
   ],
   "source": [
    "import pandas as pd\n",
    "import os\n",
    "import csv\n",
    "import numpy as np\n",
    "from matplotlib import pyplot as plt\n",
    "%matplotlib"
   ]
  },
  {
   "cell_type": "code",
   "execution_count": null,
   "metadata": {
    "collapsed": false
   },
   "outputs": [],
   "source": [
    "import platform\n",
    "print(platform.python_version())"
   ]
  },
  {
   "cell_type": "code",
   "execution_count": null,
   "metadata": {
    "collapsed": true
   },
   "outputs": [],
   "source": [
    "from scipy.interpolate import UnivariateSpline\n",
    "from scipy.optimize import curve_fit\n",
    "from scipy import interpolate, optimize"
   ]
  },
  {
   "cell_type": "code",
   "execution_count": null,
   "metadata": {
    "collapsed": true
   },
   "outputs": [],
   "source": [
    "#lectura de archivos\n",
    "file_endings = ['.csv', ' - dinamica.csv', ' - perfil.csv', ' - flir.csv']\n",
    "\n",
    "#Experimento es una lista que guarda todos los experimentos y accede a los DF que son los definidos en file_endings\n",
    "class Experimento(object):\n",
    "    def __init__(self, filename):\n",
    "        self.files = ['{}{}'.format(filename, file_ending) for file_ending in file_endings]\n",
    "            \n",
    "        pandas_settings = {\n",
    "            'delimiter': ';',\n",
    "            'thousands': '.',\n",
    "            'decimal': ',',\n",
    "            'engine': 'python',\n",
    "        }\n",
    "        #se definen los 4 DF param, dinamica, perfil y flir.\n",
    "        self.param = pd.read_csv(self.files[0], **pandas_settings)\n",
    "        self.dinamica = pd.read_csv(self.files[1], **pandas_settings)\n",
    "        self.perfil = pd.read_csv(self.files[2], **pandas_settings)\n",
    "    #    self.flir = pd.read_csv(self.files[3], **pandas_settings)\n",
    "        \n",
    "        #paso los resultados de dinamica a param para poder usarlos facilmente\n",
    "        self.param['result: largo final'] = self.dinamica['avance: distancia desde punto eyeccion'].iloc[-1]\n",
    "        self.param['result: largo total'] = self.dinamica['avance: largo total flujo'].iloc[-1]\n",
    "        self.param['result: ancho max final'] = self.dinamica['avance: ancho maximo'].iloc[-1]\n",
    "        self.param['result: espesor max final'] = self.perfil['perfil: espesor'].max()\n",
    "        self.param['result: distancia espesor final'] = self.perfil['perfil: largo'].iloc[self.perfil['perfil: espesor'].argmax()]\n",
    "        \n",
    "    #se guarda el nuevo archivo con los datos sacados de distintos DF  \n",
    "    def to_csvs(self, safe=False):\n",
    "        if safe:\n",
    "            try:\n",
    "                for file in self.files:\n",
    "                    os.rename(file, '{}.old'.format(file))\n",
    "            except Exception as e:\n",
    "                print('The files already exists', e)\n",
    "                return\n",
    "        else:\n",
    "            for file in self.files:\n",
    "                os.remove(file)\n",
    "        \n",
    "        self.param.to_csv(self.files[0], sep=';')\n",
    "        self.dinamica.to_csv(self.files[1], sep=';')\n",
    "        self.perfil.to_csv(self.files[2], sep=';')\n",
    " #       self.flir.to_csv(self.files[3], sep=';')\n",
    "    #a ver si ya se ha hecho este proceso con los archivos y generar una version .old    \n",
    "    def undone(self):\n",
    "        for file in self.files:\n",
    "            os.rename('{}.old'.format(file), file)\n",
    "    \n",
    "    #funcion para generar rectas segun x datos de DF dinamica\n",
    "    def fit_to_two_curves(self):\n",
    "        def two_lines(x, a, b, c, d):\n",
    "            one = a*x + b\n",
    "            two = c*x + d\n",
    "            return np.maximum(one, two)\n",
    "        \n",
    "        x = np.array(self.dinamica['avance: tiempo'])\n",
    "        y = np.array(self.dinamica['avance: largo total'])\n",
    "    \n",
    "    #no entiendo pa que wea sirve esta funcion...claramente es un plot de desglose, pero pa que? esos datos meh.\n",
    "    def plot_desglose(self, param1, param2):\n",
    "        fig = plt.figure()\n",
    "        ax = fig.add_subplot(1,1,1)\n",
    "\n",
    "        ax.plot(self.flir['FLIR: rango 3'], self.flir['FLIR: rango 4'])\n",
    "        fig.show()\n",
    "        \n",
    "    def __repr__(self):\n",
    "        return self.files[0]\n",
    "        \n",
    "    def __str__(self):\n",
    "        return self.files[0]"
   ]
  },
  {
   "cell_type": "code",
   "execution_count": 66,
   "metadata": {
    "collapsed": false
   },
   "outputs": [],
   "source": [
    "#lista con los nombres de los experimentos\n",
    "nameList = [\n",
    "        '5cc50C',\n",
    "        '1cc54C',\n",
    "        '25cc54C',\n",
    "        '10cc60C',\n",
    "        '25cc60C',\n",
    "        '1cc59C',\n",
    "        '1cc47C',\n",
    "        '1cc55C',\n",
    "        '25cc58C',\n",
    "        '25cc70C',\n",
    "        '10cc67C',\n",
    "        '10cc59C',\n",
    "        '5cc63C',\n",
    "        '5cc59C',\n",
    "        '10cc49C',\n",
    "        '25cc62C',\n",
    "        '1cc62C',\n",
    "        '5cc53C',\n",
    "        '5a25cc56C',\n",
    "        '5cc57C',\n",
    "        '25cc50C',\n",
    "        '10cc55C',\n",
    "        '1cc24C',\n",
    "        '10cc57C',\n",
    "        '10cc24C',\n",
    "        '5cc55C',\n",
    "        '5cc58C',\n",
    "        '1cc48C',\n",
    "        '1cc51C',\n",
    "        '5cc48C',\n",
    "        '10cc50C',\n",
    "        '1cc54,7C',\n",
    "        '1cc52C',\n",
    "\n",
    "]"
   ]
  },
  {
   "cell_type": "code",
   "execution_count": 67,
   "metadata": {
    "collapsed": true
   },
   "outputs": [],
   "source": [
    "Experimentos = [Experimento(filename) for filename in nameList]"
   ]
  },
  {
   "cell_type": "code",
   "execution_count": 69,
   "metadata": {
    "collapsed": false
   },
   "outputs": [
    {
     "data": {
      "text/plain": [
       "5cc58C.csv"
      ]
     },
     "execution_count": 69,
     "metadata": {},
     "output_type": "execute_result"
    }
   ],
   "source": [
    "Experimentos[2]"
   ]
  },
  {
   "cell_type": "code",
   "execution_count": 70,
   "metadata": {
    "collapsed": true
   },
   "outputs": [],
   "source": [
    "exp1 = Experimentos[0]\n",
    "exp2 = Experimentos[1]\n",
    "exp3 = Experimentos[2]\n",
    "exp4 = Experimentos[3]"
   ]
  },
  {
   "cell_type": "code",
   "execution_count": 71,
   "metadata": {
    "collapsed": false
   },
   "outputs": [
    {
     "data": {
      "text/html": [
       "<div>\n",
       "<table border=\"1\" class=\"dataframe\">\n",
       "  <thead>\n",
       "    <tr style=\"text-align: right;\">\n",
       "      <th></th>\n",
       "      <th>Unnamed: 0</th>\n",
       "      <th>Nombre exp</th>\n",
       "      <th>fecha</th>\n",
       "      <th>exp #</th>\n",
       "      <th>uso manjar #</th>\n",
       "      <th>caudal</th>\n",
       "      <th>temperatura maxima</th>\n",
       "      <th>temperatura ambiente</th>\n",
       "      <th>angulo inclinacion</th>\n",
       "      <th>densidad manjar (t ambiente)</th>\n",
       "      <th>...</th>\n",
       "      <th>result: largo final desde punto eyeccion</th>\n",
       "      <th>result: largo total</th>\n",
       "      <th>result: ancho maximo final</th>\n",
       "      <th>result: tiempo total medicion</th>\n",
       "      <th>result: espesor maximo</th>\n",
       "      <th>result: distancia a espesor maximo</th>\n",
       "      <th>result: largo final</th>\n",
       "      <th>result: ancho max final</th>\n",
       "      <th>result: espesor max final</th>\n",
       "      <th>result: distancia espesor final</th>\n",
       "    </tr>\n",
       "  </thead>\n",
       "  <tbody>\n",
       "    <tr>\n",
       "      <th>0</th>\n",
       "      <td>0</td>\n",
       "      <td>1cc51C</td>\n",
       "      <td>29/09/2016</td>\n",
       "      <td>29</td>\n",
       "      <td>2</td>\n",
       "      <td>0.000001</td>\n",
       "      <td>51</td>\n",
       "      <td>24.7</td>\n",
       "      <td>10.4</td>\n",
       "      <td>1240</td>\n",
       "      <td>...</td>\n",
       "      <td>NaN</td>\n",
       "      <td>0.398</td>\n",
       "      <td>NaN</td>\n",
       "      <td>54208.68333</td>\n",
       "      <td>0.019</td>\n",
       "      <td>0.2</td>\n",
       "      <td>0.33</td>\n",
       "      <td>0.285</td>\n",
       "      <td>0.019</td>\n",
       "      <td>0.2</td>\n",
       "    </tr>\n",
       "  </tbody>\n",
       "</table>\n",
       "<p>1 rows × 23 columns</p>\n",
       "</div>"
      ],
      "text/plain": [
       "   Unnamed: 0 Nombre exp       fecha  exp #  uso manjar #   caudal   \\\n",
       "0           0     1cc51C  29/09/2016     29             2  0.000001   \n",
       "\n",
       "   temperatura maxima  temperatura ambiente  angulo inclinacion  \\\n",
       "0                  51                  24.7                10.4   \n",
       "\n",
       "   densidad manjar (t ambiente)               ...                 \\\n",
       "0                          1240               ...                  \n",
       "\n",
       "   result: largo final desde punto eyeccion result: largo total  \\\n",
       "0                                       NaN               0.398   \n",
       "\n",
       "   result: ancho maximo final  result: tiempo total medicion  \\\n",
       "0                         NaN                    54208.68333   \n",
       "\n",
       "   result: espesor maximo  result: distancia a espesor maximo  \\\n",
       "0                   0.019                                 0.2   \n",
       "\n",
       "   result: largo final  result: ancho max final  result: espesor max final  \\\n",
       "0                 0.33                    0.285                      0.019   \n",
       "\n",
       "   result: distancia espesor final  \n",
       "0                              0.2  \n",
       "\n",
       "[1 rows x 23 columns]"
      ]
     },
     "execution_count": 71,
     "metadata": {},
     "output_type": "execute_result"
    }
   ],
   "source": [
    "Experimentos[0].param.head() #imprime las primeras 5 filas del exp 0 "
   ]
  },
  {
   "cell_type": "code",
   "execution_count": 72,
   "metadata": {
    "collapsed": false
   },
   "outputs": [
    {
     "data": {
      "text/html": [
       "<div>\n",
       "<table border=\"1\" class=\"dataframe\">\n",
       "  <thead>\n",
       "    <tr style=\"text-align: right;\">\n",
       "      <th></th>\n",
       "      <th>Unnamed: 0</th>\n",
       "      <th>avance: tiempo</th>\n",
       "      <th>avance: distancia desde punto eyeccion</th>\n",
       "      <th>avance: distancia hacia atrás</th>\n",
       "      <th>avance: largo total flujo</th>\n",
       "      <th>avance: ancho maximo</th>\n",
       "    </tr>\n",
       "  </thead>\n",
       "  <tbody>\n",
       "    <tr>\n",
       "      <th>0</th>\n",
       "      <td>0</td>\n",
       "      <td>0.000000</td>\n",
       "      <td>0.00</td>\n",
       "      <td>0.000</td>\n",
       "      <td>0.000</td>\n",
       "      <td>0.000</td>\n",
       "    </tr>\n",
       "    <tr>\n",
       "      <th>1</th>\n",
       "      <td>1</td>\n",
       "      <td>24.350000</td>\n",
       "      <td>0.01</td>\n",
       "      <td>0.015</td>\n",
       "      <td>0.025</td>\n",
       "      <td>0.050</td>\n",
       "    </tr>\n",
       "    <tr>\n",
       "      <th>2</th>\n",
       "      <td>2</td>\n",
       "      <td>38.516667</td>\n",
       "      <td>0.02</td>\n",
       "      <td>0.020</td>\n",
       "      <td>0.040</td>\n",
       "      <td>0.060</td>\n",
       "    </tr>\n",
       "    <tr>\n",
       "      <th>3</th>\n",
       "      <td>3</td>\n",
       "      <td>53.683333</td>\n",
       "      <td>0.03</td>\n",
       "      <td>0.025</td>\n",
       "      <td>0.055</td>\n",
       "      <td>0.070</td>\n",
       "    </tr>\n",
       "    <tr>\n",
       "      <th>4</th>\n",
       "      <td>4</td>\n",
       "      <td>74.850000</td>\n",
       "      <td>0.04</td>\n",
       "      <td>0.027</td>\n",
       "      <td>0.067</td>\n",
       "      <td>0.082</td>\n",
       "    </tr>\n",
       "  </tbody>\n",
       "</table>\n",
       "</div>"
      ],
      "text/plain": [
       "   Unnamed: 0  avance: tiempo  avance: distancia desde punto eyeccion  \\\n",
       "0           0        0.000000                                    0.00   \n",
       "1           1       24.350000                                    0.01   \n",
       "2           2       38.516667                                    0.02   \n",
       "3           3       53.683333                                    0.03   \n",
       "4           4       74.850000                                    0.04   \n",
       "\n",
       "   avance: distancia hacia atrás  avance: largo total flujo  \\\n",
       "0                          0.000                      0.000   \n",
       "1                          0.015                      0.025   \n",
       "2                          0.020                      0.040   \n",
       "3                          0.025                      0.055   \n",
       "4                          0.027                      0.067   \n",
       "\n",
       "   avance: ancho maximo  \n",
       "0                 0.000  \n",
       "1                 0.050  \n",
       "2                 0.060  \n",
       "3                 0.070  \n",
       "4                 0.082  "
      ]
     },
     "execution_count": 72,
     "metadata": {},
     "output_type": "execute_result"
    }
   ],
   "source": [
    "Experimentos[0].dinamica.head()"
   ]
  },
  {
   "cell_type": "code",
   "execution_count": 73,
   "metadata": {
    "collapsed": true
   },
   "outputs": [],
   "source": [
    "#lista para armar graficos de perfil agrupados por caudal\n",
    "listapalplot = []\n",
    "#no entiendo como la lista guarda las cosas del diccionario...\n",
    "#es una lista donde en cada value hay un diccionario por experimento\n",
    "#ANOTAR EN UNA HOJA COMO SE VE Y USA ESTO PLS\n",
    "for exp in Experimentos:\n",
    "    holder = {} #es un diccionario \n",
    "    holder['nombre'] = exp.param['Nombre exp'][0]#solo el valor de la primera fila\n",
    "    holder['espesor'] = exp.perfil['perfil: espesor']#toda la columna\n",
    "    holder['largo'] = exp.perfil['perfil: largo']#toda la columna\n",
    "    holder['caudal'] = exp.param['caudal '][0]#solo el valor de la primera fila\n",
    "    listapalplot.append(holder)"
   ]
  },
  {
   "cell_type": "code",
   "execution_count": 74,
   "metadata": {
    "collapsed": false
   },
   "outputs": [
    {
     "name": "stdout",
     "output_type": "stream",
     "text": [
      "1e-06\n",
      "1cc51C\n",
      "1cc55C\n",
      "5e-06\n",
      "5cc58C\n",
      "1e-05\n",
      "10cc50C\n"
     ]
    }
   ],
   "source": [
    "from itertools import groupby\n",
    "\n",
    "count = 0\n",
    "\n",
    "#se arman grupos segun el valor del caudal\n",
    "#key es la lista donde estan los diccionarios de exp y DF\n",
    "#group es que se agrupa segun el valor de 'caudal' en este caso\n",
    "for key, group in groupby(listapalplot, key=lambda x: x['caudal']):\n",
    "    print(key)\n",
    "    count += 1\n",
    "    for exp in group:\n",
    "        #muestra el nombre del grupo y los elementos que tiene\n",
    "        print(exp['nombre']) "
   ]
  },
  {
   "cell_type": "code",
   "execution_count": 75,
   "metadata": {
    "collapsed": false
   },
   "outputs": [
    {
     "data": {
      "text/plain": [
       "3"
      ]
     },
     "execution_count": 75,
     "metadata": {},
     "output_type": "execute_result"
    }
   ],
   "source": [
    "count"
   ]
  },
  {
   "cell_type": "code",
   "execution_count": 76,
   "metadata": {
    "collapsed": true
   },
   "outputs": [],
   "source": [
    "#GRAFICO 1:\n",
    "#empezamo el ploteo de todos los perfiles finales agrupados segun caudal\n",
    "fig = plt.figure()\n",
    "axes = []\n",
    "\n",
    "#este plot hace cuantos subplot necesite segun un contador que da el numero de\n",
    "#grupos generados en el groupby\n",
    "for x in range(count):\n",
    "    axes.append(fig.add_subplot(count, 1, x + 1))"
   ]
  },
  {
   "cell_type": "markdown",
   "metadata": {
    "collapsed": false
   },
   "source": [
    "#GRAFICO 1: UNA COLUMNA DE GRAFICOS CON VARIAS FILAS SEGUN GRUPO\n",
    "#se generan los ejes de cada plot\n",
    "#i es el indice de lista y luego cada value en lista (???)\n",
    "for i, (key, group) in enumerate(groupby(listapalplot, key=lambda x: x['caudal'])):\n",
    "    print(i, key)\n",
    "    for exp in group:\n",
    "        axes[i].plot(exp['largo'], exp['espesor'])\n",
    "        axes[i].legend([key])"
   ]
  },
  {
   "cell_type": "code",
   "execution_count": 78,
   "metadata": {
    "collapsed": false
   },
   "outputs": [],
   "source": [
    "#GRAFICO 2: X COLUMNA DE GRAFICOS CON Y FILAS SEGUN GRUPO..se define en los parentesis de ax\n",
    "fig = plt.figure()\n",
    "ax = fig.add_subplot(3,2,1)\n",
    "ax2 = fig.add_subplot(3,2,2)\n",
    "ax3 = fig.add_subplot(3,2,3)\n",
    "\n",
    "for x in Experimentos:\n",
    "    ax.plot(x.perfil['perfil: largo'], x.perfil['perfil: espesor'], 'o')\n",
    "    ax2.plot(x.perfil['perfil: espesor'], x.perfil['perfil: largo'], 'x')\n",
    "    ax3.plot(x.perfil['perfil: espesor'], x.perfil['perfil: largo'], 'x')\n",
    "\n",
    "fig.show()"
   ]
  },
  {
   "cell_type": "code",
   "execution_count": 79,
   "metadata": {
    "collapsed": true
   },
   "outputs": [],
   "source": [
    "#lista para armar figures de velocidad segun Q\n",
    "listadinamica = []\n",
    "#es una lista donde en cada value hay un diccionario por experimento\n",
    "#ANOTAR EN UNA HOJA COMO SE VE Y USA ESTO PLS\n",
    "for exp in Experimentos:\n",
    "    holder = {} #es un diccionario \n",
    "    holder['nombre'] = exp.param['Nombre exp'][0]#solo el valor de la primera fila\n",
    "    holder['tiempo'] = exp.dinamica['avance: tiempo']#toda la columna\n",
    "    holder['distancia'] = exp.dinamica['avance: distancia desde punto eyeccion']#toda la columna\n",
    "    holder['caudal'] = exp.param['caudal '][0]#solo el valor de la primera fila\n",
    "    listadinamica.append(holder)"
   ]
  },
  {
   "cell_type": "code",
   "execution_count": 84,
   "metadata": {
    "collapsed": false
   },
   "outputs": [
    {
     "name": "stdout",
     "output_type": "stream",
     "text": [
      "0 1e-06\n",
      "1 5e-06\n",
      "2 1e-05\n"
     ]
    }
   ],
   "source": [
    "#empezamo el ploteo de todas las dinamicas agrupados segun caudal\n",
    "fig = plt.figure()\n",
    "axes = []\n",
    "\n",
    "#este plot hace cuantos subplot necesite segun un contador que da el numero de\n",
    "#grupos generados en el groupby\n",
    "for x in range(count):\n",
    "    axes.append(fig.add_subplot(count, 1, x + 1))\n",
    "\n",
    "#UNA COLUMNA DE GRAFICOS CON VARIAS FILAS SEGUN GRUPO\n",
    "#se generan los ejes de cada plot\n",
    "#i es el indice de lista y luego cada value en lista (???)\n",
    "for i, (key, group) in enumerate(groupby(listadinamica, key=lambda x: x['caudal'])):\n",
    "    print(i, key)\n",
    "    for exp in group:\n",
    "        axes[i].loglog(exp['tiempo'], exp['distancia'])\n",
    "        axes[i].legend([key])"
   ]
  },
  {
   "cell_type": "code",
   "execution_count": 86,
   "metadata": {
    "collapsed": false
   },
   "outputs": [
    {
     "data": {
      "text/html": [
       "<div>\n",
       "<table border=\"1\" class=\"dataframe\">\n",
       "  <thead>\n",
       "    <tr style=\"text-align: right;\">\n",
       "      <th></th>\n",
       "      <th>Unnamed: 0</th>\n",
       "      <th>avance: tiempo</th>\n",
       "      <th>avance: distancia desde punto eyeccion</th>\n",
       "      <th>avance: distancia hacia atrás</th>\n",
       "      <th>avance: largo total flujo</th>\n",
       "      <th>avance: ancho maximo</th>\n",
       "    </tr>\n",
       "  </thead>\n",
       "  <tbody>\n",
       "    <tr>\n",
       "      <th>0</th>\n",
       "      <td>0</td>\n",
       "      <td>0.000000</td>\n",
       "      <td>0.00</td>\n",
       "      <td>0.000</td>\n",
       "      <td>0.000</td>\n",
       "      <td>0.000</td>\n",
       "    </tr>\n",
       "    <tr>\n",
       "      <th>1</th>\n",
       "      <td>1</td>\n",
       "      <td>24.350000</td>\n",
       "      <td>0.01</td>\n",
       "      <td>0.015</td>\n",
       "      <td>0.025</td>\n",
       "      <td>0.050</td>\n",
       "    </tr>\n",
       "    <tr>\n",
       "      <th>2</th>\n",
       "      <td>2</td>\n",
       "      <td>38.516667</td>\n",
       "      <td>0.02</td>\n",
       "      <td>0.020</td>\n",
       "      <td>0.040</td>\n",
       "      <td>0.060</td>\n",
       "    </tr>\n",
       "    <tr>\n",
       "      <th>3</th>\n",
       "      <td>3</td>\n",
       "      <td>53.683333</td>\n",
       "      <td>0.03</td>\n",
       "      <td>0.025</td>\n",
       "      <td>0.055</td>\n",
       "      <td>0.070</td>\n",
       "    </tr>\n",
       "    <tr>\n",
       "      <th>4</th>\n",
       "      <td>4</td>\n",
       "      <td>74.850000</td>\n",
       "      <td>0.04</td>\n",
       "      <td>0.027</td>\n",
       "      <td>0.067</td>\n",
       "      <td>0.082</td>\n",
       "    </tr>\n",
       "  </tbody>\n",
       "</table>\n",
       "</div>"
      ],
      "text/plain": [
       "   Unnamed: 0  avance: tiempo  avance: distancia desde punto eyeccion  \\\n",
       "0           0        0.000000                                    0.00   \n",
       "1           1       24.350000                                    0.01   \n",
       "2           2       38.516667                                    0.02   \n",
       "3           3       53.683333                                    0.03   \n",
       "4           4       74.850000                                    0.04   \n",
       "\n",
       "   avance: distancia hacia atrás  avance: largo total flujo  \\\n",
       "0                          0.000                      0.000   \n",
       "1                          0.015                      0.025   \n",
       "2                          0.020                      0.040   \n",
       "3                          0.025                      0.055   \n",
       "4                          0.027                      0.067   \n",
       "\n",
       "   avance: ancho maximo  \n",
       "0                 0.000  \n",
       "1                 0.050  \n",
       "2                 0.060  \n",
       "3                 0.070  \n",
       "4                 0.082  "
      ]
     },
     "execution_count": 86,
     "metadata": {},
     "output_type": "execute_result"
    }
   ],
   "source": [
    "Experimentos[0].dinamica.head()"
   ]
  }
 ],
 "metadata": {
  "anaconda-cloud": {},
  "kernelspec": {
   "display_name": "Python [conda root]",
   "language": "python",
   "name": "conda-root-py"
  },
  "language_info": {
   "codemirror_mode": {
    "name": "ipython",
    "version": 3
   },
   "file_extension": ".py",
   "mimetype": "text/x-python",
   "name": "python",
   "nbconvert_exporter": "python",
   "pygments_lexer": "ipython3",
   "version": "3.5.2"
  }
 },
 "nbformat": 4,
 "nbformat_minor": 1
}
