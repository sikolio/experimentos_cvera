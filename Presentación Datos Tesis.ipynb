{
 "cells": [
  {
   "cell_type": "code",
   "execution_count": 1,
   "metadata": {
    "collapsed": false
   },
   "outputs": [
    {
     "name": "stdout",
     "output_type": "stream",
     "text": [
      "Using matplotlib backend: Qt5Agg\n"
     ]
    }
   ],
   "source": [
    "import pandas as pd\n",
    "import os\n",
    "import csv\n",
    "import numpy as np\n",
    "from scipy import stats\n",
    "from matplotlib import pyplot as plt\n",
    "%matplotlib\n",
    "import matplotlib.lines as mlines\n",
    "import matplotlib.pyplot as plt"
   ]
  },
  {
   "cell_type": "code",
   "execution_count": 2,
   "metadata": {
    "collapsed": true
   },
   "outputs": [
    {
     "name": "stdout",
     "output_type": "stream",
     "text": [
      "[Errno 2] No such file or directory: '.\\\\Data\\\\5cc50C - flir.csv'\n",
      "[Errno 2] No such file or directory: '.\\\\Data\\\\5cc50C - max av.csv'\n",
      "[Errno 2] No such file or directory: '.\\\\Data\\\\5cc50C - fspot.csv'\n",
      "[Errno 2] No such file or directory: '.\\\\Data\\\\5cc50C - max av cup.csv'\n",
      "[Errno 2] No such file or directory: '.\\\\Data\\\\5cc50C - frente.csv'\n",
      "[Errno 2] No such file or directory: '.\\\\Data\\\\1cc54C - flir.csv'\n",
      "[Errno 2] No such file or directory: '.\\\\Data\\\\1cc54C - max av.csv'\n",
      "[Errno 2] No such file or directory: '.\\\\Data\\\\1cc54C - fspot.csv'\n",
      "[Errno 2] No such file or directory: '.\\\\Data\\\\1cc54C - max av cup.csv'\n",
      "[Errno 2] No such file or directory: '.\\\\Data\\\\1cc54C - frente.csv'\n",
      "[Errno 2] No such file or directory: '.\\\\Data\\\\25cc54C - flir.csv'\n",
      "[Errno 2] No such file or directory: '.\\\\Data\\\\25cc54C - max av.csv'\n",
      "[Errno 2] No such file or directory: '.\\\\Data\\\\25cc54C - fspot.csv'\n",
      "[Errno 2] No such file or directory: '.\\\\Data\\\\25cc54C - max av cup.csv'\n",
      "[Errno 2] No such file or directory: '.\\\\Data\\\\25cc54C - frente.csv'\n",
      "[Errno 2] No such file or directory: '.\\\\Data\\\\10cc60C - flir.csv'\n",
      "[Errno 2] No such file or directory: '.\\\\Data\\\\10cc60C - max av.csv'\n",
      "[Errno 2] No such file or directory: '.\\\\Data\\\\10cc60C - fspot.csv'\n",
      "[Errno 2] No such file or directory: '.\\\\Data\\\\10cc60C - max av cup.csv'\n",
      "[Errno 2] No such file or directory: '.\\\\Data\\\\10cc60C - frente.csv'\n",
      "[Errno 2] No such file or directory: '.\\\\Data\\\\25cc60C - flir.csv'\n",
      "[Errno 2] No such file or directory: '.\\\\Data\\\\25cc60C - max av.csv'\n",
      "[Errno 2] No such file or directory: '.\\\\Data\\\\25cc60C - fspot.csv'\n",
      "[Errno 2] No such file or directory: '.\\\\Data\\\\25cc60C - max av cup.csv'\n",
      "[Errno 2] No such file or directory: '.\\\\Data\\\\25cc60C - frente.csv'\n",
      "[Errno 2] No such file or directory: '.\\\\Data\\\\1cc59C - flir.csv'\n",
      "[Errno 2] No such file or directory: '.\\\\Data\\\\1cc59C - fspot.csv'\n",
      "[Errno 2] No such file or directory: '.\\\\Data\\\\1cc59C - max av cup.csv'\n",
      "[Errno 2] No such file or directory: '.\\\\Data\\\\1cc59C - frente.csv'\n",
      "[Errno 2] No such file or directory: '.\\\\Data\\\\1cc47C - max av.csv'\n",
      "[Errno 2] No such file or directory: '.\\\\Data\\\\1cc47C - fspot.csv'\n",
      "[Errno 2] No such file or directory: '.\\\\Data\\\\1cc55C - max av.csv'\n",
      "[Errno 2] No such file or directory: '.\\\\Data\\\\1cc55C - fspot.csv'\n",
      "[Errno 2] No such file or directory: '.\\\\Data\\\\25cc58C - max av.csv'\n",
      "[Errno 2] No such file or directory: '.\\\\Data\\\\25cc58C - fspot.csv'\n",
      "[Errno 2] No such file or directory: '.\\\\Data\\\\25cc70C - max av.csv'\n",
      "[Errno 2] No such file or directory: '.\\\\Data\\\\25cc70C - fspot.csv'\n",
      "[Errno 2] No such file or directory: '.\\\\Data\\\\10cc67C - max av.csv'\n",
      "[Errno 2] No such file or directory: '.\\\\Data\\\\10cc67C - fspot.csv'\n",
      "[Errno 2] No such file or directory: '.\\\\Data\\\\10cc59C - max av.csv'\n",
      "[Errno 2] No such file or directory: '.\\\\Data\\\\10cc59C - fspot.csv'\n",
      "[Errno 2] No such file or directory: '.\\\\Data\\\\5cc63C - flir.csv'\n",
      "[Errno 2] No such file or directory: '.\\\\Data\\\\5cc63C - max av.csv'\n",
      "[Errno 2] No such file or directory: '.\\\\Data\\\\5cc63C - fspot.csv'\n",
      "[Errno 2] No such file or directory: '.\\\\Data\\\\5cc63C - max av cup.csv'\n",
      "[Errno 2] No such file or directory: '.\\\\Data\\\\5cc63C - frente.csv'\n",
      "[Errno 2] No such file or directory: '.\\\\Data\\\\5cc59C - max av.csv'\n",
      "[Errno 2] No such file or directory: '.\\\\Data\\\\5cc59C - fspot.csv'\n",
      "[Errno 2] No such file or directory: '.\\\\Data\\\\10cc49C - max av.csv'\n",
      "[Errno 2] No such file or directory: '.\\\\Data\\\\10cc49C - fspot.csv'\n",
      "[Errno 2] No such file or directory: '.\\\\Data\\\\25cc62C - flir.csv'\n",
      "[Errno 2] No such file or directory: '.\\\\Data\\\\25cc62C - max av.csv'\n",
      "[Errno 2] No such file or directory: '.\\\\Data\\\\25cc62C - fspot.csv'\n",
      "[Errno 2] No such file or directory: '.\\\\Data\\\\25cc62C - max av cup.csv'\n",
      "[Errno 2] No such file or directory: '.\\\\Data\\\\25cc62C - frente.csv'\n",
      "[Errno 2] No such file or directory: '.\\\\Data\\\\1cc62C - flir.csv'\n",
      "[Errno 2] No such file or directory: '.\\\\Data\\\\1cc62C - max av.csv'\n",
      "[Errno 2] No such file or directory: '.\\\\Data\\\\1cc62C - fspot.csv'\n",
      "[Errno 2] No such file or directory: '.\\\\Data\\\\1cc62C - max av cup.csv'\n",
      "[Errno 2] No such file or directory: '.\\\\Data\\\\1cc62C - frente.csv'\n",
      "[Errno 2] No such file or directory: '.\\\\Data\\\\5cc53C - max av.csv'\n",
      "[Errno 2] No such file or directory: '.\\\\Data\\\\5cc53C - fspot.csv'\n",
      "[Errno 2] No such file or directory: '.\\\\Data\\\\5a25cc56C - max av.csv'\n",
      "[Errno 2] No such file or directory: '.\\\\Data\\\\5a25cc56C - fspot.csv'\n",
      "[Errno 2] No such file or directory: '.\\\\Data\\\\5cc57C - fspot.csv'\n",
      "[Errno 2] No such file or directory: '.\\\\Data\\\\5cc57C - max av cup.csv'\n",
      "[Errno 2] No such file or directory: '.\\\\Data\\\\25cc50C - max av.csv'\n",
      "[Errno 2] No such file or directory: '.\\\\Data\\\\25cc50C - fspot.csv'\n",
      "[Errno 2] No such file or directory: '.\\\\Data\\\\10cc55C - fspot.csv'\n",
      "[Errno 2] No such file or directory: '.\\\\Data\\\\10cc55C - max av cup.csv'\n",
      "[Errno 2] No such file or directory: '.\\\\Data\\\\1cc24C - flir.csv'\n",
      "[Errno 2] No such file or directory: '.\\\\Data\\\\1cc24C - max av.csv'\n",
      "[Errno 2] No such file or directory: '.\\\\Data\\\\1cc24C - fspot.csv'\n",
      "[Errno 2] No such file or directory: '.\\\\Data\\\\1cc24C - max av cup.csv'\n",
      "[Errno 2] No such file or directory: '.\\\\Data\\\\1cc24C - frente.csv'\n",
      "[Errno 2] No such file or directory: '.\\\\Data\\\\10cc57C - fspot.csv'\n",
      "[Errno 2] No such file or directory: '.\\\\Data\\\\10cc57C - max av cup.csv'\n",
      "[Errno 2] No such file or directory: '.\\\\Data\\\\10cc24C - flir.csv'\n",
      "[Errno 2] No such file or directory: '.\\\\Data\\\\10cc24C - max av.csv'\n",
      "[Errno 2] No such file or directory: '.\\\\Data\\\\10cc24C - fspot.csv'\n",
      "[Errno 2] No such file or directory: '.\\\\Data\\\\10cc24C - max av cup.csv'\n",
      "[Errno 2] No such file or directory: '.\\\\Data\\\\10cc24C - frente.csv'\n",
      "[Errno 2] No such file or directory: '.\\\\Data\\\\5cc55C - fspot.csv'\n",
      "[Errno 2] No such file or directory: '.\\\\Data\\\\5cc55C - max av cup.csv'\n",
      "[Errno 2] No such file or directory: '.\\\\Data\\\\5cc58C - fspot.csv'\n",
      "[Errno 2] No such file or directory: '.\\\\Data\\\\5cc58C - max av cup.csv'\n",
      "[Errno 2] No such file or directory: '.\\\\Data\\\\1cc48C - fspot.csv'\n",
      "[Errno 2] No such file or directory: '.\\\\Data\\\\1cc48C - max av cup.csv'\n",
      "[Errno 2] No such file or directory: '.\\\\Data\\\\1cc51C - fspot.csv'\n",
      "[Errno 2] No such file or directory: '.\\\\Data\\\\1cc51C - max av cup.csv'\n",
      "[Errno 2] No such file or directory: '.\\\\Data\\\\5cc48C - max av.csv'\n",
      "[Errno 2] No such file or directory: '.\\\\Data\\\\5cc48C - max av cup.csv'\n",
      "[Errno 2] No such file or directory: '.\\\\Data\\\\10cc50C - max av.csv'\n",
      "[Errno 2] No such file or directory: '.\\\\Data\\\\10cc50C - max av cup.csv'\n",
      "[Errno 2] No such file or directory: '.\\\\Data\\\\1cc54,7C - max av.csv'\n",
      "[Errno 2] No such file or directory: '.\\\\Data\\\\1cc54,7C - max av cup.csv'\n",
      "[Errno 2] No such file or directory: '.\\\\Data\\\\1cc52C - max av.csv'\n",
      "[Errno 2] No such file or directory: '.\\\\Data\\\\1cc52C - max av cup.csv'\n"
     ]
    }
   ],
   "source": [
    "from Experimentos2 import Experimentos, labelLines"
   ]
  }
 ],
 "metadata": {
  "anaconda-cloud": {},
  "kernelspec": {
   "display_name": "Python [conda root]",
   "language": "python",
   "name": "conda-root-py"
  },
  "language_info": {
   "codemirror_mode": {
    "name": "ipython",
    "version": 3
   },
   "file_extension": ".py",
   "mimetype": "text/x-python",
   "name": "python",
   "nbconvert_exporter": "python",
   "pygments_lexer": "ipython3",
   "version": "3.5.2"
  }
 },
 "nbformat": 4,
 "nbformat_minor": 1
}
