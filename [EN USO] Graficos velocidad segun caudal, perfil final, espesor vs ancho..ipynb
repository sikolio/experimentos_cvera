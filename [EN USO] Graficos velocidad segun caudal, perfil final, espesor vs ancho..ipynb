{
 "cells": [
  {
   "cell_type": "code",
   "execution_count": 1,
   "metadata": {
    "collapsed": false
   },
   "outputs": [
    {
     "name": "stdout",
     "output_type": "stream",
     "text": [
      "Using matplotlib backend: Qt5Agg\n"
     ]
    }
   ],
   "source": [
    "import pandas as pd\n",
    "import os\n",
    "import csv\n",
    "import numpy as np\n",
    "from matplotlib import pyplot as plt\n",
    "%matplotlib"
   ]
  },
  {
   "cell_type": "code",
   "execution_count": 2,
   "metadata": {
    "collapsed": true
   },
   "outputs": [],
   "source": [
    "from scipy.interpolate import UnivariateSpline\n",
    "from scipy.optimize import curve_fit\n",
    "from scipy import interpolate, optimize"
   ]
  },
  {
   "cell_type": "code",
   "execution_count": 3,
   "metadata": {
    "collapsed": false
   },
   "outputs": [
    {
     "name": "stdout",
     "output_type": "stream",
     "text": [
      "[Errno 2] No such file or directory: '.\\\\Data\\\\5cc50C - flir.csv'\n",
      "[Errno 2] No such file or directory: '.\\\\Data\\\\1cc54C - flir.csv'\n",
      "[Errno 2] No such file or directory: '.\\\\Data\\\\25cc54C - flir.csv'\n",
      "[Errno 2] No such file or directory: '.\\\\Data\\\\10cc60C - flir.csv'\n",
      "[Errno 2] No such file or directory: '.\\\\Data\\\\25cc60C - flir.csv'\n",
      "[Errno 2] No such file or directory: '.\\\\Data\\\\1cc59C - flir.csv'\n",
      "[Errno 2] No such file or directory: '.\\\\Data\\\\5cc63C - flir.csv'\n",
      "[Errno 2] No such file or directory: '.\\\\Data\\\\25cc62C - flir.csv'\n",
      "[Errno 2] No such file or directory: '.\\\\Data\\\\1cc62C - flir.csv'\n",
      "[Errno 2] No such file or directory: '.\\\\Data\\\\1cc24C - flir.csv'\n",
      "[Errno 2] No such file or directory: '.\\\\Data\\\\10cc24C - flir.csv'\n"
     ]
    }
   ],
   "source": [
    "from Experimentos import Experimentos"
   ]
  },
  {
   "cell_type": "code",
   "execution_count": 4,
   "metadata": {
    "collapsed": false
   },
   "outputs": [
    {
     "name": "stdout",
     "output_type": "stream",
     "text": [
      "0 5cc50C.csv False\n",
      "1 1cc54C.csv False\n",
      "2 25cc54C.csv False\n",
      "3 10cc60C.csv False\n",
      "4 25cc60C.csv False\n",
      "5 1cc59C.csv False\n",
      "6 1cc47C.csv True\n",
      "7 1cc55C.csv True\n",
      "8 25cc58C.csv True\n",
      "9 25cc70C.csv True\n",
      "10 10cc67C.csv True\n",
      "11 10cc59C.csv True\n",
      "12 5cc63C.csv False\n",
      "13 5cc59C.csv True\n",
      "14 10cc49C.csv True\n",
      "15 25cc62C.csv False\n",
      "16 1cc62C.csv False\n",
      "17 5cc53C.csv True\n",
      "18 5a25cc56C.csv True\n",
      "19 5cc57C.csv True\n",
      "20 25cc50C.csv True\n",
      "21 10cc55C.csv True\n",
      "22 1cc24C.csv False\n",
      "23 10cc57C.csv True\n",
      "24 10cc24C.csv False\n",
      "25 5cc55C.csv True\n",
      "26 5cc58C.csv True\n",
      "27 1cc48C.csv True\n",
      "28 1cc51C.csv True\n",
      "29 5cc48C.csv True\n",
      "30 10cc50C.csv True\n",
      "31 1cc54,7C.csv True\n",
      "32 1cc52C.csv True\n"
     ]
    }
   ],
   "source": [
    "#experimentos sin FLIR: 11\n",
    "#experimentos con FLIR: 22\n",
    "for i, exp in enumerate(Experimentos):\n",
    "    print(i, exp, (exp.flir is not None))"
   ]
  },
  {
   "cell_type": "code",
   "execution_count": 35,
   "metadata": {
    "collapsed": false
   },
   "outputs": [
    {
     "data": {
      "text/html": [
       "<div>\n",
       "<table border=\"1\" class=\"dataframe\">\n",
       "  <thead>\n",
       "    <tr style=\"text-align: right;\">\n",
       "      <th></th>\n",
       "      <th>densidad manjar</th>\n",
       "      <th>modelo 3D</th>\n",
       "      <th>volumen total teorico</th>\n",
       "      <th>t amb</th>\n",
       "      <th>termocupla</th>\n",
       "      <th>caudal</th>\n",
       "      <th>angulo inclinacion</th>\n",
       "      <th>NOMBRE</th>\n",
       "      <th>Obs</th>\n",
       "      <th>Exp #</th>\n",
       "      <th>...</th>\n",
       "      <th>fecha</th>\n",
       "      <th>min</th>\n",
       "      <th>max</th>\n",
       "      <th>framei</th>\n",
       "      <th>framef</th>\n",
       "      <th>result: largo final</th>\n",
       "      <th>result: largo total</th>\n",
       "      <th>result: ancho max final</th>\n",
       "      <th>result: espesor max final</th>\n",
       "      <th>result: distancia espesor final</th>\n",
       "    </tr>\n",
       "  </thead>\n",
       "  <tbody>\n",
       "    <tr>\n",
       "      <th>0</th>\n",
       "      <td>1240</td>\n",
       "      <td>NaN</td>\n",
       "      <td>0.00143</td>\n",
       "      <td>25</td>\n",
       "      <td>no</td>\n",
       "      <td>5,00E-06</td>\n",
       "      <td>10.1</td>\n",
       "      <td>5cc57C</td>\n",
       "      <td>NaN</td>\n",
       "      <td>20</td>\n",
       "      <td>...</td>\n",
       "      <td>22/07/2016 0:00</td>\n",
       "      <td>29</td>\n",
       "      <td>49</td>\n",
       "      <td>23</td>\n",
       "      <td>1360</td>\n",
       "      <td>0.35</td>\n",
       "      <td>0.4</td>\n",
       "      <td>0.28</td>\n",
       "      <td>0.02</td>\n",
       "      <td>0.25</td>\n",
       "    </tr>\n",
       "  </tbody>\n",
       "</table>\n",
       "<p>1 rows × 22 columns</p>\n",
       "</div>"
      ],
      "text/plain": [
       "   densidad manjar  modelo 3D  volumen total teorico  t amb termocupla  \\\n",
       "0             1240        NaN                0.00143     25         no   \n",
       "\n",
       "     caudal  angulo inclinacion  NOMBRE  Obs  Exp #  \\\n",
       "0  5,00E-06                10.1  5cc57C  NaN     20   \n",
       "\n",
       "                ...                           fecha  min max  framei  framef  \\\n",
       "0               ...                 22/07/2016 0:00   29  49      23    1360   \n",
       "\n",
       "   result: largo final  result: largo total  result: ancho max final  \\\n",
       "0                 0.35                  0.4                     0.28   \n",
       "\n",
       "   result: espesor max final  result: distancia espesor final  \n",
       "0                       0.02                             0.25  \n",
       "\n",
       "[1 rows x 22 columns]"
      ]
     },
     "execution_count": 35,
     "metadata": {},
     "output_type": "execute_result"
    }
   ],
   "source": [
    "Experimentos[19].param.head()"
   ]
  },
  {
   "cell_type": "code",
   "execution_count": 5,
   "metadata": {
    "collapsed": true
   },
   "outputs": [],
   "source": [
    "#FUNCION Q DEVUELVE RANGO [1-7] SEGUN TEMP MAXIMA DEL EXP\n",
    "def rango_temperatura(temp):\n",
    "    if temp < 40:\n",
    "        return 1\n",
    "    if temp < 45:\n",
    "        return 2\n",
    "    if temp < 50:\n",
    "        return 3\n",
    "    if temp < 55:\n",
    "        return 4\n",
    "    if temp < 60:\n",
    "        return 5\n",
    "    if temp < 65:\n",
    "        return 6\n",
    "    if temp < 70:\n",
    "        return 7"
   ]
  },
  {
   "cell_type": "code",
   "execution_count": 6,
   "metadata": {
    "collapsed": false
   },
   "outputs": [],
   "source": [
    "#lista para armar graficos de PERFIL agrupados por caudal\n",
    "#es una lista donde en cada value hay un diccionario por experimento\n",
    "\n",
    "listaporcaudal = []\n",
    "\n",
    "for exp in Experimentos:\n",
    "    holder = {} #es un diccionario \n",
    "    holder['nombre'] = exp.param['NOMBRE'][0]#solo el valor de la primera fila\n",
    "    holder['espesor'] = exp.perfil['perfil: espesor']#toda la columna\n",
    "    holder['largo'] = exp.perfil['perfil: distancia']#toda la columna\n",
    "    holder['caudal'] = exp.param['caudal'][0]#solo el valor de la primera fila\n",
    "    holder['angulo'] = exp.param['angulo inclinacion'][0]\n",
    "    holder[\"rango temperatura\"] = rango_temperatura(exp.param[\"t max\"][0])\n",
    "    holder['uso'] = exp.param['uso manjar'][0]\n",
    "\n",
    "    listaporcaudal.append(holder)"
   ]
  },
  {
   "cell_type": "code",
   "execution_count": 15,
   "metadata": {
    "collapsed": false
   },
   "outputs": [],
   "source": [
    "#devuelve el valor que le pido recorriendo la lista creada arriba\n",
    "#for i, exp in enumerate(listaporcaudal):\n",
    "    #print(i,(exp['angulo']))"
   ]
  },
  {
   "cell_type": "code",
   "execution_count": 7,
   "metadata": {
    "collapsed": true
   },
   "outputs": [],
   "source": [
    "#lista para armar graficos de ANCHO VS ESPESOR agrupados por caudal\n",
    "#es una lista donde en cada value hay un diccionario por experimento\n",
    "\n",
    "listaporanchoyesp = []\n",
    "\n",
    "for exp in Experimentos:\n",
    "    holder = {} #es un diccionario \n",
    "    holder['nombre'] = exp.param['NOMBRE'][0]#solo el valor de la primera fila\n",
    "    holder['espesor'] = exp.param['result: espesor max final']#toda la columna\n",
    "    holder['ancho'] = exp.param['result: ancho max final']#toda la columna\n",
    "    holder['caudal'] = exp.param['caudal'][0]#solo el valor de la primera fila\n",
    "    holder['angulo'] = exp.param['angulo inclinacion'][0]\n",
    "    holder[\"rango temperatura\"] = rango_temperatura(exp.param[\"t max\"][0])\n",
    "\n",
    "    listaporanchoyesp.append(holder)"
   ]
  },
  {
   "cell_type": "code",
   "execution_count": 8,
   "metadata": {
    "collapsed": false,
    "scrolled": false
   },
   "outputs": [
    {
     "name": "stdout",
     "output_type": "stream",
     "text": [
      "0 5e-06\n",
      "0 1e-06\n",
      "0 2.5e-05\n",
      "0 1e-05\n",
      "0 2.5e-05\n",
      "0 1e-06\n",
      "0 1e-06\n",
      "0 1e-06\n",
      "0 2.5e-05\n",
      "0 2.5e-05\n",
      "0 1e-05\n",
      "0 1e-05\n",
      "0 5e-06\n",
      "0 5e-06\n",
      "0 1e-05\n",
      "0 2.5e-05\n",
      "0 1e-06\n",
      "0 5e-06\n",
      "0 1.7e-05\n",
      "0 5e-06\n",
      "0 2.5e-05\n",
      "0 1e-05\n",
      "0 1e-06\n",
      "0 1e-05\n",
      "0 1e-05\n",
      "0 5e-06\n",
      "0 5e-06\n",
      "0 1e-06\n",
      "0 1e-06\n",
      "0 5e-06\n",
      "0 1e-05\n",
      "0 1e-06\n",
      "0 1e-06\n"
     ]
    }
   ],
   "source": [
    "for x in listaporcaudal:\n",
    "    print(0,x['caudal'])"
   ]
  },
  {
   "cell_type": "code",
   "execution_count": 9,
   "metadata": {
    "collapsed": false
   },
   "outputs": [
    {
     "name": "stdout",
     "output_type": "stream",
     "text": [
      "1e-06\n",
      "5e-06\n",
      "1e-05\n",
      "1.7e-05\n",
      "2.5e-05\n"
     ]
    }
   ],
   "source": [
    "#se arman grupos segun el valor del caudal\n",
    "from itertools import groupby\n",
    "count = 0\n",
    "\n",
    "#key es la lista donde estan los diccionarios de exp y DF\n",
    "#group es que se agrupa segun el valor de 'caudal' en este caso\n",
    "\n",
    "for key, group in groupby(sorted(listaporcaudal, key=lambda x: x['caudal']), key=lambda x: x['caudal']):\n",
    "    print(key)\n",
    "    count += 1\n",
    "    #for exp in group:\n",
    "        #muestra el nombre del grupo y los elementos que tiene\n",
    "        #print(exp['nombre']) "
   ]
  },
  {
   "cell_type": "code",
   "execution_count": 10,
   "metadata": {
    "collapsed": false
   },
   "outputs": [
    {
     "data": {
      "text/plain": [
       "5"
      ]
     },
     "execution_count": 10,
     "metadata": {},
     "output_type": "execute_result"
    }
   ],
   "source": [
    "count"
   ]
  },
  {
   "cell_type": "code",
   "execution_count": 11,
   "metadata": {
    "collapsed": false
   },
   "outputs": [],
   "source": [
    "#EJES GRAFICOS PERFILES SEGUN CAUDAL\n",
    "maximoejelargo = max([exp['largo'].max() for exp in listaporcaudal])\n",
    "minimoejelargo = min([exp['largo'].min() for exp in listaporcaudal])\n",
    "maximoejeespesor = max([exp['espesor'].max() for exp in listaporcaudal])\n",
    "minimoejeespesor = min([exp['espesor'].min() for exp in listaporcaudal])"
   ]
  },
  {
   "cell_type": "code",
   "execution_count": 12,
   "metadata": {
    "collapsed": false
   },
   "outputs": [],
   "source": [
    "#EJES GRAFICOS ANCHOS MAXIMOS SEGUN CAUDAL\n",
    "maximoejeancho = max([exp['ancho'].max() for exp in listaporanchoyesp])\n",
    "minimoejeancho = min([exp['ancho'].min() for exp in listaporanchoyesp])\n",
    "maximoejeespesor = max([exp['espesor'].max() for exp in listaporanchoyesp])\n",
    "minimoejeespesor = min([exp['espesor'].min() for exp in listaporanchoyesp])"
   ]
  },
  {
   "cell_type": "code",
   "execution_count": 13,
   "metadata": {
    "collapsed": false
   },
   "outputs": [
    {
     "name": "stdout",
     "output_type": "stream",
     "text": [
      "['pat1', 'pat2', 'pat3', 'pat4', 'pat5', 'pat6', 'pat7']\n"
     ]
    }
   ],
   "source": [
    "#GENERA PATCHES DE COLORES SEGUN TEMPERATURA\n",
    "import matplotlib.patches as mpatches\n",
    "\n",
    "pat1 = mpatches.Patch(color='C1', label='temp < 40')\n",
    "pat2 = mpatches.Patch(color='C2', label='temp < 45')\n",
    "pat3 = mpatches.Patch(color='C3', label='temp < 50')\n",
    "pat4 = mpatches.Patch(color='C4', label='temp < 55')\n",
    "pat5 = mpatches.Patch(color='C5', label='temp < 60')\n",
    "pat6 = mpatches.Patch(color='C6', label='temp < 65')\n",
    "pat7 = mpatches.Patch(color='C7', label='temp < 70')\n",
    "\n",
    "numerocolores = 7\n",
    "colors = ['pat{}'.format(i+1) for i in range(numerocolores)]\n",
    "\n",
    "print(colors)"
   ]
  },
  {
   "cell_type": "code",
   "execution_count": 14,
   "metadata": {
    "collapsed": false,
    "scrolled": true
   },
   "outputs": [
    {
     "name": "stdout",
     "output_type": "stream",
     "text": [
      "1e-06\n",
      "5e-06\n",
      "1e-05\n",
      "1.7e-05\n",
      "2.5e-05\n"
     ]
    }
   ],
   "source": [
    "#CASI LISTO!!! FALTA LEYENDA LINEA PUNTEADA Y CONTINUA\n",
    "#5 GRAFICOS DE PERFIL AGRUPADOS POR CAUDAL Y COLOREADOS SEGUN TEMEPRATURA\n",
    "fig = plt.figure()\n",
    "axes = [fig.add_subplot(3,2,i+1) for i in range(count)]\n",
    "counter = 0\n",
    "\n",
    "for key, group in groupby(sorted(listaporcaudal, key=lambda x: x['caudal']), key=lambda x: x['caudal']):\n",
    "    print(key)\n",
    "    ax = axes[counter]\n",
    "    ax.set_xlim(minimoejelargo, maximoejelargo)\n",
    "    ax.set_ylim(0, maximoejeespesor)\n",
    "    ax.set_title('{}cc'.format(key*1000000))\n",
    "    counter += 1\n",
    "    \n",
    "    for exp in group:\n",
    "        #print(\"C{}\".format(exp[\"rango temperatura\"]))\n",
    "        if exp['angulo'] == 15:\n",
    "            ax.plot(exp['largo'], exp['espesor'], color='C{}'.format(exp['rango temperatura']), \n",
    "                    linestyle= '--')\n",
    "        else:\n",
    "            ax.plot(exp['largo'], exp['espesor'], color='C{}'.format(exp['rango temperatura']))\n",
    "            \n",
    "linea1= ax.plot([],[], label='15°', linestyle='--', color='black')\n",
    "linea2= ax.plot([],[], label='10°', color='black')      \n",
    "legend1 = plt.legend(handles=[pat1, pat2, pat3, pat4, pat5, pat6, pat7], bbox_to_anchor=(1.8, 0.5), loc=5)\n",
    "plt.legend(bbox_to_anchor=(1.8, 0.5), loc=6)\n",
    "plt.gca().add_artist(legend1)\n",
    "fig.show()"
   ]
  },
  {
   "cell_type": "code",
   "execution_count": 15,
   "metadata": {
    "collapsed": false
   },
   "outputs": [
    {
     "name": "stdout",
     "output_type": "stream",
     "text": [
      "1e-06\n",
      "5e-06\n",
      "1e-05\n",
      "1.7e-05\n",
      "2.5e-05\n"
     ]
    }
   ],
   "source": [
    "#LISTOOOO\n",
    "#5 GRAFICOS DE PERFIL AGRUPADOS POR CAUDAL Y COLOREADOS SEGUN TEMEPRATURA \n",
    "#SOLO PRIMER USO DEL MANJAR\n",
    "fig = plt.figure()\n",
    "axes = [fig.add_subplot(3,2,i+1) for i in range(count)]\n",
    "counter = 0\n",
    "\n",
    "\n",
    "\n",
    "for key, group in groupby(sorted(listaporcaudal, key=lambda x: x['caudal']), key=lambda x: x['caudal']):\n",
    "    print(key)\n",
    "    ax = axes[counter]\n",
    "    ax.set_xlim(minimoejelargo, maximoejelargo)\n",
    "    ax.set_ylim(0, maximoejeespesor)\n",
    "    ax.set_title('{}cc'.format(key*1000000))\n",
    "    counter += 1\n",
    "    linea1= ax.plot([],[], label='15°', linestyle='--', color='black')\n",
    "    linea2= ax.plot([],[], label='10°', color='black')\n",
    "    \n",
    "    for exp in group:\n",
    "        #print(\"C{}\".format(exp[\"rango temperatura\"]))\n",
    "        if exp['uso'] == 1: \n",
    "            if exp['angulo'] == 15:\n",
    "                ax.plot(exp['largo'], exp['espesor'], color='C{}'.format(exp['rango temperatura']), \n",
    "                        linestyle= '--')\n",
    "            else:\n",
    "                ax.plot(exp['largo'], exp['espesor'], color='C{}'.format(exp['rango temperatura']))\n",
    "        \n",
    "legend1 = plt.legend(handles=[pat1, pat2, pat3, pat4, pat5, pat6, pat7], bbox_to_anchor=(1.8, 0.5), loc=5)\n",
    "plt.legend(bbox_to_anchor=(1.8, 0.5), loc=6)\n",
    "plt.gca().add_artist(legend1)\n",
    "fig.show()"
   ]
  },
  {
   "cell_type": "code",
   "execution_count": 20,
   "metadata": {
    "collapsed": false
   },
   "outputs": [
    {
     "name": "stdout",
     "output_type": "stream",
     "text": [
      "1e-06\n",
      "5e-06\n",
      "1e-05\n",
      "1.7e-05\n",
      "2.5e-05\n"
     ]
    }
   ],
   "source": [
    "#LISTO!!!\n",
    "#1 GRAFICO DE ESPESOR VS ANCHO AGRUPADOS POR CAUDAL Y COLOREADOS X TEMPERATURA\n",
    "fig, ax = plt.subplots()\n",
    "counter = 0\n",
    "marqer = ['o', 'v', '^', '<', '>']\n",
    "plotmarqer = []\n",
    "\n",
    "from matplotlib import markers\n",
    "\n",
    "contadorkey = 0\n",
    "\n",
    "for key, group in groupby(sorted(listaporanchoyesp, key=lambda x: x['caudal']), \n",
    "                          key=lambda x: x['caudal']):\n",
    "    print(key)\n",
    "    ax.set_xlim(minimoejeancho-0.02, maximoejeancho+0.02)\n",
    "    ax.set_ylim(maximoejeespesor-0.02, maximoejeespesor+0.001)\n",
    "    markadorkey = marqer[contadorkey]\n",
    "    contadorkey += 1\n",
    "    \n",
    "    for i, exp in enumerate(group):\n",
    "        if exp['angulo'] == 15:\n",
    "            l = ax.plot(exp['ancho'], exp['espesor'], color='C{}'.format(exp['rango temperatura']), \n",
    "                           marker=markadorkey)\n",
    "            #l.set_markeredgecolor('Black')\n",
    "        else: \n",
    "            l = ax.plot(exp['ancho'], exp['espesor'], color='C{}'.format(exp['rango temperatura']), \n",
    "                           marker=markadorkey)\n",
    "        if i == 0:\n",
    "            plotmarqer.append(ax.scatter([], [], color='black', marker=markadorkey, label=exp['caudal']))\n",
    "\n",
    "legendcolors2 = [pat1, pat2, pat3, pat4, pat5, pat6, pat7]\n",
    "\n",
    "legend1 = plt.legend(handles=plotmarqer, loc= 3)\n",
    "plt.legend(handles=legendcolors2, loc=2)\n",
    "plt.gca().add_artist(legend1)\n",
    "plt.show()"
   ]
  },
  {
   "cell_type": "code",
   "execution_count": 16,
   "metadata": {
    "collapsed": false
   },
   "outputs": [],
   "source": [
    "#lista para armar figures de velocidad segun Q\n",
    "listadinamica = []\n",
    "#es una lista donde en cada value hay un diccionario por experimento\n",
    "#ANOTAR EN UNA HOJA COMO SE VE Y USA ESTO PLS\n",
    "for exp in Experimentos:\n",
    "    holder = {} #es un diccionario \n",
    "    holder['nombre'] = exp.param['NOMBRE'][0]#solo el valor de la primera fila\n",
    "    holder['tiempo'] = exp.dinamica['avance: tiempo']#toda la columna\n",
    "    holder['distancia'] = exp.dinamica['avance: distancia desde punto eyeccion']#toda la columna\n",
    "    holder['caudal'] = exp.param['caudal'][0]#solo el valor de la primera fila\n",
    "    holder['angulo'] = exp.param['angulo inclinacion'][0]\n",
    "    holder[\"rango temperatura\"] = rango_temperatura(exp.param[\"t max\"][0])\n",
    "        \n",
    "    listadinamica.append(holder)"
   ]
  },
  {
   "cell_type": "code",
   "execution_count": 27,
   "metadata": {
    "collapsed": false
   },
   "outputs": [],
   "source": [
    "#len(listadinamica)\n",
    "#    if exp.param['t max'][0] < 40:\n",
    "#        holder['rango temperatura'] = 7\n",
    "#        continue\n",
    "#    if exp.param['t max'][0] < 45:\n",
    "#        holder['rango temperatura'] = 1\n",
    "#        continue\n",
    "#    if exp.param['t max'][0] < 50:\n",
    "#        holder['rango temperatura'] = 2\n",
    "#        continue\n",
    "#    if exp.param['t max'][0] < 55:\n",
    "#        holder['rango temperatura'] = 3\n",
    "#        continue\n",
    "#    if exp.param['t max'][0] < 60:\n",
    "#        holder['rango temperatura'] = 4\n",
    "#        continue\n",
    "#    if exp.param['t max'][0] < 65:\n",
    "#        holder['rango temperatura'] = 5\n",
    "#    if exp.param['t max'][0] < 70:\n",
    "#        holder['rango temperatura'] = 6  \n"
   ]
  },
  {
   "cell_type": "code",
   "execution_count": 26,
   "metadata": {
    "collapsed": false
   },
   "outputs": [
    {
     "name": "stdout",
     "output_type": "stream",
     "text": [
      "0 1e-06\n",
      "1 5e-06\n",
      "2 1e-05\n",
      "3 1.7e-05\n",
      "4 2.5e-05\n"
     ]
    }
   ],
   "source": [
    "#FALTA: LEYENDA 25CC DENTRO DEL GRAFICO Y ARREGLAR LEYENDA TIPO LINEA Y ANGULO\n",
    "#empezamo el ploteo de todas las ##dinamicas agrupados segun caudal\n",
    "fig = plt.figure()\n",
    "axes = []\n",
    "\n",
    "#este plot hace cuantos subplot necesite segun un contador que da el numero de\n",
    "#grupos generados en el groupby\n",
    "for x in range(count):\n",
    "    axes.append(fig.add_subplot(2, 3, x + 1))\n",
    "\n",
    "#UNA COLUMNA DE GRAFICOS CON VARIAS FILAS SEGUN GRUPO\n",
    "#se generan los ejes de cada plot\n",
    "#i es el indice de lista y luego cada value en lista (???)\n",
    "for i, (key, group) in enumerate(groupby(sorted(listadinamica, key=lambda x: x['caudal']), key=lambda x: x['caudal'])):\n",
    "    print(i, key)\n",
    "\n",
    "    for exp in group:\n",
    "        axes[i].legend([key])\n",
    "        if exp['angulo'] == 15:\n",
    "            axes[i].loglog(exp['tiempo'], exp['distancia'], color='C{}'.format(exp['rango temperatura']),\n",
    "                           linestyle='--')\n",
    "        else:\n",
    "            axes[i].loglog(exp['tiempo'], exp['distancia'], color='C{}'.format(exp['rango temperatura']))\n",
    "        axes[i].legend([key])\n",
    "            \n",
    "legend1 = plt.legend(handles=[pat1, pat2, pat3, pat4, pat5, pat6, pat7], bbox_to_anchor=(1.8, 0.5), loc=5)\n",
    "plt.gca().add_artist(legend1)\n",
    "\n",
    "linea1= ax.plot([],[], label='15°', linestyle='--', color='black')\n",
    "linea2= ax.plot([],[], label='10°', color='black')       \n",
    "plt.legend(bbox_to_anchor=(1.8, 0.5), loc=6)\n",
    "fig.show()"
   ]
  },
  {
   "cell_type": "code",
   "execution_count": 15,
   "metadata": {
    "collapsed": false
   },
   "outputs": [],
   "source": [
    "fig= plt.plot(Experimentos[6].dinamica['avance: tiempo'], Experimentos[6].dinamica['avance: largo total flujo'], marker = 'x')"
   ]
  },
  {
   "cell_type": "code",
   "execution_count": 47,
   "metadata": {
    "collapsed": false
   },
   "outputs": [
    {
     "data": {
      "text/html": [
       "<div>\n",
       "<table border=\"1\" class=\"dataframe\">\n",
       "  <thead>\n",
       "    <tr style=\"text-align: right;\">\n",
       "      <th></th>\n",
       "      <th>Unnamed: 0</th>\n",
       "      <th>avance: tiempo</th>\n",
       "      <th>avance: distancia desde punto eyeccion</th>\n",
       "      <th>avance: distancia hacia atrás</th>\n",
       "      <th>avance: largo total flujo</th>\n",
       "      <th>avance: ancho maximo</th>\n",
       "    </tr>\n",
       "  </thead>\n",
       "  <tbody>\n",
       "    <tr>\n",
       "      <th>44</th>\n",
       "      <td>44</td>\n",
       "      <td>5441.333333</td>\n",
       "      <td>0.360</td>\n",
       "      <td>0.074</td>\n",
       "      <td>0.434</td>\n",
       "      <td>0.305</td>\n",
       "    </tr>\n",
       "    <tr>\n",
       "      <th>45</th>\n",
       "      <td>45</td>\n",
       "      <td>5967.333333</td>\n",
       "      <td>0.362</td>\n",
       "      <td>0.074</td>\n",
       "      <td>0.436</td>\n",
       "      <td>0.305</td>\n",
       "    </tr>\n",
       "    <tr>\n",
       "      <th>46</th>\n",
       "      <td>46</td>\n",
       "      <td>9159.333333</td>\n",
       "      <td>0.368</td>\n",
       "      <td>0.074</td>\n",
       "      <td>0.442</td>\n",
       "      <td>0.305</td>\n",
       "    </tr>\n",
       "    <tr>\n",
       "      <th>47</th>\n",
       "      <td>47</td>\n",
       "      <td>9986.333333</td>\n",
       "      <td>0.368</td>\n",
       "      <td>0.074</td>\n",
       "      <td>0.442</td>\n",
       "      <td>0.305</td>\n",
       "    </tr>\n",
       "    <tr>\n",
       "      <th>48</th>\n",
       "      <td>48</td>\n",
       "      <td>76919.333333</td>\n",
       "      <td>0.368</td>\n",
       "      <td>0.074</td>\n",
       "      <td>0.442</td>\n",
       "      <td>0.305</td>\n",
       "    </tr>\n",
       "  </tbody>\n",
       "</table>\n",
       "</div>"
      ],
      "text/plain": [
       "    Unnamed: 0  avance: tiempo  avance: distancia desde punto eyeccion  \\\n",
       "44          44     5441.333333                                   0.360   \n",
       "45          45     5967.333333                                   0.362   \n",
       "46          46     9159.333333                                   0.368   \n",
       "47          47     9986.333333                                   0.368   \n",
       "48          48    76919.333333                                   0.368   \n",
       "\n",
       "    avance: distancia hacia atrás  avance: largo total flujo  \\\n",
       "44                          0.074                      0.434   \n",
       "45                          0.074                      0.436   \n",
       "46                          0.074                      0.442   \n",
       "47                          0.074                      0.442   \n",
       "48                          0.074                      0.442   \n",
       "\n",
       "    avance: ancho maximo  \n",
       "44                 0.305  \n",
       "45                 0.305  \n",
       "46                 0.305  \n",
       "47                 0.305  \n",
       "48                 0.305  "
      ]
     },
     "execution_count": 47,
     "metadata": {},
     "output_type": "execute_result"
    }
   ],
   "source": [
    "Experimentos[30].dinamica.tail()"
   ]
  },
  {
   "cell_type": "code",
   "execution_count": 27,
   "metadata": {
    "collapsed": false
   },
   "outputs": [
    {
     "data": {
      "text/plain": [
       "10cc50C.csv"
      ]
     },
     "execution_count": 27,
     "metadata": {},
     "output_type": "execute_result"
    }
   ],
   "source": [
    "exp = Experimentos[30]\n",
    "exp"
   ]
  },
  {
   "cell_type": "code",
   "execution_count": 28,
   "metadata": {
    "collapsed": false
   },
   "outputs": [
    {
     "data": {
      "text/html": [
       "<div>\n",
       "<table border=\"1\" class=\"dataframe\">\n",
       "  <thead>\n",
       "    <tr style=\"text-align: right;\">\n",
       "      <th></th>\n",
       "      <th>Unnamed: 0</th>\n",
       "      <th>avance: tiempo</th>\n",
       "      <th>avance: distancia desde punto eyeccion</th>\n",
       "      <th>avance: distancia hacia atrás</th>\n",
       "      <th>avance: largo total flujo</th>\n",
       "      <th>avance: ancho maximo</th>\n",
       "      <th>volumen_emitido</th>\n",
       "      <th>anchoporlargo</th>\n",
       "      <th>area_avance</th>\n",
       "      <th>espesor</th>\n",
       "    </tr>\n",
       "  </thead>\n",
       "  <tbody>\n",
       "    <tr>\n",
       "      <th>44</th>\n",
       "      <td>44</td>\n",
       "      <td>5441.333333</td>\n",
       "      <td>0.360</td>\n",
       "      <td>0.074</td>\n",
       "      <td>0.434</td>\n",
       "      <td>0.305</td>\n",
       "      <td>0.001493</td>\n",
       "      <td>0.033092</td>\n",
       "      <td>0.103910</td>\n",
       "      <td>0.021546</td>\n",
       "    </tr>\n",
       "    <tr>\n",
       "      <th>45</th>\n",
       "      <td>45</td>\n",
       "      <td>5967.333333</td>\n",
       "      <td>0.362</td>\n",
       "      <td>0.074</td>\n",
       "      <td>0.436</td>\n",
       "      <td>0.305</td>\n",
       "      <td>0.001493</td>\n",
       "      <td>0.033245</td>\n",
       "      <td>0.104389</td>\n",
       "      <td>0.021447</td>\n",
       "    </tr>\n",
       "    <tr>\n",
       "      <th>46</th>\n",
       "      <td>46</td>\n",
       "      <td>9159.333333</td>\n",
       "      <td>0.368</td>\n",
       "      <td>0.074</td>\n",
       "      <td>0.442</td>\n",
       "      <td>0.305</td>\n",
       "      <td>0.001493</td>\n",
       "      <td>0.033702</td>\n",
       "      <td>0.105826</td>\n",
       "      <td>0.021156</td>\n",
       "    </tr>\n",
       "    <tr>\n",
       "      <th>47</th>\n",
       "      <td>47</td>\n",
       "      <td>9986.333333</td>\n",
       "      <td>0.368</td>\n",
       "      <td>0.074</td>\n",
       "      <td>0.442</td>\n",
       "      <td>0.305</td>\n",
       "      <td>0.001493</td>\n",
       "      <td>0.033702</td>\n",
       "      <td>0.105826</td>\n",
       "      <td>0.021156</td>\n",
       "    </tr>\n",
       "    <tr>\n",
       "      <th>48</th>\n",
       "      <td>48</td>\n",
       "      <td>76919.333333</td>\n",
       "      <td>0.368</td>\n",
       "      <td>0.074</td>\n",
       "      <td>0.442</td>\n",
       "      <td>0.305</td>\n",
       "      <td>0.001493</td>\n",
       "      <td>0.033702</td>\n",
       "      <td>0.105826</td>\n",
       "      <td>0.021156</td>\n",
       "    </tr>\n",
       "  </tbody>\n",
       "</table>\n",
       "</div>"
      ],
      "text/plain": [
       "    Unnamed: 0  avance: tiempo  avance: distancia desde punto eyeccion  \\\n",
       "44          44     5441.333333                                   0.360   \n",
       "45          45     5967.333333                                   0.362   \n",
       "46          46     9159.333333                                   0.368   \n",
       "47          47     9986.333333                                   0.368   \n",
       "48          48    76919.333333                                   0.368   \n",
       "\n",
       "    avance: distancia hacia atrás  avance: largo total flujo  \\\n",
       "44                          0.074                      0.434   \n",
       "45                          0.074                      0.436   \n",
       "46                          0.074                      0.442   \n",
       "47                          0.074                      0.442   \n",
       "48                          0.074                      0.442   \n",
       "\n",
       "    avance: ancho maximo  volumen_emitido  anchoporlargo  area_avance  \\\n",
       "44                 0.305         0.001493       0.033092     0.103910   \n",
       "45                 0.305         0.001493       0.033245     0.104389   \n",
       "46                 0.305         0.001493       0.033702     0.105826   \n",
       "47                 0.305         0.001493       0.033702     0.105826   \n",
       "48                 0.305         0.001493       0.033702     0.105826   \n",
       "\n",
       "     espesor  \n",
       "44  0.021546  \n",
       "45  0.021447  \n",
       "46  0.021156  \n",
       "47  0.021156  \n",
       "48  0.021156  "
      ]
     },
     "execution_count": 28,
     "metadata": {},
     "output_type": "execute_result"
    }
   ],
   "source": [
    "exp.dinamica.tail()"
   ]
  },
  {
   "cell_type": "code",
   "execution_count": 29,
   "metadata": {
    "collapsed": false
   },
   "outputs": [
    {
     "data": {
      "text/plain": [
       "0     0.000000\n",
       "1     0.000475\n",
       "2     0.000750\n",
       "3     0.001085\n",
       "4     0.001575\n",
       "5     0.002175\n",
       "6     0.002650\n",
       "7     0.003190\n",
       "8     0.003875\n",
       "9     0.004521\n",
       "10    0.005250\n",
       "11    0.005957\n",
       "12    0.007000\n",
       "13    0.008075\n",
       "14    0.009000\n",
       "15    0.010335\n",
       "16    0.011531\n",
       "17    0.012916\n",
       "18    0.014318\n",
       "19    0.015660\n",
       "20    0.017000\n",
       "21    0.018395\n",
       "22    0.019845\n",
       "23    0.021128\n",
       "24    0.022294\n",
       "25    0.023004\n",
       "26    0.024215\n",
       "27    0.025628\n",
       "28    0.026550\n",
       "29    0.027300\n",
       "30    0.028143\n",
       "31    0.028595\n",
       "32    0.028896\n",
       "33    0.029747\n",
       "34    0.030125\n",
       "35    0.030424\n",
       "36    0.030805\n",
       "37    0.031415\n",
       "38    0.031949\n",
       "39    0.032330\n",
       "40    0.032559\n",
       "41    0.032940\n",
       "42    0.033092\n",
       "43    0.033092\n",
       "44    0.033092\n",
       "45    0.033245\n",
       "46    0.033702\n",
       "47    0.033702\n",
       "48    0.033702\n",
       "dtype: float64"
      ]
     },
     "execution_count": 29,
     "metadata": {},
     "output_type": "execute_result"
    }
   ],
   "source": [
    "(exp.dinamica['avance: ancho maximo']/2)*(exp.dinamica['avance: largo total flujo']/2)"
   ]
  },
  {
   "cell_type": "code",
   "execution_count": 30,
   "metadata": {
    "collapsed": false
   },
   "outputs": [
    {
     "name": "stderr",
     "output_type": "stream",
     "text": [
      "C:\\Users\\CCVV\\Anaconda3b\\lib\\site-packages\\ipykernel\\__main__.py:11: SettingWithCopyWarning: \n",
      "A value is trying to be set on a copy of a slice from a DataFrame\n",
      "\n",
      "See the caveats in the documentation: http://pandas.pydata.org/pandas-docs/stable/indexing.html#indexing-view-versus-copy\n"
     ]
    }
   ],
   "source": [
    "rho_manjar = 1340\n",
    "kilos_manjar = 2\n",
    "mitad = 2\n",
    "pi = 3.14\n",
    "\n",
    "for exp in Experimentos:\n",
    "    exp.dinamica['volumen_emitido'] = exp.param['caudal'][0]*exp.dinamica['avance: tiempo']\n",
    "    exp.dinamica['anchoporlargo'] = (exp.dinamica['avance: ancho maximo']/mitad)*(exp.dinamica['avance: largo total flujo']/mitad)\n",
    "    exp.dinamica['area_avance'] = exp.dinamica['anchoporlargo']*pi\n",
    "    volumen_total = kilos_manjar/rho_manjar\n",
    "    exp.dinamica['volumen_emitido'][exp.dinamica['volumen_emitido'] > volumen_total] = volumen_total\n",
    "    exp.dinamica['espesor'] = 3*exp.dinamica['volumen_emitido']/(2*exp.dinamica['area_avance'])"
   ]
  },
  {
   "cell_type": "code",
   "execution_count": 31,
   "metadata": {
    "collapsed": false
   },
   "outputs": [
    {
     "data": {
      "text/html": [
       "<div>\n",
       "<table border=\"1\" class=\"dataframe\">\n",
       "  <thead>\n",
       "    <tr style=\"text-align: right;\">\n",
       "      <th></th>\n",
       "      <th>Unnamed: 0</th>\n",
       "      <th>avance: tiempo</th>\n",
       "      <th>avance: distancia desde punto eyeccion</th>\n",
       "      <th>avance: distancia hacia atrás</th>\n",
       "      <th>avance: largo total flujo</th>\n",
       "      <th>avance: ancho maximo</th>\n",
       "      <th>volumen_emitido</th>\n",
       "      <th>anchoporlargo</th>\n",
       "      <th>area_avance</th>\n",
       "      <th>espesor</th>\n",
       "    </tr>\n",
       "  </thead>\n",
       "  <tbody>\n",
       "    <tr>\n",
       "      <th>0</th>\n",
       "      <td>0</td>\n",
       "      <td>0.000000</td>\n",
       "      <td>0.00</td>\n",
       "      <td>0.000</td>\n",
       "      <td>0.000</td>\n",
       "      <td>0.000</td>\n",
       "      <td>0.000000</td>\n",
       "      <td>0.000000</td>\n",
       "      <td>0.000000</td>\n",
       "      <td>NaN</td>\n",
       "    </tr>\n",
       "    <tr>\n",
       "      <th>1</th>\n",
       "      <td>1</td>\n",
       "      <td>5.500000</td>\n",
       "      <td>0.01</td>\n",
       "      <td>0.010</td>\n",
       "      <td>0.020</td>\n",
       "      <td>0.035</td>\n",
       "      <td>0.000005</td>\n",
       "      <td>0.000175</td>\n",
       "      <td>0.000550</td>\n",
       "      <td>0.015014</td>\n",
       "    </tr>\n",
       "    <tr>\n",
       "      <th>2</th>\n",
       "      <td>2</td>\n",
       "      <td>32.833333</td>\n",
       "      <td>0.02</td>\n",
       "      <td>0.020</td>\n",
       "      <td>0.040</td>\n",
       "      <td>0.050</td>\n",
       "      <td>0.000033</td>\n",
       "      <td>0.000500</td>\n",
       "      <td>0.001570</td>\n",
       "      <td>0.031369</td>\n",
       "    </tr>\n",
       "    <tr>\n",
       "      <th>3</th>\n",
       "      <td>3</td>\n",
       "      <td>69.500000</td>\n",
       "      <td>0.03</td>\n",
       "      <td>0.032</td>\n",
       "      <td>0.062</td>\n",
       "      <td>0.070</td>\n",
       "      <td>0.000069</td>\n",
       "      <td>0.001085</td>\n",
       "      <td>0.003407</td>\n",
       "      <td>0.030600</td>\n",
       "    </tr>\n",
       "    <tr>\n",
       "      <th>4</th>\n",
       "      <td>4</td>\n",
       "      <td>113.166667</td>\n",
       "      <td>0.04</td>\n",
       "      <td>0.037</td>\n",
       "      <td>0.077</td>\n",
       "      <td>0.085</td>\n",
       "      <td>0.000113</td>\n",
       "      <td>0.001636</td>\n",
       "      <td>0.005138</td>\n",
       "      <td>0.033039</td>\n",
       "    </tr>\n",
       "  </tbody>\n",
       "</table>\n",
       "</div>"
      ],
      "text/plain": [
       "   Unnamed: 0  avance: tiempo  avance: distancia desde punto eyeccion  \\\n",
       "0           0        0.000000                                    0.00   \n",
       "1           1        5.500000                                    0.01   \n",
       "2           2       32.833333                                    0.02   \n",
       "3           3       69.500000                                    0.03   \n",
       "4           4      113.166667                                    0.04   \n",
       "\n",
       "   avance: distancia hacia atrás  avance: largo total flujo  \\\n",
       "0                          0.000                      0.000   \n",
       "1                          0.010                      0.020   \n",
       "2                          0.020                      0.040   \n",
       "3                          0.032                      0.062   \n",
       "4                          0.037                      0.077   \n",
       "\n",
       "   avance: ancho maximo  volumen_emitido  anchoporlargo  area_avance   espesor  \n",
       "0                 0.000         0.000000       0.000000     0.000000       NaN  \n",
       "1                 0.035         0.000005       0.000175     0.000550  0.015014  \n",
       "2                 0.050         0.000033       0.000500     0.001570  0.031369  \n",
       "3                 0.070         0.000069       0.001085     0.003407  0.030600  \n",
       "4                 0.085         0.000113       0.001636     0.005138  0.033039  "
      ]
     },
     "execution_count": 31,
     "metadata": {},
     "output_type": "execute_result"
    }
   ],
   "source": [
    "exp.dinamica.head()"
   ]
  },
  {
   "cell_type": "code",
   "execution_count": 21,
   "metadata": {
    "collapsed": true
   },
   "outputs": [],
   "source": [
    "#lista para armar figures de velocidad segun Q\n",
    "listaespesor = []\n",
    "#es una lista donde en cada value hay un diccionario por experimento\n",
    "#ANOTAR EN UNA HOJA COMO SE VE Y USA ESTO PLS\n",
    "for exp in Experimentos:\n",
    "    holder = {} #es un diccionario \n",
    "    holder['nombre'] = exp.param['NOMBRE'][0]#solo el valor de la primera fila\n",
    "    holder['tiempo'] = exp.dinamica['avance: tiempo']#toda la columna\n",
    "    holder['espesor'] = exp.dinamica['espesor']#toda la columna\n",
    "    holder['caudal'] = exp.param['caudal'][0]#solo el valor de la primera fila\n",
    "    holder['angulo'] = exp.param['angulo inclinacion'][0]\n",
    "    holder[\"rango temperatura\"] = rango_temperatura(exp.param[\"t max\"][0])\n",
    "        \n",
    "    listaespesor.append(holder)"
   ]
  },
  {
   "cell_type": "code",
   "execution_count": 25,
   "metadata": {
    "collapsed": true
   },
   "outputs": [],
   "source": [
    "fig= plt.plot(Experimentos[8].dinamica['avance: tiempo'], Experimentos[8].dinamica['espesor'], marker = 'x')"
   ]
  },
  {
   "cell_type": "code",
   "execution_count": 32,
   "metadata": {
    "collapsed": false
   },
   "outputs": [
    {
     "name": "stdout",
     "output_type": "stream",
     "text": [
      "0 1e-06\n",
      "1 5e-06\n",
      "2 1e-05\n",
      "3 1.7e-05\n",
      "4 2.5e-05\n"
     ]
    }
   ],
   "source": [
    "#Graficos: ESPESOR vs Tiempo\n",
    "\n",
    "fig = plt.figure()\n",
    "axes = []\n",
    "\n",
    "for x in range(count):\n",
    "    axes.append(fig.add_subplot(2, 3, x + 1))\n",
    "\n",
    "for i, (key, group) in enumerate(groupby(sorted(listaespesor, key=lambda x: x['caudal']), key=lambda x: x['caudal'])):\n",
    "    print(i, key)\n",
    "\n",
    "    for exp in group:\n",
    "        axes[i].legend([key])\n",
    "        if exp['angulo'] == 15:\n",
    "            axes[i].loglog(exp['tiempo'], exp['espesor'], color='C{}'.format(exp['rango temperatura']),\n",
    "                           linestyle='--')\n",
    "        else:\n",
    "            axes[i].loglog(exp['tiempo'], exp['espesor'], color='C{}'.format(exp['rango temperatura']))\n",
    "        axes[i].legend([key])\n",
    "            \n",
    "legend1 = plt.legend(handles=[pat1, pat2, pat3, pat4, pat5, pat6, pat7], bbox_to_anchor=(1.8, 0.5), loc=5)\n",
    "plt.gca().add_artist(legend1)\n",
    "\n",
    "linea1= ax.plot([],[], label='15°', linestyle='--', color='black')\n",
    "linea2= ax.plot([],[], label='10°', color='black')       \n",
    "plt.legend(bbox_to_anchor=(1.8, 0.5), loc=6)\n",
    "fig.show()"
   ]
  },
  {
   "cell_type": "code",
   "execution_count": 34,
   "metadata": {
    "collapsed": true
   },
   "outputs": [],
   "source": [
    "#lista para armar figures de velocidad segun Q\n",
    "listaancho = []\n",
    "#es una lista donde en cada value hay un diccionario por experimento\n",
    "#ANOTAR EN UNA HOJA COMO SE VE Y USA ESTO PLS\n",
    "for exp in Experimentos:\n",
    "    holder = {} #es un diccionario \n",
    "    holder['nombre'] = exp.param['NOMBRE'][0]#solo el valor de la primera fila\n",
    "    holder['tiempo'] = exp.dinamica['avance: tiempo']#toda la columna\n",
    "    holder['ancho'] = exp.dinamica['avance: ancho maximo']#toda la columna\n",
    "    holder['caudal'] = exp.param['caudal'][0]#solo el valor de la primera fila\n",
    "    holder['angulo'] = exp.param['angulo inclinacion'][0]\n",
    "    holder[\"rango temperatura\"] = rango_temperatura(exp.param[\"t max\"][0])\n",
    "        \n",
    "    listaancho.append(holder)"
   ]
  },
  {
   "cell_type": "code",
   "execution_count": 35,
   "metadata": {
    "collapsed": false
   },
   "outputs": [
    {
     "name": "stdout",
     "output_type": "stream",
     "text": [
      "0 1e-06\n",
      "1 5e-06\n",
      "2 1e-05\n",
      "3 1.7e-05\n",
      "4 2.5e-05\n"
     ]
    }
   ],
   "source": [
    "#Graficos: ANCHO VS Tiempo\n",
    "fig = plt.figure()\n",
    "axes = []\n",
    "\n",
    "for x in range(count):\n",
    "    axes.append(fig.add_subplot(2, 3, x + 1))\n",
    "\n",
    "for i, (key, group) in enumerate(groupby(sorted(listaancho, key=lambda x: x['caudal']), key=lambda x: x['caudal'])):\n",
    "    print(i, key)\n",
    "\n",
    "    for exp in group:\n",
    "        axes[i].legend([key])\n",
    "        if exp['angulo'] == 15:\n",
    "            axes[i].loglog(exp['tiempo'], exp['ancho'], color='C{}'.format(exp['rango temperatura']),\n",
    "                           linestyle='--')\n",
    "        else:\n",
    "            axes[i].loglog(exp['tiempo'], exp['ancho'], color='C{}'.format(exp['rango temperatura']))\n",
    "        axes[i].legend([key])\n",
    "            \n",
    "legend1 = plt.legend(handles=[pat1, pat2, pat3, pat4, pat5, pat6, pat7], bbox_to_anchor=(1.8, 0.5), loc=5)\n",
    "plt.gca().add_artist(legend1)\n",
    "\n",
    "linea1= ax.plot([],[], label='15°', linestyle='--', color='black')\n",
    "linea2= ax.plot([],[], label='10°', color='black')       \n",
    "plt.legend(bbox_to_anchor=(1.8, 0.5), loc=6)\n",
    "fig.show()"
   ]
  }
 ],
 "metadata": {
  "anaconda-cloud": {},
  "kernelspec": {
   "display_name": "Python [conda root]",
   "language": "python",
   "name": "conda-root-py"
  },
  "language_info": {
   "codemirror_mode": {
    "name": "ipython",
    "version": 3
   },
   "file_extension": ".py",
   "mimetype": "text/x-python",
   "name": "python",
   "nbconvert_exporter": "python",
   "pygments_lexer": "ipython3",
   "version": "3.5.2"
  }
 },
 "nbformat": 4,
 "nbformat_minor": 1
}
