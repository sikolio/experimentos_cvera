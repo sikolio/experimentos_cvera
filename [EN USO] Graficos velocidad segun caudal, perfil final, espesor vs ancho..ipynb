{
 "cells": [
  {
   "cell_type": "code",
   "execution_count": 4,
   "metadata": {
    "collapsed": false
   },
   "outputs": [
    {
     "name": "stdout",
     "output_type": "stream",
     "text": [
      "Using matplotlib backend: Qt5Agg\n"
     ]
    }
   ],
   "source": [
    "import pandas as pd\n",
    "import os\n",
    "import csv\n",
    "import numpy as np\n",
    "from matplotlib import pyplot as plt\n",
    "%matplotlib"
   ]
  },
  {
   "cell_type": "code",
   "execution_count": 5,
   "metadata": {
    "collapsed": true
   },
   "outputs": [
    {
     "name": "stdout",
     "output_type": "stream",
     "text": [
      "[Errno 2] No such file or directory: '.\\\\Data\\\\5cc50C - max av.csv'\n",
      "[Errno 2] No such file or directory: '.\\\\Data\\\\5cc50C - fspot.csv'\n",
      "[Errno 2] No such file or directory: '.\\\\Data\\\\5cc50C - max av cup.csv'\n",
      "[Errno 2] No such file or directory: '.\\\\Data\\\\5cc50C - frente.csv'\n",
      "[Errno 2] No such file or directory: '.\\\\Data\\\\1cc54C - max av.csv'\n",
      "[Errno 2] No such file or directory: '.\\\\Data\\\\1cc54C - fspot.csv'\n",
      "[Errno 2] No such file or directory: '.\\\\Data\\\\1cc54C - max av cup.csv'\n",
      "[Errno 2] No such file or directory: '.\\\\Data\\\\1cc54C - frente.csv'\n",
      "[Errno 2] No such file or directory: '.\\\\Data\\\\25cc54C - max av.csv'\n",
      "[Errno 2] No such file or directory: '.\\\\Data\\\\25cc54C - fspot.csv'\n",
      "[Errno 2] No such file or directory: '.\\\\Data\\\\25cc54C - max av cup.csv'\n",
      "[Errno 2] No such file or directory: '.\\\\Data\\\\25cc54C - frente.csv'\n",
      "[Errno 2] No such file or directory: '.\\\\Data\\\\10cc60C - max av.csv'\n",
      "[Errno 2] No such file or directory: '.\\\\Data\\\\10cc60C - fspot.csv'\n",
      "[Errno 2] No such file or directory: '.\\\\Data\\\\10cc60C - max av cup.csv'\n",
      "[Errno 2] No such file or directory: '.\\\\Data\\\\10cc60C - frente.csv'\n",
      "[Errno 2] No such file or directory: '.\\\\Data\\\\25cc60C - max av.csv'\n",
      "[Errno 2] No such file or directory: '.\\\\Data\\\\25cc60C - fspot.csv'\n",
      "[Errno 2] No such file or directory: '.\\\\Data\\\\25cc60C - max av cup.csv'\n",
      "[Errno 2] No such file or directory: '.\\\\Data\\\\25cc60C - frente.csv'\n",
      "[Errno 2] No such file or directory: '.\\\\Data\\\\1cc59C - fspot.csv'\n",
      "[Errno 2] No such file or directory: '.\\\\Data\\\\1cc59C - max av cup.csv'\n",
      "[Errno 2] No such file or directory: '.\\\\Data\\\\1cc59C - frente.csv'\n",
      "[Errno 2] No such file or directory: '.\\\\Data\\\\1cc47C - max av.csv'\n",
      "[Errno 2] No such file or directory: '.\\\\Data\\\\1cc47C - fspot.csv'\n",
      "[Errno 2] No such file or directory: '.\\\\Data\\\\1cc47C - frente.csv'\n",
      "[Errno 2] No such file or directory: '.\\\\Data\\\\1cc55C - max av.csv'\n",
      "[Errno 2] No such file or directory: '.\\\\Data\\\\1cc55C - fspot.csv'\n",
      "[Errno 2] No such file or directory: '.\\\\Data\\\\1cc55C - frente.csv'\n",
      "[Errno 2] No such file or directory: '.\\\\Data\\\\25cc58C - max av.csv'\n",
      "[Errno 2] No such file or directory: '.\\\\Data\\\\25cc58C - fspot.csv'\n",
      "'max'\n",
      "[Errno 2] No such file or directory: '.\\\\Data\\\\25cc58C - frente.csv'\n",
      "[Errno 2] No such file or directory: '.\\\\Data\\\\25cc70C - max av.csv'\n",
      "[Errno 2] No such file or directory: '.\\\\Data\\\\25cc70C - fspot.csv'\n",
      "[Errno 2] No such file or directory: '.\\\\Data\\\\25cc70C - frente.csv'\n",
      "[Errno 2] No such file or directory: '.\\\\Data\\\\10cc67C - max av.csv'\n",
      "[Errno 2] No such file or directory: '.\\\\Data\\\\10cc67C - fspot.csv'\n",
      "[Errno 2] No such file or directory: '.\\\\Data\\\\10cc67C - frente.csv'\n",
      "[Errno 2] No such file or directory: '.\\\\Data\\\\10cc59C - max av.csv'\n",
      "[Errno 2] No such file or directory: '.\\\\Data\\\\10cc59C - fspot.csv'\n",
      "[Errno 2] No such file or directory: '.\\\\Data\\\\10cc59C - frente.csv'\n",
      "[Errno 2] No such file or directory: '.\\\\Data\\\\5cc63C - max av.csv'\n",
      "[Errno 2] No such file or directory: '.\\\\Data\\\\5cc63C - fspot.csv'\n",
      "[Errno 2] No such file or directory: '.\\\\Data\\\\5cc63C - max av cup.csv'\n",
      "[Errno 2] No such file or directory: '.\\\\Data\\\\5cc63C - frente.csv'\n",
      "[Errno 2] No such file or directory: '.\\\\Data\\\\5cc59C - max av.csv'\n",
      "[Errno 2] No such file or directory: '.\\\\Data\\\\5cc59C - fspot.csv'\n",
      "[Errno 2] No such file or directory: '.\\\\Data\\\\5cc59C - frente.csv'\n",
      "[Errno 2] No such file or directory: '.\\\\Data\\\\10cc49C - max av.csv'\n",
      "[Errno 2] No such file or directory: '.\\\\Data\\\\10cc49C - fspot.csv'\n",
      "[Errno 2] No such file or directory: '.\\\\Data\\\\10cc49C - frente.csv'\n",
      "[Errno 2] No such file or directory: '.\\\\Data\\\\25cc62C - max av.csv'\n",
      "[Errno 2] No such file or directory: '.\\\\Data\\\\25cc62C - fspot.csv'\n",
      "[Errno 2] No such file or directory: '.\\\\Data\\\\25cc62C - max av cup.csv'\n",
      "[Errno 2] No such file or directory: '.\\\\Data\\\\25cc62C - frente.csv'\n",
      "[Errno 2] No such file or directory: '.\\\\Data\\\\1cc62C - max av.csv'\n",
      "[Errno 2] No such file or directory: '.\\\\Data\\\\1cc62C - fspot.csv'\n",
      "[Errno 2] No such file or directory: '.\\\\Data\\\\1cc62C - max av cup.csv'\n",
      "[Errno 2] No such file or directory: '.\\\\Data\\\\1cc62C - frente.csv'\n",
      "[Errno 2] No such file or directory: '.\\\\Data\\\\5cc53C - max av.csv'\n",
      "[Errno 2] No such file or directory: '.\\\\Data\\\\5cc53C - fspot.csv'\n",
      "[Errno 2] No such file or directory: '.\\\\Data\\\\5cc53C - frente.csv'\n",
      "[Errno 2] No such file or directory: '.\\\\Data\\\\5a25cc56C - max av.csv'\n",
      "[Errno 2] No such file or directory: '.\\\\Data\\\\5a25cc56C - fspot.csv'\n",
      "[Errno 2] No such file or directory: '.\\\\Data\\\\5a25cc56C - frente.csv'\n",
      "[Errno 2] No such file or directory: '.\\\\Data\\\\5cc57C - fspot.csv'\n",
      "[Errno 2] No such file or directory: '.\\\\Data\\\\5cc57C - max av cup.csv'\n",
      "[Errno 2] No such file or directory: '.\\\\Data\\\\5cc57C - frente.csv'\n",
      "[Errno 2] No such file or directory: '.\\\\Data\\\\25cc50C - max av.csv'\n",
      "[Errno 2] No such file or directory: '.\\\\Data\\\\25cc50C - fspot.csv'\n",
      "[Errno 2] No such file or directory: '.\\\\Data\\\\25cc50C - frente.csv'\n",
      "[Errno 2] No such file or directory: '.\\\\Data\\\\10cc55C - fspot.csv'\n",
      "[Errno 2] No such file or directory: '.\\\\Data\\\\10cc55C - max av cup.csv'\n",
      "[Errno 2] No such file or directory: '.\\\\Data\\\\10cc55C - frente.csv'\n",
      "[Errno 2] No such file or directory: '.\\\\Data\\\\1cc24C - max av.csv'\n",
      "[Errno 2] No such file or directory: '.\\\\Data\\\\1cc24C - fspot.csv'\n",
      "[Errno 2] No such file or directory: '.\\\\Data\\\\1cc24C - max av cup.csv'\n",
      "[Errno 2] No such file or directory: '.\\\\Data\\\\1cc24C - frente.csv'\n",
      "[Errno 2] No such file or directory: '.\\\\Data\\\\10cc57C - fspot.csv'\n",
      "[Errno 2] No such file or directory: '.\\\\Data\\\\10cc57C - max av cup.csv'\n",
      "[Errno 2] No such file or directory: '.\\\\Data\\\\10cc57C - frente.csv'\n",
      "[Errno 2] No such file or directory: '.\\\\Data\\\\10cc24C - max av.csv'\n",
      "[Errno 2] No such file or directory: '.\\\\Data\\\\10cc24C - fspot.csv'\n",
      "[Errno 2] No such file or directory: '.\\\\Data\\\\10cc24C - max av cup.csv'\n",
      "[Errno 2] No such file or directory: '.\\\\Data\\\\10cc24C - frente.csv'\n",
      "[Errno 2] No such file or directory: '.\\\\Data\\\\5cc55C - fspot.csv'\n",
      "[Errno 2] No such file or directory: '.\\\\Data\\\\5cc55C - max av cup.csv'\n",
      "[Errno 2] No such file or directory: '.\\\\Data\\\\5cc55C - frente.csv'\n",
      "[Errno 2] No such file or directory: '.\\\\Data\\\\5cc58C - fspot.csv'\n",
      "[Errno 2] No such file or directory: '.\\\\Data\\\\5cc58C - max av cup.csv'\n",
      "[Errno 2] No such file or directory: '.\\\\Data\\\\5cc58C - frente.csv'\n",
      "[Errno 2] No such file or directory: '.\\\\Data\\\\1cc48C - fspot.csv'\n",
      "[Errno 2] No such file or directory: '.\\\\Data\\\\1cc48C - max av cup.csv'\n",
      "[Errno 2] No such file or directory: '.\\\\Data\\\\1cc48C - frente.csv'\n",
      "[Errno 2] No such file or directory: '.\\\\Data\\\\1cc51C - fspot.csv'\n",
      "[Errno 2] No such file or directory: '.\\\\Data\\\\1cc51C - max av cup.csv'\n",
      "[Errno 2] No such file or directory: '.\\\\Data\\\\1cc51C - frente.csv'\n",
      "[Errno 2] No such file or directory: '.\\\\Data\\\\5cc48C - max av.csv'\n",
      "[Errno 2] No such file or directory: '.\\\\Data\\\\5cc48C - max av cup.csv'\n",
      "[Errno 2] No such file or directory: '.\\\\Data\\\\10cc50C - max av.csv'\n",
      "[Errno 2] No such file or directory: '.\\\\Data\\\\10cc50C - max av cup.csv'\n",
      "[Errno 2] No such file or directory: '.\\\\Data\\\\1cc54,7C - max av.csv'\n",
      "[Errno 2] No such file or directory: '.\\\\Data\\\\1cc54,7C - max av cup.csv'\n",
      "[Errno 2] No such file or directory: '.\\\\Data\\\\1cc52C - max av.csv'\n",
      "[Errno 2] No such file or directory: '.\\\\Data\\\\1cc52C - max av cup.csv'\n"
     ]
    }
   ],
   "source": [
    "from Experimentos2 import Experimentos, labelLines"
   ]
  },
  {
   "cell_type": "code",
   "execution_count": null,
   "metadata": {
    "collapsed": false
   },
   "outputs": [],
   "source": [
    "#experimentos sin FLIR: 11\n",
    "#experimentos con FLIR: 22\n",
    "for i, exp in enumerate(Experimentos):\n",
    "   print(i, exp, (exp.flir is not None))"
   ]
  },
  {
   "cell_type": "code",
   "execution_count": null,
   "metadata": {
    "collapsed": false
   },
   "outputs": [],
   "source": [
    "Experimentos[19].param.head()"
   ]
  },
  {
   "cell_type": "code",
   "execution_count": 6,
   "metadata": {
    "collapsed": true
   },
   "outputs": [],
   "source": [
    "#FUNCION Q DEVUELVE RANGO [1-7] SEGUN TEMP MAXIMA DEL EXP\n",
    "def rango_temperatura(temp):\n",
    "    if temp < 40:\n",
    "        return 1\n",
    "    if temp < 45:\n",
    "        return 2\n",
    "    if temp < 50:\n",
    "        return 3\n",
    "    if temp < 55:\n",
    "        return 4\n",
    "    if temp < 60:\n",
    "        return 5\n",
    "    if temp < 65:\n",
    "        return 6\n",
    "    if temp < 70:\n",
    "        return 7"
   ]
  },
  {
   "cell_type": "code",
   "execution_count": 18,
   "metadata": {
    "collapsed": false
   },
   "outputs": [],
   "source": [
    "#LISTA para armar graficos de PERFIL agrupados por caudal\n",
    "#es una lista donde en cada value hay un diccionario por experimento\n",
    "listaporcaudal = []\n",
    "\n",
    "for exp in Experimentos:\n",
    "    holder = {} #es un diccionario \n",
    "    holder['nombre'] = exp.param['NOMBRE'][0]#solo el valor de la primera fila\n",
    "    holder['espesor'] = exp.perfil['perfil: espesor']#toda la columna\n",
    "    holder['largo'] = exp.perfil['perfil: distancia']#toda la columna\n",
    "    holder['caudal'] = exp.param['caudal'][0]#solo el valor de la primera fila\n",
    "    holder['angulo'] = exp.param['angulo inclinacion'][0]\n",
    "    holder[\"rango temperatura\"] = rango_temperatura(exp.param[\"t max\"][0])\n",
    "    holder['uso'] = exp.param['uso manjar'][0]\n",
    "    holder['teyec'] = exp.param['tiempo fin eyeccion']\n",
    "\n",
    "\n",
    "    listaporcaudal.append(holder)"
   ]
  },
  {
   "cell_type": "code",
   "execution_count": null,
   "metadata": {
    "collapsed": false
   },
   "outputs": [],
   "source": [
    "#devuelve el valor que le pido recorriendo la lista creada arriba\n",
    "#for i, exp in enumerate(listaporcaudal):\n",
    "    #print(i,(exp['angulo']))"
   ]
  },
  {
   "cell_type": "code",
   "execution_count": 19,
   "metadata": {
    "collapsed": false
   },
   "outputs": [],
   "source": [
    "#LISTA para armar graficos de ANCHO VS ESPESOR agrupados por caudal\n",
    "#es una lista donde en cada value hay un diccionario por experimento\n",
    "listaporanchoyesp = []\n",
    "\n",
    "for exp in Experimentos:\n",
    "    holder = {} #es un diccionario \n",
    "    holder['nombre'] = exp.param['NOMBRE'][0]#solo el valor de la primera fila\n",
    "    holder['espesor'] = exp.param['result: espesor max final']#toda la columna\n",
    "    holder['ancho'] = exp.param['result: ancho max final']#toda la columna\n",
    "    holder['caudal'] = exp.param['caudal'][0]#solo el valor de la primera fila\n",
    "    holder['angulo'] = exp.param['angulo inclinacion'][0]\n",
    "    holder[\"rango temperatura\"] = rango_temperatura(exp.param[\"t max\"][0])\n",
    "    holder['teyec'] = exp.param['tiempo fin eyeccion']\n",
    "\n",
    "\n",
    "    listaporanchoyesp.append(holder)"
   ]
  },
  {
   "cell_type": "code",
   "execution_count": null,
   "metadata": {
    "collapsed": false,
    "scrolled": true
   },
   "outputs": [],
   "source": [
    "for x in listaporanchoyesp:\n",
    "    print(x['nombre'],x['ancho'].min())"
   ]
  },
  {
   "cell_type": "code",
   "execution_count": 9,
   "metadata": {
    "collapsed": false
   },
   "outputs": [
    {
     "name": "stdout",
     "output_type": "stream",
     "text": [
      "1e-06\n",
      "5e-06\n",
      "1e-05\n",
      "1.7e-05\n",
      "2.5e-05\n"
     ]
    }
   ],
   "source": [
    "#se arman GRUPOS SEGUN CAUDAL\n",
    "from itertools import groupby\n",
    "count = 0\n",
    "\n",
    "#key es la lista donde estan los diccionarios de exp y DF\n",
    "#group es que se agrupa segun el valor de 'caudal' en este caso\n",
    "\n",
    "for key, group in groupby(sorted(listaporcaudal, key=lambda x: x['caudal']), key=lambda x: x['caudal']):\n",
    "    print(key)\n",
    "    count += 1\n",
    "    #for exp in group:\n",
    "        #muestra el nombre del grupo y los elementos que tiene\n",
    "        #print(exp['nombre']) "
   ]
  },
  {
   "cell_type": "code",
   "execution_count": 10,
   "metadata": {
    "collapsed": false
   },
   "outputs": [],
   "source": [
    "#EJES GRAFICOS PERFILES SEGUN CAUDAL\n",
    "maximoejelargo = max([exp['largo'].max() for exp in listaporcaudal])\n",
    "minimoejelargo = min([exp['largo'].min() for exp in listaporcaudal])\n",
    "maximoejeespesor = max([exp['espesor'].max() for exp in listaporcaudal])\n",
    "minimoejeespesor = min([exp['espesor'].min() for exp in listaporcaudal])"
   ]
  },
  {
   "cell_type": "code",
   "execution_count": 11,
   "metadata": {
    "collapsed": false
   },
   "outputs": [],
   "source": [
    "#EJES GRAFICOS ANCHOS MAXIMOS SEGUN CAUDAL\n",
    "maximoejeancho = max([exp['ancho'].max() for exp in listaporanchoyesp])\n",
    "minimoejeancho = min([exp['ancho'].min() for exp in listaporanchoyesp])\n",
    "maximoejeespesor = max([exp['espesor'].max() for exp in listaporanchoyesp])\n",
    "minimoejeespesor = min([exp['espesor'].min() for exp in listaporanchoyesp])"
   ]
  },
  {
   "cell_type": "code",
   "execution_count": 16,
   "metadata": {
    "collapsed": false
   },
   "outputs": [
    {
     "name": "stdout",
     "output_type": "stream",
     "text": [
      "['pat1', 'pat2', 'pat3', 'pat4', 'pat5', 'pat6', 'pat7', <matplotlib.patches.Patch object at 0x0000025224A84748>]\n"
     ]
    }
   ],
   "source": [
    "#GENERA PATCHES DE COLORES SEGUN TEMPERATURA\n",
    "import matplotlib.patches as mpatches\n",
    "\n",
    "pat1 = mpatches.Patch(color='C1', label='temp < 40')\n",
    "pat2 = mpatches.Patch(color='C2', label='temp < 45')\n",
    "pat3 = mpatches.Patch(color='C3', label='temp < 50')\n",
    "pat4 = mpatches.Patch(color='C4', label='temp < 55')\n",
    "pat5 = mpatches.Patch(color='C5', label='temp < 60')\n",
    "pat6 = mpatches.Patch(color='C6', label='temp < 65')\n",
    "pat7 = mpatches.Patch(color='C7', label='temp < 70')\n",
    "pat8 = mpatches.Patch(color='black', label='15° slope')\n",
    "\n",
    "numerocolores = 7\n",
    "colors = ['pat{}'.format(i+1) for i in range(numerocolores)] + [pat8]\n",
    "\n",
    "print(colors)"
   ]
  },
  {
   "cell_type": "code",
   "execution_count": 1,
   "metadata": {
    "collapsed": false,
    "scrolled": true
   },
   "outputs": [
    {
     "ename": "SyntaxError",
     "evalue": "invalid syntax (<ipython-input-1-f97b35546ef1>, line 2)",
     "output_type": "error",
     "traceback": [
      "\u001b[0;36m  File \u001b[0;32m\"<ipython-input-1-f97b35546ef1>\"\u001b[0;36m, line \u001b[0;32m2\u001b[0m\n\u001b[0;31m    lu 730\u001b[0m\n\u001b[0m         ^\u001b[0m\n\u001b[0;31mSyntaxError\u001b[0m\u001b[0;31m:\u001b[0m invalid syntax\n"
     ]
    }
   ],
   "source": [
    "#lu 730\n",
    "#1030\n",
    "#CASI LISTO!!! FALTA LEYENDA LINEA PUNTEADA Y CONTINUA\n",
    "#5 GRAFICOS DE PERFIL AGRUPADOS POR CAUDAL Y COLOREADOS SEGUN TEMEPRATURA\n",
    "fig = plt.figure()\n",
    "axes = [fig.add_subplot(3,2,i+1) for i in range(count)]\n",
    "counter = 0\n",
    "\n",
    "for key, group in groupby(sorted(listaporcaudal, key=lambda x: x['caudal']), key=lambda x: x['caudal']):\n",
    "    print(key)\n",
    "    ax = axes[counter]\n",
    "    ax.set_xlim(minimoejelargo, maximoejelargo)\n",
    "    ax.set_ylim(0, maximoejeespesor)\n",
    "    ax.set_title('{}cc'.format(key*1000000))\n",
    "    counter += 1\n",
    "    \n",
    "    for exp in group:\n",
    "        #print(\"C{}\".format(exp[\"rango temperatura\"]))\n",
    "        if exp['angulo'] == 15:\n",
    "            ax.plot(exp['largo'], exp['espesor'], color='C{}'.format(exp['rango temperatura']), \n",
    "                    linestyle= '--', label=exp['nombre'])\n",
    "        else:\n",
    "            ax.plot(exp['largo'], exp['espesor'], color='C{}'.format(exp['rango temperatura']), label=exp['nombre'])\n",
    "    \n",
    "#    labelLines(ax.get_lines())\n",
    "#linea1, = ax.plot([],[], label='15°', linestyle='--', color='black')\n",
    "#linea2, = ax.plot([],[], label='10°', color='black')\n",
    "#plt.legend([linea1, linea2], ['15°', '10°'])\n",
    "legend1 = plt.legend(handles=[pat1, pat2, pat3, pat4, pat5, pat6, pat7], bbox_to_anchor=(1.8, 0.5), loc=5)\n",
    "plt.legend(bbox_to_anchor=(1.8, 0.5), loc=6)\n",
    "plt.gca().add_artist(legend1)\n",
    "fig.show()"
   ]
  },
  {
   "cell_type": "code",
   "execution_count": 17,
   "metadata": {
    "collapsed": false
   },
   "outputs": [],
   "source": [
    "for exp in Experimentos:\n",
    "    exp.param['tiempo fin eyeccion'] = exp.param['volumen total teorico']/exp.param['caudal']"
   ]
  },
  {
   "cell_type": "code",
   "execution_count": null,
   "metadata": {
    "collapsed": false
   },
   "outputs": [],
   "source": [
    "#1 GRAFICO DE PERFIL INLABEL NAME\n",
    "for key, group in groupby(sorted(listaporcaudal, key=lambda x: x['caudal']), key=lambda x: x['caudal']):\n",
    "    print(key)\n",
    "    if key == 2.5e-05:\n",
    "        c = 0\n",
    "        for exp in group:\n",
    "            #print(\"C{}\".format(exp[\"rango temperatura\"]))\n",
    "            c = c + 1\n",
    "            if exp['angulo'] == 15:\n",
    "                plt.plot(exp['largo'], exp['espesor'], color='C{}'.format(exp['rango temperatura']), \n",
    "                        linestyle= '--', label=exp['nombre'])\n",
    "            else:\n",
    "                plt.plot(exp['largo'], exp['espesor'], color='C{}'.format(exp['rango temperatura']), label=exp['nombre'])\n",
    "    \n",
    "        plt.show()\n",
    "        break\n",
    "    \n",
    "linea1 = ax.plot([],[], label='15°', linestyle='--', color='black')\n",
    "linea2 = ax.plot([],[], label='10°', color='black')\n",
    "plt.legend([linea1, linea2], ['15°', '10°'])\n",
    "labelLines(plt.gca().get_lines(), xvals=np.linspace(0, 0.23, c+2)[1: -1])\n",
    "legend1 = plt.legend(handles=[pat1, pat2, pat3, pat4, pat5, pat6, pat7], bbox_to_anchor=(1.115, 0.9), loc=1)\n",
    "plt.legend(bbox_to_anchor=(1.115, 0.5), loc=1)\n",
    "plt.gca().add_artist(legend1)\n",
    "print(c)"
   ]
  },
  {
   "cell_type": "code",
   "execution_count": 24,
   "metadata": {
    "collapsed": false
   },
   "outputs": [
    {
     "name": "stdout",
     "output_type": "stream",
     "text": [
      "0 1e-06\n",
      "1 5e-06\n",
      "2 1e-05\n"
     ]
    },
    {
     "name": "stderr",
     "output_type": "stream",
     "text": [
      "C:\\Users\\CCVV\\Anaconda3b\\lib\\site-packages\\matplotlib\\legend.py:634: UserWarning: Legend does not support [<matplotlib.lines.Line2D object at 0x0000025224A9E630>] instances.\n",
      "A proxy artist may be used instead.\n",
      "See: http://matplotlib.org/users/legend_guide.html#using-proxy-artist\n",
      "  \"#using-proxy-artist\".format(orig_handle)\n",
      "C:\\Users\\CCVV\\Anaconda3b\\lib\\site-packages\\matplotlib\\legend.py:634: UserWarning: Legend does not support [<matplotlib.lines.Line2D object at 0x0000025226252908>] instances.\n",
      "A proxy artist may be used instead.\n",
      "See: http://matplotlib.org/users/legend_guide.html#using-proxy-artist\n",
      "  \"#using-proxy-artist\".format(orig_handle)\n"
     ]
    },
    {
     "ename": "NameError",
     "evalue": "name 'fig' is not defined",
     "output_type": "error",
     "traceback": [
      "\u001b[0;31m---------------------------------------------------------------------------\u001b[0m",
      "\u001b[0;31mNameError\u001b[0m                                 Traceback (most recent call last)",
      "\u001b[0;32m<ipython-input-24-51d496e0e235>\u001b[0m in \u001b[0;36m<module>\u001b[0;34m()\u001b[0m\n\u001b[1;32m     22\u001b[0m \u001b[0mplt\u001b[0m\u001b[1;33m.\u001b[0m\u001b[0mlegend\u001b[0m\u001b[1;33m(\u001b[0m\u001b[0mbbox_to_anchor\u001b[0m\u001b[1;33m=\u001b[0m\u001b[1;33m(\u001b[0m\u001b[1;36m1.11\u001b[0m\u001b[1;33m,\u001b[0m \u001b[1;36m0.5\u001b[0m\u001b[1;33m)\u001b[0m\u001b[1;33m,\u001b[0m \u001b[0mloc\u001b[0m\u001b[1;33m=\u001b[0m\u001b[1;36m1\u001b[0m\u001b[1;33m)\u001b[0m\u001b[1;33m\u001b[0m\u001b[0m\n\u001b[1;32m     23\u001b[0m \u001b[0mplt\u001b[0m\u001b[1;33m.\u001b[0m\u001b[0mgca\u001b[0m\u001b[1;33m(\u001b[0m\u001b[1;33m)\u001b[0m\u001b[1;33m.\u001b[0m\u001b[0madd_artist\u001b[0m\u001b[1;33m(\u001b[0m\u001b[0mlegend1\u001b[0m\u001b[1;33m)\u001b[0m\u001b[1;33m\u001b[0m\u001b[0m\n\u001b[0;32m---> 24\u001b[0;31m \u001b[0mfig\u001b[0m\u001b[1;33m.\u001b[0m\u001b[0mshow\u001b[0m\u001b[1;33m(\u001b[0m\u001b[1;33m)\u001b[0m\u001b[1;33m\u001b[0m\u001b[0m\n\u001b[0m",
      "\u001b[0;31mNameError\u001b[0m: name 'fig' is not defined"
     ]
    }
   ],
   "source": [
    "#1 grafico de dinamica loglog para 1 caudal a la vez con InLabel true\n",
    "\n",
    "for i, (key, group) in enumerate(groupby(sorted(listadinamica, key=lambda x: x['caudal']), key=lambda x: x['caudal'])):\n",
    "    print(i, key)\n",
    "    c = 0\n",
    "    if key == 1e-05:\n",
    "        for exp in group:\n",
    "            c = c + 1\n",
    "            if exp['angulo'] == 15:\n",
    "                plt.loglog(exp['tiempo'], exp['distancia'], color='C{}'.format(exp['rango temperatura']),\n",
    "                               linestyle='--', label = exp['nombre'])\n",
    "                #plt.vline \n",
    "            else:\n",
    "                plt.loglog(exp['tiempo'], exp['distancia'], color='C{}'.format(exp['rango temperatura']), label = exp['nombre'])\n",
    "        plt.show\n",
    "        break\n",
    "\n",
    "linea1= plt.plot([],[], label='15°', linestyle='--', color='black')\n",
    "linea2= plt.plot([],[], label='10°', color='black')\n",
    "plt.legend([linea1, linea2], ['15°', '10°'])\n",
    "labelLines(plt.gca().get_lines(), xvals=np.linspace(-10, 95, c+2)[1: -1])\n",
    "legend1 = plt.legend(handles=[pat1, pat2, pat3, pat4, pat5, pat6, pat7], bbox_to_anchor=(1, 0.5), loc=1)\n",
    "plt.legend(bbox_to_anchor=(1.11, 0.5), loc=1)\n",
    "plt.gca().add_artist(legend1)\n",
    "fig.show()"
   ]
  },
  {
   "cell_type": "code",
   "execution_count": 2,
   "metadata": {
    "collapsed": false
   },
   "outputs": [
    {
     "ename": "NameError",
     "evalue": "name 'plt' is not defined",
     "output_type": "error",
     "traceback": [
      "\u001b[0;31m---------------------------------------------------------------------------\u001b[0m",
      "\u001b[0;31mNameError\u001b[0m                                 Traceback (most recent call last)",
      "\u001b[0;32m<ipython-input-2-9a9a098c020c>\u001b[0m in \u001b[0;36m<module>\u001b[0;34m()\u001b[0m\n\u001b[1;32m      2\u001b[0m \u001b[1;31m#5 GRAFICOS DE PERFIL AGRUPADOS POR CAUDAL Y COLOREADOS SEGUN TEMEPRATURA\u001b[0m\u001b[1;33m\u001b[0m\u001b[1;33m\u001b[0m\u001b[0m\n\u001b[1;32m      3\u001b[0m \u001b[1;31m#SOLO PRIMER USO DEL MANJAR\u001b[0m\u001b[1;33m\u001b[0m\u001b[1;33m\u001b[0m\u001b[0m\n\u001b[0;32m----> 4\u001b[0;31m \u001b[0mfig\u001b[0m \u001b[1;33m=\u001b[0m \u001b[0mplt\u001b[0m\u001b[1;33m.\u001b[0m\u001b[0mfigure\u001b[0m\u001b[1;33m(\u001b[0m\u001b[1;33m)\u001b[0m\u001b[1;33m\u001b[0m\u001b[0m\n\u001b[0m\u001b[1;32m      5\u001b[0m \u001b[0maxes\u001b[0m \u001b[1;33m=\u001b[0m \u001b[1;33m[\u001b[0m\u001b[0mfig\u001b[0m\u001b[1;33m.\u001b[0m\u001b[0madd_subplot\u001b[0m\u001b[1;33m(\u001b[0m\u001b[1;36m3\u001b[0m\u001b[1;33m,\u001b[0m\u001b[1;36m2\u001b[0m\u001b[1;33m,\u001b[0m\u001b[0mi\u001b[0m\u001b[1;33m+\u001b[0m\u001b[1;36m1\u001b[0m\u001b[1;33m)\u001b[0m \u001b[1;32mfor\u001b[0m \u001b[0mi\u001b[0m \u001b[1;32min\u001b[0m \u001b[0mrange\u001b[0m\u001b[1;33m(\u001b[0m\u001b[0mcount\u001b[0m\u001b[1;33m)\u001b[0m\u001b[1;33m]\u001b[0m\u001b[1;33m\u001b[0m\u001b[0m\n\u001b[1;32m      6\u001b[0m \u001b[0mcounter\u001b[0m \u001b[1;33m=\u001b[0m \u001b[1;36m0\u001b[0m\u001b[1;33m\u001b[0m\u001b[0m\n",
      "\u001b[0;31mNameError\u001b[0m: name 'plt' is not defined"
     ]
    }
   ],
   "source": [
    "#LISTOOOO\n",
    "#5 GRAFICOS DE PERFIL AGRUPADOS POR CAUDAL Y COLOREADOS SEGUN TEMEPRATURA \n",
    "#SOLO PRIMER USO DEL MANJAR\n",
    "fig = plt.figure()\n",
    "axes = [fig.add_subplot(3,2,i+1) for i in range(count)]\n",
    "counter = 0\n",
    "\n",
    "for key, group in groupby(sorted(listaporcaudal, key=lambda x: x['caudal']), key=lambda x: x['caudal']):\n",
    "    print(key)\n",
    "    ax = axes[counter]\n",
    "    ax.set_xlim(minimoejelargo, maximoejelargo)\n",
    "    ax.set_ylim(0, maximoejeespesor)\n",
    "    ax.set_title('{}cc'.format(key*1000000))\n",
    "    counter += 1\n",
    "    linea1= ax.plot([],[], label='15°', linestyle='--', color='black')\n",
    "    linea2= ax.plot([],[], label='10°', color='black')\n",
    "    \n",
    "    for exp in group:\n",
    "        #print(\"C{}\".format(exp[\"rango temperatura\"]))\n",
    "        if exp['uso'] == 1: \n",
    "            if exp['angulo'] == 15:\n",
    "                ax.plot(exp['largo'], exp['espesor'], color='C{}'.format(exp['rango temperatura']), \n",
    "                        linestyle= '--')\n",
    "            else:\n",
    "                ax.plot(exp['largo'], exp['espesor'], color='C{}'.format(exp['rango temperatura']))\n",
    "        \n",
    "legend1 = plt.legend(handles=[pat1, pat2, pat3, pat4, pat5, pat6, pat7], bbox_to_anchor=(1.8, 0.5), loc=5)\n",
    "plt.legend(bbox_to_anchor=(1.8, 0.5), loc=6)\n",
    "plt.gca().add_artist(legend1)\n",
    "fig.show()"
   ]
  },
  {
   "cell_type": "code",
   "execution_count": 33,
   "metadata": {
    "collapsed": false,
    "scrolled": true
   },
   "outputs": [
    {
     "name": "stdout",
     "output_type": "stream",
     "text": [
      "1e-06\n",
      "5e-06\n",
      "1e-05\n",
      "1.7e-05\n",
      "2.5e-05\n"
     ]
    }
   ],
   "source": [
    "#LISTO!!!\n",
    "#1 GRAFICO SCATTER DE ESPESOR VS ANCHO AGRUPADOS POR CAUDAL Y COLOREADOS X TEMPERATURA\n",
    "fig, ax = plt.subplots()\n",
    "counter = 0\n",
    "marqer = ['o', 'v', '^', '<', '>']\n",
    "plotmarqer = []\n",
    "\n",
    "from matplotlib import markers\n",
    "\n",
    "contadorkey = 0\n",
    "\n",
    "for key, group in groupby(sorted(listaporanchoyesp, key=lambda x: x['caudal']), \n",
    "                          key=lambda x: x['caudal']):\n",
    "    print(key)\n",
    "    ax.set_xlim(minimoejeancho-0.02, maximoejeancho+0.02)\n",
    "    ax.set_ylim(maximoejeespesor-0.02, maximoejeespesor+0.001)\n",
    "    markadorkey = marqer[contadorkey]\n",
    "    contadorkey += 1\n",
    "    \n",
    "    for i, exp in enumerate(group):\n",
    "        if exp['angulo'] == 15:\n",
    "            l = ax.plot(exp['ancho'], exp['espesor'], color='black', \n",
    "                           marker=markadorkey, markersize=8)\n",
    "            #print(exp['ancho'])\n",
    "            #l.set_markeredgecolor('Black')\n",
    "        else: \n",
    "            l = ax.plot(exp['ancho'], exp['espesor'], color='C{}'.format(exp['rango temperatura']), \n",
    "                           marker=markadorkey, markersize=8)\n",
    "            #print(exp['ancho'])\n",
    "        if i == 0:\n",
    "            plotmarqer.append(ax.scatter([], [], color='black', marker=markadorkey, label=exp['caudal']))\n",
    "            #print(exp['ancho'])\n",
    "        ax.set_ylabel('Espesor final medido [m]')\n",
    "        ax.set_xlabel('Ancho final medido [m]')\n",
    "\n",
    "\n",
    "pat8 = mpatches.Patch(color='black', label='15° slope')\n",
    "plt.suptitle('Razón de aspecto de los 33 experimentos: H/W')\n",
    "legend1 = plt.legend(handles=plotmarqer, loc= 3, title='Leyenda marcadores: caudal')\n",
    "plt.legend(handles=[pat1, pat2, pat3, pat4, pat5, pat6, pat7, pat8], title='Leyenda colores', loc=2)\n",
    "plt.gca().add_artist(legend1)\n",
    "plt.show()"
   ]
  },
  {
   "cell_type": "code",
   "execution_count": 21,
   "metadata": {
    "collapsed": false
   },
   "outputs": [],
   "source": [
    "#lista para armar figures de velocidad segun Q\n",
    "listadinamica = []\n",
    "#es una lista donde en cada value hay un diccionario por experimento\n",
    "#ANOTAR EN UNA HOJA COMO SE VE Y USA ESTO PLS\n",
    "for exp in Experimentos:\n",
    "    holder = {} #es un diccionario \n",
    "    holder['nombre'] = exp.param['NOMBRE'][0]#solo el valor de la primera fila\n",
    "    holder['tiempo'] = exp.dinamica['avance: tiempo']#toda la columna\n",
    "    holder['distancia'] = exp.dinamica['avance: distancia desde punto eyeccion']#toda la columna\n",
    "    holder['caudal'] = exp.param['caudal'][0]#solo el valor de la primera fila\n",
    "    holder['angulo'] = exp.param['angulo inclinacion'][0]\n",
    "    holder[\"rango temperatura\"] = rango_temperatura(exp.param[\"t max\"][0])\n",
    "    holder['teyec'] = exp.param['tiempo fin eyeccion']\n",
    "\n",
    "    listadinamica.append(holder)"
   ]
  },
  {
   "cell_type": "code",
   "execution_count": 34,
   "metadata": {
    "collapsed": false
   },
   "outputs": [
    {
     "name": "stdout",
     "output_type": "stream",
     "text": [
      "0 1e-06\n",
      "1 5e-06\n",
      "2 1e-05\n",
      "3 1.7e-05\n",
      "4 2.5e-05\n",
      "x label location is outside data range!\n",
      "x label location is outside data range!\n",
      "x label location is outside data range!\n"
     ]
    }
   ],
   "source": [
    "#FALTA: LEYENDA 25CC DENTRO DEL GRAFICO Y ARREGLAR LEYENDA TIPO LINEA Y ANGULO\n",
    "#empezamo el PLOT LINEA DINAMICAS SEGUN CAUDAL\n",
    "fig = plt.figure()\n",
    "axes = []\n",
    "\n",
    "#este plot hace cuantos subplot necesite segun un contador que da el numero de\n",
    "#grupos generados en el groupby\n",
    "for x in range(count):\n",
    "    axes.append(fig.add_subplot(2, 3, x + 1))\n",
    "\n",
    "#UNA COLUMNA DE GRAFICOS CON VARIAS FILAS SEGUN GRUPO\n",
    "#se generan los ejes de cada plot\n",
    "#i es el indice de lista y luego cada value en lista (???)\n",
    "for i, (key, group) in enumerate(groupby(sorted(listadinamica, key=lambda x: x['caudal']), key=lambda x: x['caudal'])):\n",
    "    print(i, key)\n",
    "\n",
    "    for exp in group:\n",
    "        axes[i].legend([key])\n",
    "        if exp['angulo'] == 15:\n",
    "            axes[i].loglog(exp['tiempo'], exp['distancia'], color='C{}'.format(exp['rango temperatura']),\n",
    "                           linestyle='--')\n",
    "        else:\n",
    "            axes[i].loglog(exp['tiempo'], exp['distancia'], color='C{}'.format(exp['rango temperatura']))\n",
    "        axes[i].legend([key])\n",
    "            \n",
    "legend1 = plt.legend(handles=[pat1, pat2, pat3, pat4, pat5, pat6, pat7], bbox_to_anchor=(1.8, 0.5), loc=5)\n",
    "plt.gca().add_artist(legend1)\n",
    "\n",
    "linea1= ax.plot([],[], label='15°', linestyle='--', color='black')\n",
    "linea2= ax.plot([],[], label='10°', color='black')\n",
    "plt.legend(bbox_to_anchor=(1.8, 0.5), loc=6)\n",
    "labelLines(plt.gca().get_lines(),align=False,color='k')\n",
    "fig.show()"
   ]
  },
  {
   "cell_type": "code",
   "execution_count": 29,
   "metadata": {
    "collapsed": false
   },
   "outputs": [
    {
     "data": {
      "text/plain": [
       "<matplotlib.collections.PathCollection at 0x291551e0978>"
      ]
     },
     "execution_count": 29,
     "metadata": {},
     "output_type": "execute_result"
    }
   ],
   "source": [
    "#un plot de dinamica con marcador\n",
    "plt.scatter(Experimentos[6].dinamica['avance: tiempo'], Experimentos[6].dinamica['avance: largo total flujo'], marker = 'x')"
   ]
  },
  {
   "cell_type": "code",
   "execution_count": 32,
   "metadata": {
    "collapsed": false
   },
   "outputs": [
    {
     "data": {
      "text/plain": [
       "10cc50C.csv"
      ]
     },
     "execution_count": 32,
     "metadata": {},
     "output_type": "execute_result"
    }
   ],
   "source": [
    "exp = Experimentos[30]\n",
    "exp"
   ]
  },
  {
   "cell_type": "code",
   "execution_count": 33,
   "metadata": {
    "collapsed": false
   },
   "outputs": [
    {
     "data": {
      "text/html": [
       "<div>\n",
       "<table border=\"1\" class=\"dataframe\">\n",
       "  <thead>\n",
       "    <tr style=\"text-align: right;\">\n",
       "      <th></th>\n",
       "      <th>Unnamed: 0</th>\n",
       "      <th>avance: tiempo</th>\n",
       "      <th>avance: distancia desde punto eyeccion</th>\n",
       "      <th>avance: distancia hacia atrás</th>\n",
       "      <th>avance: largo total flujo</th>\n",
       "      <th>avance: ancho maximo</th>\n",
       "      <th>volumen_emitido</th>\n",
       "      <th>anchoporlargo</th>\n",
       "      <th>area_avance</th>\n",
       "      <th>espesor</th>\n",
       "    </tr>\n",
       "  </thead>\n",
       "  <tbody>\n",
       "    <tr>\n",
       "      <th>44</th>\n",
       "      <td>44</td>\n",
       "      <td>5441.333333</td>\n",
       "      <td>0.360</td>\n",
       "      <td>0.074</td>\n",
       "      <td>0.434</td>\n",
       "      <td>0.305</td>\n",
       "      <td>0.001493</td>\n",
       "      <td>0.033092</td>\n",
       "      <td>0.103910</td>\n",
       "      <td>0.021546</td>\n",
       "    </tr>\n",
       "    <tr>\n",
       "      <th>45</th>\n",
       "      <td>45</td>\n",
       "      <td>5967.333333</td>\n",
       "      <td>0.362</td>\n",
       "      <td>0.074</td>\n",
       "      <td>0.436</td>\n",
       "      <td>0.305</td>\n",
       "      <td>0.001493</td>\n",
       "      <td>0.033245</td>\n",
       "      <td>0.104389</td>\n",
       "      <td>0.021447</td>\n",
       "    </tr>\n",
       "    <tr>\n",
       "      <th>46</th>\n",
       "      <td>46</td>\n",
       "      <td>9159.333333</td>\n",
       "      <td>0.368</td>\n",
       "      <td>0.074</td>\n",
       "      <td>0.442</td>\n",
       "      <td>0.305</td>\n",
       "      <td>0.001493</td>\n",
       "      <td>0.033702</td>\n",
       "      <td>0.105826</td>\n",
       "      <td>0.021156</td>\n",
       "    </tr>\n",
       "    <tr>\n",
       "      <th>47</th>\n",
       "      <td>47</td>\n",
       "      <td>9986.333333</td>\n",
       "      <td>0.368</td>\n",
       "      <td>0.074</td>\n",
       "      <td>0.442</td>\n",
       "      <td>0.305</td>\n",
       "      <td>0.001493</td>\n",
       "      <td>0.033702</td>\n",
       "      <td>0.105826</td>\n",
       "      <td>0.021156</td>\n",
       "    </tr>\n",
       "    <tr>\n",
       "      <th>48</th>\n",
       "      <td>48</td>\n",
       "      <td>76919.333333</td>\n",
       "      <td>0.368</td>\n",
       "      <td>0.074</td>\n",
       "      <td>0.442</td>\n",
       "      <td>0.305</td>\n",
       "      <td>0.001493</td>\n",
       "      <td>0.033702</td>\n",
       "      <td>0.105826</td>\n",
       "      <td>0.021156</td>\n",
       "    </tr>\n",
       "  </tbody>\n",
       "</table>\n",
       "</div>"
      ],
      "text/plain": [
       "    Unnamed: 0  avance: tiempo  avance: distancia desde punto eyeccion  \\\n",
       "44          44     5441.333333                                   0.360   \n",
       "45          45     5967.333333                                   0.362   \n",
       "46          46     9159.333333                                   0.368   \n",
       "47          47     9986.333333                                   0.368   \n",
       "48          48    76919.333333                                   0.368   \n",
       "\n",
       "    avance: distancia hacia atrás  avance: largo total flujo  \\\n",
       "44                          0.074                      0.434   \n",
       "45                          0.074                      0.436   \n",
       "46                          0.074                      0.442   \n",
       "47                          0.074                      0.442   \n",
       "48                          0.074                      0.442   \n",
       "\n",
       "    avance: ancho maximo  volumen_emitido  anchoporlargo  area_avance  \\\n",
       "44                 0.305         0.001493       0.033092     0.103910   \n",
       "45                 0.305         0.001493       0.033245     0.104389   \n",
       "46                 0.305         0.001493       0.033702     0.105826   \n",
       "47                 0.305         0.001493       0.033702     0.105826   \n",
       "48                 0.305         0.001493       0.033702     0.105826   \n",
       "\n",
       "     espesor  \n",
       "44  0.021546  \n",
       "45  0.021447  \n",
       "46  0.021156  \n",
       "47  0.021156  \n",
       "48  0.021156  "
      ]
     },
     "execution_count": 33,
     "metadata": {},
     "output_type": "execute_result"
    }
   ],
   "source": [
    "exp.dinamica.tail()"
   ]
  },
  {
   "cell_type": "code",
   "execution_count": 30,
   "metadata": {
    "collapsed": false
   },
   "outputs": [],
   "source": [
    "#(exp.dinamica['avance: ancho maximo']/2)*(exp.dinamica['avance: largo total flujo']/2)"
   ]
  },
  {
   "cell_type": "code",
   "execution_count": 31,
   "metadata": {
    "collapsed": false
   },
   "outputs": [
    {
     "name": "stderr",
     "output_type": "stream",
     "text": [
      "C:\\Users\\CCVV\\Anaconda3b\\lib\\site-packages\\ipykernel\\__main__.py:11: SettingWithCopyWarning: \n",
      "A value is trying to be set on a copy of a slice from a DataFrame\n",
      "\n",
      "See the caveats in the documentation: http://pandas.pydata.org/pandas-docs/stable/indexing.html#indexing-view-versus-copy\n"
     ]
    }
   ],
   "source": [
    "rho_manjar = 1340\n",
    "kilos_manjar = 2\n",
    "mitad = 2\n",
    "pi = 3.14\n",
    "\n",
    "for exp in Experimentos:\n",
    "    exp.dinamica['volumen_emitido'] = exp.param['caudal'][0]*exp.dinamica['avance: tiempo']\n",
    "    exp.dinamica['anchoporlargo'] = (exp.dinamica['avance: ancho maximo']/mitad)*(exp.dinamica['avance: largo total flujo']/mitad)\n",
    "    exp.dinamica['area_avance'] = exp.dinamica['anchoporlargo']*pi\n",
    "    volumen_total = kilos_manjar/rho_manjar\n",
    "    exp.dinamica['volumen_emitido'][exp.dinamica['volumen_emitido'] > volumen_total] = volumen_total\n",
    "    exp.dinamica['espesor'] = 3*exp.dinamica['volumen_emitido']/(2*exp.dinamica['area_avance'])"
   ]
  },
  {
   "cell_type": "code",
   "execution_count": 34,
   "metadata": {
    "collapsed": false
   },
   "outputs": [
    {
     "data": {
      "text/html": [
       "<div>\n",
       "<table border=\"1\" class=\"dataframe\">\n",
       "  <thead>\n",
       "    <tr style=\"text-align: right;\">\n",
       "      <th></th>\n",
       "      <th>Unnamed: 0</th>\n",
       "      <th>avance: tiempo</th>\n",
       "      <th>avance: distancia desde punto eyeccion</th>\n",
       "      <th>avance: distancia hacia atrás</th>\n",
       "      <th>avance: largo total flujo</th>\n",
       "      <th>avance: ancho maximo</th>\n",
       "      <th>volumen_emitido</th>\n",
       "      <th>anchoporlargo</th>\n",
       "      <th>area_avance</th>\n",
       "      <th>espesor</th>\n",
       "    </tr>\n",
       "  </thead>\n",
       "  <tbody>\n",
       "    <tr>\n",
       "      <th>count</th>\n",
       "      <td>49.00000</td>\n",
       "      <td>49.000000</td>\n",
       "      <td>49.000000</td>\n",
       "      <td>49.000000</td>\n",
       "      <td>49.000000</td>\n",
       "      <td>49.000000</td>\n",
       "      <td>49.000000</td>\n",
       "      <td>49.000000</td>\n",
       "      <td>49.000000</td>\n",
       "      <td>48.000000</td>\n",
       "    </tr>\n",
       "    <tr>\n",
       "      <th>mean</th>\n",
       "      <td>24.00000</td>\n",
       "      <td>3020.438095</td>\n",
       "      <td>0.221551</td>\n",
       "      <td>0.063000</td>\n",
       "      <td>0.284551</td>\n",
       "      <td>0.231000</td>\n",
       "      <td>0.001041</td>\n",
       "      <td>0.019332</td>\n",
       "      <td>0.060702</td>\n",
       "      <td>0.028525</td>\n",
       "    </tr>\n",
       "    <tr>\n",
       "      <th>std</th>\n",
       "      <td>14.28869</td>\n",
       "      <td>11035.305590</td>\n",
       "      <td>0.119660</td>\n",
       "      <td>0.017264</td>\n",
       "      <td>0.135020</td>\n",
       "      <td>0.089953</td>\n",
       "      <td>0.000573</td>\n",
       "      <td>0.012213</td>\n",
       "      <td>0.038349</td>\n",
       "      <td>0.005500</td>\n",
       "    </tr>\n",
       "    <tr>\n",
       "      <th>min</th>\n",
       "      <td>0.00000</td>\n",
       "      <td>0.000000</td>\n",
       "      <td>0.000000</td>\n",
       "      <td>0.000000</td>\n",
       "      <td>0.000000</td>\n",
       "      <td>0.000000</td>\n",
       "      <td>0.000000</td>\n",
       "      <td>0.000000</td>\n",
       "      <td>0.000000</td>\n",
       "      <td>0.021156</td>\n",
       "    </tr>\n",
       "    <tr>\n",
       "      <th>25%</th>\n",
       "      <td>12.00000</td>\n",
       "      <td>45.666667</td>\n",
       "      <td>0.120000</td>\n",
       "      <td>0.055000</td>\n",
       "      <td>0.175000</td>\n",
       "      <td>0.160000</td>\n",
       "      <td>0.000457</td>\n",
       "      <td>0.007000</td>\n",
       "      <td>0.021980</td>\n",
       "      <td>0.023033</td>\n",
       "    </tr>\n",
       "    <tr>\n",
       "      <th>50%</th>\n",
       "      <td>24.00000</td>\n",
       "      <td>182.000000</td>\n",
       "      <td>0.240000</td>\n",
       "      <td>0.074000</td>\n",
       "      <td>0.314000</td>\n",
       "      <td>0.284000</td>\n",
       "      <td>0.001493</td>\n",
       "      <td>0.022294</td>\n",
       "      <td>0.070003</td>\n",
       "      <td>0.030423</td>\n",
       "    </tr>\n",
       "    <tr>\n",
       "      <th>75%</th>\n",
       "      <td>36.00000</td>\n",
       "      <td>1969.333333</td>\n",
       "      <td>0.330000</td>\n",
       "      <td>0.074000</td>\n",
       "      <td>0.404000</td>\n",
       "      <td>0.305000</td>\n",
       "      <td>0.001493</td>\n",
       "      <td>0.030805</td>\n",
       "      <td>0.096728</td>\n",
       "      <td>0.032725</td>\n",
       "    </tr>\n",
       "    <tr>\n",
       "      <th>max</th>\n",
       "      <td>48.00000</td>\n",
       "      <td>76919.333333</td>\n",
       "      <td>0.368000</td>\n",
       "      <td>0.074000</td>\n",
       "      <td>0.442000</td>\n",
       "      <td>0.305000</td>\n",
       "      <td>0.001493</td>\n",
       "      <td>0.033702</td>\n",
       "      <td>0.105826</td>\n",
       "      <td>0.041904</td>\n",
       "    </tr>\n",
       "  </tbody>\n",
       "</table>\n",
       "</div>"
      ],
      "text/plain": [
       "       Unnamed: 0  avance: tiempo  avance: distancia desde punto eyeccion  \\\n",
       "count    49.00000       49.000000                               49.000000   \n",
       "mean     24.00000     3020.438095                                0.221551   \n",
       "std      14.28869    11035.305590                                0.119660   \n",
       "min       0.00000        0.000000                                0.000000   \n",
       "25%      12.00000       45.666667                                0.120000   \n",
       "50%      24.00000      182.000000                                0.240000   \n",
       "75%      36.00000     1969.333333                                0.330000   \n",
       "max      48.00000    76919.333333                                0.368000   \n",
       "\n",
       "       avance: distancia hacia atrás  avance: largo total flujo  \\\n",
       "count                      49.000000                  49.000000   \n",
       "mean                        0.063000                   0.284551   \n",
       "std                         0.017264                   0.135020   \n",
       "min                         0.000000                   0.000000   \n",
       "25%                         0.055000                   0.175000   \n",
       "50%                         0.074000                   0.314000   \n",
       "75%                         0.074000                   0.404000   \n",
       "max                         0.074000                   0.442000   \n",
       "\n",
       "       avance: ancho maximo  volumen_emitido  anchoporlargo  area_avance  \\\n",
       "count             49.000000        49.000000      49.000000    49.000000   \n",
       "mean               0.231000         0.001041       0.019332     0.060702   \n",
       "std                0.089953         0.000573       0.012213     0.038349   \n",
       "min                0.000000         0.000000       0.000000     0.000000   \n",
       "25%                0.160000         0.000457       0.007000     0.021980   \n",
       "50%                0.284000         0.001493       0.022294     0.070003   \n",
       "75%                0.305000         0.001493       0.030805     0.096728   \n",
       "max                0.305000         0.001493       0.033702     0.105826   \n",
       "\n",
       "         espesor  \n",
       "count  48.000000  \n",
       "mean    0.028525  \n",
       "std     0.005500  \n",
       "min     0.021156  \n",
       "25%     0.023033  \n",
       "50%     0.030423  \n",
       "75%     0.032725  \n",
       "max     0.041904  "
      ]
     },
     "execution_count": 34,
     "metadata": {},
     "output_type": "execute_result"
    }
   ],
   "source": [
    "exp.dinamica.describe()"
   ]
  },
  {
   "cell_type": "code",
   "execution_count": 35,
   "metadata": {
    "collapsed": true
   },
   "outputs": [],
   "source": [
    "#lista para armar figures de velocidad segun Q\n",
    "listaespesor = []\n",
    "#es una lista donde en cada value hay un diccionario por experimento\n",
    "#ANOTAR EN UNA HOJA COMO SE VE Y USA ESTO PLS\n",
    "for exp in Experimentos:\n",
    "    holder = {} #es un diccionario \n",
    "    holder['nombre'] = exp.param['NOMBRE'][0]#solo el valor de la primera fila\n",
    "    holder['tiempo'] = exp.dinamica['avance: tiempo']#toda la columna\n",
    "    holder['espesor'] = exp.dinamica['espesor']#toda la columna\n",
    "    holder['caudal'] = exp.param['caudal'][0]#solo el valor de la primera fila\n",
    "    holder['angulo'] = exp.param['angulo inclinacion'][0]\n",
    "    holder[\"rango temperatura\"] = rango_temperatura(exp.param[\"t max\"][0])\n",
    "        \n",
    "    listaespesor.append(holder)"
   ]
  },
  {
   "cell_type": "code",
   "execution_count": 36,
   "metadata": {
    "collapsed": true
   },
   "outputs": [],
   "source": [
    "fig= plt.plot(Experimentos[30].dinamica['avance: tiempo'], Experimentos[30].dinamica['espesor'], marker = 'x')"
   ]
  },
  {
   "cell_type": "code",
   "execution_count": 3,
   "metadata": {
    "collapsed": false
   },
   "outputs": [
    {
     "ename": "NameError",
     "evalue": "name 'plt' is not defined",
     "output_type": "error",
     "traceback": [
      "\u001b[0;31m---------------------------------------------------------------------------\u001b[0m",
      "\u001b[0;31mNameError\u001b[0m                                 Traceback (most recent call last)",
      "\u001b[0;32m<ipython-input-3-2db932766b4f>\u001b[0m in \u001b[0;36m<module>\u001b[0;34m()\u001b[0m\n\u001b[1;32m      1\u001b[0m \u001b[1;31m#Graficos: ESPESOR vs Tiempo\u001b[0m\u001b[1;33m\u001b[0m\u001b[1;33m\u001b[0m\u001b[0m\n\u001b[1;32m      2\u001b[0m \u001b[1;33m\u001b[0m\u001b[0m\n\u001b[0;32m----> 3\u001b[0;31m \u001b[0mfig\u001b[0m \u001b[1;33m=\u001b[0m \u001b[0mplt\u001b[0m\u001b[1;33m.\u001b[0m\u001b[0mfigure\u001b[0m\u001b[1;33m(\u001b[0m\u001b[1;33m)\u001b[0m\u001b[1;33m\u001b[0m\u001b[0m\n\u001b[0m\u001b[1;32m      4\u001b[0m \u001b[0maxes\u001b[0m \u001b[1;33m=\u001b[0m \u001b[1;33m[\u001b[0m\u001b[1;33m]\u001b[0m\u001b[1;33m\u001b[0m\u001b[0m\n\u001b[1;32m      5\u001b[0m \u001b[1;33m\u001b[0m\u001b[0m\n",
      "\u001b[0;31mNameError\u001b[0m: name 'plt' is not defined"
     ]
    }
   ],
   "source": [
    "#Graficos: ESPESOR vs Tiempo\n",
    "\n",
    "fig = plt.figure()\n",
    "axes = []\n",
    "\n",
    "for x in range(count):\n",
    "    axes.append(fig.add_subplot(2, 3, x + 1))\n",
    "\n",
    "for i, (key, group) in enumerate(groupby(sorted(listaespesor, key=lambda x: x['caudal']), key=lambda x: x['caudal'])):\n",
    "    print(i, key)\n",
    "\n",
    "    for exp in group:\n",
    "        axes[i].legend([key])\n",
    "        if exp['angulo'] == 15:\n",
    "            axes[i].scatter(exp['tiempo'], exp['espesor'], color='C{}'.format(exp['rango temperatura']),\n",
    "                           linestyle='--')\n",
    "        else:\n",
    "            axes[i].scatter(exp['tiempo'], exp['espesor'], color='C{}'.format(exp['rango temperatura']))\n",
    "        axes[i].legend([key])\n",
    "            \n",
    "legend1 = plt.legend(handles=[pat1, pat2, pat3, pat4, pat5, pat6, pat7], bbox_to_anchor=(1.8, 0.5), loc=5)\n",
    "plt.gca().add_artist(legend1)\n",
    "\n",
    "linea1= ax.plot([],[], label='15°', linestyle='--', color='black')\n",
    "linea2= ax.plot([],[], label='10°', color='black')       \n",
    "plt.legend(bbox_to_anchor=(1.8, 0.5), loc=6)\n",
    "fig.show()"
   ]
  },
  {
   "cell_type": "code",
   "execution_count": 39,
   "metadata": {
    "collapsed": true
   },
   "outputs": [],
   "source": [
    "#lista para armar figures de velocidad segun Q\n",
    "listaancho = []\n",
    "#es una lista donde en cada value hay un diccionario por experimento\n",
    "#ANOTAR EN UNA HOJA COMO SE VE Y USA ESTO PLS\n",
    "for exp in Experimentos:\n",
    "    holder = {} #es un diccionario \n",
    "    holder['nombre'] = exp.param['NOMBRE'][0]#solo el valor de la primera fila\n",
    "    holder['tiempo'] = exp.dinamica['avance: tiempo']#toda la columna\n",
    "    holder['ancho'] = exp.dinamica['avance: ancho maximo']#toda la columna\n",
    "    holder['caudal'] = exp.param['caudal'][0]#solo el valor de la primera fila\n",
    "    holder['angulo'] = exp.param['angulo inclinacion'][0]\n",
    "    holder[\"rango temperatura\"] = rango_temperatura(exp.param[\"t max\"][0])\n",
    "        \n",
    "    listaancho.append(holder)"
   ]
  },
  {
   "cell_type": "code",
   "execution_count": 41,
   "metadata": {
    "collapsed": false
   },
   "outputs": [
    {
     "name": "stdout",
     "output_type": "stream",
     "text": [
      "0 1e-06\n",
      "1 5e-06\n",
      "2 1e-05\n",
      "3 1.7e-05\n",
      "4 2.5e-05\n"
     ]
    }
   ],
   "source": [
    "#Graficos: ANCHO VS Tiempo\n",
    "fig = plt.figure()\n",
    "axes = []\n",
    "\n",
    "for x in range(count):\n",
    "    axes.append(fig.add_subplot(2, 3, x + 1))\n",
    "\n",
    "for i, (key, group) in enumerate(groupby(sorted(listaancho, key=lambda x: x['caudal']), key=lambda x: x['caudal'])):\n",
    "    print(i, key)\n",
    "\n",
    "    for exp in group:\n",
    "        axes[i].legend([key])\n",
    "        if exp['angulo'] == 15:\n",
    "            axes[i].loglog(exp['tiempo'], exp['ancho'], color='C{}'.format(exp['rango temperatura']),\n",
    "                           linestyle='--')\n",
    "        else:\n",
    "            axes[i].loglog(exp['tiempo'], exp['ancho'], color='C{}'.format(exp['rango temperatura']))\n",
    "        axes[i].legend([key])\n",
    "            \n",
    "legend1 = plt.legend(handles=[pat1, pat2, pat3, pat4, pat5, pat6, pat7], bbox_to_anchor=(1.8, 0.5), loc=5)\n",
    "plt.gca().add_artist(legend1)\n",
    "\n",
    "linea1= ax.plot([],[], label='15°', linestyle='--', color='black')\n",
    "linea2= ax.plot([],[], label='10°', color='black')       \n",
    "plt.legend(bbox_to_anchor=(1.8, 0.5), loc=6)\n",
    "fig.show()"
   ]
  },
  {
   "cell_type": "code",
   "execution_count": null,
   "metadata": {
    "collapsed": true
   },
   "outputs": [],
   "source": []
  }
 ],
 "metadata": {
  "anaconda-cloud": {},
  "kernelspec": {
   "display_name": "Python [conda root]",
   "language": "python",
   "name": "conda-root-py"
  },
  "language_info": {
   "codemirror_mode": {
    "name": "ipython",
    "version": 3
   },
   "file_extension": ".py",
   "mimetype": "text/x-python",
   "name": "python",
   "nbconvert_exporter": "python",
   "pygments_lexer": "ipython3",
   "version": "3.5.2"
  }
 },
 "nbformat": 4,
 "nbformat_minor": 1
}
