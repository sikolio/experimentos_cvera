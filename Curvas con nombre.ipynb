{
 "cells": [
  {
   "cell_type": "code",
   "execution_count": 1,
   "metadata": {
    "collapsed": false
   },
   "outputs": [
    {
     "name": "stdout",
     "output_type": "stream",
     "text": [
      "Using matplotlib backend: Qt5Agg\n"
     ]
    }
   ],
   "source": [
    "import pandas as pd\n",
    "import os\n",
    "import csv\n",
    "import numpy as np\n",
    "from matplotlib import pyplot as plt\n",
    "%matplotlib"
   ]
  },
  {
   "cell_type": "code",
   "execution_count": 2,
   "metadata": {
    "collapsed": true
   },
   "outputs": [],
   "source": [
    "from scipy.interpolate import UnivariateSpline\n",
    "from scipy.optimize import curve_fit\n",
    "from scipy import interpolate, optimize"
   ]
  },
  {
   "cell_type": "code",
   "execution_count": 9,
   "metadata": {
    "collapsed": true
   },
   "outputs": [],
   "source": [
    "from math import atan2,degrees"
   ]
  },
  {
   "cell_type": "code",
   "execution_count": 3,
   "metadata": {
    "collapsed": false
   },
   "outputs": [
    {
     "name": "stdout",
     "output_type": "stream",
     "text": [
      "[Errno 2] No such file or directory: '.\\\\Data\\\\5cc50C - flir.csv'\n",
      "[Errno 2] No such file or directory: '.\\\\Data\\\\1cc54C - flir.csv'\n",
      "[Errno 2] No such file or directory: '.\\\\Data\\\\25cc54C - flir.csv'\n",
      "[Errno 2] No such file or directory: '.\\\\Data\\\\10cc60C - flir.csv'\n",
      "[Errno 2] No such file or directory: '.\\\\Data\\\\25cc60C - flir.csv'\n",
      "[Errno 2] No such file or directory: '.\\\\Data\\\\1cc59C - flir.csv'\n",
      "[Errno 2] No such file or directory: '.\\\\Data\\\\5cc63C - flir.csv'\n",
      "[Errno 2] No such file or directory: '.\\\\Data\\\\25cc62C - flir.csv'\n",
      "[Errno 2] No such file or directory: '.\\\\Data\\\\1cc62C - flir.csv'\n",
      "[Errno 2] No such file or directory: '.\\\\Data\\\\1cc24C - flir.csv'\n",
      "[Errno 2] No such file or directory: '.\\\\Data\\\\10cc24C - flir.csv'\n"
     ]
    }
   ],
   "source": [
    "from Experimentos import Experimentos"
   ]
  },
  {
   "cell_type": "code",
   "execution_count": 5,
   "metadata": {
    "collapsed": true
   },
   "outputs": [],
   "source": [
    "exp = Experimentos[30]"
   ]
  },
  {
   "cell_type": "code",
   "execution_count": 14,
   "metadata": {
    "collapsed": true
   },
   "outputs": [],
   "source": [
    "def labelLine(line,x,label=None,align=True,**kwargs):\n",
    "\n",
    "    ax = line.axes\n",
    "    xdata = line.get_xdata()\n",
    "    ydata = line.get_ydata()\n",
    "\n",
    "    if (x < xdata[0]) or (x > xdata[-1]):\n",
    "        print('x label location is outside data range!')\n",
    "        return\n",
    "\n",
    "    #Find corresponding y co-ordinate and angle of the\n",
    "    ip = 1\n",
    "    for i in range(len(xdata)):\n",
    "        if x < xdata[i]:\n",
    "            ip = i\n",
    "            break\n",
    "\n",
    "    y = ydata[ip-1] + (ydata[ip]-ydata[ip-1])*(x-xdata[ip-1])/(xdata[ip]-xdata[ip-1])\n",
    "\n",
    "    if not label:\n",
    "        label = line.get_label()\n",
    "\n",
    "    if align:\n",
    "        #Compute the slope\n",
    "        dx = xdata[ip] - xdata[ip-1]\n",
    "        dy = ydata[ip] - ydata[ip-1]\n",
    "        ang = degrees(atan2(dy,dx))\n",
    "\n",
    "        #Transform to screen co-ordinates\n",
    "        pt = np.array([x,y]).reshape((1,2))\n",
    "        trans_angle = ax.transData.transform_angles(np.array((ang,)),pt)[0]\n",
    "\n",
    "    else:\n",
    "        trans_angle = 0\n",
    "\n",
    "    #Set a bunch of keyword arguments\n",
    "    if 'color' not in kwargs:\n",
    "        kwargs['color'] = line.get_color()\n",
    "\n",
    "    if ('horizontalalignment' not in kwargs) and ('ha' not in kwargs):\n",
    "        kwargs['ha'] = 'center'\n",
    "\n",
    "    if ('verticalalignment' not in kwargs) and ('va' not in kwargs):\n",
    "        kwargs['va'] = 'center'\n",
    "\n",
    "    if 'backgroundcolor' not in kwargs:\n",
    "        kwargs['backgroundcolor'] = ax.get_facecolor()\n",
    "\n",
    "    if 'clip_on' not in kwargs:\n",
    "        kwargs['clip_on'] = True\n",
    "\n",
    "    if 'zorder' not in kwargs:\n",
    "        kwargs['zorder'] = 2.5\n",
    "\n",
    "    ax.text(x,y,label,rotation=trans_angle,**kwargs)"
   ]
  },
  {
   "cell_type": "code",
   "execution_count": 18,
   "metadata": {
    "collapsed": true
   },
   "outputs": [],
   "source": [
    "def labelLines(lines,align=True,xvals=None,**kwargs):\n",
    "\n",
    "    ax = lines[0].axes\n",
    "    labLines = []\n",
    "    labels = []\n",
    "\n",
    "    #Take only the lines which have labels other than the default ones\n",
    "    for line in lines:\n",
    "        label = line.get_label()\n",
    "        if \"_line\" not in label:\n",
    "            labLines.append(line)\n",
    "            labels.append(label)\n",
    "\n",
    "    if xvals is None:\n",
    "        xmin,xmax = ax.get_xlim()\n",
    "        xvals = np.linspace(xmin,xmax,len(labLines)+2)[1:-1]\n",
    "\n",
    "    for line,x,label in zip(labLines,xvals,labels):\n",
    "        labelLine(line,x,label,align,**kwargs)"
   ]
  },
  {
   "cell_type": "code",
   "execution_count": 7,
   "metadata": {
    "collapsed": false
   },
   "outputs": [
    {
     "data": {
      "text/plain": [
       "(1948, 13)"
      ]
     },
     "execution_count": 7,
     "metadata": {},
     "output_type": "execute_result"
    }
   ],
   "source": [
    "exp.eliminate_outliers().shape"
   ]
  },
  {
   "cell_type": "code",
   "execution_count": 6,
   "metadata": {
    "collapsed": false
   },
   "outputs": [
    {
     "data": {
      "text/plain": [
       "(1999, 11)"
      ]
     },
     "execution_count": 6,
     "metadata": {},
     "output_type": "execute_result"
    }
   ],
   "source": [
    "exp.flir.shape"
   ]
  },
  {
   "cell_type": "code",
   "execution_count": 6,
   "metadata": {
    "collapsed": false,
    "scrolled": true
   },
   "outputs": [
    {
     "data": {
      "text/html": [
       "<div>\n",
       "<table border=\"1\" class=\"dataframe\">\n",
       "  <thead>\n",
       "    <tr style=\"text-align: right;\">\n",
       "      <th></th>\n",
       "      <th>FLIR: tiempo</th>\n",
       "      <th>FLIR: area</th>\n",
       "      <th>FLIR: rango 1</th>\n",
       "      <th>FLIR: rango 2</th>\n",
       "      <th>FLIR: rango 3</th>\n",
       "      <th>FLIR: rango 4</th>\n",
       "      <th>FLIR: rango 5</th>\n",
       "      <th>FLIR: rango 6</th>\n",
       "      <th>FLIR: rango 7</th>\n",
       "      <th>FLIR: rango 8</th>\n",
       "      <th>FLIR: rango 9</th>\n",
       "    </tr>\n",
       "  </thead>\n",
       "  <tbody>\n",
       "    <tr>\n",
       "      <th>0</th>\n",
       "      <td>0</td>\n",
       "      <td>1666</td>\n",
       "      <td>0.587635</td>\n",
       "      <td>0.063625</td>\n",
       "      <td>0.055222</td>\n",
       "      <td>0.120648</td>\n",
       "      <td>0.049820</td>\n",
       "      <td>0.070828</td>\n",
       "      <td>0.027611</td>\n",
       "      <td>0.024610</td>\n",
       "      <td>0.000000</td>\n",
       "    </tr>\n",
       "    <tr>\n",
       "      <th>1</th>\n",
       "      <td>1</td>\n",
       "      <td>2254</td>\n",
       "      <td>0.478261</td>\n",
       "      <td>0.053239</td>\n",
       "      <td>0.035492</td>\n",
       "      <td>0.066105</td>\n",
       "      <td>0.022626</td>\n",
       "      <td>0.068323</td>\n",
       "      <td>0.208518</td>\n",
       "      <td>0.067436</td>\n",
       "      <td>0.000000</td>\n",
       "    </tr>\n",
       "    <tr>\n",
       "      <th>2</th>\n",
       "      <td>2</td>\n",
       "      <td>3051</td>\n",
       "      <td>0.443461</td>\n",
       "      <td>0.043592</td>\n",
       "      <td>0.025565</td>\n",
       "      <td>0.033432</td>\n",
       "      <td>0.018355</td>\n",
       "      <td>0.033759</td>\n",
       "      <td>0.106850</td>\n",
       "      <td>0.234677</td>\n",
       "      <td>0.060308</td>\n",
       "    </tr>\n",
       "    <tr>\n",
       "      <th>3</th>\n",
       "      <td>3</td>\n",
       "      <td>3677</td>\n",
       "      <td>0.403590</td>\n",
       "      <td>0.039162</td>\n",
       "      <td>0.019581</td>\n",
       "      <td>0.014414</td>\n",
       "      <td>0.010606</td>\n",
       "      <td>0.027740</td>\n",
       "      <td>0.071798</td>\n",
       "      <td>0.221648</td>\n",
       "      <td>0.191460</td>\n",
       "    </tr>\n",
       "    <tr>\n",
       "      <th>4</th>\n",
       "      <td>4</td>\n",
       "      <td>3923</td>\n",
       "      <td>0.305379</td>\n",
       "      <td>0.037216</td>\n",
       "      <td>0.013765</td>\n",
       "      <td>0.011726</td>\n",
       "      <td>0.011471</td>\n",
       "      <td>0.023197</td>\n",
       "      <td>0.071119</td>\n",
       "      <td>0.253887</td>\n",
       "      <td>0.272241</td>\n",
       "    </tr>\n",
       "  </tbody>\n",
       "</table>\n",
       "</div>"
      ],
      "text/plain": [
       "   FLIR: tiempo  FLIR: area  FLIR: rango 1  FLIR: rango 2  FLIR: rango 3  \\\n",
       "0             0        1666       0.587635       0.063625       0.055222   \n",
       "1             1        2254       0.478261       0.053239       0.035492   \n",
       "2             2        3051       0.443461       0.043592       0.025565   \n",
       "3             3        3677       0.403590       0.039162       0.019581   \n",
       "4             4        3923       0.305379       0.037216       0.013765   \n",
       "\n",
       "   FLIR: rango 4  FLIR: rango 5  FLIR: rango 6  FLIR: rango 7  FLIR: rango 8  \\\n",
       "0       0.120648       0.049820       0.070828       0.027611       0.024610   \n",
       "1       0.066105       0.022626       0.068323       0.208518       0.067436   \n",
       "2       0.033432       0.018355       0.033759       0.106850       0.234677   \n",
       "3       0.014414       0.010606       0.027740       0.071798       0.221648   \n",
       "4       0.011726       0.011471       0.023197       0.071119       0.253887   \n",
       "\n",
       "   FLIR: rango 9  \n",
       "0       0.000000  \n",
       "1       0.000000  \n",
       "2       0.060308  \n",
       "3       0.191460  \n",
       "4       0.272241  "
      ]
     },
     "execution_count": 6,
     "metadata": {},
     "output_type": "execute_result"
    }
   ],
   "source": [
    "exp.flir.head()"
   ]
  },
  {
   "cell_type": "code",
   "execution_count": 21,
   "metadata": {
    "collapsed": true
   },
   "outputs": [],
   "source": [
    "fig = plt.plot(exp.flir['FLIR: tiempo'], exp.flir['FLIR: area'])"
   ]
  },
  {
   "cell_type": "code",
   "execution_count": 20,
   "metadata": {
    "collapsed": false,
    "scrolled": true
   },
   "outputs": [],
   "source": [
    "labelLines(plt.gca().get_lines(),align=False,color='k')"
   ]
  },
  {
   "cell_type": "code",
   "execution_count": 71,
   "metadata": {
    "collapsed": true
   },
   "outputs": [],
   "source": [
    "df = exp.flir.copy()"
   ]
  },
  {
   "cell_type": "code",
   "execution_count": 38,
   "metadata": {
    "collapsed": false
   },
   "outputs": [
    {
     "data": {
      "text/plain": [
       "(1999, 12)"
      ]
     },
     "execution_count": 38,
     "metadata": {},
     "output_type": "execute_result"
    }
   ],
   "source": [
    "exp.flir.shape"
   ]
  },
  {
   "cell_type": "code",
   "execution_count": 60,
   "metadata": {
    "collapsed": false
   },
   "outputs": [],
   "source": [
    "df['moving average'] = df['FLIR: area'].rolling(20, center=True).median().fillna(method='bfill').fillna(method='ffill')"
   ]
  },
  {
   "cell_type": "code",
   "execution_count": 61,
   "metadata": {
    "collapsed": true
   },
   "outputs": [],
   "source": [
    "df['moving std'] = df['FLIR: area'].rolling(20, center=True).std().fillna(method='bfill').fillna(method='ffill')"
   ]
  },
  {
   "cell_type": "code",
   "execution_count": 67,
   "metadata": {
    "collapsed": false
   },
   "outputs": [
    {
     "data": {
      "text/plain": [
       "(1948, 13)"
      ]
     },
     "execution_count": 67,
     "metadata": {},
     "output_type": "execute_result"
    }
   ],
   "source": [
    "df[np.abs(df['FLIR: area'] - df['moving average'])<=(2*df['moving std'])].shape"
   ]
  },
  {
   "cell_type": "code",
   "execution_count": 68,
   "metadata": {
    "collapsed": true
   },
   "outputs": [],
   "source": [
    "df = df[np.abs(df['FLIR: area'] - df['moving average'])<=(2*df['moving std'])]"
   ]
  },
  {
   "cell_type": "code",
   "execution_count": 70,
   "metadata": {
    "collapsed": true
   },
   "outputs": [],
   "source": [
    "fig = plt.plot(df['FLIR: tiempo'], df['FLIR: area'])"
   ]
  }
 ],
 "metadata": {
  "kernelspec": {
   "display_name": "Python [bootcamp]",
   "language": "python",
   "name": "Python [bootcamp]"
  },
  "language_info": {
   "codemirror_mode": {
    "name": "ipython",
    "version": 3
   },
   "file_extension": ".py",
   "mimetype": "text/x-python",
   "name": "python",
   "nbconvert_exporter": "python",
   "pygments_lexer": "ipython3",
   "version": "3.5.2"
  }
 },
 "nbformat": 4,
 "nbformat_minor": 0
}
