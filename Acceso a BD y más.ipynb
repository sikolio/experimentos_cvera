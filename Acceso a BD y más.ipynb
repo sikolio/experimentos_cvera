{
 "cells": [
  {
   "cell_type": "code",
   "execution_count": 7,
   "metadata": {
    "collapsed": false
   },
   "outputs": [
    {
     "name": "stdout",
     "output_type": "stream",
     "text": [
      "Using matplotlib backend: Qt5Agg\n"
     ]
    }
   ],
   "source": [
    "import pandas as pd\n",
    "import os\n",
    "import csv\n",
    "import numpy as np\n",
    "from matplotlib import pyplot as plt\n",
    "%matplotlib"
   ]
  },
  {
   "cell_type": "code",
   "execution_count": 61,
   "metadata": {
    "collapsed": false
   },
   "outputs": [],
   "source": [
    "#lectura de archivos\n",
    "file_endings = ['.csv', ' - dinamica.csv', ' - perfil.csv', ' - flir.csv']\n",
    "\n",
    "#Experimento es una lista que guarda todos los experimentos y accede a los DF que son los definidos en file_endings\n",
    "class Experimento(object):\n",
    "    def __init__(self, filename, folder=\".\"):\n",
    "        self.files = ['{}{}'.format(filename, file_ending) for file_ending in file_endings]\n",
    "            \n",
    "        pandas_settings = {\n",
    "            'delimiter': ';',\n",
    "            'thousands': '.',\n",
    "            'decimal': ',',\n",
    "            'engine': 'python',\n",
    "        }\n",
    "        #se definen los 4 DF param, dinamica, perfil y flir.\n",
    "        self.param = pd.read_csv(os.path.join(folder, self.files[0]), engine= 'python', delimiter=';')\n",
    "        self.dinamica = pd.read_csv(os.path.join(folder, self.files[1]), **pandas_settings)\n",
    "        self.perfil = pd.read_csv(os.path.join(folder, self.files[2]), **pandas_settings)\n",
    "    #    self.flir = pd.read_csv(self.files[3], **pandas_settings)\n",
    "        \n",
    "        #paso los resultados de dinamica a param para poder usarlos facilmente\n",
    "        self.param['result: largo final'] = self.dinamica['avance: distancia desde punto eyeccion'].iloc[-1]\n",
    "        self.param['result: largo total'] = self.dinamica['avance: largo total flujo'].iloc[-1]\n",
    "        self.param['result: ancho max final'] = self.dinamica['avance: ancho maximo'].iloc[-1]\n",
    "        self.param['result: espesor max final'] = self.perfil['perfil: espesor'].max()\n",
    "        self.param['result: distancia espesor final'] = self.perfil['perfil: distancia'].iloc[self.perfil['perfil: espesor'].argmax()]\n",
    "        \n",
    "    #se guarda el nuevo archivo con los datos sacados de distintos DF  \n",
    "    def to_csvs(self, safe=False):\n",
    "        if safe:\n",
    "            try:\n",
    "                for file in self.files:\n",
    "                    os.rename(file, '{}.old'.format(file))\n",
    "            except Exception as e:\n",
    "                print('The files already exists', e)\n",
    "                return\n",
    "        else:\n",
    "            for file in self.files:\n",
    "                os.remove(file)\n",
    "        \n",
    "        self.param.to_csv(self.files[0], sep=';')\n",
    "        self.dinamica.to_csv(self.files[1], sep=';')\n",
    "        self.perfil.to_csv(self.files[2], sep=';')\n",
    " #      self.flir.to_csv(self.files[3], sep=';')\n",
    "    #a ver si ya se ha hecho este proceso con los archivos y generar una version .old    \n",
    "    def undone(self):\n",
    "        for file in self.files:\n",
    "            os.rename('{}.old'.format(file), file)\n",
    "    \n",
    "    #funcion para generar rectas segun x datos de DF dinamica\n",
    "    def fit_to_two_curves(self):\n",
    "        def two_lines(x, a, b, c, d):\n",
    "            one = a*x + b\n",
    "            two = c*x + d\n",
    "            return np.maximum(one, two)\n",
    "        \n",
    "        x = np.array(self.dinamica['avance: tiempo'])\n",
    "        y = np.array(self.dinamica['avance: largo total'])\n",
    "    \n",
    "    #no entiendo pa que wea sirve esta funcion...claramente es un plot de desglose, pero pa que? esos datos meh.\n",
    "    def plot_desglose(self, param1, param2):\n",
    "        fig = plt.figure()\n",
    "        ax = fig.add_subplot(1,1,1)\n",
    "\n",
    "        ax.plot(self.flir['FLIR: rango 3'], self.flir['FLIR: rango 4'])\n",
    "        fig.show()\n",
    "        \n",
    "    def __repr__(self):\n",
    "        return self.files[0]\n",
    "        \n",
    "    def __str__(self):\n",
    "        return self.files[0]"
   ]
  },
  {
   "cell_type": "code",
   "execution_count": 62,
   "metadata": {
    "collapsed": true
   },
   "outputs": [],
   "source": [
    "#lista con los nombres de los experimentos\n",
    "nameList = [\n",
    "        '5cc50C',\n",
    "        '1cc54C',\n",
    "        '25cc54C',\n",
    "        '10cc60C',\n",
    "        '25cc60C',\n",
    "        '1cc59C',\n",
    "        '1cc47C',\n",
    "        '1cc55C',\n",
    "        '25cc58C',\n",
    "        '25cc70C',\n",
    "        '10cc67C',\n",
    "        '10cc59C',\n",
    "        '5cc63C',\n",
    "        '5cc59C',\n",
    "        '10cc49C',\n",
    "        '25cc62C',\n",
    "        '1cc62C',\n",
    "        '5cc53C',\n",
    "        '5a25cc56C',\n",
    "        '5cc57C',\n",
    "        '25cc50C',\n",
    "        '10cc55C',\n",
    "        '1cc24C',\n",
    "        '10cc57C',\n",
    "        '10cc24C',\n",
    "        '5cc55C',\n",
    "        '5cc58C',\n",
    "        '1cc48C',\n",
    "        '1cc51C',\n",
    "        '5cc48C',\n",
    "        '10cc50C',\n",
    "        '1cc54,7C',\n",
    "        '1cc52C',\n",
    "]"
   ]
  },
  {
   "cell_type": "code",
   "execution_count": 51,
   "metadata": {
    "collapsed": false
   },
   "outputs": [],
   "source": [
    "newNameList = [os.path.join(r'.\\Data', name) for name in nameList]"
   ]
  },
  {
   "cell_type": "code",
   "execution_count": 59,
   "metadata": {
    "collapsed": false
   },
   "outputs": [
    {
     "data": {
      "text/plain": [
       "'.\\\\1cc52c'"
      ]
     },
     "execution_count": 59,
     "metadata": {},
     "output_type": "execute_result"
    }
   ],
   "source": [
    "os.path.join('.', '1cc52c')"
   ]
  },
  {
   "cell_type": "code",
   "execution_count": 64,
   "metadata": {
    "collapsed": false
   },
   "outputs": [],
   "source": [
    "Experimentos = [Experimento(filename, r'.\\Data') for filename in nameList]"
   ]
  },
  {
   "cell_type": "code",
   "execution_count": 65,
   "metadata": {
    "collapsed": false
   },
   "outputs": [
    {
     "data": {
      "text/plain": [
       "1cc54C.csv"
      ]
     },
     "execution_count": 65,
     "metadata": {},
     "output_type": "execute_result"
    }
   ],
   "source": [
    "Experimentos[1]"
   ]
  }
 ],
 "metadata": {
  "anaconda-cloud": {},
  "kernelspec": {
   "display_name": "Python [bootcamp]",
   "language": "python",
   "name": "Python [bootcamp]"
  },
  "language_info": {
   "codemirror_mode": {
    "name": "ipython",
    "version": 3
   },
   "file_extension": ".py",
   "mimetype": "text/x-python",
   "name": "python",
   "nbconvert_exporter": "python",
   "pygments_lexer": "ipython3",
   "version": "3.5.2"
  }
 },
 "nbformat": 4,
 "nbformat_minor": 1
}
