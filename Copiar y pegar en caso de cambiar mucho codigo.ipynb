{
 "cells": [
  {
   "cell_type": "code",
   "execution_count": null,
   "metadata": {
    "collapsed": true
   },
   "outputs": [],
   "source": [
    "if exp['angulo'] == 15:\n",
    "                ax.plot(exp['largo'], exp['espesor'], color='C{}'.format(exp['rango temperatura']), \n",
    "                        linestyle= '--')\n",
    "            else:\n",
    "                ax.plot(exp['largo'], exp['espesor'], color='C{}'.format(exp['rango temperatura']))\n",
    "        \n",
    "legend1 = plt.legend(handles=[pat1, pat2, pat3, pat4, pat5, pat6, pat7], bbox_to_anchor=(1.8, 0.5), loc=5)\n",
    "plt.legend(bbox_to_anchor=(1.8, 0.5), loc=6)\n",
    "plt.gca().add_artist(legend1)\n",
    "fig.show()"
   ]
  },
  {
   "cell_type": "code",
   "execution_count": null,
   "metadata": {
    "collapsed": true
   },
   "outputs": [],
   "source": [
    "#1 GRAFICO DE ESPESOR VS ANCHO AGRUPADOS POR CAUDAL Y COLOREADOS X TEMPERATURA\n",
    "fig, ax = plt.subplots()\n",
    "counter = 0\n",
    "marqer = ['o', 'v', '^', '<', '>']\n",
    "plotmarqer = []\n",
    "\n",
    "from matplotlib import markers\n",
    "\n",
    "contadorkey = 0\n",
    "\n",
    "for key, group in groupby(sorted(listaporanchoyesp, key=lambda x: x['caudal']), \n",
    "                          key=lambda x: x['caudal']):\n",
    "    print(key)\n",
    "    ax.set_xlim(minimoejeancho-0.02, maximoejeancho+0.02)\n",
    "    ax.set_ylim(maximoejeespesor-0.02, maximoejeespesor+0.001)\n",
    "    markadorkey = marqer[contadorkey]\n",
    "    contadorkey += 1\n",
    "    \n",
    "    for i, exp in enumerate(group):\n",
    "        l = ax.scatter(exp['ancho'], exp['espesor'], color='C{}'.format(exp['rango temperatura']), marker= markadorkey)\n",
    "        if i == 0:\n",
    "            plotmarqer.append(ax.scatter([], [], color='black', marker=markadorkey, label=exp['caudal']))\n",
    "\n",
    "legendcolors2 = [pat1, pat2, pat3, pat4, pat5, pat6, pat7]\n",
    "\n",
    "legend1 = plt.legend(handles=plotmarqer, loc= 3)\n",
    "plt.legend(handles=legendcolors2, loc=2)\n",
    "plt.gca().add_artist(legend1)\n",
    "plt.show()"
   ]
  },
  {
   "cell_type": "code",
   "execution_count": null,
   "metadata": {
    "collapsed": true
   },
   "outputs": [],
   "source": [
    "##NO USO ESTO lo había hecho para hacer graficos de perfil.\n",
    "fig = plt.figure()\n",
    "ax = fig.add_subplot(3,2,1)\n",
    "ax2 = fig.add_subplot(3,2,2)\n",
    "ax3 = fig.add_subplot(3,2,3)\n",
    "ax4 = fig.add_subplot(3,2,4)\n",
    "ax5 = fig.add_subplot(3,2,5)\n",
    "        \n",
    "for x in Experimentos:\n",
    "    ax.plot(x.perfil['perfil: distancia'], x.perfil['perfil: espesor'])\n",
    "    ax2.plot(x.perfil['perfil: distancia'], x.perfil['perfil: espesor'])\n",
    "    ax3.plot(x.perfil['perfil: distancia'], x.perfil['perfil: espesor'])\n",
    "    ax4.plot(x.perfil['perfil: distancia'], x.perfil['perfil: espesor'])\n",
    "    ax5.plot(x.perfil['perfil: distancia'], x.perfil['perfil: espesor'])\n",
    "\n",
    "\n",
    "fig.show()"
   ]
  }
 ],
 "metadata": {
  "anaconda-cloud": {},
  "kernelspec": {
   "display_name": "Python [conda root]",
   "language": "python",
   "name": "conda-root-py"
  },
  "language_info": {
   "codemirror_mode": {
    "name": "ipython",
    "version": 3
   },
   "file_extension": ".py",
   "mimetype": "text/x-python",
   "name": "python",
   "nbconvert_exporter": "python",
   "pygments_lexer": "ipython3",
   "version": "3.5.2"
  }
 },
 "nbformat": 4,
 "nbformat_minor": 1
}
