{
 "cells": [
  {
   "cell_type": "code",
   "execution_count": 1,
   "metadata": {
    "collapsed": false
   },
   "outputs": [
    {
     "name": "stdout",
     "output_type": "stream",
     "text": [
      "Using matplotlib backend: Qt5Agg\n"
     ]
    }
   ],
   "source": [
    "import pandas as pd\n",
    "import os\n",
    "import csv\n",
    "import numpy as np\n",
    "from matplotlib import pyplot as plt\n",
    "%matplotlib"
   ]
  },
  {
   "cell_type": "code",
   "execution_count": 2,
   "metadata": {
    "collapsed": false
   },
   "outputs": [],
   "source": [
    "PropTerm = pd.read_excel('PropiedadesTermicas.xlsx')"
   ]
  },
  {
   "cell_type": "code",
   "execution_count": 3,
   "metadata": {
    "collapsed": false,
    "scrolled": true
   },
   "outputs": [
    {
     "data": {
      "text/html": [
       "<div>\n",
       "<table border=\"1\" class=\"dataframe\">\n",
       "  <thead>\n",
       "    <tr style=\"text-align: right;\">\n",
       "      <th></th>\n",
       "      <th>Temperatura</th>\n",
       "      <th>Error</th>\n",
       "      <th>día</th>\n",
       "      <th>Conductividad</th>\n",
       "      <th>Capacidad</th>\n",
       "      <th>Difusividad</th>\n",
       "      <th>Resistividad</th>\n",
       "    </tr>\n",
       "  </thead>\n",
       "  <tbody>\n",
       "    <tr>\n",
       "      <th>count</th>\n",
       "      <td>44.000000</td>\n",
       "      <td>44.000000</td>\n",
       "      <td>44.000000</td>\n",
       "      <td>44.000000</td>\n",
       "      <td>44.000000</td>\n",
       "      <td>44.000000</td>\n",
       "      <td>44.000000</td>\n",
       "    </tr>\n",
       "    <tr>\n",
       "      <th>mean</th>\n",
       "      <td>24.767500</td>\n",
       "      <td>0.002143</td>\n",
       "      <td>2.454545</td>\n",
       "      <td>0.347114</td>\n",
       "      <td>3.224682</td>\n",
       "      <td>0.107455</td>\n",
       "      <td>291.147727</td>\n",
       "    </tr>\n",
       "    <tr>\n",
       "      <th>std</th>\n",
       "      <td>0.565077</td>\n",
       "      <td>0.000477</td>\n",
       "      <td>0.503686</td>\n",
       "      <td>0.036102</td>\n",
       "      <td>0.189898</td>\n",
       "      <td>0.006475</td>\n",
       "      <td>30.742528</td>\n",
       "    </tr>\n",
       "    <tr>\n",
       "      <th>min</th>\n",
       "      <td>23.890000</td>\n",
       "      <td>0.001500</td>\n",
       "      <td>2.000000</td>\n",
       "      <td>0.267000</td>\n",
       "      <td>2.798000</td>\n",
       "      <td>0.094000</td>\n",
       "      <td>216.900000</td>\n",
       "    </tr>\n",
       "    <tr>\n",
       "      <th>25%</th>\n",
       "      <td>24.247500</td>\n",
       "      <td>0.001800</td>\n",
       "      <td>2.000000</td>\n",
       "      <td>0.321750</td>\n",
       "      <td>3.119000</td>\n",
       "      <td>0.102000</td>\n",
       "      <td>274.875000</td>\n",
       "    </tr>\n",
       "    <tr>\n",
       "      <th>50%</th>\n",
       "      <td>25.135000</td>\n",
       "      <td>0.002050</td>\n",
       "      <td>2.000000</td>\n",
       "      <td>0.351000</td>\n",
       "      <td>3.217000</td>\n",
       "      <td>0.108000</td>\n",
       "      <td>284.850000</td>\n",
       "    </tr>\n",
       "    <tr>\n",
       "      <th>75%</th>\n",
       "      <td>25.242500</td>\n",
       "      <td>0.002300</td>\n",
       "      <td>3.000000</td>\n",
       "      <td>0.364000</td>\n",
       "      <td>3.348750</td>\n",
       "      <td>0.112250</td>\n",
       "      <td>310.650000</td>\n",
       "    </tr>\n",
       "    <tr>\n",
       "      <th>max</th>\n",
       "      <td>25.610000</td>\n",
       "      <td>0.004300</td>\n",
       "      <td>3.000000</td>\n",
       "      <td>0.461000</td>\n",
       "      <td>3.903000</td>\n",
       "      <td>0.118000</td>\n",
       "      <td>374.300000</td>\n",
       "    </tr>\n",
       "  </tbody>\n",
       "</table>\n",
       "</div>"
      ],
      "text/plain": [
       "       Temperatura      Error        día  Conductividad  Capacidad  \\\n",
       "count    44.000000  44.000000  44.000000      44.000000  44.000000   \n",
       "mean     24.767500   0.002143   2.454545       0.347114   3.224682   \n",
       "std       0.565077   0.000477   0.503686       0.036102   0.189898   \n",
       "min      23.890000   0.001500   2.000000       0.267000   2.798000   \n",
       "25%      24.247500   0.001800   2.000000       0.321750   3.119000   \n",
       "50%      25.135000   0.002050   2.000000       0.351000   3.217000   \n",
       "75%      25.242500   0.002300   3.000000       0.364000   3.348750   \n",
       "max      25.610000   0.004300   3.000000       0.461000   3.903000   \n",
       "\n",
       "       Difusividad  Resistividad  \n",
       "count    44.000000     44.000000  \n",
       "mean      0.107455    291.147727  \n",
       "std       0.006475     30.742528  \n",
       "min       0.094000    216.900000  \n",
       "25%       0.102000    274.875000  \n",
       "50%       0.108000    284.850000  \n",
       "75%       0.112250    310.650000  \n",
       "max       0.118000    374.300000  "
      ]
     },
     "execution_count": 3,
     "metadata": {},
     "output_type": "execute_result"
    }
   ],
   "source": [
    "PropTerm.describe()"
   ]
  },
  {
   "cell_type": "code",
   "execution_count": 5,
   "metadata": {
    "collapsed": false
   },
   "outputs": [
    {
     "data": {
      "text/plain": [
       "0.10745454545454546"
      ]
     },
     "execution_count": 5,
     "metadata": {},
     "output_type": "execute_result"
    }
   ],
   "source": [
    "x = PropTerm['Difusividad'].mean()\n",
    "x"
   ]
  },
  {
   "cell_type": "code",
   "execution_count": 33,
   "metadata": {
    "collapsed": false
   },
   "outputs": [],
   "source": [
    "n = plt.hist(x, facecolor='blue', alpha=0.75)"
   ]
  }
 ],
 "metadata": {
  "anaconda-cloud": {},
  "kernelspec": {
   "display_name": "Python [conda root]",
   "language": "python",
   "name": "conda-root-py"
  },
  "language_info": {
   "codemirror_mode": {
    "name": "ipython",
    "version": 3
   },
   "file_extension": ".py",
   "mimetype": "text/x-python",
   "name": "python",
   "nbconvert_exporter": "python",
   "pygments_lexer": "ipython3",
   "version": "3.5.2"
  }
 },
 "nbformat": 4,
 "nbformat_minor": 1
}
