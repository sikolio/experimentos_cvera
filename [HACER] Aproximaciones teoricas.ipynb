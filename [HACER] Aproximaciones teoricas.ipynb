{
 "cells": [
  {
   "cell_type": "code",
   "execution_count": 1,
   "metadata": {
    "collapsed": false
   },
   "outputs": [
    {
     "name": "stdout",
     "output_type": "stream",
     "text": [
      "Using matplotlib backend: Qt5Agg\n"
     ]
    }
   ],
   "source": [
    "import pandas as pd\n",
    "import os\n",
    "import csv\n",
    "import numpy as np\n",
    "from scipy import stats\n",
    "from matplotlib import pyplot as plt\n",
    "%matplotlib\n",
    "import matplotlib.lines as mlines\n",
    "import matplotlib.pyplot as plt"
   ]
  },
  {
   "cell_type": "code",
   "execution_count": 2,
   "metadata": {
    "collapsed": true
   },
   "outputs": [
    {
     "name": "stdout",
     "output_type": "stream",
     "text": [
      "[Errno 2] No such file or directory: '.\\\\Data\\\\5cc50C - max av.csv'\n",
      "[Errno 2] No such file or directory: '.\\\\Data\\\\5cc50C - fspot.csv'\n",
      "[Errno 2] No such file or directory: '.\\\\Data\\\\5cc50C - max av cup.csv'\n",
      "[Errno 2] No such file or directory: '.\\\\Data\\\\5cc50C - frente.csv'\n",
      "[Errno 2] No such file or directory: '.\\\\Data\\\\1cc54C - max av.csv'\n",
      "[Errno 2] No such file or directory: '.\\\\Data\\\\1cc54C - fspot.csv'\n",
      "[Errno 2] No such file or directory: '.\\\\Data\\\\1cc54C - max av cup.csv'\n",
      "[Errno 2] No such file or directory: '.\\\\Data\\\\1cc54C - frente.csv'\n",
      "[Errno 2] No such file or directory: '.\\\\Data\\\\25cc54C - max av.csv'\n",
      "[Errno 2] No such file or directory: '.\\\\Data\\\\25cc54C - fspot.csv'\n",
      "[Errno 2] No such file or directory: '.\\\\Data\\\\25cc54C - max av cup.csv'\n",
      "[Errno 2] No such file or directory: '.\\\\Data\\\\25cc54C - frente.csv'\n",
      "[Errno 2] No such file or directory: '.\\\\Data\\\\10cc60C - max av.csv'\n",
      "[Errno 2] No such file or directory: '.\\\\Data\\\\10cc60C - fspot.csv'\n",
      "[Errno 2] No such file or directory: '.\\\\Data\\\\10cc60C - max av cup.csv'\n",
      "[Errno 2] No such file or directory: '.\\\\Data\\\\10cc60C - frente.csv'\n",
      "[Errno 2] No such file or directory: '.\\\\Data\\\\25cc60C - max av.csv'\n",
      "[Errno 2] No such file or directory: '.\\\\Data\\\\25cc60C - fspot.csv'\n",
      "[Errno 2] No such file or directory: '.\\\\Data\\\\25cc60C - max av cup.csv'\n",
      "[Errno 2] No such file or directory: '.\\\\Data\\\\25cc60C - frente.csv'\n",
      "[Errno 2] No such file or directory: '.\\\\Data\\\\1cc59C - fspot.csv'\n",
      "[Errno 2] No such file or directory: '.\\\\Data\\\\1cc59C - max av cup.csv'\n",
      "[Errno 2] No such file or directory: '.\\\\Data\\\\1cc59C - frente.csv'\n",
      "[Errno 2] No such file or directory: '.\\\\Data\\\\1cc47C - max av.csv'\n",
      "[Errno 2] No such file or directory: '.\\\\Data\\\\1cc47C - fspot.csv'\n",
      "[Errno 2] No such file or directory: '.\\\\Data\\\\1cc47C - frente.csv'\n",
      "[Errno 2] No such file or directory: '.\\\\Data\\\\1cc55C - max av.csv'\n",
      "[Errno 2] No such file or directory: '.\\\\Data\\\\1cc55C - fspot.csv'\n",
      "[Errno 2] No such file or directory: '.\\\\Data\\\\1cc55C - frente.csv'\n",
      "[Errno 2] No such file or directory: '.\\\\Data\\\\25cc58C - max av.csv'\n",
      "[Errno 2] No such file or directory: '.\\\\Data\\\\25cc58C - fspot.csv'\n",
      "[Errno 2] No such file or directory: '.\\\\Data\\\\25cc58C - frente.csv'\n",
      "[Errno 2] No such file or directory: '.\\\\Data\\\\25cc70C - max av.csv'\n",
      "[Errno 2] No such file or directory: '.\\\\Data\\\\25cc70C - fspot.csv'\n",
      "[Errno 2] No such file or directory: '.\\\\Data\\\\25cc70C - frente.csv'\n",
      "[Errno 2] No such file or directory: '.\\\\Data\\\\10cc67C - max av.csv'\n",
      "[Errno 2] No such file or directory: '.\\\\Data\\\\10cc67C - fspot.csv'\n",
      "[Errno 2] No such file or directory: '.\\\\Data\\\\10cc67C - frente.csv'\n",
      "[Errno 2] No such file or directory: '.\\\\Data\\\\10cc59C - max av.csv'\n",
      "[Errno 2] No such file or directory: '.\\\\Data\\\\10cc59C - fspot.csv'\n",
      "[Errno 2] No such file or directory: '.\\\\Data\\\\10cc59C - frente.csv'\n",
      "[Errno 2] No such file or directory: '.\\\\Data\\\\5cc63C - max av.csv'\n",
      "[Errno 2] No such file or directory: '.\\\\Data\\\\5cc63C - fspot.csv'\n",
      "[Errno 2] No such file or directory: '.\\\\Data\\\\5cc63C - max av cup.csv'\n",
      "[Errno 2] No such file or directory: '.\\\\Data\\\\5cc63C - frente.csv'\n",
      "[Errno 2] No such file or directory: '.\\\\Data\\\\5cc59C - max av.csv'\n",
      "[Errno 2] No such file or directory: '.\\\\Data\\\\5cc59C - fspot.csv'\n",
      "[Errno 2] No such file or directory: '.\\\\Data\\\\5cc59C - frente.csv'\n",
      "[Errno 2] No such file or directory: '.\\\\Data\\\\10cc49C - max av.csv'\n",
      "[Errno 2] No such file or directory: '.\\\\Data\\\\10cc49C - fspot.csv'\n",
      "[Errno 2] No such file or directory: '.\\\\Data\\\\10cc49C - frente.csv'\n",
      "[Errno 2] No such file or directory: '.\\\\Data\\\\25cc62C - max av.csv'\n",
      "[Errno 2] No such file or directory: '.\\\\Data\\\\25cc62C - fspot.csv'\n",
      "[Errno 2] No such file or directory: '.\\\\Data\\\\25cc62C - max av cup.csv'\n",
      "[Errno 2] No such file or directory: '.\\\\Data\\\\25cc62C - frente.csv'\n",
      "[Errno 2] No such file or directory: '.\\\\Data\\\\1cc62C - max av.csv'\n",
      "[Errno 2] No such file or directory: '.\\\\Data\\\\1cc62C - fspot.csv'\n",
      "[Errno 2] No such file or directory: '.\\\\Data\\\\1cc62C - max av cup.csv'\n",
      "[Errno 2] No such file or directory: '.\\\\Data\\\\1cc62C - frente.csv'\n",
      "[Errno 2] No such file or directory: '.\\\\Data\\\\5cc53C - max av.csv'\n",
      "[Errno 2] No such file or directory: '.\\\\Data\\\\5cc53C - fspot.csv'\n",
      "[Errno 2] No such file or directory: '.\\\\Data\\\\5cc53C - frente.csv'\n",
      "[Errno 2] No such file or directory: '.\\\\Data\\\\5a25cc56C - max av.csv'\n",
      "[Errno 2] No such file or directory: '.\\\\Data\\\\5a25cc56C - fspot.csv'\n",
      "[Errno 2] No such file or directory: '.\\\\Data\\\\5a25cc56C - frente.csv'\n",
      "[Errno 2] No such file or directory: '.\\\\Data\\\\5cc57C - fspot.csv'\n",
      "[Errno 2] No such file or directory: '.\\\\Data\\\\5cc57C - max av cup.csv'\n",
      "[Errno 2] No such file or directory: '.\\\\Data\\\\5cc57C - frente.csv'\n",
      "[Errno 2] No such file or directory: '.\\\\Data\\\\25cc50C - max av.csv'\n",
      "[Errno 2] No such file or directory: '.\\\\Data\\\\25cc50C - fspot.csv'\n",
      "[Errno 2] No such file or directory: '.\\\\Data\\\\25cc50C - frente.csv'\n",
      "[Errno 2] No such file or directory: '.\\\\Data\\\\10cc55C - fspot.csv'\n",
      "[Errno 2] No such file or directory: '.\\\\Data\\\\10cc55C - max av cup.csv'\n",
      "'frente'\n",
      "[Errno 2] No such file or directory: '.\\\\Data\\\\1cc24C - max av.csv'\n",
      "[Errno 2] No such file or directory: '.\\\\Data\\\\1cc24C - fspot.csv'\n",
      "[Errno 2] No such file or directory: '.\\\\Data\\\\1cc24C - max av cup.csv'\n",
      "[Errno 2] No such file or directory: '.\\\\Data\\\\1cc24C - frente.csv'\n",
      "[Errno 2] No such file or directory: '.\\\\Data\\\\10cc57C - fspot.csv'\n",
      "[Errno 2] No such file or directory: '.\\\\Data\\\\10cc57C - max av cup.csv'\n",
      "[Errno 2] No such file or directory: '.\\\\Data\\\\10cc24C - max av.csv'\n",
      "[Errno 2] No such file or directory: '.\\\\Data\\\\10cc24C - fspot.csv'\n",
      "[Errno 2] No such file or directory: '.\\\\Data\\\\10cc24C - max av cup.csv'\n",
      "[Errno 2] No such file or directory: '.\\\\Data\\\\10cc24C - frente.csv'\n",
      "[Errno 2] No such file or directory: '.\\\\Data\\\\5cc55C - fspot.csv'\n",
      "[Errno 2] No such file or directory: '.\\\\Data\\\\5cc55C - max av cup.csv'\n",
      "[Errno 2] No such file or directory: '.\\\\Data\\\\5cc55C - frente.csv'\n",
      "[Errno 2] No such file or directory: '.\\\\Data\\\\5cc58C - fspot.csv'\n",
      "[Errno 2] No such file or directory: '.\\\\Data\\\\5cc58C - max av cup.csv'\n",
      "[Errno 2] No such file or directory: '.\\\\Data\\\\5cc58C - frente.csv'\n",
      "[Errno 2] No such file or directory: '.\\\\Data\\\\1cc48C - fspot.csv'\n",
      "[Errno 2] No such file or directory: '.\\\\Data\\\\1cc48C - max av cup.csv'\n",
      "[Errno 2] No such file or directory: '.\\\\Data\\\\1cc48C - frente.csv'\n",
      "[Errno 2] No such file or directory: '.\\\\Data\\\\1cc51C - fspot.csv'\n",
      "[Errno 2] No such file or directory: '.\\\\Data\\\\1cc51C - max av cup.csv'\n",
      "[Errno 2] No such file or directory: '.\\\\Data\\\\1cc51C - frente.csv'\n",
      "[Errno 2] No such file or directory: '.\\\\Data\\\\5cc48C - max av.csv'\n",
      "[Errno 2] No such file or directory: '.\\\\Data\\\\5cc48C - max av cup.csv'\n",
      "[Errno 2] No such file or directory: '.\\\\Data\\\\10cc50C - max av.csv'\n",
      "[Errno 2] No such file or directory: '.\\\\Data\\\\10cc50C - max av cup.csv'\n",
      "[Errno 2] No such file or directory: '.\\\\Data\\\\1cc54,7C - max av.csv'\n",
      "[Errno 2] No such file or directory: '.\\\\Data\\\\1cc54,7C - max av cup.csv'\n",
      "[Errno 2] No such file or directory: '.\\\\Data\\\\1cc52C - max av.csv'\n",
      "[Errno 2] No such file or directory: '.\\\\Data\\\\1cc52C - max av cup.csv'\n"
     ]
    }
   ],
   "source": [
    "from Experimentos2 import Experimentos, labelLines"
   ]
  },
  {
   "cell_type": "code",
   "execution_count": 3,
   "metadata": {
    "collapsed": true
   },
   "outputs": [],
   "source": [
    "velos = pd.read_excel('Velocidades y punto.xlsx')"
   ]
  },
  {
   "cell_type": "markdown",
   "metadata": {},
   "source": [
    "# calcular K, n, Ty para todos los experimentos según temperatura a escoger freely, guardar en alguno de los DF."
   ]
  },
  {
   "cell_type": "code",
   "execution_count": 15,
   "metadata": {
    "collapsed": false
   },
   "outputs": [],
   "source": [
    "for exp in Experimentos:\n",
    "    #updateo densidad\n",
    "    exp.param['densidad']=1340\n",
    "    #calculo cos angulo\n",
    "    exp.param['slope'] = np.sin(np.radians(exp.param['angulo inclinacion']))"
   ]
  },
  {
   "cell_type": "code",
   "execution_count": 18,
   "metadata": {
    "collapsed": false
   },
   "outputs": [],
   "source": [
    "#Añado velos a params x facilidad\n",
    "for exp in Experimentos:\n",
    "    for i in range(33):\n",
    "        if exp.param['NOMBRE'][0]==velos.iloc[i,:]['nombre']:\n",
    "            exp.param['v1'] = velos.iloc[i,:]['v1']\n",
    "            exp.param['v2'] = velos.iloc[i,:]['v2']\n",
    "            exp.param['L*'] = velos.iloc[i,:]['L*']\n",
    "            exp.param['t*'] = velos.iloc[i,:]['t*']"
   ]
  },
  {
   "cell_type": "code",
   "execution_count": 37,
   "metadata": {
    "collapsed": false
   },
   "outputs": [],
   "source": [
    "#Estimo Jeffreys parte primera\n",
    "for exp in Experimentos:\n",
    "    \n",
    "    exp.param['numerador'] = 9.8*exp.param['densidad']*exp.param['result: espesor max final']*exp.param['result: espesor max final']\n",
    "    \n",
    "    if exp.param['v1'][0] > 0:\n",
    "        exp.param['denominador1'] = 3*exp.param['v1']\n",
    "    if exp.param['v2'][0] > 0:\n",
    "        exp.param['denominador2'] = 3*exp.param['v2']"
   ]
  },
  {
   "cell_type": "code",
   "execution_count": 38,
   "metadata": {
    "collapsed": false
   },
   "outputs": [],
   "source": [
    "#Estimo Jeffreys parte final\n",
    "for exp in Experimentos:\n",
    "    if exp.param['v1'][0] > 0:\n",
    "        exp.param['visc1'] = exp.param['numerador']/exp.param['denominador1']\n",
    "    if exp.param['v2'][0] > 0:\n",
    "        exp.param['visc2'] = exp.param['numerador']/exp.param['denominador2']"
   ]
  },
  {
   "cell_type": "code",
   "execution_count": 55,
   "metadata": {
    "collapsed": false
   },
   "outputs": [],
   "source": [
    "#Largo según Lister para flujos newtonianos\n",
    "for exp in Experimentos:\n",
    "    exp.dinamica['numerador']=exp.param['caudal'][0]*exp.param['caudal'][0]*exp.param['densidad'][0]*9.8*exp.param['slope'][0]\n",
    "    if exp.param['v1'][0] > 0:\n",
    "        exp.dinamica['denominador']=exp.param['visc1'][0]*exp.dinamica['avance: ancho maximo']*exp.dinamica['avance: ancho maximo']\n",
    "        exp.dinamica['division'] = np.cbrt(exp.dinamica['numerador'][0]/exp.dinamica['denominador'])\n",
    "        exp.dinamica['Lteonew'] = exp.dinamica['division']*exp.dinamica['avance: tiempo']"
   ]
  },
  {
   "cell_type": "code",
   "execution_count": 68,
   "metadata": {
    "collapsed": false
   },
   "outputs": [
    {
     "name": "stdout",
     "output_type": "stream",
     "text": [
      "1e-06\n",
      "5e-06\n",
      "1e-05\n",
      "1.7e-05\n",
      "2.5e-05\n"
     ]
    }
   ],
   "source": [
    "#se arman GRUPOS SEGUN CAUDAL\n",
    "from itertools import groupby\n",
    "count = 0\n",
    "\n",
    "for key, group in groupby(sorted(listalargonewtoniano, key=lambda x: x['caudal']), key=lambda x: x['caudal']):\n",
    "    print(key)\n",
    "    count += 1"
   ]
  },
  {
   "cell_type": "code",
   "execution_count": 80,
   "metadata": {
    "collapsed": false
   },
   "outputs": [],
   "source": [
    "listalargonewtoniano = []\n",
    "\n",
    "for exp in Experimentos:\n",
    "    holder = {} \n",
    "    holder['caudal'] = exp.param['caudal'][0]\n",
    "    holder['angulo'] = exp.param['angulo inclinacion'][0]#en grados\n",
    "    holder[\"rango temperatura\"] = rango_temperatura(exp.param[\"t max\"][0])\n",
    "\n",
    "    if exp.param['v1'][0] > 0:\n",
    "        holder['nombre'] = exp.param['NOMBRE'][0]\n",
    "        holder['tiempo'] = exp.dinamica['avance: tiempo']\n",
    "        holder['distancia'] = exp.dinamica['avance: distancia desde punto eyeccion']\n",
    "        holder['newtoniano'] = exp.dinamica['Lteonew']\n",
    "        #holder['teyec'] = exp.param['tiempo fin eyeccion']\n",
    "\n",
    "    listalargonewtoniano.append(holder)"
   ]
  },
  {
   "cell_type": "code",
   "execution_count": 76,
   "metadata": {
    "collapsed": true
   },
   "outputs": [],
   "source": [
    "#FUNCION Q DEVUELVE RANGO [1-7] SEGUN TEMP MAXIMA DEL EXP\n",
    "def rango_temperatura(temp):\n",
    "    if temp < 40:\n",
    "        return 1\n",
    "    if temp < 45:\n",
    "        return 2\n",
    "    if temp < 50:\n",
    "        return 3\n",
    "    if temp < 55:\n",
    "        return 4\n",
    "    if temp < 60:\n",
    "        return 5\n",
    "    if temp < 65:\n",
    "        return 6\n",
    "    if temp < 70:\n",
    "        return 7"
   ]
  },
  {
   "cell_type": "code",
   "execution_count": 77,
   "metadata": {
    "collapsed": false
   },
   "outputs": [
    {
     "name": "stdout",
     "output_type": "stream",
     "text": [
      "['pat1', 'pat2', 'pat3', 'pat4', 'pat5', 'pat6', 'pat7', <matplotlib.patches.Patch object at 0x0000026A996C2CC0>]\n"
     ]
    }
   ],
   "source": [
    "#GENERA PATCHES DE COLORES SEGUN TEMPERATURA\n",
    "import matplotlib.patches as mpatches\n",
    "\n",
    "pat1 = mpatches.Patch(color='C1', label='temp < 40')\n",
    "pat2 = mpatches.Patch(color='C2', label='temp < 45')\n",
    "pat3 = mpatches.Patch(color='C3', label='temp < 50')\n",
    "pat4 = mpatches.Patch(color='C4', label='temp < 55')\n",
    "pat5 = mpatches.Patch(color='C5', label='temp < 60')\n",
    "pat6 = mpatches.Patch(color='C6', label='temp < 65')\n",
    "pat7 = mpatches.Patch(color='C7', label='temp < 70')\n",
    "pat8 = mpatches.Patch(color='black', label='15° slope')\n",
    "\n",
    "numerocolores = 7\n",
    "colors = ['pat{}'.format(i+1) for i in range(numerocolores)] + [pat8]\n",
    "\n",
    "print(colors)"
   ]
  },
  {
   "cell_type": "code",
   "execution_count": 81,
   "metadata": {
    "collapsed": false
   },
   "outputs": [
    {
     "name": "stdout",
     "output_type": "stream",
     "text": [
      "0 1e-06\n"
     ]
    },
    {
     "ename": "KeyError",
     "evalue": "'tiempo'",
     "output_type": "error",
     "traceback": [
      "\u001b[0;31m---------------------------------------------------------------------------\u001b[0m",
      "\u001b[0;31mKeyError\u001b[0m                                  Traceback (most recent call last)",
      "\u001b[0;32m<ipython-input-81-edd384ffd55c>\u001b[0m in \u001b[0;36m<module>\u001b[0;34m()\u001b[0m\n\u001b[1;32m     22\u001b[0m                            linestyle='--')\n\u001b[1;32m     23\u001b[0m         \u001b[1;32melse\u001b[0m\u001b[1;33m:\u001b[0m\u001b[1;33m\u001b[0m\u001b[0m\n\u001b[0;32m---> 24\u001b[0;31m             \u001b[0maxes\u001b[0m\u001b[1;33m[\u001b[0m\u001b[0mi\u001b[0m\u001b[1;33m]\u001b[0m\u001b[1;33m.\u001b[0m\u001b[0mloglog\u001b[0m\u001b[1;33m(\u001b[0m\u001b[0mexp\u001b[0m\u001b[1;33m[\u001b[0m\u001b[1;34m'tiempo'\u001b[0m\u001b[1;33m]\u001b[0m\u001b[1;33m,\u001b[0m \u001b[0mexp\u001b[0m\u001b[1;33m[\u001b[0m\u001b[1;34m'distancia'\u001b[0m\u001b[1;33m]\u001b[0m\u001b[1;33m,\u001b[0m \u001b[0mcolor\u001b[0m\u001b[1;33m=\u001b[0m\u001b[1;34m'C{}'\u001b[0m\u001b[1;33m.\u001b[0m\u001b[0mformat\u001b[0m\u001b[1;33m(\u001b[0m\u001b[0mexp\u001b[0m\u001b[1;33m[\u001b[0m\u001b[1;34m'rango temperatura'\u001b[0m\u001b[1;33m]\u001b[0m\u001b[1;33m)\u001b[0m\u001b[1;33m)\u001b[0m\u001b[1;33m\u001b[0m\u001b[0m\n\u001b[0m\u001b[1;32m     25\u001b[0m             \u001b[0maxes\u001b[0m\u001b[1;33m[\u001b[0m\u001b[0mi\u001b[0m\u001b[1;33m]\u001b[0m\u001b[1;33m.\u001b[0m\u001b[0mlegend\u001b[0m\u001b[1;33m(\u001b[0m\u001b[1;33m[\u001b[0m\u001b[0mkey\u001b[0m\u001b[1;33m]\u001b[0m\u001b[1;33m)\u001b[0m\u001b[1;33m\u001b[0m\u001b[0m\n\u001b[1;32m     26\u001b[0m             \u001b[0maxes\u001b[0m\u001b[1;33m[\u001b[0m\u001b[0mi\u001b[0m\u001b[1;33m]\u001b[0m\u001b[1;33m.\u001b[0m\u001b[0mloglog\u001b[0m\u001b[1;33m(\u001b[0m\u001b[0mexp\u001b[0m\u001b[1;33m[\u001b[0m\u001b[1;34m'tiempo'\u001b[0m\u001b[1;33m]\u001b[0m\u001b[1;33m,\u001b[0m \u001b[0mexp\u001b[0m\u001b[1;33m[\u001b[0m\u001b[1;34m'newtoniano'\u001b[0m\u001b[1;33m]\u001b[0m\u001b[1;33m,\u001b[0m \u001b[0mcolor\u001b[0m\u001b[1;33m=\u001b[0m\u001b[1;34m'C{}'\u001b[0m\u001b[1;33m.\u001b[0m\u001b[0mformat\u001b[0m\u001b[1;33m(\u001b[0m\u001b[0mexp\u001b[0m\u001b[1;33m[\u001b[0m\u001b[1;34m'rango temperatura'\u001b[0m\u001b[1;33m]\u001b[0m\u001b[1;33m)\u001b[0m\u001b[1;33m)\u001b[0m\u001b[1;33m\u001b[0m\u001b[0m\n",
      "\u001b[0;31mKeyError\u001b[0m: 'tiempo'"
     ]
    }
   ],
   "source": [
    "#plot listalargonewtoniano\n",
    "fig = plt.figure()\n",
    "axes = []\n",
    "\n",
    "#este plot hace cuantos subplot necesite segun un contador que da el numero de\n",
    "#grupos generados en el groupby\n",
    "for x in range(count):\n",
    "    axes.append(fig.add_subplot(2, 3, x + 1))\n",
    "\n",
    "#UNA COLUMNA DE GRAFICOS CON VARIAS FILAS SEGUN GRUPO\n",
    "#se generan los ejes de cada plot\n",
    "#i es el indice de lista y luego cada value en lista (???)\n",
    "for i, (key, group) in enumerate(groupby(sorted(listalargonewtoniano, key=lambda x: x['caudal']), key=lambda x: x['caudal'])):\n",
    "    print(i, key)\n",
    "\n",
    "    for exp in group:\n",
    "        axes[i].legend([key])\n",
    "        if exp['angulo'] == 15:\n",
    "            axes[i].loglog(exp['tiempo'], exp['distancia'], color='C{}'.format(exp['rango temperatura']),\n",
    "                           linestyle='--')\n",
    "            axes[i].loglog(exp['tiempo'], exp['newtoniano'], color='C{}'.format(exp['rango temperatura']),\n",
    "                           linestyle='--') \n",
    "        else:\n",
    "            axes[i].loglog(exp['tiempo'], exp['distancia'], color='C{}'.format(exp['rango temperatura']))\n",
    "            axes[i].legend([key])\n",
    "            axes[i].loglog(exp['tiempo'], exp['newtoniano'], color='C{}'.format(exp['rango temperatura']))\n",
    "            axes[i].legend([key])\n",
    "        \n",
    "legend1 = plt.legend(handles=[pat1, pat2, pat3, pat4, pat5, pat6, pat7], bbox_to_anchor=(1.8, 0.5), loc=5)\n",
    "plt.gca().add_artist(legend1)\n",
    "\n",
    "linea1= ax.plot([],[], label='15°', linestyle='--', color='black')\n",
    "linea2= ax.plot([],[], label='10°', color='black')\n",
    "plt.legend(bbox_to_anchor=(1.8, 0.5), loc=6)\n",
    "labelLines(plt.gca().get_lines(),align=False,color='k')\n",
    "fig.show()"
   ]
  },
  {
   "cell_type": "code",
   "execution_count": 97,
   "metadata": {
    "collapsed": true
   },
   "outputs": [],
   "source": []
  },
  {
   "cell_type": "code",
   "execution_count": 93,
   "metadata": {
    "collapsed": false
   },
   "outputs": [],
   "source": []
  },
  {
   "cell_type": "code",
   "execution_count": 101,
   "metadata": {
    "collapsed": true
   },
   "outputs": [
    {
     "ename": "TypeError",
     "evalue": "cannot compare a dtyped [float64] array with a scalar of type [bool]",
     "output_type": "error",
     "traceback": [
      "\u001b[0;31m---------------------------------------------------------------------------\u001b[0m",
      "\u001b[0;31mTypeError\u001b[0m                                 Traceback (most recent call last)",
      "\u001b[0;32mC:\\Users\\CCVV\\Anaconda3b\\lib\\site-packages\\pandas\\core\\ops.py\u001b[0m in \u001b[0;36mna_op\u001b[0;34m(x, y)\u001b[0m\n\u001b[1;32m    876\u001b[0m         \u001b[1;32mtry\u001b[0m\u001b[1;33m:\u001b[0m\u001b[1;33m\u001b[0m\u001b[0m\n\u001b[0;32m--> 877\u001b[0;31m             \u001b[0mresult\u001b[0m \u001b[1;33m=\u001b[0m \u001b[0mop\u001b[0m\u001b[1;33m(\u001b[0m\u001b[0mx\u001b[0m\u001b[1;33m,\u001b[0m \u001b[0my\u001b[0m\u001b[1;33m)\u001b[0m\u001b[1;33m\u001b[0m\u001b[0m\n\u001b[0m\u001b[1;32m    878\u001b[0m         \u001b[1;32mexcept\u001b[0m \u001b[0mTypeError\u001b[0m\u001b[1;33m:\u001b[0m\u001b[1;33m\u001b[0m\u001b[0m\n",
      "\u001b[0;31mTypeError\u001b[0m: ufunc 'bitwise_xor' not supported for the input types, and the inputs could not be safely coerced to any supported types according to the casting rule ''safe''",
      "\nDuring handling of the above exception, another exception occurred:\n",
      "\u001b[0;31mValueError\u001b[0m                                Traceback (most recent call last)",
      "\u001b[0;32mC:\\Users\\CCVV\\Anaconda3b\\lib\\site-packages\\pandas\\core\\ops.py\u001b[0m in \u001b[0;36mna_op\u001b[0;34m(x, y)\u001b[0m\n\u001b[1;32m    894\u001b[0m                         \u001b[0my\u001b[0m \u001b[1;33m=\u001b[0m \u001b[0mbool\u001b[0m\u001b[1;33m(\u001b[0m\u001b[0my\u001b[0m\u001b[1;33m)\u001b[0m\u001b[1;33m\u001b[0m\u001b[0m\n\u001b[0;32m--> 895\u001b[0;31m                     \u001b[0mresult\u001b[0m \u001b[1;33m=\u001b[0m \u001b[0mlib\u001b[0m\u001b[1;33m.\u001b[0m\u001b[0mscalar_binop\u001b[0m\u001b[1;33m(\u001b[0m\u001b[0mx\u001b[0m\u001b[1;33m,\u001b[0m \u001b[0my\u001b[0m\u001b[1;33m,\u001b[0m \u001b[0mop\u001b[0m\u001b[1;33m)\u001b[0m\u001b[1;33m\u001b[0m\u001b[0m\n\u001b[0m\u001b[1;32m    896\u001b[0m                 \u001b[1;32mexcept\u001b[0m\u001b[1;33m:\u001b[0m\u001b[1;33m\u001b[0m\u001b[0m\n",
      "\u001b[0;32mpandas\\lib.pyx\u001b[0m in \u001b[0;36mpandas.lib.scalar_binop (pandas\\lib.c:16177)\u001b[0;34m()\u001b[0m\n",
      "\u001b[0;31mValueError\u001b[0m: Buffer dtype mismatch, expected 'Python object' but got 'double'",
      "\nDuring handling of the above exception, another exception occurred:\n",
      "\u001b[0;31mTypeError\u001b[0m                                 Traceback (most recent call last)",
      "\u001b[0;32m<ipython-input-101-a48be59e4213>\u001b[0m in \u001b[0;36m<module>\u001b[0;34m()\u001b[0m\n\u001b[1;32m      7\u001b[0m \u001b[0myData\u001b[0m \u001b[1;33m=\u001b[0m \u001b[0mExperimentos\u001b[0m\u001b[1;33m[\u001b[0m\u001b[1;36m24\u001b[0m\u001b[1;33m]\u001b[0m\u001b[1;33m.\u001b[0m\u001b[0mdinamica\u001b[0m\u001b[1;33m[\u001b[0m\u001b[1;34m'avance: distancia desde punto eyeccion'\u001b[0m\u001b[1;33m]\u001b[0m\u001b[1;33m\u001b[0m\u001b[0m\n\u001b[1;32m      8\u001b[0m \u001b[1;33m\u001b[0m\u001b[0m\n\u001b[0;32m----> 9\u001b[0;31m \u001b[0mpopt\u001b[0m\u001b[1;33m,\u001b[0m \u001b[0mpcov\u001b[0m \u001b[1;33m=\u001b[0m \u001b[0mcurve_fit\u001b[0m\u001b[1;33m(\u001b[0m\u001b[0mfunc\u001b[0m\u001b[1;33m,\u001b[0m \u001b[0mxData\u001b[0m\u001b[1;33m,\u001b[0m \u001b[0myData\u001b[0m\u001b[1;33m)\u001b[0m\u001b[1;33m\u001b[0m\u001b[0m\n\u001b[0m",
      "\u001b[0;32mC:\\Users\\CCVV\\Anaconda3b\\lib\\site-packages\\scipy\\optimize\\minpack.py\u001b[0m in \u001b[0;36mcurve_fit\u001b[0;34m(f, xdata, ydata, p0, sigma, absolute_sigma, check_finite, bounds, method, jac, **kwargs)\u001b[0m\n\u001b[1;32m    674\u001b[0m         \u001b[1;31m# Remove full_output from kwargs, otherwise we're passing it in twice.\u001b[0m\u001b[1;33m\u001b[0m\u001b[1;33m\u001b[0m\u001b[0m\n\u001b[1;32m    675\u001b[0m         \u001b[0mreturn_full\u001b[0m \u001b[1;33m=\u001b[0m \u001b[0mkwargs\u001b[0m\u001b[1;33m.\u001b[0m\u001b[0mpop\u001b[0m\u001b[1;33m(\u001b[0m\u001b[1;34m'full_output'\u001b[0m\u001b[1;33m,\u001b[0m \u001b[1;32mFalse\u001b[0m\u001b[1;33m)\u001b[0m\u001b[1;33m\u001b[0m\u001b[0m\n\u001b[0;32m--> 676\u001b[0;31m         \u001b[0mres\u001b[0m \u001b[1;33m=\u001b[0m \u001b[0mleastsq\u001b[0m\u001b[1;33m(\u001b[0m\u001b[0mfunc\u001b[0m\u001b[1;33m,\u001b[0m \u001b[0mp0\u001b[0m\u001b[1;33m,\u001b[0m \u001b[0mDfun\u001b[0m\u001b[1;33m=\u001b[0m\u001b[0mjac\u001b[0m\u001b[1;33m,\u001b[0m \u001b[0mfull_output\u001b[0m\u001b[1;33m=\u001b[0m\u001b[1;36m1\u001b[0m\u001b[1;33m,\u001b[0m \u001b[1;33m**\u001b[0m\u001b[0mkwargs\u001b[0m\u001b[1;33m)\u001b[0m\u001b[1;33m\u001b[0m\u001b[0m\n\u001b[0m\u001b[1;32m    677\u001b[0m         \u001b[0mpopt\u001b[0m\u001b[1;33m,\u001b[0m \u001b[0mpcov\u001b[0m\u001b[1;33m,\u001b[0m \u001b[0minfodict\u001b[0m\u001b[1;33m,\u001b[0m \u001b[0merrmsg\u001b[0m\u001b[1;33m,\u001b[0m \u001b[0mier\u001b[0m \u001b[1;33m=\u001b[0m \u001b[0mres\u001b[0m\u001b[1;33m\u001b[0m\u001b[0m\n\u001b[1;32m    678\u001b[0m         \u001b[0mcost\u001b[0m \u001b[1;33m=\u001b[0m \u001b[0mnp\u001b[0m\u001b[1;33m.\u001b[0m\u001b[0msum\u001b[0m\u001b[1;33m(\u001b[0m\u001b[0minfodict\u001b[0m\u001b[1;33m[\u001b[0m\u001b[1;34m'fvec'\u001b[0m\u001b[1;33m]\u001b[0m \u001b[1;33m**\u001b[0m \u001b[1;36m2\u001b[0m\u001b[1;33m)\u001b[0m\u001b[1;33m\u001b[0m\u001b[0m\n",
      "\u001b[0;32mC:\\Users\\CCVV\\Anaconda3b\\lib\\site-packages\\scipy\\optimize\\minpack.py\u001b[0m in \u001b[0;36mleastsq\u001b[0;34m(func, x0, args, Dfun, full_output, col_deriv, ftol, xtol, gtol, maxfev, epsfcn, factor, diag)\u001b[0m\n\u001b[1;32m    375\u001b[0m     \u001b[1;32mif\u001b[0m \u001b[1;32mnot\u001b[0m \u001b[0misinstance\u001b[0m\u001b[1;33m(\u001b[0m\u001b[0margs\u001b[0m\u001b[1;33m,\u001b[0m \u001b[0mtuple\u001b[0m\u001b[1;33m)\u001b[0m\u001b[1;33m:\u001b[0m\u001b[1;33m\u001b[0m\u001b[0m\n\u001b[1;32m    376\u001b[0m         \u001b[0margs\u001b[0m \u001b[1;33m=\u001b[0m \u001b[1;33m(\u001b[0m\u001b[0margs\u001b[0m\u001b[1;33m,\u001b[0m\u001b[1;33m)\u001b[0m\u001b[1;33m\u001b[0m\u001b[0m\n\u001b[0;32m--> 377\u001b[0;31m     \u001b[0mshape\u001b[0m\u001b[1;33m,\u001b[0m \u001b[0mdtype\u001b[0m \u001b[1;33m=\u001b[0m \u001b[0m_check_func\u001b[0m\u001b[1;33m(\u001b[0m\u001b[1;34m'leastsq'\u001b[0m\u001b[1;33m,\u001b[0m \u001b[1;34m'func'\u001b[0m\u001b[1;33m,\u001b[0m \u001b[0mfunc\u001b[0m\u001b[1;33m,\u001b[0m \u001b[0mx0\u001b[0m\u001b[1;33m,\u001b[0m \u001b[0margs\u001b[0m\u001b[1;33m,\u001b[0m \u001b[0mn\u001b[0m\u001b[1;33m)\u001b[0m\u001b[1;33m\u001b[0m\u001b[0m\n\u001b[0m\u001b[1;32m    378\u001b[0m     \u001b[0mm\u001b[0m \u001b[1;33m=\u001b[0m \u001b[0mshape\u001b[0m\u001b[1;33m[\u001b[0m\u001b[1;36m0\u001b[0m\u001b[1;33m]\u001b[0m\u001b[1;33m\u001b[0m\u001b[0m\n\u001b[1;32m    379\u001b[0m     \u001b[1;32mif\u001b[0m \u001b[0mn\u001b[0m \u001b[1;33m>\u001b[0m \u001b[0mm\u001b[0m\u001b[1;33m:\u001b[0m\u001b[1;33m\u001b[0m\u001b[0m\n",
      "\u001b[0;32mC:\\Users\\CCVV\\Anaconda3b\\lib\\site-packages\\scipy\\optimize\\minpack.py\u001b[0m in \u001b[0;36m_check_func\u001b[0;34m(checker, argname, thefunc, x0, args, numinputs, output_shape)\u001b[0m\n\u001b[1;32m     24\u001b[0m def _check_func(checker, argname, thefunc, x0, args, numinputs,\n\u001b[1;32m     25\u001b[0m                 output_shape=None):\n\u001b[0;32m---> 26\u001b[0;31m     \u001b[0mres\u001b[0m \u001b[1;33m=\u001b[0m \u001b[0matleast_1d\u001b[0m\u001b[1;33m(\u001b[0m\u001b[0mthefunc\u001b[0m\u001b[1;33m(\u001b[0m\u001b[1;33m*\u001b[0m\u001b[1;33m(\u001b[0m\u001b[1;33m(\u001b[0m\u001b[0mx0\u001b[0m\u001b[1;33m[\u001b[0m\u001b[1;33m:\u001b[0m\u001b[0mnuminputs\u001b[0m\u001b[1;33m]\u001b[0m\u001b[1;33m,\u001b[0m\u001b[1;33m)\u001b[0m \u001b[1;33m+\u001b[0m \u001b[0margs\u001b[0m\u001b[1;33m)\u001b[0m\u001b[1;33m)\u001b[0m\u001b[1;33m)\u001b[0m\u001b[1;33m\u001b[0m\u001b[0m\n\u001b[0m\u001b[1;32m     27\u001b[0m     \u001b[1;32mif\u001b[0m \u001b[1;33m(\u001b[0m\u001b[0moutput_shape\u001b[0m \u001b[1;32mis\u001b[0m \u001b[1;32mnot\u001b[0m \u001b[1;32mNone\u001b[0m\u001b[1;33m)\u001b[0m \u001b[1;32mand\u001b[0m \u001b[1;33m(\u001b[0m\u001b[0mshape\u001b[0m\u001b[1;33m(\u001b[0m\u001b[0mres\u001b[0m\u001b[1;33m)\u001b[0m \u001b[1;33m!=\u001b[0m \u001b[0moutput_shape\u001b[0m\u001b[1;33m)\u001b[0m\u001b[1;33m:\u001b[0m\u001b[1;33m\u001b[0m\u001b[0m\n\u001b[1;32m     28\u001b[0m         \u001b[1;32mif\u001b[0m \u001b[1;33m(\u001b[0m\u001b[0moutput_shape\u001b[0m\u001b[1;33m[\u001b[0m\u001b[1;36m0\u001b[0m\u001b[1;33m]\u001b[0m \u001b[1;33m!=\u001b[0m \u001b[1;36m1\u001b[0m\u001b[1;33m)\u001b[0m\u001b[1;33m:\u001b[0m\u001b[1;33m\u001b[0m\u001b[0m\n",
      "\u001b[0;32mC:\\Users\\CCVV\\Anaconda3b\\lib\\site-packages\\scipy\\optimize\\minpack.py\u001b[0m in \u001b[0;36mfunc_wrapped\u001b[0;34m(params)\u001b[0m\n\u001b[1;32m    453\u001b[0m     \u001b[1;32mif\u001b[0m \u001b[0mweights\u001b[0m \u001b[1;32mis\u001b[0m \u001b[1;32mNone\u001b[0m\u001b[1;33m:\u001b[0m\u001b[1;33m\u001b[0m\u001b[0m\n\u001b[1;32m    454\u001b[0m         \u001b[1;32mdef\u001b[0m \u001b[0mfunc_wrapped\u001b[0m\u001b[1;33m(\u001b[0m\u001b[0mparams\u001b[0m\u001b[1;33m)\u001b[0m\u001b[1;33m:\u001b[0m\u001b[1;33m\u001b[0m\u001b[0m\n\u001b[0;32m--> 455\u001b[0;31m             \u001b[1;32mreturn\u001b[0m \u001b[0mfunc\u001b[0m\u001b[1;33m(\u001b[0m\u001b[0mxdata\u001b[0m\u001b[1;33m,\u001b[0m \u001b[1;33m*\u001b[0m\u001b[0mparams\u001b[0m\u001b[1;33m)\u001b[0m \u001b[1;33m-\u001b[0m \u001b[0mydata\u001b[0m\u001b[1;33m\u001b[0m\u001b[0m\n\u001b[0m\u001b[1;32m    456\u001b[0m     \u001b[1;32melse\u001b[0m\u001b[1;33m:\u001b[0m\u001b[1;33m\u001b[0m\u001b[0m\n\u001b[1;32m    457\u001b[0m         \u001b[1;32mdef\u001b[0m \u001b[0mfunc_wrapped\u001b[0m\u001b[1;33m(\u001b[0m\u001b[0mparams\u001b[0m\u001b[1;33m)\u001b[0m\u001b[1;33m:\u001b[0m\u001b[1;33m\u001b[0m\u001b[0m\n",
      "\u001b[0;32m<ipython-input-101-a48be59e4213>\u001b[0m in \u001b[0;36mfunc\u001b[0;34m(x, k, c)\u001b[0m\n\u001b[1;32m      2\u001b[0m \u001b[1;33m\u001b[0m\u001b[0m\n\u001b[1;32m      3\u001b[0m \u001b[1;32mdef\u001b[0m \u001b[0mfunc\u001b[0m\u001b[1;33m(\u001b[0m\u001b[0mx\u001b[0m\u001b[1;33m,\u001b[0m \u001b[0mk\u001b[0m\u001b[1;33m,\u001b[0m \u001b[0mc\u001b[0m\u001b[1;33m)\u001b[0m\u001b[1;33m:\u001b[0m\u001b[1;33m\u001b[0m\u001b[0m\n\u001b[0;32m----> 4\u001b[0;31m     \u001b[1;32mreturn\u001b[0m \u001b[0mc\u001b[0m\u001b[1;33m*\u001b[0m\u001b[0mx\u001b[0m\u001b[1;33m^\u001b[0m\u001b[0mk\u001b[0m\u001b[1;33m\u001b[0m\u001b[0m\n\u001b[0m\u001b[1;32m      5\u001b[0m \u001b[1;33m\u001b[0m\u001b[0m\n\u001b[1;32m      6\u001b[0m \u001b[0mxData\u001b[0m \u001b[1;33m=\u001b[0m \u001b[0mExperimentos\u001b[0m\u001b[1;33m[\u001b[0m\u001b[1;36m24\u001b[0m\u001b[1;33m]\u001b[0m\u001b[1;33m.\u001b[0m\u001b[0mdinamica\u001b[0m\u001b[1;33m[\u001b[0m\u001b[1;34m'avance: tiempo'\u001b[0m\u001b[1;33m]\u001b[0m\u001b[1;33m\u001b[0m\u001b[0m\n",
      "\u001b[0;32mC:\\Users\\CCVV\\Anaconda3b\\lib\\site-packages\\pandas\\core\\ops.py\u001b[0m in \u001b[0;36mwrapper\u001b[0;34m(self, other)\u001b[0m\n\u001b[1;32m    927\u001b[0m                       is_integer_dtype(np.asarray(other)) else fill_bool)\n\u001b[1;32m    928\u001b[0m             return filler(self._constructor(\n\u001b[0;32m--> 929\u001b[0;31m                 \u001b[0mna_op\u001b[0m\u001b[1;33m(\u001b[0m\u001b[0mself\u001b[0m\u001b[1;33m.\u001b[0m\u001b[0mvalues\u001b[0m\u001b[1;33m,\u001b[0m \u001b[0mother\u001b[0m\u001b[1;33m)\u001b[0m\u001b[1;33m,\u001b[0m\u001b[1;33m\u001b[0m\u001b[0m\n\u001b[0m\u001b[1;32m    930\u001b[0m                 index=self.index)).__finalize__(self)\n\u001b[1;32m    931\u001b[0m \u001b[1;33m\u001b[0m\u001b[0m\n",
      "\u001b[0;32mC:\\Users\\CCVV\\Anaconda3b\\lib\\site-packages\\pandas\\core\\ops.py\u001b[0m in \u001b[0;36mna_op\u001b[0;34m(x, y)\u001b[0m\n\u001b[1;32m    897\u001b[0m                     raise TypeError(\"cannot compare a dtyped [{0}] array with \"\n\u001b[1;32m    898\u001b[0m                                     \"a scalar of type [{1}]\".format(\n\u001b[0;32m--> 899\u001b[0;31m                                         x.dtype, type(y).__name__))\n\u001b[0m\u001b[1;32m    900\u001b[0m \u001b[1;33m\u001b[0m\u001b[0m\n\u001b[1;32m    901\u001b[0m         \u001b[1;32mreturn\u001b[0m \u001b[0mresult\u001b[0m\u001b[1;33m\u001b[0m\u001b[0m\n",
      "\u001b[0;31mTypeError\u001b[0m: cannot compare a dtyped [float64] array with a scalar of type [bool]"
     ]
    }
   ],
   "source": [
    "from scipy.optimize import curve_fit\n",
    "\n",
    "def func(x, k, c):\n",
    "    return c*x^k\n",
    "\n",
    "xData = Experimentos[24].dinamica['avance: tiempo']\n",
    "yData = Experimentos[24].dinamica['avance: distancia desde punto eyeccion']\n",
    "\n",
    "popt, pcov = curve_fit(func, xData.dtypes, yData)"
   ]
  },
  {
   "cell_type": "code",
   "execution_count": 106,
   "metadata": {
    "collapsed": false
   },
   "outputs": [
    {
     "data": {
      "text/plain": [
       "(48,)"
      ]
     },
     "execution_count": 106,
     "metadata": {},
     "output_type": "execute_result"
    }
   ],
   "source": [
    "xData.shape"
   ]
  },
  {
   "cell_type": "code",
   "execution_count": 99,
   "metadata": {
    "collapsed": false
   },
   "outputs": [
    {
     "data": {
      "text/html": [
       "<div>\n",
       "<table border=\"1\" class=\"dataframe\">\n",
       "  <thead>\n",
       "    <tr style=\"text-align: right;\">\n",
       "      <th></th>\n",
       "      <th>Unnamed: 0</th>\n",
       "      <th>avance: tiempo</th>\n",
       "      <th>avance: distancia desde punto eyeccion</th>\n",
       "      <th>avance: distancia hacia atrás</th>\n",
       "      <th>avance: largo total flujo</th>\n",
       "      <th>avance: ancho maximo</th>\n",
       "      <th>numerador</th>\n",
       "      <th>denominador</th>\n",
       "      <th>division</th>\n",
       "      <th>Lteonew</th>\n",
       "    </tr>\n",
       "  </thead>\n",
       "  <tbody>\n",
       "    <tr>\n",
       "      <th>44</th>\n",
       "      <td>44</td>\n",
       "      <td>6793.333333</td>\n",
       "      <td>0.325</td>\n",
       "      <td>0.073</td>\n",
       "      <td>0.398</td>\n",
       "      <td>0.29</td>\n",
       "      <td>2.393117e-09</td>\n",
       "      <td>450.163533</td>\n",
       "      <td>0.000175</td>\n",
       "      <td>1.185625</td>\n",
       "    </tr>\n",
       "    <tr>\n",
       "      <th>45</th>\n",
       "      <td>45</td>\n",
       "      <td>8008.333333</td>\n",
       "      <td>0.335</td>\n",
       "      <td>0.073</td>\n",
       "      <td>0.408</td>\n",
       "      <td>0.29</td>\n",
       "      <td>2.393117e-09</td>\n",
       "      <td>450.163533</td>\n",
       "      <td>0.000175</td>\n",
       "      <td>1.397677</td>\n",
       "    </tr>\n",
       "    <tr>\n",
       "      <th>46</th>\n",
       "      <td>46</td>\n",
       "      <td>10966.333333</td>\n",
       "      <td>0.370</td>\n",
       "      <td>0.073</td>\n",
       "      <td>0.443</td>\n",
       "      <td>0.29</td>\n",
       "      <td>2.393117e-09</td>\n",
       "      <td>450.163533</td>\n",
       "      <td>0.000175</td>\n",
       "      <td>1.913930</td>\n",
       "    </tr>\n",
       "    <tr>\n",
       "      <th>47</th>\n",
       "      <td>47</td>\n",
       "      <td>23966.333333</td>\n",
       "      <td>0.410</td>\n",
       "      <td>0.073</td>\n",
       "      <td>0.483</td>\n",
       "      <td>0.29</td>\n",
       "      <td>2.393117e-09</td>\n",
       "      <td>450.163533</td>\n",
       "      <td>0.000175</td>\n",
       "      <td>4.182791</td>\n",
       "    </tr>\n",
       "    <tr>\n",
       "      <th>48</th>\n",
       "      <td>48</td>\n",
       "      <td>55066.333333</td>\n",
       "      <td>0.415</td>\n",
       "      <td>0.073</td>\n",
       "      <td>0.488</td>\n",
       "      <td>0.29</td>\n",
       "      <td>2.393117e-09</td>\n",
       "      <td>450.163533</td>\n",
       "      <td>0.000175</td>\n",
       "      <td>9.610604</td>\n",
       "    </tr>\n",
       "  </tbody>\n",
       "</table>\n",
       "</div>"
      ],
      "text/plain": [
       "    Unnamed: 0  avance: tiempo  avance: distancia desde punto eyeccion  \\\n",
       "44          44     6793.333333                                   0.325   \n",
       "45          45     8008.333333                                   0.335   \n",
       "46          46    10966.333333                                   0.370   \n",
       "47          47    23966.333333                                   0.410   \n",
       "48          48    55066.333333                                   0.415   \n",
       "\n",
       "    avance: distancia hacia atrás  avance: largo total flujo  \\\n",
       "44                          0.073                      0.398   \n",
       "45                          0.073                      0.408   \n",
       "46                          0.073                      0.443   \n",
       "47                          0.073                      0.483   \n",
       "48                          0.073                      0.488   \n",
       "\n",
       "    avance: ancho maximo     numerador  denominador  division   Lteonew  \n",
       "44                  0.29  2.393117e-09   450.163533  0.000175  1.185625  \n",
       "45                  0.29  2.393117e-09   450.163533  0.000175  1.397677  \n",
       "46                  0.29  2.393117e-09   450.163533  0.000175  1.913930  \n",
       "47                  0.29  2.393117e-09   450.163533  0.000175  4.182791  \n",
       "48                  0.29  2.393117e-09   450.163533  0.000175  9.610604  "
      ]
     },
     "execution_count": 99,
     "metadata": {},
     "output_type": "execute_result"
    }
   ],
   "source": [
    "Experimentos[22].dinamica.tail()"
   ]
  },
  {
   "cell_type": "code",
   "execution_count": 84,
   "metadata": {
    "collapsed": false
   },
   "outputs": [
    {
     "name": "stdout",
     "output_type": "stream",
     "text": [
      "0 0    5cc50C\n",
      "Name: NOMBRE, dtype: object\n",
      "1 0    1cc54C\n",
      "Name: NOMBRE, dtype: object\n",
      "2 0    25cc54C\n",
      "Name: NOMBRE, dtype: object\n",
      "3 0    10cc60C\n",
      "Name: NOMBRE, dtype: object\n",
      "4 0    25cc60C\n",
      "Name: NOMBRE, dtype: object\n",
      "5 0    1cc59C\n",
      "Name: NOMBRE, dtype: object\n",
      "6 0    1cc47C\n",
      "Name: NOMBRE, dtype: object\n",
      "7 0    1cc55C\n",
      "Name: NOMBRE, dtype: object\n",
      "8 0    25cc58C\n",
      "Name: NOMBRE, dtype: object\n",
      "9 0    25cc70C\n",
      "Name: NOMBRE, dtype: object\n",
      "10 0    10cc67C\n",
      "Name: NOMBRE, dtype: object\n",
      "11 0    10cc59C\n",
      "Name: NOMBRE, dtype: object\n",
      "12 0    5cc63C\n",
      "Name: NOMBRE, dtype: object\n",
      "13 0    5cc59C\n",
      "Name: NOMBRE, dtype: object\n",
      "14 0    10cc49C\n",
      "Name: NOMBRE, dtype: object\n",
      "15 0    25cc62C\n",
      "Name: NOMBRE, dtype: object\n",
      "16 0    1cc62C\n",
      "Name: NOMBRE, dtype: object\n",
      "17 0    5cc53C\n",
      "Name: NOMBRE, dtype: object\n",
      "18 0    5a25cc56C\n",
      "Name: NOMBRE, dtype: object\n",
      "19 0    5cc57C\n",
      "Name: NOMBRE, dtype: object\n",
      "20 0    25cc50C\n",
      "Name: NOMBRE, dtype: object\n",
      "21 0    10cc55C\n",
      "Name: NOMBRE, dtype: object\n",
      "22 0    1cc24C\n",
      "Name: NOMBRE, dtype: object\n",
      "23 0    10cc57C\n",
      "Name: NOMBRE, dtype: object\n",
      "24 0    10cc24C\n",
      "Name: NOMBRE, dtype: object\n",
      "25 0    5cc55C\n",
      "Name: NOMBRE, dtype: object\n",
      "26 0    5cc58C\n",
      "Name: NOMBRE, dtype: object\n",
      "27 0    1cc48C\n",
      "Name: NOMBRE, dtype: object\n",
      "28 0    1cc51C\n",
      "Name: NOMBRE, dtype: object\n",
      "29 0    5cc48C\n",
      "Name: NOMBRE, dtype: object\n",
      "30 0    10cc50C\n",
      "Name: NOMBRE, dtype: object\n",
      "31 0    1cc54,7C\n",
      "Name: NOMBRE, dtype: object\n",
      "32 0    1cc52C\n",
      "Name: NOMBRE, dtype: object\n"
     ]
    }
   ],
   "source": [
    "for i, exp in enumerate(Experimentos):\n",
    "    print(i, exp.param['NOMBRE'])\n",
    "    \n",
    "# exp 22 y 24 temperatura ambiente"
   ]
  },
  {
   "cell_type": "code",
   "execution_count": 45,
   "metadata": {
    "collapsed": false
   },
   "outputs": [
    {
     "data": {
      "text/html": [
       "<div>\n",
       "<table border=\"1\" class=\"dataframe\">\n",
       "  <thead>\n",
       "    <tr style=\"text-align: right;\">\n",
       "      <th></th>\n",
       "      <th>densidad manjar</th>\n",
       "      <th>modelo 3D</th>\n",
       "      <th>volumen total teorico</th>\n",
       "      <th>t amb</th>\n",
       "      <th>termocupla</th>\n",
       "      <th>caudal</th>\n",
       "      <th>angulo inclinacion</th>\n",
       "      <th>NOMBRE</th>\n",
       "      <th>Obs</th>\n",
       "      <th>Exp #</th>\n",
       "      <th>uso manjar</th>\n",
       "      <th>t max</th>\n",
       "      <th>fecha</th>\n",
       "      <th>min</th>\n",
       "      <th>max</th>\n",
       "      <th>framei</th>\n",
       "      <th>framef</th>\n",
       "      <th>result: largo final</th>\n",
       "      <th>result: largo total</th>\n",
       "      <th>result: ancho max final</th>\n",
       "      <th>result: espesor max final</th>\n",
       "      <th>result: distancia espesor final</th>\n",
       "      <th>densidad</th>\n",
       "      <th>slope</th>\n",
       "      <th>v1</th>\n",
       "      <th>v2</th>\n",
       "      <th>L*</th>\n",
       "      <th>t*</th>\n",
       "      <th>numerador</th>\n",
       "      <th>denominador1</th>\n",
       "      <th>visc1</th>\n",
       "    </tr>\n",
       "  </thead>\n",
       "  <tbody>\n",
       "    <tr>\n",
       "      <th>0</th>\n",
       "      <td>1240</td>\n",
       "      <td>NaN</td>\n",
       "      <td>0.00143</td>\n",
       "      <td>23.9</td>\n",
       "      <td>si, punto eyeccion</td>\n",
       "      <td>0.000001</td>\n",
       "      <td>10</td>\n",
       "      <td>1cc47C</td>\n",
       "      <td>NaN</td>\n",
       "      <td>7</td>\n",
       "      <td>2</td>\n",
       "      <td>46.7</td>\n",
       "      <td>26/06/2016 0:00</td>\n",
       "      <td>28</td>\n",
       "      <td>52</td>\n",
       "      <td>63</td>\n",
       "      <td>1800</td>\n",
       "      <td>0.29</td>\n",
       "      <td>0.338</td>\n",
       "      <td>0.27</td>\n",
       "      <td>0.021</td>\n",
       "      <td>0.25</td>\n",
       "      <td>1340</td>\n",
       "      <td>0.173648</td>\n",
       "      <td>0.000199</td>\n",
       "      <td>0.0</td>\n",
       "      <td>0.338</td>\n",
       "      <td>1609.6</td>\n",
       "      <td>5.791212</td>\n",
       "      <td>0.000597</td>\n",
       "      <td>9700.522613</td>\n",
       "    </tr>\n",
       "  </tbody>\n",
       "</table>\n",
       "</div>"
      ],
      "text/plain": [
       "   densidad manjar  modelo 3D  volumen total teorico  t amb  \\\n",
       "0             1240        NaN                0.00143   23.9   \n",
       "\n",
       "           termocupla    caudal  angulo inclinacion  NOMBRE  Obs  Exp #  \\\n",
       "0  si, punto eyeccion  0.000001                  10  1cc47C  NaN      7   \n",
       "\n",
       "   uso manjar  t max            fecha  min  max  framei  framef  \\\n",
       "0           2   46.7  26/06/2016 0:00   28   52      63    1800   \n",
       "\n",
       "   result: largo final  result: largo total  result: ancho max final  \\\n",
       "0                 0.29                0.338                     0.27   \n",
       "\n",
       "   result: espesor max final  result: distancia espesor final  densidad  \\\n",
       "0                      0.021                             0.25      1340   \n",
       "\n",
       "      slope        v1   v2     L*      t*  numerador  denominador1  \\\n",
       "0  0.173648  0.000199  0.0  0.338  1609.6   5.791212      0.000597   \n",
       "\n",
       "         visc1  \n",
       "0  9700.522613  "
      ]
     },
     "execution_count": 45,
     "metadata": {},
     "output_type": "execute_result"
    }
   ],
   "source": [
    "pd.set_option(\"display.max_columns\",33)\n",
    "Experimentos[6].param.head()"
   ]
  },
  {
   "cell_type": "code",
   "execution_count": 57,
   "metadata": {
    "collapsed": false
   },
   "outputs": [
    {
     "data": {
      "text/html": [
       "<div>\n",
       "<table border=\"1\" class=\"dataframe\">\n",
       "  <thead>\n",
       "    <tr style=\"text-align: right;\">\n",
       "      <th></th>\n",
       "      <th>Unnamed: 0</th>\n",
       "      <th>avance: tiempo</th>\n",
       "      <th>avance: distancia desde punto eyeccion</th>\n",
       "      <th>avance: distancia hacia atrás</th>\n",
       "      <th>avance: largo total flujo</th>\n",
       "      <th>avance: ancho maximo</th>\n",
       "      <th>numerador</th>\n",
       "      <th>denominador</th>\n",
       "      <th>division</th>\n",
       "      <th>Lteonew</th>\n",
       "    </tr>\n",
       "  </thead>\n",
       "  <tbody>\n",
       "    <tr>\n",
       "      <th>25</th>\n",
       "      <td>25</td>\n",
       "      <td>1196.1</td>\n",
       "      <td>0.25</td>\n",
       "      <td>0.040</td>\n",
       "      <td>0.290</td>\n",
       "      <td>0.250</td>\n",
       "      <td>2.280348e-09</td>\n",
       "      <td>606.282663</td>\n",
       "      <td>0.000156</td>\n",
       "      <td>0.186013</td>\n",
       "    </tr>\n",
       "    <tr>\n",
       "      <th>26</th>\n",
       "      <td>26</td>\n",
       "      <td>1269.6</td>\n",
       "      <td>0.26</td>\n",
       "      <td>0.042</td>\n",
       "      <td>0.302</td>\n",
       "      <td>0.254</td>\n",
       "      <td>2.280348e-09</td>\n",
       "      <td>625.838917</td>\n",
       "      <td>0.000154</td>\n",
       "      <td>0.195365</td>\n",
       "    </tr>\n",
       "    <tr>\n",
       "      <th>27</th>\n",
       "      <td>27</td>\n",
       "      <td>1363.1</td>\n",
       "      <td>0.27</td>\n",
       "      <td>0.044</td>\n",
       "      <td>0.314</td>\n",
       "      <td>0.260</td>\n",
       "      <td>2.280348e-09</td>\n",
       "      <td>655.755329</td>\n",
       "      <td>0.000152</td>\n",
       "      <td>0.206513</td>\n",
       "    </tr>\n",
       "    <tr>\n",
       "      <th>28</th>\n",
       "      <td>28</td>\n",
       "      <td>1465.1</td>\n",
       "      <td>0.28</td>\n",
       "      <td>0.046</td>\n",
       "      <td>0.326</td>\n",
       "      <td>0.264</td>\n",
       "      <td>2.280348e-09</td>\n",
       "      <td>676.087624</td>\n",
       "      <td>0.000150</td>\n",
       "      <td>0.219719</td>\n",
       "    </tr>\n",
       "    <tr>\n",
       "      <th>29</th>\n",
       "      <td>29</td>\n",
       "      <td>1609.6</td>\n",
       "      <td>0.29</td>\n",
       "      <td>0.048</td>\n",
       "      <td>0.338</td>\n",
       "      <td>0.270</td>\n",
       "      <td>2.280348e-09</td>\n",
       "      <td>707.168098</td>\n",
       "      <td>0.000148</td>\n",
       "      <td>0.237799</td>\n",
       "    </tr>\n",
       "  </tbody>\n",
       "</table>\n",
       "</div>"
      ],
      "text/plain": [
       "    Unnamed: 0  avance: tiempo  avance: distancia desde punto eyeccion  \\\n",
       "25          25          1196.1                                    0.25   \n",
       "26          26          1269.6                                    0.26   \n",
       "27          27          1363.1                                    0.27   \n",
       "28          28          1465.1                                    0.28   \n",
       "29          29          1609.6                                    0.29   \n",
       "\n",
       "    avance: distancia hacia atrás  avance: largo total flujo  \\\n",
       "25                          0.040                      0.290   \n",
       "26                          0.042                      0.302   \n",
       "27                          0.044                      0.314   \n",
       "28                          0.046                      0.326   \n",
       "29                          0.048                      0.338   \n",
       "\n",
       "    avance: ancho maximo     numerador  denominador  division   Lteonew  \n",
       "25                 0.250  2.280348e-09   606.282663  0.000156  0.186013  \n",
       "26                 0.254  2.280348e-09   625.838917  0.000154  0.195365  \n",
       "27                 0.260  2.280348e-09   655.755329  0.000152  0.206513  \n",
       "28                 0.264  2.280348e-09   676.087624  0.000150  0.219719  \n",
       "29                 0.270  2.280348e-09   707.168098  0.000148  0.237799  "
      ]
     },
     "execution_count": 57,
     "metadata": {},
     "output_type": "execute_result"
    }
   ],
   "source": [
    "Experimentos[6].dinamica.tail()"
   ]
  }
 ],
 "metadata": {
  "anaconda-cloud": {},
  "kernelspec": {
   "display_name": "Python [conda root]",
   "language": "python",
   "name": "conda-root-py"
  },
  "language_info": {
   "codemirror_mode": {
    "name": "ipython",
    "version": 3
   },
   "file_extension": ".py",
   "mimetype": "text/x-python",
   "name": "python",
   "nbconvert_exporter": "python",
   "pygments_lexer": "ipython3",
   "version": "3.5.2"
  }
 },
 "nbformat": 4,
 "nbformat_minor": 1
}
