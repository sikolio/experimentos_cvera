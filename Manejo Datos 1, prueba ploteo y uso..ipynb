{
 "cells": [
  {
   "cell_type": "code",
   "execution_count": 1,
   "metadata": {
    "collapsed": false
   },
   "outputs": [
    {
     "name": "stdout",
     "output_type": "stream",
     "text": [
      "Using matplotlib backend: Qt5Agg\n"
     ]
    }
   ],
   "source": [
    "import pandas as pd\n",
    "from matplotlib import pyplot as plt\n",
    "%matplotlib\n",
    "import numpy as np"
   ]
  },
  {
   "cell_type": "code",
   "execution_count": 2,
   "metadata": {
    "collapsed": true
   },
   "outputs": [],
   "source": [
    "import os\n",
    "import csv\n",
    "from ClaseExp import Experimento\n",
    "\n",
    "Experimentos = []\n",
    "\n",
    "with open('lista_exp.csv') as f:\n",
    "    reader = csv.reader(f)\n",
    "    for row in reader:\n",
    "        Experimentos.append(Experimento(row[0]))"
   ]
  },
  {
   "cell_type": "code",
   "execution_count": 4,
   "metadata": {
    "collapsed": false
   },
   "outputs": [
    {
     "name": "stdout",
     "output_type": "stream",
     "text": [
      "0 1cc51C\n",
      "1 1cc55C\n",
      "2 5cc58C\n",
      "3 10cc50C\n"
     ]
    }
   ],
   "source": [
    "for i, exp in enumerate(Experimentos):\n",
    "    print(i,(exp.param['Nombre exp'][0]))"
   ]
  },
  {
   "cell_type": "code",
   "execution_count": 5,
   "metadata": {
    "collapsed": false
   },
   "outputs": [
    {
     "data": {
      "text/html": [
       "<div>\n",
       "<table border=\"1\" class=\"dataframe\">\n",
       "  <thead>\n",
       "    <tr style=\"text-align: right;\">\n",
       "      <th></th>\n",
       "      <th>Unnamed: 0</th>\n",
       "      <th>FLIR: tiempo</th>\n",
       "      <th>FLIR: area</th>\n",
       "      <th>FLIR: rango 1</th>\n",
       "      <th>FLIR: rango 2</th>\n",
       "      <th>FLIR: rango 3</th>\n",
       "      <th>FLIR: rango 4</th>\n",
       "      <th>FLIR: rango 5</th>\n",
       "      <th>FLIR: rango 6</th>\n",
       "      <th>FLIR: rango 7</th>\n",
       "      <th>FLIR: rango 8</th>\n",
       "      <th>FLIR: rango 9</th>\n",
       "      <th>FLIR: rango 10</th>\n",
       "      <th>FLIR: area m2</th>\n",
       "    </tr>\n",
       "  </thead>\n",
       "  <tbody>\n",
       "    <tr>\n",
       "      <th>0</th>\n",
       "      <td>0</td>\n",
       "      <td>0</td>\n",
       "      <td>4937</td>\n",
       "      <td>0.726555</td>\n",
       "      <td>0.018635</td>\n",
       "      <td>001033016</td>\n",
       "      <td>0010735264</td>\n",
       "      <td>0006886773</td>\n",
       "      <td>0010735264</td>\n",
       "      <td>0019242455</td>\n",
       "      <td>0073526433</td>\n",
       "      <td>0123354264</td>\n",
       "      <td>0</td>\n",
       "      <td>0.004840</td>\n",
       "    </tr>\n",
       "    <tr>\n",
       "      <th>1</th>\n",
       "      <td>1</td>\n",
       "      <td>1</td>\n",
       "      <td>5700</td>\n",
       "      <td>0.698596</td>\n",
       "      <td>0.019298</td>\n",
       "      <td>0010175439</td>\n",
       "      <td>0009649123</td>\n",
       "      <td>0007368421</td>\n",
       "      <td>001</td>\n",
       "      <td>0020175439</td>\n",
       "      <td>0075614035</td>\n",
       "      <td>0126140351</td>\n",
       "      <td>0022982456</td>\n",
       "      <td>0.005588</td>\n",
       "    </tr>\n",
       "    <tr>\n",
       "      <th>2</th>\n",
       "      <td>2</td>\n",
       "      <td>2</td>\n",
       "      <td>5746</td>\n",
       "      <td>0.639227</td>\n",
       "      <td>0.021406</td>\n",
       "      <td>0010616081</td>\n",
       "      <td>0010616081</td>\n",
       "      <td>0008179603</td>\n",
       "      <td>0011312217</td>\n",
       "      <td>0022972503</td>\n",
       "      <td>007831535</td>\n",
       "      <td>0165854507</td>\n",
       "      <td>0031500174</td>\n",
       "      <td>0.005633</td>\n",
       "    </tr>\n",
       "    <tr>\n",
       "      <th>3</th>\n",
       "      <td>3</td>\n",
       "      <td>3</td>\n",
       "      <td>6372</td>\n",
       "      <td>0.617859</td>\n",
       "      <td>0.019303</td>\n",
       "      <td>0012397991</td>\n",
       "      <td>0008788449</td>\n",
       "      <td>0008474576</td>\n",
       "      <td>0011142498</td>\n",
       "      <td>0023854363</td>\n",
       "      <td>0075015694</td>\n",
       "      <td>0190364093</td>\n",
       "      <td>0032799749</td>\n",
       "      <td>0.006246</td>\n",
       "    </tr>\n",
       "    <tr>\n",
       "      <th>4</th>\n",
       "      <td>4</td>\n",
       "      <td>4</td>\n",
       "      <td>6770</td>\n",
       "      <td>0.590399</td>\n",
       "      <td>0.020679</td>\n",
       "      <td>0011521418</td>\n",
       "      <td>0010044313</td>\n",
       "      <td>0008567208</td>\n",
       "      <td>0011669129</td>\n",
       "      <td>0023485968</td>\n",
       "      <td>0076661743</td>\n",
       "      <td>021521418</td>\n",
       "      <td>0031757755</td>\n",
       "      <td>0.006637</td>\n",
       "    </tr>\n",
       "  </tbody>\n",
       "</table>\n",
       "</div>"
      ],
      "text/plain": [
       "   Unnamed: 0  FLIR: tiempo  FLIR: area  FLIR: rango 1  FLIR: rango 2  \\\n",
       "0           0             0        4937       0.726555       0.018635   \n",
       "1           1             1        5700       0.698596       0.019298   \n",
       "2           2             2        5746       0.639227       0.021406   \n",
       "3           3             3        6372       0.617859       0.019303   \n",
       "4           4             4        6770       0.590399       0.020679   \n",
       "\n",
       "  FLIR: rango 3 FLIR: rango 4 FLIR: rango 5 FLIR: rango 6 FLIR: rango 7  \\\n",
       "0     001033016    0010735264    0006886773    0010735264    0019242455   \n",
       "1    0010175439    0009649123    0007368421           001    0020175439   \n",
       "2    0010616081    0010616081    0008179603    0011312217    0022972503   \n",
       "3    0012397991    0008788449    0008474576    0011142498    0023854363   \n",
       "4    0011521418    0010044313    0008567208    0011669129    0023485968   \n",
       "\n",
       "  FLIR: rango 8 FLIR: rango 9 FLIR: rango 10  FLIR: area m2  \n",
       "0    0073526433    0123354264              0       0.004840  \n",
       "1    0075614035    0126140351     0022982456       0.005588  \n",
       "2     007831535    0165854507     0031500174       0.005633  \n",
       "3    0075015694    0190364093     0032799749       0.006246  \n",
       "4    0076661743     021521418     0031757755       0.006637  "
      ]
     },
     "execution_count": 5,
     "metadata": {},
     "output_type": "execute_result"
    }
   ],
   "source": [
    "Experimentos[2].flir.head() #head muestra las primeras 5 filas"
   ]
  },
  {
   "cell_type": "code",
   "execution_count": 9,
   "metadata": {
    "collapsed": false
   },
   "outputs": [
    {
     "data": {
      "text/html": [
       "<div>\n",
       "<table border=\"1\" class=\"dataframe\">\n",
       "  <thead>\n",
       "    <tr style=\"text-align: right;\">\n",
       "      <th></th>\n",
       "      <th>Unnamed: 0</th>\n",
       "      <th>Nombre exp</th>\n",
       "      <th>fecha</th>\n",
       "      <th>exp #</th>\n",
       "      <th>uso manjar #</th>\n",
       "      <th>caudal</th>\n",
       "      <th>temperatura maxima</th>\n",
       "      <th>temperatura ambiente</th>\n",
       "      <th>angulo inclinacion</th>\n",
       "      <th>densidad manjar (t ambiente)</th>\n",
       "      <th>volumen total eyectado teorico</th>\n",
       "      <th>obs</th>\n",
       "      <th>pixeles</th>\n",
       "      <th>result: largo final desde punto eyeccion</th>\n",
       "      <th>result: largo total</th>\n",
       "      <th>result: ancho maximo final</th>\n",
       "      <th>result: tiempo total medicion</th>\n",
       "      <th>result: espesor maximo</th>\n",
       "      <th>result: distancia a espesor maximo</th>\n",
       "    </tr>\n",
       "  </thead>\n",
       "  <tbody>\n",
       "    <tr>\n",
       "      <th>0</th>\n",
       "      <td>0</td>\n",
       "      <td>1cc51C</td>\n",
       "      <td>16/09/2029</td>\n",
       "      <td>29</td>\n",
       "      <td>2</td>\n",
       "      <td>1</td>\n",
       "      <td>51</td>\n",
       "      <td>24.7</td>\n",
       "      <td>10.4</td>\n",
       "      <td>1240</td>\n",
       "      <td>0.00143</td>\n",
       "      <td>flir malo</td>\n",
       "      <td>1020100</td>\n",
       "      <td>0.33</td>\n",
       "      <td>0.398</td>\n",
       "      <td>0.285</td>\n",
       "      <td>54208.68333</td>\n",
       "      <td>0.019</td>\n",
       "      <td>0.2</td>\n",
       "    </tr>\n",
       "  </tbody>\n",
       "</table>\n",
       "</div>"
      ],
      "text/plain": [
       "   Unnamed: 0 Nombre exp       fecha  exp #  uso manjar #  caudal   \\\n",
       "0           0     1cc51C  16/09/2029     29             2        1   \n",
       "\n",
       "   temperatura maxima  temperatura ambiente  angulo inclinacion  \\\n",
       "0                  51                  24.7                10.4   \n",
       "\n",
       "   densidad manjar (t ambiente)  volumen total eyectado teorico        obs  \\\n",
       "0                          1240                         0.00143  flir malo   \n",
       "\n",
       "   pixeles  result: largo final desde punto eyeccion  result: largo total  \\\n",
       "0  1020100                                      0.33                0.398   \n",
       "\n",
       "   result: ancho maximo final  result: tiempo total medicion  \\\n",
       "0                       0.285                    54208.68333   \n",
       "\n",
       "   result: espesor maximo  result: distancia a espesor maximo  \n",
       "0                   0.019                                 0.2  "
      ]
     },
     "execution_count": 9,
     "metadata": {},
     "output_type": "execute_result"
    }
   ],
   "source": [
    "Experimentos[0].param.head()"
   ]
  },
  {
   "cell_type": "code",
   "execution_count": 33,
   "metadata": {
    "collapsed": false,
    "scrolled": true
   },
   "outputs": [
    {
     "ename": "NameError",
     "evalue": "name 'listExps' is not defined",
     "output_type": "error",
     "traceback": [
      "\u001b[0;31m---------------------------------------------------------------------------\u001b[0m",
      "\u001b[0;31mNameError\u001b[0m                                 Traceback (most recent call last)",
      "\u001b[0;32m<ipython-input-33-982ef3e98531>\u001b[0m in \u001b[0;36m<module>\u001b[0;34m()\u001b[0m\n\u001b[1;32m      6\u001b[0m \u001b[0mlabels\u001b[0m \u001b[1;33m=\u001b[0m \u001b[1;33m[\u001b[0m\u001b[1;33m]\u001b[0m\u001b[1;33m\u001b[0m\u001b[0m\n\u001b[1;32m      7\u001b[0m \u001b[1;33m\u001b[0m\u001b[0m\n\u001b[0;32m----> 8\u001b[0;31m \u001b[1;32mfor\u001b[0m \u001b[0mexp\u001b[0m \u001b[1;32min\u001b[0m \u001b[0mlistExps\u001b[0m\u001b[1;33m:\u001b[0m\u001b[1;33m\u001b[0m\u001b[0m\n\u001b[0m\u001b[1;32m      9\u001b[0m     \u001b[0mxs\u001b[0m\u001b[1;33m.\u001b[0m\u001b[0mappend\u001b[0m\u001b[1;33m(\u001b[0m\u001b[0mexp\u001b[0m\u001b[1;33m.\u001b[0m\u001b[0mparams\u001b[0m\u001b[1;33m[\u001b[0m\u001b[1;34m'caudal '\u001b[0m\u001b[1;33m]\u001b[0m\u001b[1;33m[\u001b[0m\u001b[1;36m0\u001b[0m\u001b[1;33m]\u001b[0m\u001b[1;33m)\u001b[0m\u001b[1;33m\u001b[0m\u001b[0m\n\u001b[1;32m     10\u001b[0m     \u001b[0mys\u001b[0m\u001b[1;33m.\u001b[0m\u001b[0mappend\u001b[0m\u001b[1;33m(\u001b[0m\u001b[0mexp\u001b[0m\u001b[1;33m.\u001b[0m\u001b[0mparams\u001b[0m\u001b[1;33m[\u001b[0m\u001b[1;34m'result: largo total'\u001b[0m\u001b[1;33m]\u001b[0m\u001b[1;33m[\u001b[0m\u001b[1;36m0\u001b[0m\u001b[1;33m]\u001b[0m\u001b[1;33m)\u001b[0m\u001b[1;33m\u001b[0m\u001b[0m\n",
      "\u001b[0;31mNameError\u001b[0m: name 'listExps' is not defined"
     ]
    }
   ],
   "source": [
    "xs = []\n",
    "ys = []\n",
    "\n",
    "xs = []\n",
    "ys = []\n",
    "labels = []\n",
    "\n",
    "for exp in listExps:\n",
    "    xs.append(exp.params['caudal '][0])\n",
    "    ys.append(exp.params['result: largo total'][0])\n",
    "    labels.append(exp.params['temperatura maxima'][0])\n",
    "    \n",
    "for exp in Experimentos:\n",
    "    xs.append(exp.param['caudal '][0])\n",
    "    ys.append(exp.param['result: largo total'][0])\n",
    "\n",
    "for exp in Experimentos:\n",
    "    labels = exp.param['temperatura maxima'][0]\n",
    "\n",
    "fig_1 = pd.DataFrame(dict(x=xs, y=ys, label=labels))\n",
    "\n",
    "groups = fig_1.groupby('label')\n",
    "\n",
    "fig, ax = plt.subplots()\n",
    "\n",
    "for temp, group in groups:\n",
    "    ax.plot(group.x, group.y, marker='o', linestyle='')\n",
    "ax.legend()\n",
    "plt.show()"
   ]
  },
  {
   "cell_type": "code",
   "execution_count": 3,
   "metadata": {
    "collapsed": false
   },
   "outputs": [],
   "source": [
    "xs = []\n",
    "ys = []\n",
    "labels = []\n",
    "\n",
    "for exp in Experimentos:\n",
    "    xs.append(exp.param['caudal '][0])\n",
    "    ys.append(exp.param['result: largo total'][0])\n",
    "    labels.append(exp.param['temperatura maxima'][0])\n",
    "    \n",
    "fig_1 = pd.DataFrame(dict(x=xs, y=ys, label=labels))\n",
    "\n",
    "fig_1['new labels'] = fig_1['label'] < 53\n",
    "\n",
    "groups = fig_1.groupby('new labels')\n",
    "\n",
    "fig, ax = plt.subplots()\n",
    "\n",
    "for temp, group in groups:\n",
    "    ax.plot(group.x, group.y, marker='o', linestyle='', ms=12)\n",
    "ax.legend(['> 53', '< 53'])\n",
    "plt.show()"
   ]
  },
  {
   "cell_type": "code",
   "execution_count": 38,
   "metadata": {
    "collapsed": false
   },
   "outputs": [],
   "source": [
    "exp1 = np.log10(Experimentos[0].dinamica[['avance: tiempo', 'avance: largo total flujo']][1:])\n"
   ]
  },
  {
   "cell_type": "code",
   "execution_count": 41,
   "metadata": {
    "collapsed": false
   },
   "outputs": [
    {
     "data": {
      "text/html": [
       "<div>\n",
       "<table border=\"1\" class=\"dataframe\">\n",
       "  <thead>\n",
       "    <tr style=\"text-align: right;\">\n",
       "      <th></th>\n",
       "      <th>avance: tiempo</th>\n",
       "      <th>avance: largo total flujo</th>\n",
       "    </tr>\n",
       "  </thead>\n",
       "  <tbody>\n",
       "    <tr>\n",
       "      <th>1</th>\n",
       "      <td>1.386499</td>\n",
       "      <td>-1.602060</td>\n",
       "    </tr>\n",
       "    <tr>\n",
       "      <th>2</th>\n",
       "      <td>1.585649</td>\n",
       "      <td>-1.397940</td>\n",
       "    </tr>\n",
       "    <tr>\n",
       "      <th>3</th>\n",
       "      <td>1.729839</td>\n",
       "      <td>-1.259637</td>\n",
       "    </tr>\n",
       "    <tr>\n",
       "      <th>4</th>\n",
       "      <td>1.874192</td>\n",
       "      <td>-1.173925</td>\n",
       "    </tr>\n",
       "    <tr>\n",
       "      <th>5</th>\n",
       "      <td>1.999348</td>\n",
       "      <td>-1.096910</td>\n",
       "    </tr>\n",
       "    <tr>\n",
       "      <th>6</th>\n",
       "      <td>2.114555</td>\n",
       "      <td>-1.040959</td>\n",
       "    </tr>\n",
       "    <tr>\n",
       "      <th>7</th>\n",
       "      <td>2.217966</td>\n",
       "      <td>-0.991400</td>\n",
       "    </tr>\n",
       "    <tr>\n",
       "      <th>8</th>\n",
       "      <td>2.290443</td>\n",
       "      <td>-0.935542</td>\n",
       "    </tr>\n",
       "    <tr>\n",
       "      <th>9</th>\n",
       "      <td>2.362074</td>\n",
       "      <td>-0.892790</td>\n",
       "    </tr>\n",
       "    <tr>\n",
       "      <th>10</th>\n",
       "      <td>2.439622</td>\n",
       "      <td>-0.853872</td>\n",
       "    </tr>\n",
       "    <tr>\n",
       "      <th>11</th>\n",
       "      <td>2.505399</td>\n",
       "      <td>-0.815309</td>\n",
       "    </tr>\n",
       "    <tr>\n",
       "      <th>12</th>\n",
       "      <td>2.579993</td>\n",
       "      <td>-0.777284</td>\n",
       "    </tr>\n",
       "    <tr>\n",
       "      <th>13</th>\n",
       "      <td>2.643634</td>\n",
       "      <td>-0.744727</td>\n",
       "    </tr>\n",
       "    <tr>\n",
       "      <th>14</th>\n",
       "      <td>2.711962</td>\n",
       "      <td>-0.716699</td>\n",
       "    </tr>\n",
       "    <tr>\n",
       "      <th>15</th>\n",
       "      <td>2.770987</td>\n",
       "      <td>-0.686133</td>\n",
       "    </tr>\n",
       "    <tr>\n",
       "      <th>16</th>\n",
       "      <td>2.835807</td>\n",
       "      <td>-0.661544</td>\n",
       "    </tr>\n",
       "    <tr>\n",
       "      <th>17</th>\n",
       "      <td>2.892197</td>\n",
       "      <td>-0.640165</td>\n",
       "    </tr>\n",
       "    <tr>\n",
       "      <th>18</th>\n",
       "      <td>2.942099</td>\n",
       "      <td>-0.619789</td>\n",
       "    </tr>\n",
       "    <tr>\n",
       "      <th>19</th>\n",
       "      <td>2.989086</td>\n",
       "      <td>-0.595166</td>\n",
       "    </tr>\n",
       "    <tr>\n",
       "      <th>20</th>\n",
       "      <td>3.033765</td>\n",
       "      <td>-0.571865</td>\n",
       "    </tr>\n",
       "    <tr>\n",
       "      <th>21</th>\n",
       "      <td>3.072133</td>\n",
       "      <td>-0.555955</td>\n",
       "    </tr>\n",
       "    <tr>\n",
       "      <th>22</th>\n",
       "      <td>3.141784</td>\n",
       "      <td>-0.540608</td>\n",
       "    </tr>\n",
       "    <tr>\n",
       "      <th>23</th>\n",
       "      <td>3.187821</td>\n",
       "      <td>-0.525784</td>\n",
       "    </tr>\n",
       "    <tr>\n",
       "      <th>24</th>\n",
       "      <td>3.235798</td>\n",
       "      <td>-0.511449</td>\n",
       "    </tr>\n",
       "    <tr>\n",
       "      <th>25</th>\n",
       "      <td>3.248562</td>\n",
       "      <td>-0.497573</td>\n",
       "    </tr>\n",
       "    <tr>\n",
       "      <th>26</th>\n",
       "      <td>3.325598</td>\n",
       "      <td>-0.484126</td>\n",
       "    </tr>\n",
       "    <tr>\n",
       "      <th>27</th>\n",
       "      <td>3.380465</td>\n",
       "      <td>-0.471083</td>\n",
       "    </tr>\n",
       "    <tr>\n",
       "      <th>28</th>\n",
       "      <td>3.445043</td>\n",
       "      <td>-0.458421</td>\n",
       "    </tr>\n",
       "    <tr>\n",
       "      <th>29</th>\n",
       "      <td>3.472937</td>\n",
       "      <td>-0.452225</td>\n",
       "    </tr>\n",
       "    <tr>\n",
       "      <th>30</th>\n",
       "      <td>3.473879</td>\n",
       "      <td>-0.452225</td>\n",
       "    </tr>\n",
       "    <tr>\n",
       "      <th>31</th>\n",
       "      <td>3.499231</td>\n",
       "      <td>-0.448550</td>\n",
       "    </tr>\n",
       "    <tr>\n",
       "      <th>32</th>\n",
       "      <td>3.527073</td>\n",
       "      <td>-0.446117</td>\n",
       "    </tr>\n",
       "    <tr>\n",
       "      <th>33</th>\n",
       "      <td>3.547736</td>\n",
       "      <td>-0.443697</td>\n",
       "    </tr>\n",
       "    <tr>\n",
       "      <th>34</th>\n",
       "      <td>3.561779</td>\n",
       "      <td>-0.440093</td>\n",
       "    </tr>\n",
       "    <tr>\n",
       "      <th>35</th>\n",
       "      <td>3.579404</td>\n",
       "      <td>-0.436519</td>\n",
       "    </tr>\n",
       "    <tr>\n",
       "      <th>36</th>\n",
       "      <td>3.588796</td>\n",
       "      <td>-0.436519</td>\n",
       "    </tr>\n",
       "    <tr>\n",
       "      <th>37</th>\n",
       "      <td>3.600938</td>\n",
       "      <td>-0.435334</td>\n",
       "    </tr>\n",
       "    <tr>\n",
       "      <th>38</th>\n",
       "      <td>3.620832</td>\n",
       "      <td>-0.435334</td>\n",
       "    </tr>\n",
       "    <tr>\n",
       "      <th>39</th>\n",
       "      <td>3.638258</td>\n",
       "      <td>-0.434152</td>\n",
       "    </tr>\n",
       "    <tr>\n",
       "      <th>40</th>\n",
       "      <td>3.651053</td>\n",
       "      <td>-0.434152</td>\n",
       "    </tr>\n",
       "    <tr>\n",
       "      <th>41</th>\n",
       "      <td>3.667237</td>\n",
       "      <td>-0.431798</td>\n",
       "    </tr>\n",
       "    <tr>\n",
       "      <th>42</th>\n",
       "      <td>3.675199</td>\n",
       "      <td>-0.431798</td>\n",
       "    </tr>\n",
       "    <tr>\n",
       "      <th>43</th>\n",
       "      <td>3.688481</td>\n",
       "      <td>-0.428291</td>\n",
       "    </tr>\n",
       "    <tr>\n",
       "      <th>44</th>\n",
       "      <td>3.707713</td>\n",
       "      <td>-0.428291</td>\n",
       "    </tr>\n",
       "    <tr>\n",
       "      <th>45</th>\n",
       "      <td>3.717894</td>\n",
       "      <td>-0.428291</td>\n",
       "    </tr>\n",
       "    <tr>\n",
       "      <th>46</th>\n",
       "      <td>4.733387</td>\n",
       "      <td>-0.400117</td>\n",
       "    </tr>\n",
       "    <tr>\n",
       "      <th>47</th>\n",
       "      <td>4.734069</td>\n",
       "      <td>-0.400117</td>\n",
       "    </tr>\n",
       "  </tbody>\n",
       "</table>\n",
       "</div>"
      ],
      "text/plain": [
       "    avance: tiempo  avance: largo total flujo\n",
       "1         1.386499                  -1.602060\n",
       "2         1.585649                  -1.397940\n",
       "3         1.729839                  -1.259637\n",
       "4         1.874192                  -1.173925\n",
       "5         1.999348                  -1.096910\n",
       "6         2.114555                  -1.040959\n",
       "7         2.217966                  -0.991400\n",
       "8         2.290443                  -0.935542\n",
       "9         2.362074                  -0.892790\n",
       "10        2.439622                  -0.853872\n",
       "11        2.505399                  -0.815309\n",
       "12        2.579993                  -0.777284\n",
       "13        2.643634                  -0.744727\n",
       "14        2.711962                  -0.716699\n",
       "15        2.770987                  -0.686133\n",
       "16        2.835807                  -0.661544\n",
       "17        2.892197                  -0.640165\n",
       "18        2.942099                  -0.619789\n",
       "19        2.989086                  -0.595166\n",
       "20        3.033765                  -0.571865\n",
       "21        3.072133                  -0.555955\n",
       "22        3.141784                  -0.540608\n",
       "23        3.187821                  -0.525784\n",
       "24        3.235798                  -0.511449\n",
       "25        3.248562                  -0.497573\n",
       "26        3.325598                  -0.484126\n",
       "27        3.380465                  -0.471083\n",
       "28        3.445043                  -0.458421\n",
       "29        3.472937                  -0.452225\n",
       "30        3.473879                  -0.452225\n",
       "31        3.499231                  -0.448550\n",
       "32        3.527073                  -0.446117\n",
       "33        3.547736                  -0.443697\n",
       "34        3.561779                  -0.440093\n",
       "35        3.579404                  -0.436519\n",
       "36        3.588796                  -0.436519\n",
       "37        3.600938                  -0.435334\n",
       "38        3.620832                  -0.435334\n",
       "39        3.638258                  -0.434152\n",
       "40        3.651053                  -0.434152\n",
       "41        3.667237                  -0.431798\n",
       "42        3.675199                  -0.431798\n",
       "43        3.688481                  -0.428291\n",
       "44        3.707713                  -0.428291\n",
       "45        3.717894                  -0.428291\n",
       "46        4.733387                  -0.400117\n",
       "47        4.734069                  -0.400117"
      ]
     },
     "execution_count": 41,
     "metadata": {},
     "output_type": "execute_result"
    }
   ],
   "source": [
    "exp1"
   ]
  },
  {
   "cell_type": "code",
   "execution_count": 42,
   "metadata": {
    "collapsed": false
   },
   "outputs": [
    {
     "data": {
      "text/plain": [
       "<matplotlib.axes._subplots.AxesSubplot at 0x1feebd0b978>"
      ]
     },
     "execution_count": 42,
     "metadata": {},
     "output_type": "execute_result"
    }
   ],
   "source": [
    "exp1.plot.scatter('avance: tiempo', 'avance: largo total flujo')\n"
   ]
  },
  {
   "cell_type": "code",
   "execution_count": 49,
   "metadata": {
    "collapsed": false
   },
   "outputs": [
    {
     "data": {
      "text/plain": [
       "<matplotlib.axes._subplots.AxesSubplot at 0x1feec6a4550>"
      ]
     },
     "execution_count": 49,
     "metadata": {},
     "output_type": "execute_result"
    },
    {
     "data": {
      "image/png": "[encoded data removed]",
      "text/plain": [
       "<matplotlib.figure.Figure at 0x1feec697b00>"
      ]
     },
     "metadata": {},
     "output_type": "display_data"
    }
   ],
   "source": [
    "Experimentos[0].dinamica.plot.scatter('avance: tiempo', 'avance: largo total flujo', loglog=True)"
   ]
  },
  {
   "cell_type": "code",
   "execution_count": 44,
   "metadata": {
    "collapsed": true
   },
   "outputs": [],
   "source": [
    "Ex1 = Experimentos[0]"
   ]
  },
  {
   "cell_type": "code",
   "execution_count": 50,
   "metadata": {
    "collapsed": true
   },
   "outputs": [],
   "source": [
    "exp1sin0 = Ex1.dinamica[['avance: tiempo', 'avance: largo total flujo']][1:]"
   ]
  },
  {
   "cell_type": "code",
   "execution_count": 51,
   "metadata": {
    "collapsed": false
   },
   "outputs": [
    {
     "data": {
      "text/plain": [
       "<matplotlib.axes._subplots.AxesSubplot at 0x1feec6bd8d0>"
      ]
     },
     "execution_count": 51,
     "metadata": {},
     "output_type": "execute_result"
    },
    {
     "data": {
      "image/png": "[encoded data removed]",
      "text/plain": [
       "<matplotlib.figure.Figure at 0x1feec73c588>"
      ]
     },
     "metadata": {},
     "output_type": "display_data"
    }
   ],
   "source": [
    "exp1sin0.plot.scatter('avance: tiempo', 'avance: largo total flujo', loglog=True)"
   ]
  },
  {
   "cell_type": "code",
   "execution_count": 58,
   "metadata": {
    "collapsed": true
   },
   "outputs": [],
   "source": [
    "def volumen(fila):\n",
    "    vol = fila['FLIR: tiempo'] * Experimentos[2].param['caudal '][0]\n",
    "    if vol < 0.00143:\n",
    "        return vol\n",
    "    else:\n",
    "        return 0.00143\n",
    "    "
   ]
  },
  {
   "cell_type": "code",
   "execution_count": 60,
   "metadata": {
    "collapsed": false
   },
   "outputs": [
    {
     "data": {
      "text/plain": [
       "0    0.000000\n",
       "1    0.000005\n",
       "2    0.000010\n",
       "3    0.000015\n",
       "4    0.000020\n",
       "Name: FLIR: volumen m3, dtype: float64"
      ]
     },
     "execution_count": 60,
     "metadata": {},
     "output_type": "execute_result"
    }
   ],
   "source": [
    "Experimentos[2].flir['FLIR: volumen m3'] = Experimentos[2].flir.apply(volumen, axis=1)\n",
    "#creo este dataframe para guardar volumen\n",
    "Experimentos[2].flir['FLIR: volumen m3'].head()"
   ]
  },
  {
   "cell_type": "code",
   "execution_count": 63,
   "metadata": {
    "collapsed": false,
    "scrolled": true
   },
   "outputs": [
    {
     "data": {
      "text/plain": [
       "0       0.000000\n",
       "1       0.001342\n",
       "2       0.002663\n",
       "3       0.003602\n",
       "4       0.004520\n",
       "5       0.005152\n",
       "6       0.006053\n",
       "7       0.006997\n",
       "8       0.007546\n",
       "9       0.008350\n",
       "10      0.008808\n",
       "11      0.009413\n",
       "12      0.010081\n",
       "13      0.010128\n",
       "14      0.010574\n",
       "15      0.011025\n",
       "16      0.011565\n",
       "17      0.011371\n",
       "18      0.012098\n",
       "19      0.012609\n",
       "20      0.012740\n",
       "21      0.013006\n",
       "22      0.013429\n",
       "23      0.013787\n",
       "24      0.014054\n",
       "25      0.014356\n",
       "26      0.014536\n",
       "27      0.014672\n",
       "28      0.014916\n",
       "29      0.015399\n",
       "          ...   \n",
       "6158    0.014621\n",
       "6159    0.015008\n",
       "6160    0.014850\n",
       "6161    0.014916\n",
       "6162    0.014817\n",
       "6163    0.014452\n",
       "6164    0.014812\n",
       "6165    0.014617\n",
       "6166    0.014835\n",
       "6167    0.014775\n",
       "6168    0.014769\n",
       "6169    0.014873\n",
       "6170    0.014815\n",
       "6171    0.014896\n",
       "6172    0.015108\n",
       "6173    0.015081\n",
       "6174    0.014861\n",
       "6175    0.014869\n",
       "6176    0.014737\n",
       "6177    0.014907\n",
       "6178    0.014649\n",
       "6179    0.015003\n",
       "6180    0.014960\n",
       "6181    0.014814\n",
       "6182    0.014719\n",
       "6183    0.014931\n",
       "6184    0.015355\n",
       "6185    0.014849\n",
       "6186    0.014684\n",
       "6187    0.014789\n",
       "Name: FLIR: espesor m, dtype: float64"
      ]
     },
     "execution_count": 63,
     "metadata": {},
     "output_type": "execute_result"
    }
   ],
   "source": [
    "Experimentos[2].flir['FLIR: espesor m'] = Experimentos[2].flir['FLIR: volumen m3'] * 3 / (2 * Experimentos[2].flir['FLIR: area m2'])\n",
    "Experimentos[2].flir['FLIR: espesor m']"
   ]
  },
  {
   "cell_type": "code",
   "execution_count": null,
   "metadata": {
    "collapsed": true
   },
   "outputs": [],
   "source": []
  }
 ],
 "metadata": {
  "anaconda-cloud": {},
  "kernelspec": {
   "display_name": "Python [bootcamp]",
   "language": "python",
   "name": "Python [bootcamp]"
  },
  "language_info": {
   "codemirror_mode": {
    "name": "ipython",
    "version": 3
   },
   "file_extension": ".py",
   "mimetype": "text/x-python",
   "name": "python",
   "nbconvert_exporter": "python",
   "pygments_lexer": "ipython3",
   "version": "3.5.2"
  }
 },
 "nbformat": 4,
 "nbformat_minor": 1
}
