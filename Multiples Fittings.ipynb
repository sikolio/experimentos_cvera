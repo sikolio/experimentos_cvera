{
 "cells": [
  {
   "cell_type": "code",
   "execution_count": 1,
   "metadata": {
    "collapsed": false
   },
   "outputs": [],
   "source": [
    "import pandas as pd\n",
    "import csv\n",
    "import numpy as np\n",
    "import os"
   ]
  },
  {
   "cell_type": "code",
   "execution_count": 2,
   "metadata": {
    "collapsed": true
   },
   "outputs": [],
   "source": [
    "from scipy.interpolate import UnivariateSpline\n",
    "from scipy.optimize import curve_fit\n",
    "from scipy import interpolate, optimize"
   ]
  },
  {
   "cell_type": "code",
   "execution_count": 3,
   "metadata": {
    "collapsed": false
   },
   "outputs": [
    {
     "name": "stdout",
     "output_type": "stream",
     "text": [
      "Using matplotlib backend: Qt5Agg\n"
     ]
    }
   ],
   "source": [
    "from matplotlib import pyplot as plt\n",
    "%matplotlib"
   ]
  },
  {
   "cell_type": "code",
   "execution_count": 4,
   "metadata": {
    "collapsed": false
   },
   "outputs": [
    {
     "name": "stdout",
     "output_type": "stream",
     "text": [
      "[Errno 2] No such file or directory: '.\\\\Data\\\\5cc50C - flir.csv'\n",
      "[Errno 2] No such file or directory: '.\\\\Data\\\\1cc54C - flir.csv'\n",
      "[Errno 2] No such file or directory: '.\\\\Data\\\\25cc54C - flir.csv'\n",
      "[Errno 2] No such file or directory: '.\\\\Data\\\\10cc60C - flir.csv'\n",
      "[Errno 2] No such file or directory: '.\\\\Data\\\\25cc60C - flir.csv'\n",
      "[Errno 2] No such file or directory: '.\\\\Data\\\\1cc59C - flir.csv'\n",
      "[Errno 2] No such file or directory: '.\\\\Data\\\\5cc63C - flir.csv'\n",
      "[Errno 2] No such file or directory: '.\\\\Data\\\\25cc62C - flir.csv'\n",
      "[Errno 2] No such file or directory: '.\\\\Data\\\\1cc62C - flir.csv'\n",
      "[Errno 2] No such file or directory: '.\\\\Data\\\\1cc24C - flir.csv'\n",
      "[Errno 2] No such file or directory: '.\\\\Data\\\\10cc24C - flir.csv'\n"
     ]
    }
   ],
   "source": [
    "from Experimentos import Experimentos"
   ]
  },
  {
   "cell_type": "code",
   "execution_count": 5,
   "metadata": {
    "collapsed": true
   },
   "outputs": [],
   "source": [
    "exp1 = Experimentos[0]\n",
    "exp2 = Experimentos[1]\n",
    "exp3 = Experimentos[2]\n",
    "exp4 = Experimentos[3]"
   ]
  },
  {
   "cell_type": "code",
   "execution_count": 23,
   "metadata": {
    "collapsed": false
   },
   "outputs": [
    {
     "name": "stdout",
     "output_type": "stream",
     "text": [
      "Infinity and beyond\n",
      "['0.7239176218763036', '-2.5557399810910533', '1.0', '0.1812489680128185']\n",
      "[[ inf  inf  inf  inf]\n",
      " [ inf  inf  inf  inf]\n",
      " [ inf  inf  inf  inf]\n",
      " [ inf  inf  inf  inf]]\n"
     ]
    },
    {
     "name": "stderr",
     "output_type": "stream",
     "text": [
      "C:\\Anaconda3\\envs\\bootcamp\\lib\\site-packages\\scipy\\optimize\\minpack.py:715: OptimizeWarning: Covariance of the parameters could not be estimated\n",
      "  category=OptimizeWarning)\n"
     ]
    },
    {
     "data": {
      "text/plain": [
       "(1.0, 0.18124896801281851, (1.7889778262661782, -3.2188758248682006))"
      ]
     },
     "execution_count": 23,
     "metadata": {},
     "output_type": "execute_result"
    }
   ],
   "source": [
    "Experimentos[24].get_closest_points_to_intersections()"
   ]
  },
  {
   "cell_type": "code",
   "execution_count": 7,
   "metadata": {
    "collapsed": false
   },
   "outputs": [
    {
     "data": {
      "text/plain": [
       "False"
      ]
     },
     "execution_count": 7,
     "metadata": {},
     "output_type": "execute_result"
    }
   ],
   "source": [
    "float('inf') == 1"
   ]
  },
  {
   "cell_type": "code",
   "execution_count": 10,
   "metadata": {
    "collapsed": false
   },
   "outputs": [],
   "source": [
    "x = np.log(np.array(exp1.dinamica['avance: tiempo'][1:]))\n",
    "y = np.log(np.array(exp1.dinamica['avance: largo total flujo'][1:]))"
   ]
  },
  {
   "cell_type": "code",
   "execution_count": 10,
   "metadata": {
    "collapsed": false
   },
   "outputs": [
    {
     "name": "stdout",
     "output_type": "stream",
     "text": [
      "[ 5.95142877 -0.85394225  0.62639606  0.1427219 ]\n"
     ]
    }
   ],
   "source": [
    "def piecewise_linear(x, x0, y0, k1, k2):\n",
    "    return np.piecewise(x, [x < x0, x >= x0], [lambda x:k1*x + y0-k1*x0, lambda x:k2*x + y0-k2*x0])\n",
    "\n",
    "p , e = optimize.curve_fit(piecewise_linear, x, y)\n",
    "xd = np.linspace(x[0], x[-1], 100)\n",
    "plt.plot(x, y, \"o\")\n",
    "print(p)\n",
    "plt.plot(xd, piecewise_linear(xd, *p))\n",
    "plt.show()"
   ]
  },
  {
   "cell_type": "code",
   "execution_count": 22,
   "metadata": {
    "collapsed": true
   },
   "outputs": [],
   "source": [
    "def line(p1, p2):\n",
    "    A = (p1[1] - p2[1])\n",
    "    B = (p2[0] - p1[0])\n",
    "    C = (p1[0]*p2[1] - p2[0]*p1[1])\n",
    "    return A, B, -C\n",
    "\n",
    "def intersection(L1, L2):\n",
    "    D  = L1[0] * L2[1] - L1[1] * L2[0]\n",
    "    Dx = L1[2] * L2[1] - L1[1] * L2[2]\n",
    "    Dy = L1[0] * L2[2] - L1[2] * L2[0]\n",
    "    if D != 0:\n",
    "        x = Dx / D\n",
    "        y = Dy / D\n",
    "        return x,y\n",
    "    else:\n",
    "        return False"
   ]
  },
  {
   "cell_type": "code",
   "execution_count": 25,
   "metadata": {
    "collapsed": true
   },
   "outputs": [],
   "source": [
    "l1 = line((x0, y0), (x1, y1))\n",
    "l2 = line((x0a, y0a), (x1a, y1a))"
   ]
  },
  {
   "cell_type": "code",
   "execution_count": 26,
   "metadata": {
    "collapsed": false
   },
   "outputs": [
    {
     "data": {
      "text/plain": [
       "(5.95, -0.8500000000000001)"
      ]
     },
     "execution_count": 26,
     "metadata": {},
     "output_type": "execute_result"
    }
   ],
   "source": [
    "intersection(l1, l2)"
   ]
  },
  {
   "cell_type": "code",
   "execution_count": 27,
   "metadata": {
    "collapsed": false
   },
   "outputs": [
    {
     "data": {
      "text/plain": [
       "<matplotlib.collections.PathCollection at 0x1d656db3d30>"
      ]
     },
     "execution_count": 27,
     "metadata": {},
     "output_type": "execute_result"
    }
   ],
   "source": [
    "xd = np.linspace(x[0], x[-1], 100)\n",
    "\n",
    "plt.plot(xd, generate_function(0.626, 5.95, -0.85)(xd))\n",
    "plt.plot(xd, generate_function(0.142, 5.95, -0.85)(xd))\n",
    "\n",
    "plt.scatter(0, generate_function(0.626, 5.95, -0.85)(0))\n",
    "plt.scatter(6, generate_function(0.626, 5.95, -0.85)(6))\n",
    "\n",
    "x0 = 0\n",
    "y0 = generate_function(0.626, 5.95, -0.85)(0)\n",
    "x1 = 6\n",
    "y1 = generate_function(0.626, 5.95, -0.85)(6)\n",
    "\n",
    "x0a = 0\n",
    "y0a = generate_function(0.142, 5.95, -0.85)(0)\n",
    "x1a = 6\n",
    "y1a = generate_function(0.142, 5.95, -0.85)(6)\n",
    "\n",
    "plt.scatter(0, generate_function(0.142, 5.95, -0.85)(0))\n",
    "plt.scatter(6, generate_function(0.142, 5.95, -0.85)(6))\n",
    "plt.scatter(*intersection(l1, l2))\n"
   ]
  },
  {
   "cell_type": "code",
   "execution_count": 29,
   "metadata": {
    "collapsed": false
   },
   "outputs": [
    {
     "data": {
      "text/plain": [
       "<matplotlib.collections.PathCollection at 0x1d656d8cac8>"
      ]
     },
     "execution_count": 29,
     "metadata": {},
     "output_type": "execute_result"
    }
   ],
   "source": [
    "plt.scatter(*intersection(l1, l2))\n"
   ]
  },
  {
   "cell_type": "code",
   "execution_count": 7,
   "metadata": {
    "collapsed": true
   },
   "outputs": [],
   "source": [
    "def generate_function(k, x0, y0):\n",
    "    return lambda x: k*x + y0-k*x0"
   ]
  },
  {
   "cell_type": "code",
   "execution_count": 85,
   "metadata": {
    "collapsed": false
   },
   "outputs": [
    {
     "name": "stdout",
     "output_type": "stream",
     "text": [
      "['0.42293646610986085', '0.9377849488876305', '-0.004122855052417884', '-1.0631957774754701', '0.5660124370261989', '0.2754999426474429', '0.03760622680334075']\n",
      "[[  6.71046565e+11   1.37865979e+12   1.00998396e+13   3.79820680e+11\n",
      "   -7.91730012e+03  -1.63751564e+04  -2.93663475e+01]\n",
      " [  1.37865979e+12   2.83244550e+12   2.07500396e+13   7.80338545e+11\n",
      "   -1.62660289e+04  -3.36426648e+04  -6.03328874e+01]\n",
      " [  1.00998396e+13   2.07500396e+13   1.52011448e+14   5.71663451e+12\n",
      "   -1.19162307e+05  -2.46460473e+05  -4.41975044e+02]\n",
      " [  3.79820680e+11   7.80338545e+11   5.71663451e+12   2.14983217e+11\n",
      "   -4.48128987e+03  -9.26854168e+03  -1.66217090e+01]\n",
      " [ -7.91730013e+03  -1.62660288e+04  -1.19162308e+05  -4.48128985e+03\n",
      "    2.39268104e-04   1.93201229e-04   3.46476531e-07]\n",
      " [ -1.63751580e+04  -3.36426681e+04  -2.46460497e+05  -9.26854258e+03\n",
      "    1.93201248e-04   3.41495180e-02   7.16609857e-07]\n",
      " [ -2.93661984e+01  -6.03326194e+01  -4.41973106e+02  -1.66216326e+01\n",
      "    3.46475203e-07   7.16606147e-07   3.21602490e-04]]\n"
     ]
    }
   ],
   "source": [
    "def piecewise_linear(x, x0, x1, x2, y0, k1, k2, k3):\n",
    "    return np.piecewise(x, [x < x0, (x < x1) & (x >= x0), x >= x1], \n",
    "                        [generate_function(k1, x0, y0), \n",
    "                         generate_function(k2, x1, y0),\n",
    "                         generate_function(k3, x2, y0)])\n",
    "\n",
    "\n",
    "\n",
    "p , e = optimize.curve_fit(piecewise_linear, x, y)\n",
    "xd = np.linspace(x[0], x[-1], 100)\n",
    "plt.plot(x, y, \"o\")\n",
    "print(['{}'.format(px) for px in p])\n",
    "print(e)\n",
    "#plt.plot(xd, piecewise_linear(xd, *p))\n",
    "plt.plot(xd, generate_function(p[4], p[0], p[3])(xd))\n",
    "plt.plot(xd, generate_function(p[5], p[1], p[3])(xd))\n",
    "plt.plot(xd, generate_function(p[6], p[2], p[3])(xd))\n",
    "plt.show()"
   ]
  },
  {
   "cell_type": "code",
   "execution_count": 88,
   "metadata": {
    "collapsed": false
   },
   "outputs": [],
   "source": [
    "Experimentos[0].flir['FLIR: area m2'] = exp1.flir['FLIR: area'] / exp1.param['pixeles'].iloc[0]"
   ]
  },
  {
   "cell_type": "code",
   "execution_count": 89,
   "metadata": {
    "collapsed": false
   },
   "outputs": [],
   "source": [
    "x = np.array(exp1.dinamica['avance: tiempo'])\n",
    "y = exp1.dinamica['avance: distancia desde punto eyeccion']"
   ]
  },
  {
   "cell_type": "code",
   "execution_count": 90,
   "metadata": {
    "collapsed": false
   },
   "outputs": [],
   "source": [
    "l_final = exp1.dinamica['avance: ancho maximo'].iloc[-1]"
   ]
  },
  {
   "cell_type": "code",
   "execution_count": 91,
   "metadata": {
    "collapsed": false
   },
   "outputs": [
    {
     "data": {
      "text/plain": [
       "0.28499999999999998"
      ]
     },
     "execution_count": 91,
     "metadata": {},
     "output_type": "execute_result"
    }
   ],
   "source": [
    "round(l_final, 3)"
   ]
  },
  {
   "cell_type": "code",
   "execution_count": 92,
   "metadata": {
    "collapsed": true
   },
   "outputs": [],
   "source": [
    "y_spl = UnivariateSpline(x, y, s=0, k=2)"
   ]
  },
  {
   "cell_type": "code",
   "execution_count": 93,
   "metadata": {
    "collapsed": false
   },
   "outputs": [],
   "source": [
    "plt.semilogy(x,y,'ro',label = 'data')\n",
    "x_range = np.linspace(x[1],x[-1],1000)\n",
    "plt.semilogy(x_range,y_spl(x_range))\n",
    "plt.show()"
   ]
  },
  {
   "cell_type": "code",
   "execution_count": 94,
   "metadata": {
    "collapsed": false
   },
   "outputs": [],
   "source": [
    "y_spl_d2 = y_spl.derivative(n=2)"
   ]
  },
  {
   "cell_type": "markdown",
   "metadata": {
    "collapsed": false
   },
   "source": [
    "plt.plot(x_range,y_spl_d2(x_range))\n",
    "plt.show()"
   ]
  },
  {
   "cell_type": "code",
   "execution_count": 95,
   "metadata": {
    "collapsed": false
   },
   "outputs": [],
   "source": [
    "def sumar(row):\n",
    "    return row['avance: tiempo'] + row['avance: distancia desde punto eyeccion']"
   ]
  },
  {
   "cell_type": "code",
   "execution_count": 97,
   "metadata": {
    "collapsed": false
   },
   "outputs": [],
   "source": [
    "exp1.param.columns = [col.strip() for col in exp1.param.columns]"
   ]
  },
  {
   "cell_type": "code",
   "execution_count": 99,
   "metadata": {
    "collapsed": false
   },
   "outputs": [
    {
     "data": {
      "text/plain": [
       "0    0.000001\n",
       "Name: caudal, dtype: float64"
      ]
     },
     "execution_count": 99,
     "metadata": {},
     "output_type": "execute_result"
    }
   ],
   "source": [
    "exp1.param['caudal']"
   ]
  },
  {
   "cell_type": "code",
   "execution_count": 100,
   "metadata": {
    "collapsed": false
   },
   "outputs": [
    {
     "data": {
      "text/plain": [
       "0    0.069673\n",
       "1    0.049309\n",
       "2    0.065559\n",
       "3    0.063821\n",
       "4    0.056244\n",
       "Name: FLIR: area m2, dtype: float64"
      ]
     },
     "execution_count": 100,
     "metadata": {},
     "output_type": "execute_result"
    }
   ],
   "source": [
    "exp1.flir['FLIR: area m2'].head()"
   ]
  }
 ],
 "metadata": {
  "anaconda-cloud": {},
  "kernelspec": {
   "display_name": "Python [bootcamp]",
   "language": "python",
   "name": "Python [bootcamp]"
  },
  "language_info": {
   "codemirror_mode": {
    "name": "ipython",
    "version": 3
   },
   "file_extension": ".py",
   "mimetype": "text/x-python",
   "name": "python",
   "nbconvert_exporter": "python",
   "pygments_lexer": "ipython3",
   "version": "3.5.2"
  }
 },
 "nbformat": 4,
 "nbformat_minor": 0
}
